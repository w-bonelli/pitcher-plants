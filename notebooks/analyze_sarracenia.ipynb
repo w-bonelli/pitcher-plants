{
 "cells": [
  {
   "cell_type": "markdown",
   "metadata": {
    "pycharm": {
     "name": "#%% md\n"
    }
   },
   "source": [
    "First we can load the scale image and calculate a conversion factor between pixels and standard units.\n",
    "\n",
    "We can first take a look at a few data points at the beginning and end of the experiment (or plant death, for those which didn't make it).\n",
    "\n",
    "- average hue\n",
    "- growth point count\n",
    "\n",
    "We can also take a look at a number of timeseries, for each treatment as well as for individual plants of interest:\n",
    "\n",
    "- total area\n",
    "- area per hue bin\n",
    "- area per RGB cluster\n",
    "- pitcher count\n",
    "- average pitcher area\n",
    "\n",
    "Import dependencies."
   ]
  },
  {
   "cell_type": "code",
   "execution_count": null,
   "metadata": {
    "pycharm": {
     "name": "#%%\n"
    }
   },
   "outputs": [],
   "source": [
    "from collections import Counter\n",
    "from collections import OrderedDict\n",
    "from os.path import join\n",
    "\n",
    "import pandas as pd\n",
    "from matplotlib import pyplot as plt\n",
    "from scipy.cluster.vq import kmeans2\n",
    "\n",
    "from pytcherplants.plotting import plot_hex_distribution, plot_rgb_distribution, plot_hue_distribution\n",
    "from pytcherplants.utils import hue_to_rgb_formatted, row_date, row_treatment, row_name"
   ]
  },
  {
   "cell_type": "markdown",
   "metadata": {
    "pycharm": {
     "name": "#%% md\n"
    }
   },
   "source": [
    "Read in the data from CSV and groom it for easier analysis.\n",
    "\n",
    "Below we assume 1 image per plant, with filename following the format `[date][treatment][name].[extension]`. The date must be in format `%M-%D-%Y`. Extensions `.jpg`, `.jpeg`, `.png`, `.tif`, and `.tiff` (case-insensitive) are supported."
   ]
  },
  {
   "cell_type": "code",
   "execution_count": null,
   "metadata": {
    "pycharm": {
     "name": "#%%\n"
    }
   },
   "outputs": [],
   "source": [
    "df = pd.read_csv('data_sarracenia/tabular/masked.colors.csv')\n",
    "\n",
    "# extract date, treatment and name from image name\n",
    "df['Date'] = df.apply(row_date, axis=1)\n",
    "df['Treatment'] = df.apply(row_treatment, axis=1)\n",
    "df['Name'] = df.apply(row_name, axis=1)\n",
    "\n",
    "# drop rows with unknowns (malformed filename format)\n",
    "df.dropna(how='any', inplace=True)\n",
    "\n",
    "# format HSV columns, convert to [1, 360] scale, create hue bins\n",
    "divisor = 5  # (72 equally spaced from 5 to 355)\n",
    "ranges = [((k * divisor) + divisor) for k in range(0, int(360 / divisor))]\n",
    "hsv_subset = df[['H', 'S', 'V']].astype(float)\n",
    "hsv_subset['HH'] = hsv_subset.apply(lambda row: int(float(row['H']) * 360), axis=1)  # [1, 360] scale\n",
    "hsv_subset['Bin'] = hsv_subset.apply(lambda row: int(row['HH']) - (int(row['HH']) % divisor), axis=1)"
   ]
  },
  {
   "cell_type": "markdown",
   "metadata": {
    "pycharm": {
     "name": "#%% md\n"
    }
   },
   "source": [
    "First we'll look at aggregations over the entire dataset."
   ]
  },
  {
   "cell_type": "code",
   "execution_count": null,
   "metadata": {
    "pycharm": {
     "name": "#%%\n"
    }
   },
   "outputs": [],
   "source": [
    "title = \"Overall\"\n",
    "output_directory = \"output_analysis\""
   ]
  },
  {
   "cell_type": "markdown",
   "metadata": {
    "pycharm": {
     "name": "#%% md\n"
    }
   },
   "source": [
    "Subset the RGB columns, run k-means clustering in RGB-space, and compute proportions of each cluster."
   ]
  },
  {
   "cell_type": "code",
   "execution_count": null,
   "metadata": {
    "pycharm": {
     "name": "#%%\n"
    }
   },
   "outputs": [],
   "source": [
    "rgb_subset = df[['R', 'G', 'B']].astype(float).values.tolist()\n",
    "rgb_centers, rgb_labels = kmeans2(rgb_subset, 25)\n",
    "rgb_counts = dict(Counter(rgb_labels))\n",
    "rgb_counts = {(abs(int(float(c[0]) * 256)), abs(int(float(c[1]) * 256)), abs(int(float(c[2]) * 256))): rgb_counts[l] for c, l in zip(rgb_centers, rgb_labels)}\n",
    "rgb_total = sum(rgb_counts.values())\n",
    "rgb_props = {k: (v / rgb_total) for k, v in rgb_counts.items()}"
   ]
  },
  {
   "cell_type": "markdown",
   "metadata": {
    "pycharm": {
     "name": "#%% md\n"
    }
   },
   "source": [
    "Divide hue into 72 equally spaced bins and compute proportions per bin."
   ]
  },
  {
   "cell_type": "code",
   "execution_count": null,
   "metadata": {
    "pycharm": {
     "name": "#%%\n"
    }
   },
   "outputs": [],
   "source": [
    "hsv_counts = Counter(hsv_subset['Bin'])\n",
    "for key in [k for k in ranges if k not in list(hsv_counts.keys())]: hsv_counts[key] = 0  # pad zeroes\n",
    "for key in [k for k in ranges if 125 < k < 360]: hsv_counts[key] = 0  # remove outliers (non red/green)\n",
    "hsv_total = sum(hsv_counts.values())\n",
    "hsv_props = OrderedDict(sorted({k: float(v / hsv_total) for k, v in hsv_counts.items()}.items()))"
   ]
  },
  {
   "cell_type": "markdown",
   "metadata": {
    "pycharm": {
     "name": "#%% md\n"
    }
   },
   "source": [
    "Visualize a histogram of color clusters coded in hexadecimal."
   ]
  },
  {
   "cell_type": "code",
   "execution_count": null,
   "metadata": {
    "pycharm": {
     "name": "#%%\n"
    }
   },
   "outputs": [],
   "source": [
    "plot_hex_distribution(rgb_props, f\"{title} hex distribution\")\n",
    "plt.xticks(rotation=60)\n",
    "plt.legend().remove()\n",
    "plt.savefig(join(output_directory, f\"{title}.hex.png\"))\n",
    "plt.clf()"
   ]
  },
  {
   "cell_type": "markdown",
   "metadata": {
    "pycharm": {
     "name": "#%% md\n"
    }
   },
   "source": [
    "Visualize RGB clusters in 3D RGB-space, from a few different perspectives."
   ]
  },
  {
   "cell_type": "code",
   "execution_count": null,
   "metadata": {
    "pycharm": {
     "name": "#%%\n"
    }
   },
   "outputs": [],
   "source": [
    "fig = plot_rgb_distribution(rgb_props, f\"{title} RGB distribution\")\n",
    "camera = dict(eye=dict(x=2.5, y=0, z=0))  # rotate to x axis\n",
    "fig.update_layout(scene_camera=camera, title='eye = (x:2.5., y:0, z:0.)')\n",
    "fig.write_image(join(output_directory, title + '.rgb.x.png'))\n",
    "camera = dict(eye=dict(x=0, y=2.5, z=0))  # rotate to y axis\n",
    "fig.update_layout(scene_camera=camera, title='eye = (x:0., y:2.5, z:0.)')\n",
    "fig.write_image(join(output_directory, title + '.rgb.y.png'))\n",
    "camera = dict(eye=dict(x=0, y=0, z=2.5))  # rotate to z axis\n",
    "fig.update_layout(scene_camera=camera, title='eye = (x:0., y:0, z:2.5.)')\n",
    "fig.write_image(join(output_directory, title + '.rgb.z.png'))"
   ]
  },
  {
   "cell_type": "markdown",
   "metadata": {
    "pycharm": {
     "name": "#%% md\n"
    }
   },
   "source": [
    "Visualize hue distribution as a radial bar plot."
   ]
  },
  {
   "cell_type": "code",
   "execution_count": null,
   "metadata": {
    "pycharm": {
     "name": "#%%\n"
    }
   },
   "outputs": [],
   "source": [
    "# radial bar plot for color distribution\n",
    "fig = plot_hue_distribution(hsv_props, f\"{title} hue distribution\")\n",
    "fig.write_image(join(output_directory, title + '.hue.png'))"
   ]
  },
  {
   "cell_type": "markdown",
   "metadata": {
    "pycharm": {
     "name": "#%% md\n"
    }
   },
   "source": [
    "TODO: repeat the analysis separately for each combination of treatment and date (maybe also for a few plants individually).\n",
    "\n",
    "## Overview\n",
    "\n",
    "Image preprocessing steps are applied including Gaussian blur and an adaptive threshold, followed by contour detection and an optional hue filter. For *sarracenia* we exclude blues & purples to remove. K-means clustering is then used to average the image, assigning each pixel to its nearest centroid. Averaged pixels are counted, then grouped and analyzed by plant, timestamp, and fertilizer treatment."
   ]
  }
 ],
 "metadata": {
  "kernelspec": {
   "display_name": "Python 3 (ipykernel)",
   "language": "python",
   "name": "python3"
  },
  "language_info": {
   "codemirror_mode": {
    "name": "ipython",
    "version": 3
   },
   "file_extension": ".py",
   "mimetype": "text/x-python",
   "name": "python",
   "nbconvert_exporter": "python",
   "pygments_lexer": "ipython3",
   "version": "3.7.4"
  }
 },
 "nbformat": 4,
 "nbformat_minor": 1
}