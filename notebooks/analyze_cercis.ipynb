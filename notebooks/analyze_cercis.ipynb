{
 "cells": [
  {
   "cell_type": "markdown",
   "metadata": {
    "collapsed": true,
    "pycharm": {
     "name": "#%% md\n"
    }
   },
   "source": [
    "# Cercis flower analysis\n",
    "\n",
    "This notebook assumes we have already processed the flower images with `pypl analyze`. First load the dataframe from CSV. Then cluster colors in RGB-space, with $k=15$. We also bin colors according to hue."
   ]
  },
  {
   "cell_type": "code",
   "execution_count": 13,
   "metadata": {
    "pycharm": {
     "name": "#%%\n"
    }
   },
   "outputs": [
    {
     "data": {
      "text/html": [
       "<div>\n",
       "<style scoped>\n",
       "    .dataframe tbody tr th:only-of-type {\n",
       "        vertical-align: middle;\n",
       "    }\n",
       "\n",
       "    .dataframe tbody tr th {\n",
       "        vertical-align: top;\n",
       "    }\n",
       "\n",
       "    .dataframe thead th {\n",
       "        text-align: right;\n",
       "    }\n",
       "</style>\n",
       "<table border=\"1\" class=\"dataframe\">\n",
       "  <thead>\n",
       "    <tr style=\"text-align: right;\">\n",
       "      <th></th>\n",
       "      <th>Image</th>\n",
       "      <th>Hex</th>\n",
       "      <th>R</th>\n",
       "      <th>G</th>\n",
       "      <th>B</th>\n",
       "      <th>H</th>\n",
       "      <th>S</th>\n",
       "      <th>V</th>\n",
       "      <th>Freq</th>\n",
       "      <th>Dens</th>\n",
       "      <th>HH</th>\n",
       "      <th>HueBin</th>\n",
       "    </tr>\n",
       "  </thead>\n",
       "  <tbody>\n",
       "    <tr>\n",
       "      <th>0</th>\n",
       "      <td>1-1 (1)</td>\n",
       "      <td>#faf9f9</td>\n",
       "      <td>0.980392</td>\n",
       "      <td>0.976471</td>\n",
       "      <td>0.976471</td>\n",
       "      <td>0.000000</td>\n",
       "      <td>0.004000</td>\n",
       "      <td>0.980392</td>\n",
       "      <td>8970</td>\n",
       "      <td>0.007992</td>\n",
       "      <td>0</td>\n",
       "      <td>0</td>\n",
       "    </tr>\n",
       "    <tr>\n",
       "      <th>1</th>\n",
       "      <td>1-1 (1)</td>\n",
       "      <td>#f5fdf8</td>\n",
       "      <td>0.960784</td>\n",
       "      <td>0.992157</td>\n",
       "      <td>0.972549</td>\n",
       "      <td>0.395833</td>\n",
       "      <td>0.031621</td>\n",
       "      <td>0.992157</td>\n",
       "      <td>2295</td>\n",
       "      <td>0.002045</td>\n",
       "      <td>142</td>\n",
       "      <td>140</td>\n",
       "    </tr>\n",
       "    <tr>\n",
       "      <th>2</th>\n",
       "      <td>1-1 (1)</td>\n",
       "      <td>#1f020b</td>\n",
       "      <td>0.121569</td>\n",
       "      <td>0.007843</td>\n",
       "      <td>0.043137</td>\n",
       "      <td>0.948276</td>\n",
       "      <td>0.935484</td>\n",
       "      <td>0.121569</td>\n",
       "      <td>121756</td>\n",
       "      <td>0.108476</td>\n",
       "      <td>341</td>\n",
       "      <td>340</td>\n",
       "    </tr>\n",
       "    <tr>\n",
       "      <th>3</th>\n",
       "      <td>1-1 (1)</td>\n",
       "      <td>#5b2a55</td>\n",
       "      <td>0.356863</td>\n",
       "      <td>0.164706</td>\n",
       "      <td>0.333333</td>\n",
       "      <td>0.853741</td>\n",
       "      <td>0.538462</td>\n",
       "      <td>0.356863</td>\n",
       "      <td>114609</td>\n",
       "      <td>0.102108</td>\n",
       "      <td>307</td>\n",
       "      <td>305</td>\n",
       "    </tr>\n",
       "    <tr>\n",
       "      <th>4</th>\n",
       "      <td>1-1 (1)</td>\n",
       "      <td>#fbfefd</td>\n",
       "      <td>0.984314</td>\n",
       "      <td>0.996078</td>\n",
       "      <td>0.992157</td>\n",
       "      <td>0.444444</td>\n",
       "      <td>0.011811</td>\n",
       "      <td>0.996078</td>\n",
       "      <td>17655</td>\n",
       "      <td>0.015729</td>\n",
       "      <td>160</td>\n",
       "      <td>160</td>\n",
       "    </tr>\n",
       "    <tr>\n",
       "      <th>...</th>\n",
       "      <td>...</td>\n",
       "      <td>...</td>\n",
       "      <td>...</td>\n",
       "      <td>...</td>\n",
       "      <td>...</td>\n",
       "      <td>...</td>\n",
       "      <td>...</td>\n",
       "      <td>...</td>\n",
       "      <td>...</td>\n",
       "      <td>...</td>\n",
       "      <td>...</td>\n",
       "      <td>...</td>\n",
       "    </tr>\n",
       "    <tr>\n",
       "      <th>4007</th>\n",
       "      <td>4-99</td>\n",
       "      <td>#450a22</td>\n",
       "      <td>0.270588</td>\n",
       "      <td>0.039216</td>\n",
       "      <td>0.133333</td>\n",
       "      <td>0.932203</td>\n",
       "      <td>0.855072</td>\n",
       "      <td>0.270588</td>\n",
       "      <td>347031</td>\n",
       "      <td>0.096796</td>\n",
       "      <td>335</td>\n",
       "      <td>335</td>\n",
       "    </tr>\n",
       "    <tr>\n",
       "      <th>4008</th>\n",
       "      <td>4-99</td>\n",
       "      <td>#ba53a7</td>\n",
       "      <td>0.729412</td>\n",
       "      <td>0.325490</td>\n",
       "      <td>0.654902</td>\n",
       "      <td>0.864078</td>\n",
       "      <td>0.553763</td>\n",
       "      <td>0.729412</td>\n",
       "      <td>255012</td>\n",
       "      <td>0.071129</td>\n",
       "      <td>311</td>\n",
       "      <td>310</td>\n",
       "    </tr>\n",
       "    <tr>\n",
       "      <th>4009</th>\n",
       "      <td>4-99</td>\n",
       "      <td>#a2378c</td>\n",
       "      <td>0.635294</td>\n",
       "      <td>0.215686</td>\n",
       "      <td>0.549020</td>\n",
       "      <td>0.867601</td>\n",
       "      <td>0.660494</td>\n",
       "      <td>0.635294</td>\n",
       "      <td>617202</td>\n",
       "      <td>0.172154</td>\n",
       "      <td>312</td>\n",
       "      <td>310</td>\n",
       "    </tr>\n",
       "    <tr>\n",
       "      <th>4010</th>\n",
       "      <td>4-99</td>\n",
       "      <td>#cc86bc</td>\n",
       "      <td>0.800000</td>\n",
       "      <td>0.525490</td>\n",
       "      <td>0.737255</td>\n",
       "      <td>0.871429</td>\n",
       "      <td>0.343137</td>\n",
       "      <td>0.800000</td>\n",
       "      <td>89985</td>\n",
       "      <td>0.025099</td>\n",
       "      <td>313</td>\n",
       "      <td>310</td>\n",
       "    </tr>\n",
       "    <tr>\n",
       "      <th>4011</th>\n",
       "      <td>4-99</td>\n",
       "      <td>#6c0641</td>\n",
       "      <td>0.423529</td>\n",
       "      <td>0.023529</td>\n",
       "      <td>0.254902</td>\n",
       "      <td>0.903595</td>\n",
       "      <td>0.944444</td>\n",
       "      <td>0.423529</td>\n",
       "      <td>572795</td>\n",
       "      <td>0.159767</td>\n",
       "      <td>325</td>\n",
       "      <td>325</td>\n",
       "    </tr>\n",
       "  </tbody>\n",
       "</table>\n",
       "<p>4012 rows × 12 columns</p>\n",
       "</div>"
      ],
      "text/plain": [
       "        Image      Hex         R         G         B         H         S  \\\n",
       "0     1-1 (1)  #faf9f9  0.980392  0.976471  0.976471  0.000000  0.004000   \n",
       "1     1-1 (1)  #f5fdf8  0.960784  0.992157  0.972549  0.395833  0.031621   \n",
       "2     1-1 (1)  #1f020b  0.121569  0.007843  0.043137  0.948276  0.935484   \n",
       "3     1-1 (1)  #5b2a55  0.356863  0.164706  0.333333  0.853741  0.538462   \n",
       "4     1-1 (1)  #fbfefd  0.984314  0.996078  0.992157  0.444444  0.011811   \n",
       "...       ...      ...       ...       ...       ...       ...       ...   \n",
       "4007     4-99  #450a22  0.270588  0.039216  0.133333  0.932203  0.855072   \n",
       "4008     4-99  #ba53a7  0.729412  0.325490  0.654902  0.864078  0.553763   \n",
       "4009     4-99  #a2378c  0.635294  0.215686  0.549020  0.867601  0.660494   \n",
       "4010     4-99  #cc86bc  0.800000  0.525490  0.737255  0.871429  0.343137   \n",
       "4011     4-99  #6c0641  0.423529  0.023529  0.254902  0.903595  0.944444   \n",
       "\n",
       "             V    Freq      Dens   HH  HueBin  \n",
       "0     0.980392    8970  0.007992    0       0  \n",
       "1     0.992157    2295  0.002045  142     140  \n",
       "2     0.121569  121756  0.108476  341     340  \n",
       "3     0.356863  114609  0.102108  307     305  \n",
       "4     0.996078   17655  0.015729  160     160  \n",
       "...        ...     ...       ...  ...     ...  \n",
       "4007  0.270588  347031  0.096796  335     335  \n",
       "4008  0.729412  255012  0.071129  311     310  \n",
       "4009  0.635294  617202  0.172154  312     310  \n",
       "4010  0.800000   89985  0.025099  313     310  \n",
       "4011  0.423529  572795  0.159767  325     325  \n",
       "\n",
       "[4012 rows x 12 columns]"
      ]
     },
     "execution_count": 13,
     "metadata": {},
     "output_type": "execute_result"
    }
   ],
   "source": [
    "from collections import Counter, OrderedDict\n",
    "import pandas as pd\n",
    "from scipy.cluster.vq import kmeans2\n",
    "\n",
    "df = pd.read_csv('../data_cercis/tabular/cercis.colors.csv')\n",
    "\n",
    "# clean up image names\n",
    "df['Image'] = df.apply(lambda r: str(r['Image']).replace('data_cercis/', '').replace('.jpg', ''), axis=1)\n",
    "\n",
    "# drop rows with unknowns (malformed filename format)\n",
    "# df.dropna(how='any', inplace=True)\n",
    "\n",
    "# rgb clustering\n",
    "rgb_subset = df[['R', 'G', 'B']].astype(float)\n",
    "rgb_centers, rgb_labels = kmeans2(rgb_subset, 15)\n",
    "rgb_counts = dict(Counter(rgb_labels))\n",
    "rgb_counts = {(abs(int(float(c[0]) * 256)), abs(int(float(c[1]) * 256)), abs(int(float(c[2]) * 256))): rgb_counts[l] for c, l in zip(rgb_centers, rgb_labels)}\n",
    "rgb_total = sum(rgb_counts.values())\n",
    "rgb_props = {k: (v / rgb_total) for k, v in rgb_counts.items()}\n",
    "\n",
    "# convert hue to [1, 360] scale and create 72 equally spaced bins (represented by their centers)\n",
    "hsv_divisor = 5\n",
    "hsv_ranges = [((k * hsv_divisor) + hsv_divisor) for k in range(0, int(360 / hsv_divisor))]\n",
    "df['HH'] = df.apply(lambda row: int(float(row['H']) * 360), axis=1)\n",
    "df['HueBin'] = df.apply(lambda row: int(row['HH']) - (int(row['HH']) % hsv_divisor), axis=1)\n",
    "hsv_subset = df[['H', 'S', 'V', 'HH', 'HueBin']].astype(float)\n",
    "hsv_counts = Counter(hsv_subset['HueBin'])\n",
    "for key in [k for k in hsv_ranges if k not in list(hsv_counts.keys())]: hsv_counts[key] = 0  # pad zeroes\n",
    "hsv_total = sum(hsv_counts.values())\n",
    "hsv_props = OrderedDict(sorted({k: float(v / hsv_total) for k, v in hsv_counts.items() if v != 0}.items()))\n",
    "\n",
    "df"
   ]
  },
  {
   "cell_type": "code",
   "execution_count": 36,
   "metadata": {},
   "outputs": [],
   "source": [
    "from collections import Counter, OrderedDict\n",
    "from scipy.cluster.vq import kmeans2\n",
    "\n",
    "rgb_centers, rgb_labels = kmeans2(rgb_subset, 15)\n",
    "rgb_counts = dict(Counter(rgb_labels))\n",
    "rgb_counts = {(abs(int(float(c[0]) * 256)), abs(int(float(c[1]) * 256)), abs(int(float(c[2]) * 256))): rgb_counts[l] for c, l in zip(rgb_centers, rgb_labels)}\n",
    "rgb_total = sum(rgb_counts.values())\n",
    "rgb_props = {k: (v / rgb_total) for k, v in rgb_counts.items()}\n",
    "\n",
    "hsv_subset = df[['H', 'S', 'V', 'HH', 'HueBin']].astype(float)\n",
    "hsv_counts = Counter(hsv_subset['HueBin'])\n",
    "for key in [k for k in hsv_ranges if k not in list(hsv_counts.keys())]: hsv_counts[key] = 0  # pad zeroes\n",
    "hsv_total = sum(hsv_counts.values())\n",
    "hsv_props = OrderedDict(sorted({k: float(v / hsv_total) for k, v in hsv_counts.items() if v != 0}.items()))"
   ]
  },
  {
   "cell_type": "markdown",
   "metadata": {},
   "source": [
    "View RGB clusters."
   ]
  },
  {
   "cell_type": "code",
   "execution_count": 38,
   "metadata": {},
   "outputs": [
    {
     "data": {
      "application/vnd.plotly.v1+json": {
       "config": {
        "plotlyServerURL": "https://plot.ly"
       },
       "data": [
        {
         "marker": {
          "color": [
           "rgb(132, 13, 95)",
           "rgb(162, 82, 151)",
           "rgb(218, 211, 218)",
           "rgb(196, 81, 162)",
           "rgb(85, 12, 49)",
           "rgb(66, 8, 33)",
           "rgb(144, 70, 131)",
           "rgb(51, 6, 25)",
           "rgb(167, 35, 128)",
           "rgb(110, 39, 84)",
           "rgb(104, 12, 67)",
           "rgb(131, 49, 110)",
           "rgb(250, 251, 250)",
           "rgb(171, 113, 168)",
           "rgb(196, 137, 188)"
          ],
          "size": [
           82.3780325246601,
           82.3780325246601,
           31.191682218075183,
           101.03972274060251,
           82.3780325246601,
           70.11463609704079,
           31.191682218075183,
           82.3780325246601,
           64.51612903225806,
           93.30845107971207,
           31.45827779258864,
           49.05358571047721,
           49.05358571047721,
           89.30951746201013,
           60.25059984004265
          ]
         },
         "mode": "markers",
         "type": "scatter3d",
         "x": [
          132,
          162,
          218,
          196,
          85,
          66,
          144,
          51,
          167,
          110,
          104,
          131,
          250,
          171,
          196
         ],
         "y": [
          13,
          82,
          211,
          81,
          12,
          8,
          70,
          6,
          35,
          39,
          12,
          49,
          251,
          113,
          137
         ],
         "z": [
          95,
          151,
          218,
          162,
          49,
          33,
          131,
          25,
          128,
          84,
          67,
          110,
          250,
          168,
          188
         ]
        }
       ],
       "layout": {
        "scene": {
         "camera": {
          "eye": {
           "x": 2.5,
           "y": 0,
           "z": 0
          }
         },
         "xaxis": {
          "title": {
           "text": "G"
          }
         },
         "yaxis": {
          "title": {
           "text": "R"
          }
         },
         "zaxis": {
          "title": {
           "text": "B"
          }
         }
        },
        "template": {
         "data": {
          "bar": [
           {
            "error_x": {
             "color": "#2a3f5f"
            },
            "error_y": {
             "color": "#2a3f5f"
            },
            "marker": {
             "line": {
              "color": "#E5ECF6",
              "width": 0.5
             },
             "pattern": {
              "fillmode": "overlay",
              "size": 10,
              "solidity": 0.2
             }
            },
            "type": "bar"
           }
          ],
          "barpolar": [
           {
            "marker": {
             "line": {
              "color": "#E5ECF6",
              "width": 0.5
             },
             "pattern": {
              "fillmode": "overlay",
              "size": 10,
              "solidity": 0.2
             }
            },
            "type": "barpolar"
           }
          ],
          "carpet": [
           {
            "aaxis": {
             "endlinecolor": "#2a3f5f",
             "gridcolor": "white",
             "linecolor": "white",
             "minorgridcolor": "white",
             "startlinecolor": "#2a3f5f"
            },
            "baxis": {
             "endlinecolor": "#2a3f5f",
             "gridcolor": "white",
             "linecolor": "white",
             "minorgridcolor": "white",
             "startlinecolor": "#2a3f5f"
            },
            "type": "carpet"
           }
          ],
          "choropleth": [
           {
            "colorbar": {
             "outlinewidth": 0,
             "ticks": ""
            },
            "type": "choropleth"
           }
          ],
          "contour": [
           {
            "colorbar": {
             "outlinewidth": 0,
             "ticks": ""
            },
            "colorscale": [
             [
              0,
              "#0d0887"
             ],
             [
              0.1111111111111111,
              "#46039f"
             ],
             [
              0.2222222222222222,
              "#7201a8"
             ],
             [
              0.3333333333333333,
              "#9c179e"
             ],
             [
              0.4444444444444444,
              "#bd3786"
             ],
             [
              0.5555555555555556,
              "#d8576b"
             ],
             [
              0.6666666666666666,
              "#ed7953"
             ],
             [
              0.7777777777777778,
              "#fb9f3a"
             ],
             [
              0.8888888888888888,
              "#fdca26"
             ],
             [
              1,
              "#f0f921"
             ]
            ],
            "type": "contour"
           }
          ],
          "contourcarpet": [
           {
            "colorbar": {
             "outlinewidth": 0,
             "ticks": ""
            },
            "type": "contourcarpet"
           }
          ],
          "heatmap": [
           {
            "colorbar": {
             "outlinewidth": 0,
             "ticks": ""
            },
            "colorscale": [
             [
              0,
              "#0d0887"
             ],
             [
              0.1111111111111111,
              "#46039f"
             ],
             [
              0.2222222222222222,
              "#7201a8"
             ],
             [
              0.3333333333333333,
              "#9c179e"
             ],
             [
              0.4444444444444444,
              "#bd3786"
             ],
             [
              0.5555555555555556,
              "#d8576b"
             ],
             [
              0.6666666666666666,
              "#ed7953"
             ],
             [
              0.7777777777777778,
              "#fb9f3a"
             ],
             [
              0.8888888888888888,
              "#fdca26"
             ],
             [
              1,
              "#f0f921"
             ]
            ],
            "type": "heatmap"
           }
          ],
          "heatmapgl": [
           {
            "colorbar": {
             "outlinewidth": 0,
             "ticks": ""
            },
            "colorscale": [
             [
              0,
              "#0d0887"
             ],
             [
              0.1111111111111111,
              "#46039f"
             ],
             [
              0.2222222222222222,
              "#7201a8"
             ],
             [
              0.3333333333333333,
              "#9c179e"
             ],
             [
              0.4444444444444444,
              "#bd3786"
             ],
             [
              0.5555555555555556,
              "#d8576b"
             ],
             [
              0.6666666666666666,
              "#ed7953"
             ],
             [
              0.7777777777777778,
              "#fb9f3a"
             ],
             [
              0.8888888888888888,
              "#fdca26"
             ],
             [
              1,
              "#f0f921"
             ]
            ],
            "type": "heatmapgl"
           }
          ],
          "histogram": [
           {
            "marker": {
             "pattern": {
              "fillmode": "overlay",
              "size": 10,
              "solidity": 0.2
             }
            },
            "type": "histogram"
           }
          ],
          "histogram2d": [
           {
            "colorbar": {
             "outlinewidth": 0,
             "ticks": ""
            },
            "colorscale": [
             [
              0,
              "#0d0887"
             ],
             [
              0.1111111111111111,
              "#46039f"
             ],
             [
              0.2222222222222222,
              "#7201a8"
             ],
             [
              0.3333333333333333,
              "#9c179e"
             ],
             [
              0.4444444444444444,
              "#bd3786"
             ],
             [
              0.5555555555555556,
              "#d8576b"
             ],
             [
              0.6666666666666666,
              "#ed7953"
             ],
             [
              0.7777777777777778,
              "#fb9f3a"
             ],
             [
              0.8888888888888888,
              "#fdca26"
             ],
             [
              1,
              "#f0f921"
             ]
            ],
            "type": "histogram2d"
           }
          ],
          "histogram2dcontour": [
           {
            "colorbar": {
             "outlinewidth": 0,
             "ticks": ""
            },
            "colorscale": [
             [
              0,
              "#0d0887"
             ],
             [
              0.1111111111111111,
              "#46039f"
             ],
             [
              0.2222222222222222,
              "#7201a8"
             ],
             [
              0.3333333333333333,
              "#9c179e"
             ],
             [
              0.4444444444444444,
              "#bd3786"
             ],
             [
              0.5555555555555556,
              "#d8576b"
             ],
             [
              0.6666666666666666,
              "#ed7953"
             ],
             [
              0.7777777777777778,
              "#fb9f3a"
             ],
             [
              0.8888888888888888,
              "#fdca26"
             ],
             [
              1,
              "#f0f921"
             ]
            ],
            "type": "histogram2dcontour"
           }
          ],
          "mesh3d": [
           {
            "colorbar": {
             "outlinewidth": 0,
             "ticks": ""
            },
            "type": "mesh3d"
           }
          ],
          "parcoords": [
           {
            "line": {
             "colorbar": {
              "outlinewidth": 0,
              "ticks": ""
             }
            },
            "type": "parcoords"
           }
          ],
          "pie": [
           {
            "automargin": true,
            "type": "pie"
           }
          ],
          "scatter": [
           {
            "fillpattern": {
             "fillmode": "overlay",
             "size": 10,
             "solidity": 0.2
            },
            "type": "scatter"
           }
          ],
          "scatter3d": [
           {
            "line": {
             "colorbar": {
              "outlinewidth": 0,
              "ticks": ""
             }
            },
            "marker": {
             "colorbar": {
              "outlinewidth": 0,
              "ticks": ""
             }
            },
            "type": "scatter3d"
           }
          ],
          "scattercarpet": [
           {
            "marker": {
             "colorbar": {
              "outlinewidth": 0,
              "ticks": ""
             }
            },
            "type": "scattercarpet"
           }
          ],
          "scattergeo": [
           {
            "marker": {
             "colorbar": {
              "outlinewidth": 0,
              "ticks": ""
             }
            },
            "type": "scattergeo"
           }
          ],
          "scattergl": [
           {
            "marker": {
             "colorbar": {
              "outlinewidth": 0,
              "ticks": ""
             }
            },
            "type": "scattergl"
           }
          ],
          "scattermapbox": [
           {
            "marker": {
             "colorbar": {
              "outlinewidth": 0,
              "ticks": ""
             }
            },
            "type": "scattermapbox"
           }
          ],
          "scatterpolar": [
           {
            "marker": {
             "colorbar": {
              "outlinewidth": 0,
              "ticks": ""
             }
            },
            "type": "scatterpolar"
           }
          ],
          "scatterpolargl": [
           {
            "marker": {
             "colorbar": {
              "outlinewidth": 0,
              "ticks": ""
             }
            },
            "type": "scatterpolargl"
           }
          ],
          "scatterternary": [
           {
            "marker": {
             "colorbar": {
              "outlinewidth": 0,
              "ticks": ""
             }
            },
            "type": "scatterternary"
           }
          ],
          "surface": [
           {
            "colorbar": {
             "outlinewidth": 0,
             "ticks": ""
            },
            "colorscale": [
             [
              0,
              "#0d0887"
             ],
             [
              0.1111111111111111,
              "#46039f"
             ],
             [
              0.2222222222222222,
              "#7201a8"
             ],
             [
              0.3333333333333333,
              "#9c179e"
             ],
             [
              0.4444444444444444,
              "#bd3786"
             ],
             [
              0.5555555555555556,
              "#d8576b"
             ],
             [
              0.6666666666666666,
              "#ed7953"
             ],
             [
              0.7777777777777778,
              "#fb9f3a"
             ],
             [
              0.8888888888888888,
              "#fdca26"
             ],
             [
              1,
              "#f0f921"
             ]
            ],
            "type": "surface"
           }
          ],
          "table": [
           {
            "cells": {
             "fill": {
              "color": "#EBF0F8"
             },
             "line": {
              "color": "white"
             }
            },
            "header": {
             "fill": {
              "color": "#C8D4E3"
             },
             "line": {
              "color": "white"
             }
            },
            "type": "table"
           }
          ]
         },
         "layout": {
          "annotationdefaults": {
           "arrowcolor": "#2a3f5f",
           "arrowhead": 0,
           "arrowwidth": 1
          },
          "autotypenumbers": "strict",
          "coloraxis": {
           "colorbar": {
            "outlinewidth": 0,
            "ticks": ""
           }
          },
          "colorscale": {
           "diverging": [
            [
             0,
             "#8e0152"
            ],
            [
             0.1,
             "#c51b7d"
            ],
            [
             0.2,
             "#de77ae"
            ],
            [
             0.3,
             "#f1b6da"
            ],
            [
             0.4,
             "#fde0ef"
            ],
            [
             0.5,
             "#f7f7f7"
            ],
            [
             0.6,
             "#e6f5d0"
            ],
            [
             0.7,
             "#b8e186"
            ],
            [
             0.8,
             "#7fbc41"
            ],
            [
             0.9,
             "#4d9221"
            ],
            [
             1,
             "#276419"
            ]
           ],
           "sequential": [
            [
             0,
             "#0d0887"
            ],
            [
             0.1111111111111111,
             "#46039f"
            ],
            [
             0.2222222222222222,
             "#7201a8"
            ],
            [
             0.3333333333333333,
             "#9c179e"
            ],
            [
             0.4444444444444444,
             "#bd3786"
            ],
            [
             0.5555555555555556,
             "#d8576b"
            ],
            [
             0.6666666666666666,
             "#ed7953"
            ],
            [
             0.7777777777777778,
             "#fb9f3a"
            ],
            [
             0.8888888888888888,
             "#fdca26"
            ],
            [
             1,
             "#f0f921"
            ]
           ],
           "sequentialminus": [
            [
             0,
             "#0d0887"
            ],
            [
             0.1111111111111111,
             "#46039f"
            ],
            [
             0.2222222222222222,
             "#7201a8"
            ],
            [
             0.3333333333333333,
             "#9c179e"
            ],
            [
             0.4444444444444444,
             "#bd3786"
            ],
            [
             0.5555555555555556,
             "#d8576b"
            ],
            [
             0.6666666666666666,
             "#ed7953"
            ],
            [
             0.7777777777777778,
             "#fb9f3a"
            ],
            [
             0.8888888888888888,
             "#fdca26"
            ],
            [
             1,
             "#f0f921"
            ]
           ]
          },
          "colorway": [
           "#636efa",
           "#EF553B",
           "#00cc96",
           "#ab63fa",
           "#FFA15A",
           "#19d3f3",
           "#FF6692",
           "#B6E880",
           "#FF97FF",
           "#FECB52"
          ],
          "font": {
           "color": "#2a3f5f"
          },
          "geo": {
           "bgcolor": "white",
           "lakecolor": "white",
           "landcolor": "#E5ECF6",
           "showlakes": true,
           "showland": true,
           "subunitcolor": "white"
          },
          "hoverlabel": {
           "align": "left"
          },
          "hovermode": "closest",
          "mapbox": {
           "style": "light"
          },
          "paper_bgcolor": "white",
          "plot_bgcolor": "#E5ECF6",
          "polar": {
           "angularaxis": {
            "gridcolor": "white",
            "linecolor": "white",
            "ticks": ""
           },
           "bgcolor": "#E5ECF6",
           "radialaxis": {
            "gridcolor": "white",
            "linecolor": "white",
            "ticks": ""
           }
          },
          "scene": {
           "xaxis": {
            "backgroundcolor": "#E5ECF6",
            "gridcolor": "white",
            "gridwidth": 2,
            "linecolor": "white",
            "showbackground": true,
            "ticks": "",
            "zerolinecolor": "white"
           },
           "yaxis": {
            "backgroundcolor": "#E5ECF6",
            "gridcolor": "white",
            "gridwidth": 2,
            "linecolor": "white",
            "showbackground": true,
            "ticks": "",
            "zerolinecolor": "white"
           },
           "zaxis": {
            "backgroundcolor": "#E5ECF6",
            "gridcolor": "white",
            "gridwidth": 2,
            "linecolor": "white",
            "showbackground": true,
            "ticks": "",
            "zerolinecolor": "white"
           }
          },
          "shapedefaults": {
           "line": {
            "color": "#2a3f5f"
           }
          },
          "ternary": {
           "aaxis": {
            "gridcolor": "white",
            "linecolor": "white",
            "ticks": ""
           },
           "baxis": {
            "gridcolor": "white",
            "linecolor": "white",
            "ticks": ""
           },
           "bgcolor": "#E5ECF6",
           "caxis": {
            "gridcolor": "white",
            "linecolor": "white",
            "ticks": ""
           }
          },
          "title": {
           "x": 0.05
          },
          "xaxis": {
           "automargin": true,
           "gridcolor": "white",
           "linecolor": "white",
           "ticks": "",
           "title": {
            "standoff": 15
           },
           "zerolinecolor": "white",
           "zerolinewidth": 2
          },
          "yaxis": {
           "automargin": true,
           "gridcolor": "white",
           "linecolor": "white",
           "ticks": "",
           "title": {
            "standoff": 15
           },
           "zerolinecolor": "white",
           "zerolinewidth": 2
          }
         }
        },
        "title": {
         "text": "eye = (x:2.5., y:0, z:0.)"
        }
       }
      },
      "text/html": [
       "<div>                            <div id=\"b2da31ce-9b80-425c-92f1-8f49e5804fa1\" class=\"plotly-graph-div\" style=\"height:525px; width:100%;\"></div>            <script type=\"text/javascript\">                require([\"plotly\"], function(Plotly) {                    window.PLOTLYENV=window.PLOTLYENV || {};                                    if (document.getElementById(\"b2da31ce-9b80-425c-92f1-8f49e5804fa1\")) {                    Plotly.newPlot(                        \"b2da31ce-9b80-425c-92f1-8f49e5804fa1\",                        [{\"marker\":{\"color\":[\"rgb(132, 13, 95)\",\"rgb(162, 82, 151)\",\"rgb(218, 211, 218)\",\"rgb(196, 81, 162)\",\"rgb(85, 12, 49)\",\"rgb(66, 8, 33)\",\"rgb(144, 70, 131)\",\"rgb(51, 6, 25)\",\"rgb(167, 35, 128)\",\"rgb(110, 39, 84)\",\"rgb(104, 12, 67)\",\"rgb(131, 49, 110)\",\"rgb(250, 251, 250)\",\"rgb(171, 113, 168)\",\"rgb(196, 137, 188)\"],\"size\":[82.3780325246601,82.3780325246601,31.191682218075183,101.03972274060251,82.3780325246601,70.11463609704079,31.191682218075183,82.3780325246601,64.51612903225806,93.30845107971207,31.45827779258864,49.05358571047721,49.05358571047721,89.30951746201013,60.25059984004265]},\"mode\":\"markers\",\"x\":[132,162,218,196,85,66,144,51,167,110,104,131,250,171,196],\"y\":[13,82,211,81,12,8,70,6,35,39,12,49,251,113,137],\"z\":[95,151,218,162,49,33,131,25,128,84,67,110,250,168,188],\"type\":\"scatter3d\"}],                        {\"template\":{\"data\":{\"histogram2dcontour\":[{\"type\":\"histogram2dcontour\",\"colorbar\":{\"outlinewidth\":0,\"ticks\":\"\"},\"colorscale\":[[0.0,\"#0d0887\"],[0.1111111111111111,\"#46039f\"],[0.2222222222222222,\"#7201a8\"],[0.3333333333333333,\"#9c179e\"],[0.4444444444444444,\"#bd3786\"],[0.5555555555555556,\"#d8576b\"],[0.6666666666666666,\"#ed7953\"],[0.7777777777777778,\"#fb9f3a\"],[0.8888888888888888,\"#fdca26\"],[1.0,\"#f0f921\"]]}],\"choropleth\":[{\"type\":\"choropleth\",\"colorbar\":{\"outlinewidth\":0,\"ticks\":\"\"}}],\"histogram2d\":[{\"type\":\"histogram2d\",\"colorbar\":{\"outlinewidth\":0,\"ticks\":\"\"},\"colorscale\":[[0.0,\"#0d0887\"],[0.1111111111111111,\"#46039f\"],[0.2222222222222222,\"#7201a8\"],[0.3333333333333333,\"#9c179e\"],[0.4444444444444444,\"#bd3786\"],[0.5555555555555556,\"#d8576b\"],[0.6666666666666666,\"#ed7953\"],[0.7777777777777778,\"#fb9f3a\"],[0.8888888888888888,\"#fdca26\"],[1.0,\"#f0f921\"]]}],\"heatmap\":[{\"type\":\"heatmap\",\"colorbar\":{\"outlinewidth\":0,\"ticks\":\"\"},\"colorscale\":[[0.0,\"#0d0887\"],[0.1111111111111111,\"#46039f\"],[0.2222222222222222,\"#7201a8\"],[0.3333333333333333,\"#9c179e\"],[0.4444444444444444,\"#bd3786\"],[0.5555555555555556,\"#d8576b\"],[0.6666666666666666,\"#ed7953\"],[0.7777777777777778,\"#fb9f3a\"],[0.8888888888888888,\"#fdca26\"],[1.0,\"#f0f921\"]]}],\"heatmapgl\":[{\"type\":\"heatmapgl\",\"colorbar\":{\"outlinewidth\":0,\"ticks\":\"\"},\"colorscale\":[[0.0,\"#0d0887\"],[0.1111111111111111,\"#46039f\"],[0.2222222222222222,\"#7201a8\"],[0.3333333333333333,\"#9c179e\"],[0.4444444444444444,\"#bd3786\"],[0.5555555555555556,\"#d8576b\"],[0.6666666666666666,\"#ed7953\"],[0.7777777777777778,\"#fb9f3a\"],[0.8888888888888888,\"#fdca26\"],[1.0,\"#f0f921\"]]}],\"contourcarpet\":[{\"type\":\"contourcarpet\",\"colorbar\":{\"outlinewidth\":0,\"ticks\":\"\"}}],\"contour\":[{\"type\":\"contour\",\"colorbar\":{\"outlinewidth\":0,\"ticks\":\"\"},\"colorscale\":[[0.0,\"#0d0887\"],[0.1111111111111111,\"#46039f\"],[0.2222222222222222,\"#7201a8\"],[0.3333333333333333,\"#9c179e\"],[0.4444444444444444,\"#bd3786\"],[0.5555555555555556,\"#d8576b\"],[0.6666666666666666,\"#ed7953\"],[0.7777777777777778,\"#fb9f3a\"],[0.8888888888888888,\"#fdca26\"],[1.0,\"#f0f921\"]]}],\"surface\":[{\"type\":\"surface\",\"colorbar\":{\"outlinewidth\":0,\"ticks\":\"\"},\"colorscale\":[[0.0,\"#0d0887\"],[0.1111111111111111,\"#46039f\"],[0.2222222222222222,\"#7201a8\"],[0.3333333333333333,\"#9c179e\"],[0.4444444444444444,\"#bd3786\"],[0.5555555555555556,\"#d8576b\"],[0.6666666666666666,\"#ed7953\"],[0.7777777777777778,\"#fb9f3a\"],[0.8888888888888888,\"#fdca26\"],[1.0,\"#f0f921\"]]}],\"mesh3d\":[{\"type\":\"mesh3d\",\"colorbar\":{\"outlinewidth\":0,\"ticks\":\"\"}}],\"scatter\":[{\"fillpattern\":{\"fillmode\":\"overlay\",\"size\":10,\"solidity\":0.2},\"type\":\"scatter\"}],\"parcoords\":[{\"type\":\"parcoords\",\"line\":{\"colorbar\":{\"outlinewidth\":0,\"ticks\":\"\"}}}],\"scatterpolargl\":[{\"type\":\"scatterpolargl\",\"marker\":{\"colorbar\":{\"outlinewidth\":0,\"ticks\":\"\"}}}],\"bar\":[{\"error_x\":{\"color\":\"#2a3f5f\"},\"error_y\":{\"color\":\"#2a3f5f\"},\"marker\":{\"line\":{\"color\":\"#E5ECF6\",\"width\":0.5},\"pattern\":{\"fillmode\":\"overlay\",\"size\":10,\"solidity\":0.2}},\"type\":\"bar\"}],\"scattergeo\":[{\"type\":\"scattergeo\",\"marker\":{\"colorbar\":{\"outlinewidth\":0,\"ticks\":\"\"}}}],\"scatterpolar\":[{\"type\":\"scatterpolar\",\"marker\":{\"colorbar\":{\"outlinewidth\":0,\"ticks\":\"\"}}}],\"histogram\":[{\"marker\":{\"pattern\":{\"fillmode\":\"overlay\",\"size\":10,\"solidity\":0.2}},\"type\":\"histogram\"}],\"scattergl\":[{\"type\":\"scattergl\",\"marker\":{\"colorbar\":{\"outlinewidth\":0,\"ticks\":\"\"}}}],\"scatter3d\":[{\"type\":\"scatter3d\",\"line\":{\"colorbar\":{\"outlinewidth\":0,\"ticks\":\"\"}},\"marker\":{\"colorbar\":{\"outlinewidth\":0,\"ticks\":\"\"}}}],\"scattermapbox\":[{\"type\":\"scattermapbox\",\"marker\":{\"colorbar\":{\"outlinewidth\":0,\"ticks\":\"\"}}}],\"scatterternary\":[{\"type\":\"scatterternary\",\"marker\":{\"colorbar\":{\"outlinewidth\":0,\"ticks\":\"\"}}}],\"scattercarpet\":[{\"type\":\"scattercarpet\",\"marker\":{\"colorbar\":{\"outlinewidth\":0,\"ticks\":\"\"}}}],\"carpet\":[{\"aaxis\":{\"endlinecolor\":\"#2a3f5f\",\"gridcolor\":\"white\",\"linecolor\":\"white\",\"minorgridcolor\":\"white\",\"startlinecolor\":\"#2a3f5f\"},\"baxis\":{\"endlinecolor\":\"#2a3f5f\",\"gridcolor\":\"white\",\"linecolor\":\"white\",\"minorgridcolor\":\"white\",\"startlinecolor\":\"#2a3f5f\"},\"type\":\"carpet\"}],\"table\":[{\"cells\":{\"fill\":{\"color\":\"#EBF0F8\"},\"line\":{\"color\":\"white\"}},\"header\":{\"fill\":{\"color\":\"#C8D4E3\"},\"line\":{\"color\":\"white\"}},\"type\":\"table\"}],\"barpolar\":[{\"marker\":{\"line\":{\"color\":\"#E5ECF6\",\"width\":0.5},\"pattern\":{\"fillmode\":\"overlay\",\"size\":10,\"solidity\":0.2}},\"type\":\"barpolar\"}],\"pie\":[{\"automargin\":true,\"type\":\"pie\"}]},\"layout\":{\"autotypenumbers\":\"strict\",\"colorway\":[\"#636efa\",\"#EF553B\",\"#00cc96\",\"#ab63fa\",\"#FFA15A\",\"#19d3f3\",\"#FF6692\",\"#B6E880\",\"#FF97FF\",\"#FECB52\"],\"font\":{\"color\":\"#2a3f5f\"},\"hovermode\":\"closest\",\"hoverlabel\":{\"align\":\"left\"},\"paper_bgcolor\":\"white\",\"plot_bgcolor\":\"#E5ECF6\",\"polar\":{\"bgcolor\":\"#E5ECF6\",\"angularaxis\":{\"gridcolor\":\"white\",\"linecolor\":\"white\",\"ticks\":\"\"},\"radialaxis\":{\"gridcolor\":\"white\",\"linecolor\":\"white\",\"ticks\":\"\"}},\"ternary\":{\"bgcolor\":\"#E5ECF6\",\"aaxis\":{\"gridcolor\":\"white\",\"linecolor\":\"white\",\"ticks\":\"\"},\"baxis\":{\"gridcolor\":\"white\",\"linecolor\":\"white\",\"ticks\":\"\"},\"caxis\":{\"gridcolor\":\"white\",\"linecolor\":\"white\",\"ticks\":\"\"}},\"coloraxis\":{\"colorbar\":{\"outlinewidth\":0,\"ticks\":\"\"}},\"colorscale\":{\"sequential\":[[0.0,\"#0d0887\"],[0.1111111111111111,\"#46039f\"],[0.2222222222222222,\"#7201a8\"],[0.3333333333333333,\"#9c179e\"],[0.4444444444444444,\"#bd3786\"],[0.5555555555555556,\"#d8576b\"],[0.6666666666666666,\"#ed7953\"],[0.7777777777777778,\"#fb9f3a\"],[0.8888888888888888,\"#fdca26\"],[1.0,\"#f0f921\"]],\"sequentialminus\":[[0.0,\"#0d0887\"],[0.1111111111111111,\"#46039f\"],[0.2222222222222222,\"#7201a8\"],[0.3333333333333333,\"#9c179e\"],[0.4444444444444444,\"#bd3786\"],[0.5555555555555556,\"#d8576b\"],[0.6666666666666666,\"#ed7953\"],[0.7777777777777778,\"#fb9f3a\"],[0.8888888888888888,\"#fdca26\"],[1.0,\"#f0f921\"]],\"diverging\":[[0,\"#8e0152\"],[0.1,\"#c51b7d\"],[0.2,\"#de77ae\"],[0.3,\"#f1b6da\"],[0.4,\"#fde0ef\"],[0.5,\"#f7f7f7\"],[0.6,\"#e6f5d0\"],[0.7,\"#b8e186\"],[0.8,\"#7fbc41\"],[0.9,\"#4d9221\"],[1,\"#276419\"]]},\"xaxis\":{\"gridcolor\":\"white\",\"linecolor\":\"white\",\"ticks\":\"\",\"title\":{\"standoff\":15},\"zerolinecolor\":\"white\",\"automargin\":true,\"zerolinewidth\":2},\"yaxis\":{\"gridcolor\":\"white\",\"linecolor\":\"white\",\"ticks\":\"\",\"title\":{\"standoff\":15},\"zerolinecolor\":\"white\",\"automargin\":true,\"zerolinewidth\":2},\"scene\":{\"xaxis\":{\"backgroundcolor\":\"#E5ECF6\",\"gridcolor\":\"white\",\"linecolor\":\"white\",\"showbackground\":true,\"ticks\":\"\",\"zerolinecolor\":\"white\",\"gridwidth\":2},\"yaxis\":{\"backgroundcolor\":\"#E5ECF6\",\"gridcolor\":\"white\",\"linecolor\":\"white\",\"showbackground\":true,\"ticks\":\"\",\"zerolinecolor\":\"white\",\"gridwidth\":2},\"zaxis\":{\"backgroundcolor\":\"#E5ECF6\",\"gridcolor\":\"white\",\"linecolor\":\"white\",\"showbackground\":true,\"ticks\":\"\",\"zerolinecolor\":\"white\",\"gridwidth\":2}},\"shapedefaults\":{\"line\":{\"color\":\"#2a3f5f\"}},\"annotationdefaults\":{\"arrowcolor\":\"#2a3f5f\",\"arrowhead\":0,\"arrowwidth\":1},\"geo\":{\"bgcolor\":\"white\",\"landcolor\":\"#E5ECF6\",\"subunitcolor\":\"white\",\"showland\":true,\"showlakes\":true,\"lakecolor\":\"white\"},\"title\":{\"x\":0.05},\"mapbox\":{\"style\":\"light\"}}},\"title\":{\"text\":\"eye = (x:2.5., y:0, z:0.)\"},\"scene\":{\"xaxis\":{\"title\":{\"text\":\"G\"}},\"yaxis\":{\"title\":{\"text\":\"R\"}},\"zaxis\":{\"title\":{\"text\":\"B\"}},\"camera\":{\"eye\":{\"x\":2.5,\"y\":0,\"z\":0}}}},                        {\"responsive\": true}                    ).then(function(){\n",
       "                            \n",
       "var gd = document.getElementById('b2da31ce-9b80-425c-92f1-8f49e5804fa1');\n",
       "var x = new MutationObserver(function (mutations, observer) {{\n",
       "        var display = window.getComputedStyle(gd).display;\n",
       "        if (!display || display === 'none') {{\n",
       "            console.log([gd, 'removed!']);\n",
       "            Plotly.purge(gd);\n",
       "            observer.disconnect();\n",
       "        }}\n",
       "}});\n",
       "\n",
       "// Listen for the removal of the full notebook cells\n",
       "var notebookContainer = gd.closest('#notebook-container');\n",
       "if (notebookContainer) {{\n",
       "    x.observe(notebookContainer, {childList: true});\n",
       "}}\n",
       "\n",
       "// Listen for the clearing of the current output cell\n",
       "var outputEl = gd.closest('.output');\n",
       "if (outputEl) {{\n",
       "    x.observe(outputEl, {childList: true});\n",
       "}}\n",
       "\n",
       "                        })                };                });            </script>        </div>"
      ]
     },
     "metadata": {},
     "output_type": "display_data"
    },
    {
     "data": {
      "application/vnd.plotly.v1+json": {
       "config": {
        "plotlyServerURL": "https://plot.ly"
       },
       "data": [
        {
         "marker": {
          "color": [
           "rgb(132, 13, 95)",
           "rgb(162, 82, 151)",
           "rgb(218, 211, 218)",
           "rgb(196, 81, 162)",
           "rgb(85, 12, 49)",
           "rgb(66, 8, 33)",
           "rgb(144, 70, 131)",
           "rgb(51, 6, 25)",
           "rgb(167, 35, 128)",
           "rgb(110, 39, 84)",
           "rgb(104, 12, 67)",
           "rgb(131, 49, 110)",
           "rgb(250, 251, 250)",
           "rgb(171, 113, 168)",
           "rgb(196, 137, 188)"
          ],
          "size": [
           82.3780325246601,
           82.3780325246601,
           31.191682218075183,
           101.03972274060251,
           82.3780325246601,
           70.11463609704079,
           31.191682218075183,
           82.3780325246601,
           64.51612903225806,
           93.30845107971207,
           31.45827779258864,
           49.05358571047721,
           49.05358571047721,
           89.30951746201013,
           60.25059984004265
          ]
         },
         "mode": "markers",
         "type": "scatter3d",
         "x": [
          132,
          162,
          218,
          196,
          85,
          66,
          144,
          51,
          167,
          110,
          104,
          131,
          250,
          171,
          196
         ],
         "y": [
          13,
          82,
          211,
          81,
          12,
          8,
          70,
          6,
          35,
          39,
          12,
          49,
          251,
          113,
          137
         ],
         "z": [
          95,
          151,
          218,
          162,
          49,
          33,
          131,
          25,
          128,
          84,
          67,
          110,
          250,
          168,
          188
         ]
        }
       ],
       "layout": {
        "scene": {
         "camera": {
          "eye": {
           "x": 0,
           "y": 2.5,
           "z": 0
          }
         },
         "xaxis": {
          "title": {
           "text": "G"
          }
         },
         "yaxis": {
          "title": {
           "text": "R"
          }
         },
         "zaxis": {
          "title": {
           "text": "B"
          }
         }
        },
        "template": {
         "data": {
          "bar": [
           {
            "error_x": {
             "color": "#2a3f5f"
            },
            "error_y": {
             "color": "#2a3f5f"
            },
            "marker": {
             "line": {
              "color": "#E5ECF6",
              "width": 0.5
             },
             "pattern": {
              "fillmode": "overlay",
              "size": 10,
              "solidity": 0.2
             }
            },
            "type": "bar"
           }
          ],
          "barpolar": [
           {
            "marker": {
             "line": {
              "color": "#E5ECF6",
              "width": 0.5
             },
             "pattern": {
              "fillmode": "overlay",
              "size": 10,
              "solidity": 0.2
             }
            },
            "type": "barpolar"
           }
          ],
          "carpet": [
           {
            "aaxis": {
             "endlinecolor": "#2a3f5f",
             "gridcolor": "white",
             "linecolor": "white",
             "minorgridcolor": "white",
             "startlinecolor": "#2a3f5f"
            },
            "baxis": {
             "endlinecolor": "#2a3f5f",
             "gridcolor": "white",
             "linecolor": "white",
             "minorgridcolor": "white",
             "startlinecolor": "#2a3f5f"
            },
            "type": "carpet"
           }
          ],
          "choropleth": [
           {
            "colorbar": {
             "outlinewidth": 0,
             "ticks": ""
            },
            "type": "choropleth"
           }
          ],
          "contour": [
           {
            "colorbar": {
             "outlinewidth": 0,
             "ticks": ""
            },
            "colorscale": [
             [
              0,
              "#0d0887"
             ],
             [
              0.1111111111111111,
              "#46039f"
             ],
             [
              0.2222222222222222,
              "#7201a8"
             ],
             [
              0.3333333333333333,
              "#9c179e"
             ],
             [
              0.4444444444444444,
              "#bd3786"
             ],
             [
              0.5555555555555556,
              "#d8576b"
             ],
             [
              0.6666666666666666,
              "#ed7953"
             ],
             [
              0.7777777777777778,
              "#fb9f3a"
             ],
             [
              0.8888888888888888,
              "#fdca26"
             ],
             [
              1,
              "#f0f921"
             ]
            ],
            "type": "contour"
           }
          ],
          "contourcarpet": [
           {
            "colorbar": {
             "outlinewidth": 0,
             "ticks": ""
            },
            "type": "contourcarpet"
           }
          ],
          "heatmap": [
           {
            "colorbar": {
             "outlinewidth": 0,
             "ticks": ""
            },
            "colorscale": [
             [
              0,
              "#0d0887"
             ],
             [
              0.1111111111111111,
              "#46039f"
             ],
             [
              0.2222222222222222,
              "#7201a8"
             ],
             [
              0.3333333333333333,
              "#9c179e"
             ],
             [
              0.4444444444444444,
              "#bd3786"
             ],
             [
              0.5555555555555556,
              "#d8576b"
             ],
             [
              0.6666666666666666,
              "#ed7953"
             ],
             [
              0.7777777777777778,
              "#fb9f3a"
             ],
             [
              0.8888888888888888,
              "#fdca26"
             ],
             [
              1,
              "#f0f921"
             ]
            ],
            "type": "heatmap"
           }
          ],
          "heatmapgl": [
           {
            "colorbar": {
             "outlinewidth": 0,
             "ticks": ""
            },
            "colorscale": [
             [
              0,
              "#0d0887"
             ],
             [
              0.1111111111111111,
              "#46039f"
             ],
             [
              0.2222222222222222,
              "#7201a8"
             ],
             [
              0.3333333333333333,
              "#9c179e"
             ],
             [
              0.4444444444444444,
              "#bd3786"
             ],
             [
              0.5555555555555556,
              "#d8576b"
             ],
             [
              0.6666666666666666,
              "#ed7953"
             ],
             [
              0.7777777777777778,
              "#fb9f3a"
             ],
             [
              0.8888888888888888,
              "#fdca26"
             ],
             [
              1,
              "#f0f921"
             ]
            ],
            "type": "heatmapgl"
           }
          ],
          "histogram": [
           {
            "marker": {
             "pattern": {
              "fillmode": "overlay",
              "size": 10,
              "solidity": 0.2
             }
            },
            "type": "histogram"
           }
          ],
          "histogram2d": [
           {
            "colorbar": {
             "outlinewidth": 0,
             "ticks": ""
            },
            "colorscale": [
             [
              0,
              "#0d0887"
             ],
             [
              0.1111111111111111,
              "#46039f"
             ],
             [
              0.2222222222222222,
              "#7201a8"
             ],
             [
              0.3333333333333333,
              "#9c179e"
             ],
             [
              0.4444444444444444,
              "#bd3786"
             ],
             [
              0.5555555555555556,
              "#d8576b"
             ],
             [
              0.6666666666666666,
              "#ed7953"
             ],
             [
              0.7777777777777778,
              "#fb9f3a"
             ],
             [
              0.8888888888888888,
              "#fdca26"
             ],
             [
              1,
              "#f0f921"
             ]
            ],
            "type": "histogram2d"
           }
          ],
          "histogram2dcontour": [
           {
            "colorbar": {
             "outlinewidth": 0,
             "ticks": ""
            },
            "colorscale": [
             [
              0,
              "#0d0887"
             ],
             [
              0.1111111111111111,
              "#46039f"
             ],
             [
              0.2222222222222222,
              "#7201a8"
             ],
             [
              0.3333333333333333,
              "#9c179e"
             ],
             [
              0.4444444444444444,
              "#bd3786"
             ],
             [
              0.5555555555555556,
              "#d8576b"
             ],
             [
              0.6666666666666666,
              "#ed7953"
             ],
             [
              0.7777777777777778,
              "#fb9f3a"
             ],
             [
              0.8888888888888888,
              "#fdca26"
             ],
             [
              1,
              "#f0f921"
             ]
            ],
            "type": "histogram2dcontour"
           }
          ],
          "mesh3d": [
           {
            "colorbar": {
             "outlinewidth": 0,
             "ticks": ""
            },
            "type": "mesh3d"
           }
          ],
          "parcoords": [
           {
            "line": {
             "colorbar": {
              "outlinewidth": 0,
              "ticks": ""
             }
            },
            "type": "parcoords"
           }
          ],
          "pie": [
           {
            "automargin": true,
            "type": "pie"
           }
          ],
          "scatter": [
           {
            "fillpattern": {
             "fillmode": "overlay",
             "size": 10,
             "solidity": 0.2
            },
            "type": "scatter"
           }
          ],
          "scatter3d": [
           {
            "line": {
             "colorbar": {
              "outlinewidth": 0,
              "ticks": ""
             }
            },
            "marker": {
             "colorbar": {
              "outlinewidth": 0,
              "ticks": ""
             }
            },
            "type": "scatter3d"
           }
          ],
          "scattercarpet": [
           {
            "marker": {
             "colorbar": {
              "outlinewidth": 0,
              "ticks": ""
             }
            },
            "type": "scattercarpet"
           }
          ],
          "scattergeo": [
           {
            "marker": {
             "colorbar": {
              "outlinewidth": 0,
              "ticks": ""
             }
            },
            "type": "scattergeo"
           }
          ],
          "scattergl": [
           {
            "marker": {
             "colorbar": {
              "outlinewidth": 0,
              "ticks": ""
             }
            },
            "type": "scattergl"
           }
          ],
          "scattermapbox": [
           {
            "marker": {
             "colorbar": {
              "outlinewidth": 0,
              "ticks": ""
             }
            },
            "type": "scattermapbox"
           }
          ],
          "scatterpolar": [
           {
            "marker": {
             "colorbar": {
              "outlinewidth": 0,
              "ticks": ""
             }
            },
            "type": "scatterpolar"
           }
          ],
          "scatterpolargl": [
           {
            "marker": {
             "colorbar": {
              "outlinewidth": 0,
              "ticks": ""
             }
            },
            "type": "scatterpolargl"
           }
          ],
          "scatterternary": [
           {
            "marker": {
             "colorbar": {
              "outlinewidth": 0,
              "ticks": ""
             }
            },
            "type": "scatterternary"
           }
          ],
          "surface": [
           {
            "colorbar": {
             "outlinewidth": 0,
             "ticks": ""
            },
            "colorscale": [
             [
              0,
              "#0d0887"
             ],
             [
              0.1111111111111111,
              "#46039f"
             ],
             [
              0.2222222222222222,
              "#7201a8"
             ],
             [
              0.3333333333333333,
              "#9c179e"
             ],
             [
              0.4444444444444444,
              "#bd3786"
             ],
             [
              0.5555555555555556,
              "#d8576b"
             ],
             [
              0.6666666666666666,
              "#ed7953"
             ],
             [
              0.7777777777777778,
              "#fb9f3a"
             ],
             [
              0.8888888888888888,
              "#fdca26"
             ],
             [
              1,
              "#f0f921"
             ]
            ],
            "type": "surface"
           }
          ],
          "table": [
           {
            "cells": {
             "fill": {
              "color": "#EBF0F8"
             },
             "line": {
              "color": "white"
             }
            },
            "header": {
             "fill": {
              "color": "#C8D4E3"
             },
             "line": {
              "color": "white"
             }
            },
            "type": "table"
           }
          ]
         },
         "layout": {
          "annotationdefaults": {
           "arrowcolor": "#2a3f5f",
           "arrowhead": 0,
           "arrowwidth": 1
          },
          "autotypenumbers": "strict",
          "coloraxis": {
           "colorbar": {
            "outlinewidth": 0,
            "ticks": ""
           }
          },
          "colorscale": {
           "diverging": [
            [
             0,
             "#8e0152"
            ],
            [
             0.1,
             "#c51b7d"
            ],
            [
             0.2,
             "#de77ae"
            ],
            [
             0.3,
             "#f1b6da"
            ],
            [
             0.4,
             "#fde0ef"
            ],
            [
             0.5,
             "#f7f7f7"
            ],
            [
             0.6,
             "#e6f5d0"
            ],
            [
             0.7,
             "#b8e186"
            ],
            [
             0.8,
             "#7fbc41"
            ],
            [
             0.9,
             "#4d9221"
            ],
            [
             1,
             "#276419"
            ]
           ],
           "sequential": [
            [
             0,
             "#0d0887"
            ],
            [
             0.1111111111111111,
             "#46039f"
            ],
            [
             0.2222222222222222,
             "#7201a8"
            ],
            [
             0.3333333333333333,
             "#9c179e"
            ],
            [
             0.4444444444444444,
             "#bd3786"
            ],
            [
             0.5555555555555556,
             "#d8576b"
            ],
            [
             0.6666666666666666,
             "#ed7953"
            ],
            [
             0.7777777777777778,
             "#fb9f3a"
            ],
            [
             0.8888888888888888,
             "#fdca26"
            ],
            [
             1,
             "#f0f921"
            ]
           ],
           "sequentialminus": [
            [
             0,
             "#0d0887"
            ],
            [
             0.1111111111111111,
             "#46039f"
            ],
            [
             0.2222222222222222,
             "#7201a8"
            ],
            [
             0.3333333333333333,
             "#9c179e"
            ],
            [
             0.4444444444444444,
             "#bd3786"
            ],
            [
             0.5555555555555556,
             "#d8576b"
            ],
            [
             0.6666666666666666,
             "#ed7953"
            ],
            [
             0.7777777777777778,
             "#fb9f3a"
            ],
            [
             0.8888888888888888,
             "#fdca26"
            ],
            [
             1,
             "#f0f921"
            ]
           ]
          },
          "colorway": [
           "#636efa",
           "#EF553B",
           "#00cc96",
           "#ab63fa",
           "#FFA15A",
           "#19d3f3",
           "#FF6692",
           "#B6E880",
           "#FF97FF",
           "#FECB52"
          ],
          "font": {
           "color": "#2a3f5f"
          },
          "geo": {
           "bgcolor": "white",
           "lakecolor": "white",
           "landcolor": "#E5ECF6",
           "showlakes": true,
           "showland": true,
           "subunitcolor": "white"
          },
          "hoverlabel": {
           "align": "left"
          },
          "hovermode": "closest",
          "mapbox": {
           "style": "light"
          },
          "paper_bgcolor": "white",
          "plot_bgcolor": "#E5ECF6",
          "polar": {
           "angularaxis": {
            "gridcolor": "white",
            "linecolor": "white",
            "ticks": ""
           },
           "bgcolor": "#E5ECF6",
           "radialaxis": {
            "gridcolor": "white",
            "linecolor": "white",
            "ticks": ""
           }
          },
          "scene": {
           "xaxis": {
            "backgroundcolor": "#E5ECF6",
            "gridcolor": "white",
            "gridwidth": 2,
            "linecolor": "white",
            "showbackground": true,
            "ticks": "",
            "zerolinecolor": "white"
           },
           "yaxis": {
            "backgroundcolor": "#E5ECF6",
            "gridcolor": "white",
            "gridwidth": 2,
            "linecolor": "white",
            "showbackground": true,
            "ticks": "",
            "zerolinecolor": "white"
           },
           "zaxis": {
            "backgroundcolor": "#E5ECF6",
            "gridcolor": "white",
            "gridwidth": 2,
            "linecolor": "white",
            "showbackground": true,
            "ticks": "",
            "zerolinecolor": "white"
           }
          },
          "shapedefaults": {
           "line": {
            "color": "#2a3f5f"
           }
          },
          "ternary": {
           "aaxis": {
            "gridcolor": "white",
            "linecolor": "white",
            "ticks": ""
           },
           "baxis": {
            "gridcolor": "white",
            "linecolor": "white",
            "ticks": ""
           },
           "bgcolor": "#E5ECF6",
           "caxis": {
            "gridcolor": "white",
            "linecolor": "white",
            "ticks": ""
           }
          },
          "title": {
           "x": 0.05
          },
          "xaxis": {
           "automargin": true,
           "gridcolor": "white",
           "linecolor": "white",
           "ticks": "",
           "title": {
            "standoff": 15
           },
           "zerolinecolor": "white",
           "zerolinewidth": 2
          },
          "yaxis": {
           "automargin": true,
           "gridcolor": "white",
           "linecolor": "white",
           "ticks": "",
           "title": {
            "standoff": 15
           },
           "zerolinecolor": "white",
           "zerolinewidth": 2
          }
         }
        },
        "title": {
         "text": "eye = (x:0., y:2.5, z:0.)"
        }
       }
      },
      "text/html": [
       "<div>                            <div id=\"9a6ef3f0-fb10-4b2b-a385-3d6ddfa8f249\" class=\"plotly-graph-div\" style=\"height:525px; width:100%;\"></div>            <script type=\"text/javascript\">                require([\"plotly\"], function(Plotly) {                    window.PLOTLYENV=window.PLOTLYENV || {};                                    if (document.getElementById(\"9a6ef3f0-fb10-4b2b-a385-3d6ddfa8f249\")) {                    Plotly.newPlot(                        \"9a6ef3f0-fb10-4b2b-a385-3d6ddfa8f249\",                        [{\"marker\":{\"color\":[\"rgb(132, 13, 95)\",\"rgb(162, 82, 151)\",\"rgb(218, 211, 218)\",\"rgb(196, 81, 162)\",\"rgb(85, 12, 49)\",\"rgb(66, 8, 33)\",\"rgb(144, 70, 131)\",\"rgb(51, 6, 25)\",\"rgb(167, 35, 128)\",\"rgb(110, 39, 84)\",\"rgb(104, 12, 67)\",\"rgb(131, 49, 110)\",\"rgb(250, 251, 250)\",\"rgb(171, 113, 168)\",\"rgb(196, 137, 188)\"],\"size\":[82.3780325246601,82.3780325246601,31.191682218075183,101.03972274060251,82.3780325246601,70.11463609704079,31.191682218075183,82.3780325246601,64.51612903225806,93.30845107971207,31.45827779258864,49.05358571047721,49.05358571047721,89.30951746201013,60.25059984004265]},\"mode\":\"markers\",\"x\":[132,162,218,196,85,66,144,51,167,110,104,131,250,171,196],\"y\":[13,82,211,81,12,8,70,6,35,39,12,49,251,113,137],\"z\":[95,151,218,162,49,33,131,25,128,84,67,110,250,168,188],\"type\":\"scatter3d\"}],                        {\"template\":{\"data\":{\"histogram2dcontour\":[{\"type\":\"histogram2dcontour\",\"colorbar\":{\"outlinewidth\":0,\"ticks\":\"\"},\"colorscale\":[[0.0,\"#0d0887\"],[0.1111111111111111,\"#46039f\"],[0.2222222222222222,\"#7201a8\"],[0.3333333333333333,\"#9c179e\"],[0.4444444444444444,\"#bd3786\"],[0.5555555555555556,\"#d8576b\"],[0.6666666666666666,\"#ed7953\"],[0.7777777777777778,\"#fb9f3a\"],[0.8888888888888888,\"#fdca26\"],[1.0,\"#f0f921\"]]}],\"choropleth\":[{\"type\":\"choropleth\",\"colorbar\":{\"outlinewidth\":0,\"ticks\":\"\"}}],\"histogram2d\":[{\"type\":\"histogram2d\",\"colorbar\":{\"outlinewidth\":0,\"ticks\":\"\"},\"colorscale\":[[0.0,\"#0d0887\"],[0.1111111111111111,\"#46039f\"],[0.2222222222222222,\"#7201a8\"],[0.3333333333333333,\"#9c179e\"],[0.4444444444444444,\"#bd3786\"],[0.5555555555555556,\"#d8576b\"],[0.6666666666666666,\"#ed7953\"],[0.7777777777777778,\"#fb9f3a\"],[0.8888888888888888,\"#fdca26\"],[1.0,\"#f0f921\"]]}],\"heatmap\":[{\"type\":\"heatmap\",\"colorbar\":{\"outlinewidth\":0,\"ticks\":\"\"},\"colorscale\":[[0.0,\"#0d0887\"],[0.1111111111111111,\"#46039f\"],[0.2222222222222222,\"#7201a8\"],[0.3333333333333333,\"#9c179e\"],[0.4444444444444444,\"#bd3786\"],[0.5555555555555556,\"#d8576b\"],[0.6666666666666666,\"#ed7953\"],[0.7777777777777778,\"#fb9f3a\"],[0.8888888888888888,\"#fdca26\"],[1.0,\"#f0f921\"]]}],\"heatmapgl\":[{\"type\":\"heatmapgl\",\"colorbar\":{\"outlinewidth\":0,\"ticks\":\"\"},\"colorscale\":[[0.0,\"#0d0887\"],[0.1111111111111111,\"#46039f\"],[0.2222222222222222,\"#7201a8\"],[0.3333333333333333,\"#9c179e\"],[0.4444444444444444,\"#bd3786\"],[0.5555555555555556,\"#d8576b\"],[0.6666666666666666,\"#ed7953\"],[0.7777777777777778,\"#fb9f3a\"],[0.8888888888888888,\"#fdca26\"],[1.0,\"#f0f921\"]]}],\"contourcarpet\":[{\"type\":\"contourcarpet\",\"colorbar\":{\"outlinewidth\":0,\"ticks\":\"\"}}],\"contour\":[{\"type\":\"contour\",\"colorbar\":{\"outlinewidth\":0,\"ticks\":\"\"},\"colorscale\":[[0.0,\"#0d0887\"],[0.1111111111111111,\"#46039f\"],[0.2222222222222222,\"#7201a8\"],[0.3333333333333333,\"#9c179e\"],[0.4444444444444444,\"#bd3786\"],[0.5555555555555556,\"#d8576b\"],[0.6666666666666666,\"#ed7953\"],[0.7777777777777778,\"#fb9f3a\"],[0.8888888888888888,\"#fdca26\"],[1.0,\"#f0f921\"]]}],\"surface\":[{\"type\":\"surface\",\"colorbar\":{\"outlinewidth\":0,\"ticks\":\"\"},\"colorscale\":[[0.0,\"#0d0887\"],[0.1111111111111111,\"#46039f\"],[0.2222222222222222,\"#7201a8\"],[0.3333333333333333,\"#9c179e\"],[0.4444444444444444,\"#bd3786\"],[0.5555555555555556,\"#d8576b\"],[0.6666666666666666,\"#ed7953\"],[0.7777777777777778,\"#fb9f3a\"],[0.8888888888888888,\"#fdca26\"],[1.0,\"#f0f921\"]]}],\"mesh3d\":[{\"type\":\"mesh3d\",\"colorbar\":{\"outlinewidth\":0,\"ticks\":\"\"}}],\"scatter\":[{\"fillpattern\":{\"fillmode\":\"overlay\",\"size\":10,\"solidity\":0.2},\"type\":\"scatter\"}],\"parcoords\":[{\"type\":\"parcoords\",\"line\":{\"colorbar\":{\"outlinewidth\":0,\"ticks\":\"\"}}}],\"scatterpolargl\":[{\"type\":\"scatterpolargl\",\"marker\":{\"colorbar\":{\"outlinewidth\":0,\"ticks\":\"\"}}}],\"bar\":[{\"error_x\":{\"color\":\"#2a3f5f\"},\"error_y\":{\"color\":\"#2a3f5f\"},\"marker\":{\"line\":{\"color\":\"#E5ECF6\",\"width\":0.5},\"pattern\":{\"fillmode\":\"overlay\",\"size\":10,\"solidity\":0.2}},\"type\":\"bar\"}],\"scattergeo\":[{\"type\":\"scattergeo\",\"marker\":{\"colorbar\":{\"outlinewidth\":0,\"ticks\":\"\"}}}],\"scatterpolar\":[{\"type\":\"scatterpolar\",\"marker\":{\"colorbar\":{\"outlinewidth\":0,\"ticks\":\"\"}}}],\"histogram\":[{\"marker\":{\"pattern\":{\"fillmode\":\"overlay\",\"size\":10,\"solidity\":0.2}},\"type\":\"histogram\"}],\"scattergl\":[{\"type\":\"scattergl\",\"marker\":{\"colorbar\":{\"outlinewidth\":0,\"ticks\":\"\"}}}],\"scatter3d\":[{\"type\":\"scatter3d\",\"line\":{\"colorbar\":{\"outlinewidth\":0,\"ticks\":\"\"}},\"marker\":{\"colorbar\":{\"outlinewidth\":0,\"ticks\":\"\"}}}],\"scattermapbox\":[{\"type\":\"scattermapbox\",\"marker\":{\"colorbar\":{\"outlinewidth\":0,\"ticks\":\"\"}}}],\"scatterternary\":[{\"type\":\"scatterternary\",\"marker\":{\"colorbar\":{\"outlinewidth\":0,\"ticks\":\"\"}}}],\"scattercarpet\":[{\"type\":\"scattercarpet\",\"marker\":{\"colorbar\":{\"outlinewidth\":0,\"ticks\":\"\"}}}],\"carpet\":[{\"aaxis\":{\"endlinecolor\":\"#2a3f5f\",\"gridcolor\":\"white\",\"linecolor\":\"white\",\"minorgridcolor\":\"white\",\"startlinecolor\":\"#2a3f5f\"},\"baxis\":{\"endlinecolor\":\"#2a3f5f\",\"gridcolor\":\"white\",\"linecolor\":\"white\",\"minorgridcolor\":\"white\",\"startlinecolor\":\"#2a3f5f\"},\"type\":\"carpet\"}],\"table\":[{\"cells\":{\"fill\":{\"color\":\"#EBF0F8\"},\"line\":{\"color\":\"white\"}},\"header\":{\"fill\":{\"color\":\"#C8D4E3\"},\"line\":{\"color\":\"white\"}},\"type\":\"table\"}],\"barpolar\":[{\"marker\":{\"line\":{\"color\":\"#E5ECF6\",\"width\":0.5},\"pattern\":{\"fillmode\":\"overlay\",\"size\":10,\"solidity\":0.2}},\"type\":\"barpolar\"}],\"pie\":[{\"automargin\":true,\"type\":\"pie\"}]},\"layout\":{\"autotypenumbers\":\"strict\",\"colorway\":[\"#636efa\",\"#EF553B\",\"#00cc96\",\"#ab63fa\",\"#FFA15A\",\"#19d3f3\",\"#FF6692\",\"#B6E880\",\"#FF97FF\",\"#FECB52\"],\"font\":{\"color\":\"#2a3f5f\"},\"hovermode\":\"closest\",\"hoverlabel\":{\"align\":\"left\"},\"paper_bgcolor\":\"white\",\"plot_bgcolor\":\"#E5ECF6\",\"polar\":{\"bgcolor\":\"#E5ECF6\",\"angularaxis\":{\"gridcolor\":\"white\",\"linecolor\":\"white\",\"ticks\":\"\"},\"radialaxis\":{\"gridcolor\":\"white\",\"linecolor\":\"white\",\"ticks\":\"\"}},\"ternary\":{\"bgcolor\":\"#E5ECF6\",\"aaxis\":{\"gridcolor\":\"white\",\"linecolor\":\"white\",\"ticks\":\"\"},\"baxis\":{\"gridcolor\":\"white\",\"linecolor\":\"white\",\"ticks\":\"\"},\"caxis\":{\"gridcolor\":\"white\",\"linecolor\":\"white\",\"ticks\":\"\"}},\"coloraxis\":{\"colorbar\":{\"outlinewidth\":0,\"ticks\":\"\"}},\"colorscale\":{\"sequential\":[[0.0,\"#0d0887\"],[0.1111111111111111,\"#46039f\"],[0.2222222222222222,\"#7201a8\"],[0.3333333333333333,\"#9c179e\"],[0.4444444444444444,\"#bd3786\"],[0.5555555555555556,\"#d8576b\"],[0.6666666666666666,\"#ed7953\"],[0.7777777777777778,\"#fb9f3a\"],[0.8888888888888888,\"#fdca26\"],[1.0,\"#f0f921\"]],\"sequentialminus\":[[0.0,\"#0d0887\"],[0.1111111111111111,\"#46039f\"],[0.2222222222222222,\"#7201a8\"],[0.3333333333333333,\"#9c179e\"],[0.4444444444444444,\"#bd3786\"],[0.5555555555555556,\"#d8576b\"],[0.6666666666666666,\"#ed7953\"],[0.7777777777777778,\"#fb9f3a\"],[0.8888888888888888,\"#fdca26\"],[1.0,\"#f0f921\"]],\"diverging\":[[0,\"#8e0152\"],[0.1,\"#c51b7d\"],[0.2,\"#de77ae\"],[0.3,\"#f1b6da\"],[0.4,\"#fde0ef\"],[0.5,\"#f7f7f7\"],[0.6,\"#e6f5d0\"],[0.7,\"#b8e186\"],[0.8,\"#7fbc41\"],[0.9,\"#4d9221\"],[1,\"#276419\"]]},\"xaxis\":{\"gridcolor\":\"white\",\"linecolor\":\"white\",\"ticks\":\"\",\"title\":{\"standoff\":15},\"zerolinecolor\":\"white\",\"automargin\":true,\"zerolinewidth\":2},\"yaxis\":{\"gridcolor\":\"white\",\"linecolor\":\"white\",\"ticks\":\"\",\"title\":{\"standoff\":15},\"zerolinecolor\":\"white\",\"automargin\":true,\"zerolinewidth\":2},\"scene\":{\"xaxis\":{\"backgroundcolor\":\"#E5ECF6\",\"gridcolor\":\"white\",\"linecolor\":\"white\",\"showbackground\":true,\"ticks\":\"\",\"zerolinecolor\":\"white\",\"gridwidth\":2},\"yaxis\":{\"backgroundcolor\":\"#E5ECF6\",\"gridcolor\":\"white\",\"linecolor\":\"white\",\"showbackground\":true,\"ticks\":\"\",\"zerolinecolor\":\"white\",\"gridwidth\":2},\"zaxis\":{\"backgroundcolor\":\"#E5ECF6\",\"gridcolor\":\"white\",\"linecolor\":\"white\",\"showbackground\":true,\"ticks\":\"\",\"zerolinecolor\":\"white\",\"gridwidth\":2}},\"shapedefaults\":{\"line\":{\"color\":\"#2a3f5f\"}},\"annotationdefaults\":{\"arrowcolor\":\"#2a3f5f\",\"arrowhead\":0,\"arrowwidth\":1},\"geo\":{\"bgcolor\":\"white\",\"landcolor\":\"#E5ECF6\",\"subunitcolor\":\"white\",\"showland\":true,\"showlakes\":true,\"lakecolor\":\"white\"},\"title\":{\"x\":0.05},\"mapbox\":{\"style\":\"light\"}}},\"title\":{\"text\":\"eye = (x:0., y:2.5, z:0.)\"},\"scene\":{\"xaxis\":{\"title\":{\"text\":\"G\"}},\"yaxis\":{\"title\":{\"text\":\"R\"}},\"zaxis\":{\"title\":{\"text\":\"B\"}},\"camera\":{\"eye\":{\"x\":0,\"y\":2.5,\"z\":0}}}},                        {\"responsive\": true}                    ).then(function(){\n",
       "                            \n",
       "var gd = document.getElementById('9a6ef3f0-fb10-4b2b-a385-3d6ddfa8f249');\n",
       "var x = new MutationObserver(function (mutations, observer) {{\n",
       "        var display = window.getComputedStyle(gd).display;\n",
       "        if (!display || display === 'none') {{\n",
       "            console.log([gd, 'removed!']);\n",
       "            Plotly.purge(gd);\n",
       "            observer.disconnect();\n",
       "        }}\n",
       "}});\n",
       "\n",
       "// Listen for the removal of the full notebook cells\n",
       "var notebookContainer = gd.closest('#notebook-container');\n",
       "if (notebookContainer) {{\n",
       "    x.observe(notebookContainer, {childList: true});\n",
       "}}\n",
       "\n",
       "// Listen for the clearing of the current output cell\n",
       "var outputEl = gd.closest('.output');\n",
       "if (outputEl) {{\n",
       "    x.observe(outputEl, {childList: true});\n",
       "}}\n",
       "\n",
       "                        })                };                });            </script>        </div>"
      ]
     },
     "metadata": {},
     "output_type": "display_data"
    },
    {
     "data": {
      "application/vnd.plotly.v1+json": {
       "config": {
        "plotlyServerURL": "https://plot.ly"
       },
       "data": [
        {
         "marker": {
          "color": [
           "rgb(132, 13, 95)",
           "rgb(162, 82, 151)",
           "rgb(218, 211, 218)",
           "rgb(196, 81, 162)",
           "rgb(85, 12, 49)",
           "rgb(66, 8, 33)",
           "rgb(144, 70, 131)",
           "rgb(51, 6, 25)",
           "rgb(167, 35, 128)",
           "rgb(110, 39, 84)",
           "rgb(104, 12, 67)",
           "rgb(131, 49, 110)",
           "rgb(250, 251, 250)",
           "rgb(171, 113, 168)",
           "rgb(196, 137, 188)"
          ],
          "size": [
           82.3780325246601,
           82.3780325246601,
           31.191682218075183,
           101.03972274060251,
           82.3780325246601,
           70.11463609704079,
           31.191682218075183,
           82.3780325246601,
           64.51612903225806,
           93.30845107971207,
           31.45827779258864,
           49.05358571047721,
           49.05358571047721,
           89.30951746201013,
           60.25059984004265
          ]
         },
         "mode": "markers",
         "type": "scatter3d",
         "x": [
          132,
          162,
          218,
          196,
          85,
          66,
          144,
          51,
          167,
          110,
          104,
          131,
          250,
          171,
          196
         ],
         "y": [
          13,
          82,
          211,
          81,
          12,
          8,
          70,
          6,
          35,
          39,
          12,
          49,
          251,
          113,
          137
         ],
         "z": [
          95,
          151,
          218,
          162,
          49,
          33,
          131,
          25,
          128,
          84,
          67,
          110,
          250,
          168,
          188
         ]
        }
       ],
       "layout": {
        "scene": {
         "camera": {
          "eye": {
           "x": 0,
           "y": 0,
           "z": 2.5
          }
         },
         "xaxis": {
          "title": {
           "text": "G"
          }
         },
         "yaxis": {
          "title": {
           "text": "R"
          }
         },
         "zaxis": {
          "title": {
           "text": "B"
          }
         }
        },
        "template": {
         "data": {
          "bar": [
           {
            "error_x": {
             "color": "#2a3f5f"
            },
            "error_y": {
             "color": "#2a3f5f"
            },
            "marker": {
             "line": {
              "color": "#E5ECF6",
              "width": 0.5
             },
             "pattern": {
              "fillmode": "overlay",
              "size": 10,
              "solidity": 0.2
             }
            },
            "type": "bar"
           }
          ],
          "barpolar": [
           {
            "marker": {
             "line": {
              "color": "#E5ECF6",
              "width": 0.5
             },
             "pattern": {
              "fillmode": "overlay",
              "size": 10,
              "solidity": 0.2
             }
            },
            "type": "barpolar"
           }
          ],
          "carpet": [
           {
            "aaxis": {
             "endlinecolor": "#2a3f5f",
             "gridcolor": "white",
             "linecolor": "white",
             "minorgridcolor": "white",
             "startlinecolor": "#2a3f5f"
            },
            "baxis": {
             "endlinecolor": "#2a3f5f",
             "gridcolor": "white",
             "linecolor": "white",
             "minorgridcolor": "white",
             "startlinecolor": "#2a3f5f"
            },
            "type": "carpet"
           }
          ],
          "choropleth": [
           {
            "colorbar": {
             "outlinewidth": 0,
             "ticks": ""
            },
            "type": "choropleth"
           }
          ],
          "contour": [
           {
            "colorbar": {
             "outlinewidth": 0,
             "ticks": ""
            },
            "colorscale": [
             [
              0,
              "#0d0887"
             ],
             [
              0.1111111111111111,
              "#46039f"
             ],
             [
              0.2222222222222222,
              "#7201a8"
             ],
             [
              0.3333333333333333,
              "#9c179e"
             ],
             [
              0.4444444444444444,
              "#bd3786"
             ],
             [
              0.5555555555555556,
              "#d8576b"
             ],
             [
              0.6666666666666666,
              "#ed7953"
             ],
             [
              0.7777777777777778,
              "#fb9f3a"
             ],
             [
              0.8888888888888888,
              "#fdca26"
             ],
             [
              1,
              "#f0f921"
             ]
            ],
            "type": "contour"
           }
          ],
          "contourcarpet": [
           {
            "colorbar": {
             "outlinewidth": 0,
             "ticks": ""
            },
            "type": "contourcarpet"
           }
          ],
          "heatmap": [
           {
            "colorbar": {
             "outlinewidth": 0,
             "ticks": ""
            },
            "colorscale": [
             [
              0,
              "#0d0887"
             ],
             [
              0.1111111111111111,
              "#46039f"
             ],
             [
              0.2222222222222222,
              "#7201a8"
             ],
             [
              0.3333333333333333,
              "#9c179e"
             ],
             [
              0.4444444444444444,
              "#bd3786"
             ],
             [
              0.5555555555555556,
              "#d8576b"
             ],
             [
              0.6666666666666666,
              "#ed7953"
             ],
             [
              0.7777777777777778,
              "#fb9f3a"
             ],
             [
              0.8888888888888888,
              "#fdca26"
             ],
             [
              1,
              "#f0f921"
             ]
            ],
            "type": "heatmap"
           }
          ],
          "heatmapgl": [
           {
            "colorbar": {
             "outlinewidth": 0,
             "ticks": ""
            },
            "colorscale": [
             [
              0,
              "#0d0887"
             ],
             [
              0.1111111111111111,
              "#46039f"
             ],
             [
              0.2222222222222222,
              "#7201a8"
             ],
             [
              0.3333333333333333,
              "#9c179e"
             ],
             [
              0.4444444444444444,
              "#bd3786"
             ],
             [
              0.5555555555555556,
              "#d8576b"
             ],
             [
              0.6666666666666666,
              "#ed7953"
             ],
             [
              0.7777777777777778,
              "#fb9f3a"
             ],
             [
              0.8888888888888888,
              "#fdca26"
             ],
             [
              1,
              "#f0f921"
             ]
            ],
            "type": "heatmapgl"
           }
          ],
          "histogram": [
           {
            "marker": {
             "pattern": {
              "fillmode": "overlay",
              "size": 10,
              "solidity": 0.2
             }
            },
            "type": "histogram"
           }
          ],
          "histogram2d": [
           {
            "colorbar": {
             "outlinewidth": 0,
             "ticks": ""
            },
            "colorscale": [
             [
              0,
              "#0d0887"
             ],
             [
              0.1111111111111111,
              "#46039f"
             ],
             [
              0.2222222222222222,
              "#7201a8"
             ],
             [
              0.3333333333333333,
              "#9c179e"
             ],
             [
              0.4444444444444444,
              "#bd3786"
             ],
             [
              0.5555555555555556,
              "#d8576b"
             ],
             [
              0.6666666666666666,
              "#ed7953"
             ],
             [
              0.7777777777777778,
              "#fb9f3a"
             ],
             [
              0.8888888888888888,
              "#fdca26"
             ],
             [
              1,
              "#f0f921"
             ]
            ],
            "type": "histogram2d"
           }
          ],
          "histogram2dcontour": [
           {
            "colorbar": {
             "outlinewidth": 0,
             "ticks": ""
            },
            "colorscale": [
             [
              0,
              "#0d0887"
             ],
             [
              0.1111111111111111,
              "#46039f"
             ],
             [
              0.2222222222222222,
              "#7201a8"
             ],
             [
              0.3333333333333333,
              "#9c179e"
             ],
             [
              0.4444444444444444,
              "#bd3786"
             ],
             [
              0.5555555555555556,
              "#d8576b"
             ],
             [
              0.6666666666666666,
              "#ed7953"
             ],
             [
              0.7777777777777778,
              "#fb9f3a"
             ],
             [
              0.8888888888888888,
              "#fdca26"
             ],
             [
              1,
              "#f0f921"
             ]
            ],
            "type": "histogram2dcontour"
           }
          ],
          "mesh3d": [
           {
            "colorbar": {
             "outlinewidth": 0,
             "ticks": ""
            },
            "type": "mesh3d"
           }
          ],
          "parcoords": [
           {
            "line": {
             "colorbar": {
              "outlinewidth": 0,
              "ticks": ""
             }
            },
            "type": "parcoords"
           }
          ],
          "pie": [
           {
            "automargin": true,
            "type": "pie"
           }
          ],
          "scatter": [
           {
            "fillpattern": {
             "fillmode": "overlay",
             "size": 10,
             "solidity": 0.2
            },
            "type": "scatter"
           }
          ],
          "scatter3d": [
           {
            "line": {
             "colorbar": {
              "outlinewidth": 0,
              "ticks": ""
             }
            },
            "marker": {
             "colorbar": {
              "outlinewidth": 0,
              "ticks": ""
             }
            },
            "type": "scatter3d"
           }
          ],
          "scattercarpet": [
           {
            "marker": {
             "colorbar": {
              "outlinewidth": 0,
              "ticks": ""
             }
            },
            "type": "scattercarpet"
           }
          ],
          "scattergeo": [
           {
            "marker": {
             "colorbar": {
              "outlinewidth": 0,
              "ticks": ""
             }
            },
            "type": "scattergeo"
           }
          ],
          "scattergl": [
           {
            "marker": {
             "colorbar": {
              "outlinewidth": 0,
              "ticks": ""
             }
            },
            "type": "scattergl"
           }
          ],
          "scattermapbox": [
           {
            "marker": {
             "colorbar": {
              "outlinewidth": 0,
              "ticks": ""
             }
            },
            "type": "scattermapbox"
           }
          ],
          "scatterpolar": [
           {
            "marker": {
             "colorbar": {
              "outlinewidth": 0,
              "ticks": ""
             }
            },
            "type": "scatterpolar"
           }
          ],
          "scatterpolargl": [
           {
            "marker": {
             "colorbar": {
              "outlinewidth": 0,
              "ticks": ""
             }
            },
            "type": "scatterpolargl"
           }
          ],
          "scatterternary": [
           {
            "marker": {
             "colorbar": {
              "outlinewidth": 0,
              "ticks": ""
             }
            },
            "type": "scatterternary"
           }
          ],
          "surface": [
           {
            "colorbar": {
             "outlinewidth": 0,
             "ticks": ""
            },
            "colorscale": [
             [
              0,
              "#0d0887"
             ],
             [
              0.1111111111111111,
              "#46039f"
             ],
             [
              0.2222222222222222,
              "#7201a8"
             ],
             [
              0.3333333333333333,
              "#9c179e"
             ],
             [
              0.4444444444444444,
              "#bd3786"
             ],
             [
              0.5555555555555556,
              "#d8576b"
             ],
             [
              0.6666666666666666,
              "#ed7953"
             ],
             [
              0.7777777777777778,
              "#fb9f3a"
             ],
             [
              0.8888888888888888,
              "#fdca26"
             ],
             [
              1,
              "#f0f921"
             ]
            ],
            "type": "surface"
           }
          ],
          "table": [
           {
            "cells": {
             "fill": {
              "color": "#EBF0F8"
             },
             "line": {
              "color": "white"
             }
            },
            "header": {
             "fill": {
              "color": "#C8D4E3"
             },
             "line": {
              "color": "white"
             }
            },
            "type": "table"
           }
          ]
         },
         "layout": {
          "annotationdefaults": {
           "arrowcolor": "#2a3f5f",
           "arrowhead": 0,
           "arrowwidth": 1
          },
          "autotypenumbers": "strict",
          "coloraxis": {
           "colorbar": {
            "outlinewidth": 0,
            "ticks": ""
           }
          },
          "colorscale": {
           "diverging": [
            [
             0,
             "#8e0152"
            ],
            [
             0.1,
             "#c51b7d"
            ],
            [
             0.2,
             "#de77ae"
            ],
            [
             0.3,
             "#f1b6da"
            ],
            [
             0.4,
             "#fde0ef"
            ],
            [
             0.5,
             "#f7f7f7"
            ],
            [
             0.6,
             "#e6f5d0"
            ],
            [
             0.7,
             "#b8e186"
            ],
            [
             0.8,
             "#7fbc41"
            ],
            [
             0.9,
             "#4d9221"
            ],
            [
             1,
             "#276419"
            ]
           ],
           "sequential": [
            [
             0,
             "#0d0887"
            ],
            [
             0.1111111111111111,
             "#46039f"
            ],
            [
             0.2222222222222222,
             "#7201a8"
            ],
            [
             0.3333333333333333,
             "#9c179e"
            ],
            [
             0.4444444444444444,
             "#bd3786"
            ],
            [
             0.5555555555555556,
             "#d8576b"
            ],
            [
             0.6666666666666666,
             "#ed7953"
            ],
            [
             0.7777777777777778,
             "#fb9f3a"
            ],
            [
             0.8888888888888888,
             "#fdca26"
            ],
            [
             1,
             "#f0f921"
            ]
           ],
           "sequentialminus": [
            [
             0,
             "#0d0887"
            ],
            [
             0.1111111111111111,
             "#46039f"
            ],
            [
             0.2222222222222222,
             "#7201a8"
            ],
            [
             0.3333333333333333,
             "#9c179e"
            ],
            [
             0.4444444444444444,
             "#bd3786"
            ],
            [
             0.5555555555555556,
             "#d8576b"
            ],
            [
             0.6666666666666666,
             "#ed7953"
            ],
            [
             0.7777777777777778,
             "#fb9f3a"
            ],
            [
             0.8888888888888888,
             "#fdca26"
            ],
            [
             1,
             "#f0f921"
            ]
           ]
          },
          "colorway": [
           "#636efa",
           "#EF553B",
           "#00cc96",
           "#ab63fa",
           "#FFA15A",
           "#19d3f3",
           "#FF6692",
           "#B6E880",
           "#FF97FF",
           "#FECB52"
          ],
          "font": {
           "color": "#2a3f5f"
          },
          "geo": {
           "bgcolor": "white",
           "lakecolor": "white",
           "landcolor": "#E5ECF6",
           "showlakes": true,
           "showland": true,
           "subunitcolor": "white"
          },
          "hoverlabel": {
           "align": "left"
          },
          "hovermode": "closest",
          "mapbox": {
           "style": "light"
          },
          "paper_bgcolor": "white",
          "plot_bgcolor": "#E5ECF6",
          "polar": {
           "angularaxis": {
            "gridcolor": "white",
            "linecolor": "white",
            "ticks": ""
           },
           "bgcolor": "#E5ECF6",
           "radialaxis": {
            "gridcolor": "white",
            "linecolor": "white",
            "ticks": ""
           }
          },
          "scene": {
           "xaxis": {
            "backgroundcolor": "#E5ECF6",
            "gridcolor": "white",
            "gridwidth": 2,
            "linecolor": "white",
            "showbackground": true,
            "ticks": "",
            "zerolinecolor": "white"
           },
           "yaxis": {
            "backgroundcolor": "#E5ECF6",
            "gridcolor": "white",
            "gridwidth": 2,
            "linecolor": "white",
            "showbackground": true,
            "ticks": "",
            "zerolinecolor": "white"
           },
           "zaxis": {
            "backgroundcolor": "#E5ECF6",
            "gridcolor": "white",
            "gridwidth": 2,
            "linecolor": "white",
            "showbackground": true,
            "ticks": "",
            "zerolinecolor": "white"
           }
          },
          "shapedefaults": {
           "line": {
            "color": "#2a3f5f"
           }
          },
          "ternary": {
           "aaxis": {
            "gridcolor": "white",
            "linecolor": "white",
            "ticks": ""
           },
           "baxis": {
            "gridcolor": "white",
            "linecolor": "white",
            "ticks": ""
           },
           "bgcolor": "#E5ECF6",
           "caxis": {
            "gridcolor": "white",
            "linecolor": "white",
            "ticks": ""
           }
          },
          "title": {
           "x": 0.05
          },
          "xaxis": {
           "automargin": true,
           "gridcolor": "white",
           "linecolor": "white",
           "ticks": "",
           "title": {
            "standoff": 15
           },
           "zerolinecolor": "white",
           "zerolinewidth": 2
          },
          "yaxis": {
           "automargin": true,
           "gridcolor": "white",
           "linecolor": "white",
           "ticks": "",
           "title": {
            "standoff": 15
           },
           "zerolinecolor": "white",
           "zerolinewidth": 2
          }
         }
        },
        "title": {
         "text": "eye = (x:0., y:0, z:2.5.)"
        }
       }
      },
      "text/html": [
       "<div>                            <div id=\"46e13a02-36ca-444c-9942-0cb0f52af6f8\" class=\"plotly-graph-div\" style=\"height:525px; width:100%;\"></div>            <script type=\"text/javascript\">                require([\"plotly\"], function(Plotly) {                    window.PLOTLYENV=window.PLOTLYENV || {};                                    if (document.getElementById(\"46e13a02-36ca-444c-9942-0cb0f52af6f8\")) {                    Plotly.newPlot(                        \"46e13a02-36ca-444c-9942-0cb0f52af6f8\",                        [{\"marker\":{\"color\":[\"rgb(132, 13, 95)\",\"rgb(162, 82, 151)\",\"rgb(218, 211, 218)\",\"rgb(196, 81, 162)\",\"rgb(85, 12, 49)\",\"rgb(66, 8, 33)\",\"rgb(144, 70, 131)\",\"rgb(51, 6, 25)\",\"rgb(167, 35, 128)\",\"rgb(110, 39, 84)\",\"rgb(104, 12, 67)\",\"rgb(131, 49, 110)\",\"rgb(250, 251, 250)\",\"rgb(171, 113, 168)\",\"rgb(196, 137, 188)\"],\"size\":[82.3780325246601,82.3780325246601,31.191682218075183,101.03972274060251,82.3780325246601,70.11463609704079,31.191682218075183,82.3780325246601,64.51612903225806,93.30845107971207,31.45827779258864,49.05358571047721,49.05358571047721,89.30951746201013,60.25059984004265]},\"mode\":\"markers\",\"x\":[132,162,218,196,85,66,144,51,167,110,104,131,250,171,196],\"y\":[13,82,211,81,12,8,70,6,35,39,12,49,251,113,137],\"z\":[95,151,218,162,49,33,131,25,128,84,67,110,250,168,188],\"type\":\"scatter3d\"}],                        {\"template\":{\"data\":{\"histogram2dcontour\":[{\"type\":\"histogram2dcontour\",\"colorbar\":{\"outlinewidth\":0,\"ticks\":\"\"},\"colorscale\":[[0.0,\"#0d0887\"],[0.1111111111111111,\"#46039f\"],[0.2222222222222222,\"#7201a8\"],[0.3333333333333333,\"#9c179e\"],[0.4444444444444444,\"#bd3786\"],[0.5555555555555556,\"#d8576b\"],[0.6666666666666666,\"#ed7953\"],[0.7777777777777778,\"#fb9f3a\"],[0.8888888888888888,\"#fdca26\"],[1.0,\"#f0f921\"]]}],\"choropleth\":[{\"type\":\"choropleth\",\"colorbar\":{\"outlinewidth\":0,\"ticks\":\"\"}}],\"histogram2d\":[{\"type\":\"histogram2d\",\"colorbar\":{\"outlinewidth\":0,\"ticks\":\"\"},\"colorscale\":[[0.0,\"#0d0887\"],[0.1111111111111111,\"#46039f\"],[0.2222222222222222,\"#7201a8\"],[0.3333333333333333,\"#9c179e\"],[0.4444444444444444,\"#bd3786\"],[0.5555555555555556,\"#d8576b\"],[0.6666666666666666,\"#ed7953\"],[0.7777777777777778,\"#fb9f3a\"],[0.8888888888888888,\"#fdca26\"],[1.0,\"#f0f921\"]]}],\"heatmap\":[{\"type\":\"heatmap\",\"colorbar\":{\"outlinewidth\":0,\"ticks\":\"\"},\"colorscale\":[[0.0,\"#0d0887\"],[0.1111111111111111,\"#46039f\"],[0.2222222222222222,\"#7201a8\"],[0.3333333333333333,\"#9c179e\"],[0.4444444444444444,\"#bd3786\"],[0.5555555555555556,\"#d8576b\"],[0.6666666666666666,\"#ed7953\"],[0.7777777777777778,\"#fb9f3a\"],[0.8888888888888888,\"#fdca26\"],[1.0,\"#f0f921\"]]}],\"heatmapgl\":[{\"type\":\"heatmapgl\",\"colorbar\":{\"outlinewidth\":0,\"ticks\":\"\"},\"colorscale\":[[0.0,\"#0d0887\"],[0.1111111111111111,\"#46039f\"],[0.2222222222222222,\"#7201a8\"],[0.3333333333333333,\"#9c179e\"],[0.4444444444444444,\"#bd3786\"],[0.5555555555555556,\"#d8576b\"],[0.6666666666666666,\"#ed7953\"],[0.7777777777777778,\"#fb9f3a\"],[0.8888888888888888,\"#fdca26\"],[1.0,\"#f0f921\"]]}],\"contourcarpet\":[{\"type\":\"contourcarpet\",\"colorbar\":{\"outlinewidth\":0,\"ticks\":\"\"}}],\"contour\":[{\"type\":\"contour\",\"colorbar\":{\"outlinewidth\":0,\"ticks\":\"\"},\"colorscale\":[[0.0,\"#0d0887\"],[0.1111111111111111,\"#46039f\"],[0.2222222222222222,\"#7201a8\"],[0.3333333333333333,\"#9c179e\"],[0.4444444444444444,\"#bd3786\"],[0.5555555555555556,\"#d8576b\"],[0.6666666666666666,\"#ed7953\"],[0.7777777777777778,\"#fb9f3a\"],[0.8888888888888888,\"#fdca26\"],[1.0,\"#f0f921\"]]}],\"surface\":[{\"type\":\"surface\",\"colorbar\":{\"outlinewidth\":0,\"ticks\":\"\"},\"colorscale\":[[0.0,\"#0d0887\"],[0.1111111111111111,\"#46039f\"],[0.2222222222222222,\"#7201a8\"],[0.3333333333333333,\"#9c179e\"],[0.4444444444444444,\"#bd3786\"],[0.5555555555555556,\"#d8576b\"],[0.6666666666666666,\"#ed7953\"],[0.7777777777777778,\"#fb9f3a\"],[0.8888888888888888,\"#fdca26\"],[1.0,\"#f0f921\"]]}],\"mesh3d\":[{\"type\":\"mesh3d\",\"colorbar\":{\"outlinewidth\":0,\"ticks\":\"\"}}],\"scatter\":[{\"fillpattern\":{\"fillmode\":\"overlay\",\"size\":10,\"solidity\":0.2},\"type\":\"scatter\"}],\"parcoords\":[{\"type\":\"parcoords\",\"line\":{\"colorbar\":{\"outlinewidth\":0,\"ticks\":\"\"}}}],\"scatterpolargl\":[{\"type\":\"scatterpolargl\",\"marker\":{\"colorbar\":{\"outlinewidth\":0,\"ticks\":\"\"}}}],\"bar\":[{\"error_x\":{\"color\":\"#2a3f5f\"},\"error_y\":{\"color\":\"#2a3f5f\"},\"marker\":{\"line\":{\"color\":\"#E5ECF6\",\"width\":0.5},\"pattern\":{\"fillmode\":\"overlay\",\"size\":10,\"solidity\":0.2}},\"type\":\"bar\"}],\"scattergeo\":[{\"type\":\"scattergeo\",\"marker\":{\"colorbar\":{\"outlinewidth\":0,\"ticks\":\"\"}}}],\"scatterpolar\":[{\"type\":\"scatterpolar\",\"marker\":{\"colorbar\":{\"outlinewidth\":0,\"ticks\":\"\"}}}],\"histogram\":[{\"marker\":{\"pattern\":{\"fillmode\":\"overlay\",\"size\":10,\"solidity\":0.2}},\"type\":\"histogram\"}],\"scattergl\":[{\"type\":\"scattergl\",\"marker\":{\"colorbar\":{\"outlinewidth\":0,\"ticks\":\"\"}}}],\"scatter3d\":[{\"type\":\"scatter3d\",\"line\":{\"colorbar\":{\"outlinewidth\":0,\"ticks\":\"\"}},\"marker\":{\"colorbar\":{\"outlinewidth\":0,\"ticks\":\"\"}}}],\"scattermapbox\":[{\"type\":\"scattermapbox\",\"marker\":{\"colorbar\":{\"outlinewidth\":0,\"ticks\":\"\"}}}],\"scatterternary\":[{\"type\":\"scatterternary\",\"marker\":{\"colorbar\":{\"outlinewidth\":0,\"ticks\":\"\"}}}],\"scattercarpet\":[{\"type\":\"scattercarpet\",\"marker\":{\"colorbar\":{\"outlinewidth\":0,\"ticks\":\"\"}}}],\"carpet\":[{\"aaxis\":{\"endlinecolor\":\"#2a3f5f\",\"gridcolor\":\"white\",\"linecolor\":\"white\",\"minorgridcolor\":\"white\",\"startlinecolor\":\"#2a3f5f\"},\"baxis\":{\"endlinecolor\":\"#2a3f5f\",\"gridcolor\":\"white\",\"linecolor\":\"white\",\"minorgridcolor\":\"white\",\"startlinecolor\":\"#2a3f5f\"},\"type\":\"carpet\"}],\"table\":[{\"cells\":{\"fill\":{\"color\":\"#EBF0F8\"},\"line\":{\"color\":\"white\"}},\"header\":{\"fill\":{\"color\":\"#C8D4E3\"},\"line\":{\"color\":\"white\"}},\"type\":\"table\"}],\"barpolar\":[{\"marker\":{\"line\":{\"color\":\"#E5ECF6\",\"width\":0.5},\"pattern\":{\"fillmode\":\"overlay\",\"size\":10,\"solidity\":0.2}},\"type\":\"barpolar\"}],\"pie\":[{\"automargin\":true,\"type\":\"pie\"}]},\"layout\":{\"autotypenumbers\":\"strict\",\"colorway\":[\"#636efa\",\"#EF553B\",\"#00cc96\",\"#ab63fa\",\"#FFA15A\",\"#19d3f3\",\"#FF6692\",\"#B6E880\",\"#FF97FF\",\"#FECB52\"],\"font\":{\"color\":\"#2a3f5f\"},\"hovermode\":\"closest\",\"hoverlabel\":{\"align\":\"left\"},\"paper_bgcolor\":\"white\",\"plot_bgcolor\":\"#E5ECF6\",\"polar\":{\"bgcolor\":\"#E5ECF6\",\"angularaxis\":{\"gridcolor\":\"white\",\"linecolor\":\"white\",\"ticks\":\"\"},\"radialaxis\":{\"gridcolor\":\"white\",\"linecolor\":\"white\",\"ticks\":\"\"}},\"ternary\":{\"bgcolor\":\"#E5ECF6\",\"aaxis\":{\"gridcolor\":\"white\",\"linecolor\":\"white\",\"ticks\":\"\"},\"baxis\":{\"gridcolor\":\"white\",\"linecolor\":\"white\",\"ticks\":\"\"},\"caxis\":{\"gridcolor\":\"white\",\"linecolor\":\"white\",\"ticks\":\"\"}},\"coloraxis\":{\"colorbar\":{\"outlinewidth\":0,\"ticks\":\"\"}},\"colorscale\":{\"sequential\":[[0.0,\"#0d0887\"],[0.1111111111111111,\"#46039f\"],[0.2222222222222222,\"#7201a8\"],[0.3333333333333333,\"#9c179e\"],[0.4444444444444444,\"#bd3786\"],[0.5555555555555556,\"#d8576b\"],[0.6666666666666666,\"#ed7953\"],[0.7777777777777778,\"#fb9f3a\"],[0.8888888888888888,\"#fdca26\"],[1.0,\"#f0f921\"]],\"sequentialminus\":[[0.0,\"#0d0887\"],[0.1111111111111111,\"#46039f\"],[0.2222222222222222,\"#7201a8\"],[0.3333333333333333,\"#9c179e\"],[0.4444444444444444,\"#bd3786\"],[0.5555555555555556,\"#d8576b\"],[0.6666666666666666,\"#ed7953\"],[0.7777777777777778,\"#fb9f3a\"],[0.8888888888888888,\"#fdca26\"],[1.0,\"#f0f921\"]],\"diverging\":[[0,\"#8e0152\"],[0.1,\"#c51b7d\"],[0.2,\"#de77ae\"],[0.3,\"#f1b6da\"],[0.4,\"#fde0ef\"],[0.5,\"#f7f7f7\"],[0.6,\"#e6f5d0\"],[0.7,\"#b8e186\"],[0.8,\"#7fbc41\"],[0.9,\"#4d9221\"],[1,\"#276419\"]]},\"xaxis\":{\"gridcolor\":\"white\",\"linecolor\":\"white\",\"ticks\":\"\",\"title\":{\"standoff\":15},\"zerolinecolor\":\"white\",\"automargin\":true,\"zerolinewidth\":2},\"yaxis\":{\"gridcolor\":\"white\",\"linecolor\":\"white\",\"ticks\":\"\",\"title\":{\"standoff\":15},\"zerolinecolor\":\"white\",\"automargin\":true,\"zerolinewidth\":2},\"scene\":{\"xaxis\":{\"backgroundcolor\":\"#E5ECF6\",\"gridcolor\":\"white\",\"linecolor\":\"white\",\"showbackground\":true,\"ticks\":\"\",\"zerolinecolor\":\"white\",\"gridwidth\":2},\"yaxis\":{\"backgroundcolor\":\"#E5ECF6\",\"gridcolor\":\"white\",\"linecolor\":\"white\",\"showbackground\":true,\"ticks\":\"\",\"zerolinecolor\":\"white\",\"gridwidth\":2},\"zaxis\":{\"backgroundcolor\":\"#E5ECF6\",\"gridcolor\":\"white\",\"linecolor\":\"white\",\"showbackground\":true,\"ticks\":\"\",\"zerolinecolor\":\"white\",\"gridwidth\":2}},\"shapedefaults\":{\"line\":{\"color\":\"#2a3f5f\"}},\"annotationdefaults\":{\"arrowcolor\":\"#2a3f5f\",\"arrowhead\":0,\"arrowwidth\":1},\"geo\":{\"bgcolor\":\"white\",\"landcolor\":\"#E5ECF6\",\"subunitcolor\":\"white\",\"showland\":true,\"showlakes\":true,\"lakecolor\":\"white\"},\"title\":{\"x\":0.05},\"mapbox\":{\"style\":\"light\"}}},\"title\":{\"text\":\"eye = (x:0., y:0, z:2.5.)\"},\"scene\":{\"xaxis\":{\"title\":{\"text\":\"G\"}},\"yaxis\":{\"title\":{\"text\":\"R\"}},\"zaxis\":{\"title\":{\"text\":\"B\"}},\"camera\":{\"eye\":{\"x\":0,\"y\":0,\"z\":2.5}}}},                        {\"responsive\": true}                    ).then(function(){\n",
       "                            \n",
       "var gd = document.getElementById('46e13a02-36ca-444c-9942-0cb0f52af6f8');\n",
       "var x = new MutationObserver(function (mutations, observer) {{\n",
       "        var display = window.getComputedStyle(gd).display;\n",
       "        if (!display || display === 'none') {{\n",
       "            console.log([gd, 'removed!']);\n",
       "            Plotly.purge(gd);\n",
       "            observer.disconnect();\n",
       "        }}\n",
       "}});\n",
       "\n",
       "// Listen for the removal of the full notebook cells\n",
       "var notebookContainer = gd.closest('#notebook-container');\n",
       "if (notebookContainer) {{\n",
       "    x.observe(notebookContainer, {childList: true});\n",
       "}}\n",
       "\n",
       "// Listen for the clearing of the current output cell\n",
       "var outputEl = gd.closest('.output');\n",
       "if (outputEl) {{\n",
       "    x.observe(outputEl, {childList: true});\n",
       "}}\n",
       "\n",
       "                        })                };                });            </script>        </div>"
      ]
     },
     "metadata": {},
     "output_type": "display_data"
    }
   ],
   "source": [
    "fig = plot_rgb_distribution(rgb_props, \"Cercis RGB distribution\")\n",
    "camera = dict(eye=dict(x=2.5, y=0, z=0))  # rotate to x axis\n",
    "fig.update_layout(scene_camera=camera, title='eye = (x:2.5., y:0, z:0.)')\n",
    "fig.show()\n",
    "# fig.write_image(join(output_directory, title + '.rgb.x.png'))\n",
    "camera = dict(eye=dict(x=0, y=2.5, z=0))  # rotate to y axis\n",
    "fig.update_layout(scene_camera=camera, title='eye = (x:0., y:2.5, z:0.)')\n",
    "fig.show()\n",
    "# fig.write_image(join(output_directory, title + '.rgb.y.png'))\n",
    "camera = dict(eye=dict(x=0, y=0, z=2.5))  # rotate to z axis\n",
    "fig.update_layout(scene_camera=camera, title='eye = (x:0., y:0, z:2.5.)')\n",
    "fig.show()"
   ]
  },
  {
   "cell_type": "markdown",
   "metadata": {},
   "source": [
    "View hue distribution."
   ]
  },
  {
   "cell_type": "code",
   "execution_count": 39,
   "metadata": {},
   "outputs": [
    {
     "data": {
      "application/vnd.plotly.v1+json": {
       "config": {
        "plotlyServerURL": "https://plot.ly"
       },
       "data": [
        {
         "hovertemplate": "bin=%{theta}<br>mass=%{r}<extra></extra>",
         "legendgroup": "0.0",
         "marker": {
          "color": "hsv(0%, 50%, 50%)",
          "pattern": {
           "shape": ""
          }
         },
         "name": "0.0",
         "r": [
          0.028165503489531406
         ],
         "showlegend": true,
         "subplot": "polar",
         "theta": [
          "0.0"
         ],
         "type": "barpolar"
        },
        {
         "hovertemplate": "bin=%{theta}<br>mass=%{r}<extra></extra>",
         "legendgroup": "15.0",
         "marker": {
          "color": "hsv(4%, 50%, 50%)",
          "pattern": {
           "shape": ""
          }
         },
         "name": "15.0",
         "r": [
          0.0002492522432701894
         ],
         "showlegend": true,
         "subplot": "polar",
         "theta": [
          "15.0"
         ],
         "type": "barpolar"
        },
        {
         "hovertemplate": "bin=%{theta}<br>mass=%{r}<extra></extra>",
         "legendgroup": "25.0",
         "marker": {
          "color": "hsv(6%, 50%, 50%)",
          "pattern": {
           "shape": ""
          }
         },
         "name": "25.0",
         "r": [
          0.0007477567298105683
         ],
         "showlegend": true,
         "subplot": "polar",
         "theta": [
          "25.0"
         ],
         "type": "barpolar"
        },
        {
         "hovertemplate": "bin=%{theta}<br>mass=%{r}<extra></extra>",
         "legendgroup": "35.0",
         "marker": {
          "color": "hsv(9%, 50%, 50%)",
          "pattern": {
           "shape": ""
          }
         },
         "name": "35.0",
         "r": [
          0.0002492522432701894
         ],
         "showlegend": true,
         "subplot": "polar",
         "theta": [
          "35.0"
         ],
         "type": "barpolar"
        },
        {
         "hovertemplate": "bin=%{theta}<br>mass=%{r}<extra></extra>",
         "legendgroup": "40.0",
         "marker": {
          "color": "hsv(11%, 50%, 50%)",
          "pattern": {
           "shape": ""
          }
         },
         "name": "40.0",
         "r": [
          0.0002492522432701894
         ],
         "showlegend": true,
         "subplot": "polar",
         "theta": [
          "40.0"
         ],
         "type": "barpolar"
        },
        {
         "hovertemplate": "bin=%{theta}<br>mass=%{r}<extra></extra>",
         "legendgroup": "45.0",
         "marker": {
          "color": "hsv(12%, 50%, 50%)",
          "pattern": {
           "shape": ""
          }
         },
         "name": "45.0",
         "r": [
          0.0007477567298105683
         ],
         "showlegend": true,
         "subplot": "polar",
         "theta": [
          "45.0"
         ],
         "type": "barpolar"
        },
        {
         "hovertemplate": "bin=%{theta}<br>mass=%{r}<extra></extra>",
         "legendgroup": "55.0",
         "marker": {
          "color": "hsv(15%, 50%, 50%)",
          "pattern": {
           "shape": ""
          }
         },
         "name": "55.0",
         "r": [
          0.00448654037886341
         ],
         "showlegend": true,
         "subplot": "polar",
         "theta": [
          "55.0"
         ],
         "type": "barpolar"
        },
        {
         "hovertemplate": "bin=%{theta}<br>mass=%{r}<extra></extra>",
         "legendgroup": "70.0",
         "marker": {
          "color": "hsv(19%, 50%, 50%)",
          "pattern": {
           "shape": ""
          }
         },
         "name": "70.0",
         "r": [
          0.0002492522432701894
         ],
         "showlegend": true,
         "subplot": "polar",
         "theta": [
          "70.0"
         ],
         "type": "barpolar"
        },
        {
         "hovertemplate": "bin=%{theta}<br>mass=%{r}<extra></extra>",
         "legendgroup": "75.0",
         "marker": {
          "color": "hsv(20%, 50%, 50%)",
          "pattern": {
           "shape": ""
          }
         },
         "name": "75.0",
         "r": [
          0.0002492522432701894
         ],
         "showlegend": true,
         "subplot": "polar",
         "theta": [
          "75.0"
         ],
         "type": "barpolar"
        },
        {
         "hovertemplate": "bin=%{theta}<br>mass=%{r}<extra></extra>",
         "legendgroup": "80.0",
         "marker": {
          "color": "hsv(22%, 50%, 50%)",
          "pattern": {
           "shape": ""
          }
         },
         "name": "80.0",
         "r": [
          0.0002492522432701894
         ],
         "showlegend": true,
         "subplot": "polar",
         "theta": [
          "80.0"
         ],
         "type": "barpolar"
        },
        {
         "hovertemplate": "bin=%{theta}<br>mass=%{r}<extra></extra>",
         "legendgroup": "85.0",
         "marker": {
          "color": "hsv(23%, 50%, 50%)",
          "pattern": {
           "shape": ""
          }
         },
         "name": "85.0",
         "r": [
          0.0002492522432701894
         ],
         "showlegend": true,
         "subplot": "polar",
         "theta": [
          "85.0"
         ],
         "type": "barpolar"
        },
        {
         "hovertemplate": "bin=%{theta}<br>mass=%{r}<extra></extra>",
         "legendgroup": "90.0",
         "marker": {
          "color": "hsv(25%, 50%, 50%)",
          "pattern": {
           "shape": ""
          }
         },
         "name": "90.0",
         "r": [
          0.0007477567298105683
         ],
         "showlegend": true,
         "subplot": "polar",
         "theta": [
          "90.0"
         ],
         "type": "barpolar"
        },
        {
         "hovertemplate": "bin=%{theta}<br>mass=%{r}<extra></extra>",
         "legendgroup": "95.0",
         "marker": {
          "color": "hsv(26%, 50%, 50%)",
          "pattern": {
           "shape": ""
          }
         },
         "name": "95.0",
         "r": [
          0.0004985044865403788
         ],
         "showlegend": true,
         "subplot": "polar",
         "theta": [
          "95.0"
         ],
         "type": "barpolar"
        },
        {
         "hovertemplate": "bin=%{theta}<br>mass=%{r}<extra></extra>",
         "legendgroup": "100.0",
         "marker": {
          "color": "hsv(27%, 50%, 50%)",
          "pattern": {
           "shape": ""
          }
         },
         "name": "100.0",
         "r": [
          0.0004985044865403788
         ],
         "showlegend": true,
         "subplot": "polar",
         "theta": [
          "100.0"
         ],
         "type": "barpolar"
        },
        {
         "hovertemplate": "bin=%{theta}<br>mass=%{r}<extra></extra>",
         "legendgroup": "105.0",
         "marker": {
          "color": "hsv(29%, 50%, 50%)",
          "pattern": {
           "shape": ""
          }
         },
         "name": "105.0",
         "r": [
          0.0002492522432701894
         ],
         "showlegend": true,
         "subplot": "polar",
         "theta": [
          "105.0"
         ],
         "type": "barpolar"
        },
        {
         "hovertemplate": "bin=%{theta}<br>mass=%{r}<extra></extra>",
         "legendgroup": "120.0",
         "marker": {
          "color": "hsv(33%, 50%, 50%)",
          "pattern": {
           "shape": ""
          }
         },
         "name": "120.0",
         "r": [
          0.003988035892323031
         ],
         "showlegend": true,
         "subplot": "polar",
         "theta": [
          "120.0"
         ],
         "type": "barpolar"
        },
        {
         "hovertemplate": "bin=%{theta}<br>mass=%{r}<extra></extra>",
         "legendgroup": "125.0",
         "marker": {
          "color": "hsv(34%, 50%, 50%)",
          "pattern": {
           "shape": ""
          }
         },
         "name": "125.0",
         "r": [
          0.0004985044865403788
         ],
         "showlegend": true,
         "subplot": "polar",
         "theta": [
          "125.0"
         ],
         "type": "barpolar"
        },
        {
         "hovertemplate": "bin=%{theta}<br>mass=%{r}<extra></extra>",
         "legendgroup": "140.0",
         "marker": {
          "color": "hsv(38%, 50%, 50%)",
          "pattern": {
           "shape": ""
          }
         },
         "name": "140.0",
         "r": [
          0.002243270189431705
         ],
         "showlegend": true,
         "subplot": "polar",
         "theta": [
          "140.0"
         ],
         "type": "barpolar"
        },
        {
         "hovertemplate": "bin=%{theta}<br>mass=%{r}<extra></extra>",
         "legendgroup": "145.0",
         "marker": {
          "color": "hsv(40%, 50%, 50%)",
          "pattern": {
           "shape": ""
          }
         },
         "name": "145.0",
         "r": [
          0.0009970089730807576
         ],
         "showlegend": true,
         "subplot": "polar",
         "theta": [
          "145.0"
         ],
         "type": "barpolar"
        },
        {
         "hovertemplate": "bin=%{theta}<br>mass=%{r}<extra></extra>",
         "legendgroup": "150.0",
         "marker": {
          "color": "hsv(41%, 50%, 50%)",
          "pattern": {
           "shape": ""
          }
         },
         "name": "150.0",
         "r": [
          0.0037387836490528413
         ],
         "showlegend": true,
         "subplot": "polar",
         "theta": [
          "150.0"
         ],
         "type": "barpolar"
        },
        {
         "hovertemplate": "bin=%{theta}<br>mass=%{r}<extra></extra>",
         "legendgroup": "155.0",
         "marker": {
          "color": "hsv(43%, 50%, 50%)",
          "pattern": {
           "shape": ""
          }
         },
         "name": "155.0",
         "r": [
          0.0012462612163509472
         ],
         "showlegend": true,
         "subplot": "polar",
         "theta": [
          "155.0"
         ],
         "type": "barpolar"
        },
        {
         "hovertemplate": "bin=%{theta}<br>mass=%{r}<extra></extra>",
         "legendgroup": "160.0",
         "marker": {
          "color": "hsv(44%, 50%, 50%)",
          "pattern": {
           "shape": ""
          }
         },
         "name": "160.0",
         "r": [
          0.003988035892323031
         ],
         "showlegend": true,
         "subplot": "polar",
         "theta": [
          "160.0"
         ],
         "type": "barpolar"
        },
        {
         "hovertemplate": "bin=%{theta}<br>mass=%{r}<extra></extra>",
         "legendgroup": "165.0",
         "marker": {
          "color": "hsv(45%, 50%, 50%)",
          "pattern": {
           "shape": ""
          }
         },
         "name": "165.0",
         "r": [
          0.007228315054835494
         ],
         "showlegend": true,
         "subplot": "polar",
         "theta": [
          "165.0"
         ],
         "type": "barpolar"
        },
        {
         "hovertemplate": "bin=%{theta}<br>mass=%{r}<extra></extra>",
         "legendgroup": "170.0",
         "marker": {
          "color": "hsv(47%, 50%, 50%)",
          "pattern": {
           "shape": ""
          }
         },
         "name": "170.0",
         "r": [
          0.0007477567298105683
         ],
         "showlegend": true,
         "subplot": "polar",
         "theta": [
          "170.0"
         ],
         "type": "barpolar"
        },
        {
         "hovertemplate": "bin=%{theta}<br>mass=%{r}<extra></extra>",
         "legendgroup": "180.0",
         "marker": {
          "color": "hsv(50%, 50%, 50%)",
          "pattern": {
           "shape": ""
          }
         },
         "name": "180.0",
         "r": [
          0.005234297108673978
         ],
         "showlegend": true,
         "subplot": "polar",
         "theta": [
          "180.0"
         ],
         "type": "barpolar"
        },
        {
         "hovertemplate": "bin=%{theta}<br>mass=%{r}<extra></extra>",
         "legendgroup": "210.0",
         "marker": {
          "color": "hsv(58%, 50%, 50%)",
          "pattern": {
           "shape": ""
          }
         },
         "name": "210.0",
         "r": [
          0.0002492522432701894
         ],
         "showlegend": true,
         "subplot": "polar",
         "theta": [
          "210.0"
         ],
         "type": "barpolar"
        },
        {
         "hovertemplate": "bin=%{theta}<br>mass=%{r}<extra></extra>",
         "legendgroup": "240.0",
         "marker": {
          "color": "hsv(66%, 50%, 50%)",
          "pattern": {
           "shape": ""
          }
         },
         "name": "240.0",
         "r": [
          0.0037387836490528413
         ],
         "showlegend": true,
         "subplot": "polar",
         "theta": [
          "240.0"
         ],
         "type": "barpolar"
        },
        {
         "hovertemplate": "bin=%{theta}<br>mass=%{r}<extra></extra>",
         "legendgroup": "250.0",
         "marker": {
          "color": "hsv(69%, 50%, 50%)",
          "pattern": {
           "shape": ""
          }
         },
         "name": "250.0",
         "r": [
          0.0002492522432701894
         ],
         "showlegend": true,
         "subplot": "polar",
         "theta": [
          "250.0"
         ],
         "type": "barpolar"
        },
        {
         "hovertemplate": "bin=%{theta}<br>mass=%{r}<extra></extra>",
         "legendgroup": "255.0",
         "marker": {
          "color": "hsv(70%, 50%, 50%)",
          "pattern": {
           "shape": ""
          }
         },
         "name": "255.0",
         "r": [
          0.0004985044865403788
         ],
         "showlegend": true,
         "subplot": "polar",
         "theta": [
          "255.0"
         ],
         "type": "barpolar"
        },
        {
         "hovertemplate": "bin=%{theta}<br>mass=%{r}<extra></extra>",
         "legendgroup": "260.0",
         "marker": {
          "color": "hsv(72%, 50%, 50%)",
          "pattern": {
           "shape": ""
          }
         },
         "name": "260.0",
         "r": [
          0.0004985044865403788
         ],
         "showlegend": true,
         "subplot": "polar",
         "theta": [
          "260.0"
         ],
         "type": "barpolar"
        },
        {
         "hovertemplate": "bin=%{theta}<br>mass=%{r}<extra></extra>",
         "legendgroup": "265.0",
         "marker": {
          "color": "hsv(73%, 50%, 50%)",
          "pattern": {
           "shape": ""
          }
         },
         "name": "265.0",
         "r": [
          0.0002492522432701894
         ],
         "showlegend": true,
         "subplot": "polar",
         "theta": [
          "265.0"
         ],
         "type": "barpolar"
        },
        {
         "hovertemplate": "bin=%{theta}<br>mass=%{r}<extra></extra>",
         "legendgroup": "270.0",
         "marker": {
          "color": "hsv(75%, 50%, 50%)",
          "pattern": {
           "shape": ""
          }
         },
         "name": "270.0",
         "r": [
          0.0009970089730807576
         ],
         "showlegend": true,
         "subplot": "polar",
         "theta": [
          "270.0"
         ],
         "type": "barpolar"
        },
        {
         "hovertemplate": "bin=%{theta}<br>mass=%{r}<extra></extra>",
         "legendgroup": "275.0",
         "marker": {
          "color": "hsv(76%, 50%, 50%)",
          "pattern": {
           "shape": ""
          }
         },
         "name": "275.0",
         "r": [
          0.0009970089730807576
         ],
         "showlegend": true,
         "subplot": "polar",
         "theta": [
          "275.0"
         ],
         "type": "barpolar"
        },
        {
         "hovertemplate": "bin=%{theta}<br>mass=%{r}<extra></extra>",
         "legendgroup": "280.0",
         "marker": {
          "color": "hsv(77%, 50%, 50%)",
          "pattern": {
           "shape": ""
          }
         },
         "name": "280.0",
         "r": [
          0.0024925224327018943
         ],
         "showlegend": true,
         "subplot": "polar",
         "theta": [
          "280.0"
         ],
         "type": "barpolar"
        },
        {
         "hovertemplate": "bin=%{theta}<br>mass=%{r}<extra></extra>",
         "legendgroup": "285.0",
         "marker": {
          "color": "hsv(79%, 50%, 50%)",
          "pattern": {
           "shape": ""
          }
         },
         "name": "285.0",
         "r": [
          0.006729810568295114
         ],
         "showlegend": true,
         "subplot": "polar",
         "theta": [
          "285.0"
         ],
         "type": "barpolar"
        },
        {
         "hovertemplate": "bin=%{theta}<br>mass=%{r}<extra></extra>",
         "legendgroup": "290.0",
         "marker": {
          "color": "hsv(80%, 50%, 50%)",
          "pattern": {
           "shape": ""
          }
         },
         "name": "290.0",
         "r": [
          0.018195413758723827
         ],
         "showlegend": true,
         "subplot": "polar",
         "theta": [
          "290.0"
         ],
         "type": "barpolar"
        },
        {
         "hovertemplate": "bin=%{theta}<br>mass=%{r}<extra></extra>",
         "legendgroup": "295.0",
         "marker": {
          "color": "hsv(81%, 50%, 50%)",
          "pattern": {
           "shape": ""
          }
         },
         "name": "295.0",
         "r": [
          0.03389830508474576
         ],
         "showlegend": true,
         "subplot": "polar",
         "theta": [
          "295.0"
         ],
         "type": "barpolar"
        },
        {
         "hovertemplate": "bin=%{theta}<br>mass=%{r}<extra></extra>",
         "legendgroup": "300.0",
         "marker": {
          "color": "hsv(83%, 50%, 50%)",
          "pattern": {
           "shape": ""
          }
         },
         "name": "300.0",
         "r": [
          0.07602193419740777
         ],
         "showlegend": true,
         "subplot": "polar",
         "theta": [
          "300.0"
         ],
         "type": "barpolar"
        },
        {
         "hovertemplate": "bin=%{theta}<br>mass=%{r}<extra></extra>",
         "legendgroup": "305.0",
         "marker": {
          "color": "hsv(84%, 50%, 50%)",
          "pattern": {
           "shape": ""
          }
         },
         "name": "305.0",
         "r": [
          0.11490528414755732
         ],
         "showlegend": true,
         "subplot": "polar",
         "theta": [
          "305.0"
         ],
         "type": "barpolar"
        },
        {
         "hovertemplate": "bin=%{theta}<br>mass=%{r}<extra></extra>",
         "legendgroup": "310.0",
         "marker": {
          "color": "hsv(86%, 50%, 50%)",
          "pattern": {
           "shape": ""
          }
         },
         "name": "310.0",
         "r": [
          0.1413260219341974
         ],
         "showlegend": true,
         "subplot": "polar",
         "theta": [
          "310.0"
         ],
         "type": "barpolar"
        },
        {
         "hovertemplate": "bin=%{theta}<br>mass=%{r}<extra></extra>",
         "legendgroup": "315.0",
         "marker": {
          "color": "hsv(87%, 50%, 50%)",
          "pattern": {
           "shape": ""
          }
         },
         "name": "315.0",
         "r": [
          0.12886340977068794
         ],
         "showlegend": true,
         "subplot": "polar",
         "theta": [
          "315.0"
         ],
         "type": "barpolar"
        },
        {
         "hovertemplate": "bin=%{theta}<br>mass=%{r}<extra></extra>",
         "legendgroup": "320.0",
         "marker": {
          "color": "hsv(88%, 50%, 50%)",
          "pattern": {
           "shape": ""
          }
         },
         "name": "320.0",
         "r": [
          0.13409770687936193
         ],
         "showlegend": true,
         "subplot": "polar",
         "theta": [
          "320.0"
         ],
         "type": "barpolar"
        },
        {
         "hovertemplate": "bin=%{theta}<br>mass=%{r}<extra></extra>",
         "legendgroup": "325.0",
         "marker": {
          "color": "hsv(90%, 50%, 50%)",
          "pattern": {
           "shape": ""
          }
         },
         "name": "325.0",
         "r": [
          0.10992023928215354
         ],
         "showlegend": true,
         "subplot": "polar",
         "theta": [
          "325.0"
         ],
         "type": "barpolar"
        },
        {
         "hovertemplate": "bin=%{theta}<br>mass=%{r}<extra></extra>",
         "legendgroup": "330.0",
         "marker": {
          "color": "hsv(91%, 50%, 50%)",
          "pattern": {
           "shape": ""
          }
         },
         "name": "330.0",
         "r": [
          0.08798604187437686
         ],
         "showlegend": true,
         "subplot": "polar",
         "theta": [
          "330.0"
         ],
         "type": "barpolar"
        },
        {
         "hovertemplate": "bin=%{theta}<br>mass=%{r}<extra></extra>",
         "legendgroup": "335.0",
         "marker": {
          "color": "hsv(93%, 50%, 50%)",
          "pattern": {
           "shape": ""
          }
         },
         "name": "335.0",
         "r": [
          0.051096709870388834
         ],
         "showlegend": true,
         "subplot": "polar",
         "theta": [
          "335.0"
         ],
         "type": "barpolar"
        },
        {
         "hovertemplate": "bin=%{theta}<br>mass=%{r}<extra></extra>",
         "legendgroup": "340.0",
         "marker": {
          "color": "hsv(94%, 50%, 50%)",
          "pattern": {
           "shape": ""
          }
         },
         "name": "340.0",
         "r": [
          0.01794616151545364
         ],
         "showlegend": true,
         "subplot": "polar",
         "theta": [
          "340.0"
         ],
         "type": "barpolar"
        },
        {
         "hovertemplate": "bin=%{theta}<br>mass=%{r}<extra></extra>",
         "legendgroup": "345.0",
         "marker": {
          "color": "hsv(95%, 50%, 50%)",
          "pattern": {
           "shape": ""
          }
         },
         "name": "345.0",
         "r": [
          0.0012462612163509472
         ],
         "showlegend": true,
         "subplot": "polar",
         "theta": [
          "345.0"
         ],
         "type": "barpolar"
        }
       ],
       "layout": {
        "barmode": "relative",
        "legend": {
         "title": {
          "text": "bin"
         },
         "tracegroupgap": 0
        },
        "polar": {
         "angularaxis": {
          "categoryarray": [
           "0.0",
           "15.0",
           "25.0",
           "35.0",
           "40.0",
           "45.0",
           "55.0",
           "70.0",
           "75.0",
           "80.0",
           "85.0",
           "90.0",
           "95.0",
           "100.0",
           "105.0",
           "120.0",
           "125.0",
           "140.0",
           "145.0",
           "150.0",
           "155.0",
           "160.0",
           "165.0",
           "170.0",
           "180.0",
           "210.0",
           "240.0",
           "250.0",
           "255.0",
           "260.0",
           "265.0",
           "270.0",
           "275.0",
           "280.0",
           "285.0",
           "290.0",
           "295.0",
           "300.0",
           "305.0",
           "310.0",
           "315.0",
           "320.0",
           "325.0",
           "330.0",
           "335.0",
           "340.0",
           "345.0"
          ],
          "categoryorder": "array",
          "direction": "clockwise",
          "rotation": 90
         },
         "domain": {
          "x": [
           0,
           1
          ],
          "y": [
           0,
           1
          ]
         },
         "radialaxis": {
          "range": [
           0,
           0.1413260219341974
          ]
         },
         "sector": [
          0,
          360
         ]
        },
        "template": {
         "data": {
          "bar": [
           {
            "error_x": {
             "color": "#2a3f5f"
            },
            "error_y": {
             "color": "#2a3f5f"
            },
            "marker": {
             "line": {
              "color": "#E5ECF6",
              "width": 0.5
             },
             "pattern": {
              "fillmode": "overlay",
              "size": 10,
              "solidity": 0.2
             }
            },
            "type": "bar"
           }
          ],
          "barpolar": [
           {
            "marker": {
             "line": {
              "color": "#E5ECF6",
              "width": 0.5
             },
             "pattern": {
              "fillmode": "overlay",
              "size": 10,
              "solidity": 0.2
             }
            },
            "type": "barpolar"
           }
          ],
          "carpet": [
           {
            "aaxis": {
             "endlinecolor": "#2a3f5f",
             "gridcolor": "white",
             "linecolor": "white",
             "minorgridcolor": "white",
             "startlinecolor": "#2a3f5f"
            },
            "baxis": {
             "endlinecolor": "#2a3f5f",
             "gridcolor": "white",
             "linecolor": "white",
             "minorgridcolor": "white",
             "startlinecolor": "#2a3f5f"
            },
            "type": "carpet"
           }
          ],
          "choropleth": [
           {
            "colorbar": {
             "outlinewidth": 0,
             "ticks": ""
            },
            "type": "choropleth"
           }
          ],
          "contour": [
           {
            "colorbar": {
             "outlinewidth": 0,
             "ticks": ""
            },
            "colorscale": [
             [
              0,
              "#0d0887"
             ],
             [
              0.1111111111111111,
              "#46039f"
             ],
             [
              0.2222222222222222,
              "#7201a8"
             ],
             [
              0.3333333333333333,
              "#9c179e"
             ],
             [
              0.4444444444444444,
              "#bd3786"
             ],
             [
              0.5555555555555556,
              "#d8576b"
             ],
             [
              0.6666666666666666,
              "#ed7953"
             ],
             [
              0.7777777777777778,
              "#fb9f3a"
             ],
             [
              0.8888888888888888,
              "#fdca26"
             ],
             [
              1,
              "#f0f921"
             ]
            ],
            "type": "contour"
           }
          ],
          "contourcarpet": [
           {
            "colorbar": {
             "outlinewidth": 0,
             "ticks": ""
            },
            "type": "contourcarpet"
           }
          ],
          "heatmap": [
           {
            "colorbar": {
             "outlinewidth": 0,
             "ticks": ""
            },
            "colorscale": [
             [
              0,
              "#0d0887"
             ],
             [
              0.1111111111111111,
              "#46039f"
             ],
             [
              0.2222222222222222,
              "#7201a8"
             ],
             [
              0.3333333333333333,
              "#9c179e"
             ],
             [
              0.4444444444444444,
              "#bd3786"
             ],
             [
              0.5555555555555556,
              "#d8576b"
             ],
             [
              0.6666666666666666,
              "#ed7953"
             ],
             [
              0.7777777777777778,
              "#fb9f3a"
             ],
             [
              0.8888888888888888,
              "#fdca26"
             ],
             [
              1,
              "#f0f921"
             ]
            ],
            "type": "heatmap"
           }
          ],
          "heatmapgl": [
           {
            "colorbar": {
             "outlinewidth": 0,
             "ticks": ""
            },
            "colorscale": [
             [
              0,
              "#0d0887"
             ],
             [
              0.1111111111111111,
              "#46039f"
             ],
             [
              0.2222222222222222,
              "#7201a8"
             ],
             [
              0.3333333333333333,
              "#9c179e"
             ],
             [
              0.4444444444444444,
              "#bd3786"
             ],
             [
              0.5555555555555556,
              "#d8576b"
             ],
             [
              0.6666666666666666,
              "#ed7953"
             ],
             [
              0.7777777777777778,
              "#fb9f3a"
             ],
             [
              0.8888888888888888,
              "#fdca26"
             ],
             [
              1,
              "#f0f921"
             ]
            ],
            "type": "heatmapgl"
           }
          ],
          "histogram": [
           {
            "marker": {
             "pattern": {
              "fillmode": "overlay",
              "size": 10,
              "solidity": 0.2
             }
            },
            "type": "histogram"
           }
          ],
          "histogram2d": [
           {
            "colorbar": {
             "outlinewidth": 0,
             "ticks": ""
            },
            "colorscale": [
             [
              0,
              "#0d0887"
             ],
             [
              0.1111111111111111,
              "#46039f"
             ],
             [
              0.2222222222222222,
              "#7201a8"
             ],
             [
              0.3333333333333333,
              "#9c179e"
             ],
             [
              0.4444444444444444,
              "#bd3786"
             ],
             [
              0.5555555555555556,
              "#d8576b"
             ],
             [
              0.6666666666666666,
              "#ed7953"
             ],
             [
              0.7777777777777778,
              "#fb9f3a"
             ],
             [
              0.8888888888888888,
              "#fdca26"
             ],
             [
              1,
              "#f0f921"
             ]
            ],
            "type": "histogram2d"
           }
          ],
          "histogram2dcontour": [
           {
            "colorbar": {
             "outlinewidth": 0,
             "ticks": ""
            },
            "colorscale": [
             [
              0,
              "#0d0887"
             ],
             [
              0.1111111111111111,
              "#46039f"
             ],
             [
              0.2222222222222222,
              "#7201a8"
             ],
             [
              0.3333333333333333,
              "#9c179e"
             ],
             [
              0.4444444444444444,
              "#bd3786"
             ],
             [
              0.5555555555555556,
              "#d8576b"
             ],
             [
              0.6666666666666666,
              "#ed7953"
             ],
             [
              0.7777777777777778,
              "#fb9f3a"
             ],
             [
              0.8888888888888888,
              "#fdca26"
             ],
             [
              1,
              "#f0f921"
             ]
            ],
            "type": "histogram2dcontour"
           }
          ],
          "mesh3d": [
           {
            "colorbar": {
             "outlinewidth": 0,
             "ticks": ""
            },
            "type": "mesh3d"
           }
          ],
          "parcoords": [
           {
            "line": {
             "colorbar": {
              "outlinewidth": 0,
              "ticks": ""
             }
            },
            "type": "parcoords"
           }
          ],
          "pie": [
           {
            "automargin": true,
            "type": "pie"
           }
          ],
          "scatter": [
           {
            "fillpattern": {
             "fillmode": "overlay",
             "size": 10,
             "solidity": 0.2
            },
            "type": "scatter"
           }
          ],
          "scatter3d": [
           {
            "line": {
             "colorbar": {
              "outlinewidth": 0,
              "ticks": ""
             }
            },
            "marker": {
             "colorbar": {
              "outlinewidth": 0,
              "ticks": ""
             }
            },
            "type": "scatter3d"
           }
          ],
          "scattercarpet": [
           {
            "marker": {
             "colorbar": {
              "outlinewidth": 0,
              "ticks": ""
             }
            },
            "type": "scattercarpet"
           }
          ],
          "scattergeo": [
           {
            "marker": {
             "colorbar": {
              "outlinewidth": 0,
              "ticks": ""
             }
            },
            "type": "scattergeo"
           }
          ],
          "scattergl": [
           {
            "marker": {
             "colorbar": {
              "outlinewidth": 0,
              "ticks": ""
             }
            },
            "type": "scattergl"
           }
          ],
          "scattermapbox": [
           {
            "marker": {
             "colorbar": {
              "outlinewidth": 0,
              "ticks": ""
             }
            },
            "type": "scattermapbox"
           }
          ],
          "scatterpolar": [
           {
            "marker": {
             "colorbar": {
              "outlinewidth": 0,
              "ticks": ""
             }
            },
            "type": "scatterpolar"
           }
          ],
          "scatterpolargl": [
           {
            "marker": {
             "colorbar": {
              "outlinewidth": 0,
              "ticks": ""
             }
            },
            "type": "scatterpolargl"
           }
          ],
          "scatterternary": [
           {
            "marker": {
             "colorbar": {
              "outlinewidth": 0,
              "ticks": ""
             }
            },
            "type": "scatterternary"
           }
          ],
          "surface": [
           {
            "colorbar": {
             "outlinewidth": 0,
             "ticks": ""
            },
            "colorscale": [
             [
              0,
              "#0d0887"
             ],
             [
              0.1111111111111111,
              "#46039f"
             ],
             [
              0.2222222222222222,
              "#7201a8"
             ],
             [
              0.3333333333333333,
              "#9c179e"
             ],
             [
              0.4444444444444444,
              "#bd3786"
             ],
             [
              0.5555555555555556,
              "#d8576b"
             ],
             [
              0.6666666666666666,
              "#ed7953"
             ],
             [
              0.7777777777777778,
              "#fb9f3a"
             ],
             [
              0.8888888888888888,
              "#fdca26"
             ],
             [
              1,
              "#f0f921"
             ]
            ],
            "type": "surface"
           }
          ],
          "table": [
           {
            "cells": {
             "fill": {
              "color": "#EBF0F8"
             },
             "line": {
              "color": "white"
             }
            },
            "header": {
             "fill": {
              "color": "#C8D4E3"
             },
             "line": {
              "color": "white"
             }
            },
            "type": "table"
           }
          ]
         },
         "layout": {
          "annotationdefaults": {
           "arrowcolor": "#2a3f5f",
           "arrowhead": 0,
           "arrowwidth": 1
          },
          "autotypenumbers": "strict",
          "coloraxis": {
           "colorbar": {
            "outlinewidth": 0,
            "ticks": ""
           }
          },
          "colorscale": {
           "diverging": [
            [
             0,
             "#8e0152"
            ],
            [
             0.1,
             "#c51b7d"
            ],
            [
             0.2,
             "#de77ae"
            ],
            [
             0.3,
             "#f1b6da"
            ],
            [
             0.4,
             "#fde0ef"
            ],
            [
             0.5,
             "#f7f7f7"
            ],
            [
             0.6,
             "#e6f5d0"
            ],
            [
             0.7,
             "#b8e186"
            ],
            [
             0.8,
             "#7fbc41"
            ],
            [
             0.9,
             "#4d9221"
            ],
            [
             1,
             "#276419"
            ]
           ],
           "sequential": [
            [
             0,
             "#0d0887"
            ],
            [
             0.1111111111111111,
             "#46039f"
            ],
            [
             0.2222222222222222,
             "#7201a8"
            ],
            [
             0.3333333333333333,
             "#9c179e"
            ],
            [
             0.4444444444444444,
             "#bd3786"
            ],
            [
             0.5555555555555556,
             "#d8576b"
            ],
            [
             0.6666666666666666,
             "#ed7953"
            ],
            [
             0.7777777777777778,
             "#fb9f3a"
            ],
            [
             0.8888888888888888,
             "#fdca26"
            ],
            [
             1,
             "#f0f921"
            ]
           ],
           "sequentialminus": [
            [
             0,
             "#0d0887"
            ],
            [
             0.1111111111111111,
             "#46039f"
            ],
            [
             0.2222222222222222,
             "#7201a8"
            ],
            [
             0.3333333333333333,
             "#9c179e"
            ],
            [
             0.4444444444444444,
             "#bd3786"
            ],
            [
             0.5555555555555556,
             "#d8576b"
            ],
            [
             0.6666666666666666,
             "#ed7953"
            ],
            [
             0.7777777777777778,
             "#fb9f3a"
            ],
            [
             0.8888888888888888,
             "#fdca26"
            ],
            [
             1,
             "#f0f921"
            ]
           ]
          },
          "colorway": [
           "#636efa",
           "#EF553B",
           "#00cc96",
           "#ab63fa",
           "#FFA15A",
           "#19d3f3",
           "#FF6692",
           "#B6E880",
           "#FF97FF",
           "#FECB52"
          ],
          "font": {
           "color": "#2a3f5f"
          },
          "geo": {
           "bgcolor": "white",
           "lakecolor": "white",
           "landcolor": "#E5ECF6",
           "showlakes": true,
           "showland": true,
           "subunitcolor": "white"
          },
          "hoverlabel": {
           "align": "left"
          },
          "hovermode": "closest",
          "mapbox": {
           "style": "light"
          },
          "paper_bgcolor": "white",
          "plot_bgcolor": "#E5ECF6",
          "polar": {
           "angularaxis": {
            "gridcolor": "white",
            "linecolor": "white",
            "ticks": ""
           },
           "bgcolor": "#E5ECF6",
           "radialaxis": {
            "gridcolor": "white",
            "linecolor": "white",
            "ticks": ""
           }
          },
          "scene": {
           "xaxis": {
            "backgroundcolor": "#E5ECF6",
            "gridcolor": "white",
            "gridwidth": 2,
            "linecolor": "white",
            "showbackground": true,
            "ticks": "",
            "zerolinecolor": "white"
           },
           "yaxis": {
            "backgroundcolor": "#E5ECF6",
            "gridcolor": "white",
            "gridwidth": 2,
            "linecolor": "white",
            "showbackground": true,
            "ticks": "",
            "zerolinecolor": "white"
           },
           "zaxis": {
            "backgroundcolor": "#E5ECF6",
            "gridcolor": "white",
            "gridwidth": 2,
            "linecolor": "white",
            "showbackground": true,
            "ticks": "",
            "zerolinecolor": "white"
           }
          },
          "shapedefaults": {
           "line": {
            "color": "#2a3f5f"
           }
          },
          "ternary": {
           "aaxis": {
            "gridcolor": "white",
            "linecolor": "white",
            "ticks": ""
           },
           "baxis": {
            "gridcolor": "white",
            "linecolor": "white",
            "ticks": ""
           },
           "bgcolor": "#E5ECF6",
           "caxis": {
            "gridcolor": "white",
            "linecolor": "white",
            "ticks": ""
           }
          },
          "title": {
           "x": 0.05
          },
          "xaxis": {
           "automargin": true,
           "gridcolor": "white",
           "linecolor": "white",
           "ticks": "",
           "title": {
            "standoff": 15
           },
           "zerolinecolor": "white",
           "zerolinewidth": 2
          },
          "yaxis": {
           "automargin": true,
           "gridcolor": "white",
           "linecolor": "white",
           "ticks": "",
           "title": {
            "standoff": 15
           },
           "zerolinecolor": "white",
           "zerolinewidth": 2
          }
         }
        },
        "title": {
         "text": "Cercis hue distribution"
        }
       }
      },
      "text/html": [
       "<div>                            <div id=\"f35b3a27-56ae-4db9-a686-a18e575b89e7\" class=\"plotly-graph-div\" style=\"height:525px; width:100%;\"></div>            <script type=\"text/javascript\">                require([\"plotly\"], function(Plotly) {                    window.PLOTLYENV=window.PLOTLYENV || {};                                    if (document.getElementById(\"f35b3a27-56ae-4db9-a686-a18e575b89e7\")) {                    Plotly.newPlot(                        \"f35b3a27-56ae-4db9-a686-a18e575b89e7\",                        [{\"hovertemplate\":\"bin=%{theta}<br>mass=%{r}<extra></extra>\",\"legendgroup\":\"0.0\",\"marker\":{\"color\":\"hsv(0%, 50%, 50%)\",\"pattern\":{\"shape\":\"\"}},\"name\":\"0.0\",\"r\":[0.028165503489531406],\"showlegend\":true,\"subplot\":\"polar\",\"theta\":[\"0.0\"],\"type\":\"barpolar\"},{\"hovertemplate\":\"bin=%{theta}<br>mass=%{r}<extra></extra>\",\"legendgroup\":\"15.0\",\"marker\":{\"color\":\"hsv(4%, 50%, 50%)\",\"pattern\":{\"shape\":\"\"}},\"name\":\"15.0\",\"r\":[0.0002492522432701894],\"showlegend\":true,\"subplot\":\"polar\",\"theta\":[\"15.0\"],\"type\":\"barpolar\"},{\"hovertemplate\":\"bin=%{theta}<br>mass=%{r}<extra></extra>\",\"legendgroup\":\"25.0\",\"marker\":{\"color\":\"hsv(6%, 50%, 50%)\",\"pattern\":{\"shape\":\"\"}},\"name\":\"25.0\",\"r\":[0.0007477567298105683],\"showlegend\":true,\"subplot\":\"polar\",\"theta\":[\"25.0\"],\"type\":\"barpolar\"},{\"hovertemplate\":\"bin=%{theta}<br>mass=%{r}<extra></extra>\",\"legendgroup\":\"35.0\",\"marker\":{\"color\":\"hsv(9%, 50%, 50%)\",\"pattern\":{\"shape\":\"\"}},\"name\":\"35.0\",\"r\":[0.0002492522432701894],\"showlegend\":true,\"subplot\":\"polar\",\"theta\":[\"35.0\"],\"type\":\"barpolar\"},{\"hovertemplate\":\"bin=%{theta}<br>mass=%{r}<extra></extra>\",\"legendgroup\":\"40.0\",\"marker\":{\"color\":\"hsv(11%, 50%, 50%)\",\"pattern\":{\"shape\":\"\"}},\"name\":\"40.0\",\"r\":[0.0002492522432701894],\"showlegend\":true,\"subplot\":\"polar\",\"theta\":[\"40.0\"],\"type\":\"barpolar\"},{\"hovertemplate\":\"bin=%{theta}<br>mass=%{r}<extra></extra>\",\"legendgroup\":\"45.0\",\"marker\":{\"color\":\"hsv(12%, 50%, 50%)\",\"pattern\":{\"shape\":\"\"}},\"name\":\"45.0\",\"r\":[0.0007477567298105683],\"showlegend\":true,\"subplot\":\"polar\",\"theta\":[\"45.0\"],\"type\":\"barpolar\"},{\"hovertemplate\":\"bin=%{theta}<br>mass=%{r}<extra></extra>\",\"legendgroup\":\"55.0\",\"marker\":{\"color\":\"hsv(15%, 50%, 50%)\",\"pattern\":{\"shape\":\"\"}},\"name\":\"55.0\",\"r\":[0.00448654037886341],\"showlegend\":true,\"subplot\":\"polar\",\"theta\":[\"55.0\"],\"type\":\"barpolar\"},{\"hovertemplate\":\"bin=%{theta}<br>mass=%{r}<extra></extra>\",\"legendgroup\":\"70.0\",\"marker\":{\"color\":\"hsv(19%, 50%, 50%)\",\"pattern\":{\"shape\":\"\"}},\"name\":\"70.0\",\"r\":[0.0002492522432701894],\"showlegend\":true,\"subplot\":\"polar\",\"theta\":[\"70.0\"],\"type\":\"barpolar\"},{\"hovertemplate\":\"bin=%{theta}<br>mass=%{r}<extra></extra>\",\"legendgroup\":\"75.0\",\"marker\":{\"color\":\"hsv(20%, 50%, 50%)\",\"pattern\":{\"shape\":\"\"}},\"name\":\"75.0\",\"r\":[0.0002492522432701894],\"showlegend\":true,\"subplot\":\"polar\",\"theta\":[\"75.0\"],\"type\":\"barpolar\"},{\"hovertemplate\":\"bin=%{theta}<br>mass=%{r}<extra></extra>\",\"legendgroup\":\"80.0\",\"marker\":{\"color\":\"hsv(22%, 50%, 50%)\",\"pattern\":{\"shape\":\"\"}},\"name\":\"80.0\",\"r\":[0.0002492522432701894],\"showlegend\":true,\"subplot\":\"polar\",\"theta\":[\"80.0\"],\"type\":\"barpolar\"},{\"hovertemplate\":\"bin=%{theta}<br>mass=%{r}<extra></extra>\",\"legendgroup\":\"85.0\",\"marker\":{\"color\":\"hsv(23%, 50%, 50%)\",\"pattern\":{\"shape\":\"\"}},\"name\":\"85.0\",\"r\":[0.0002492522432701894],\"showlegend\":true,\"subplot\":\"polar\",\"theta\":[\"85.0\"],\"type\":\"barpolar\"},{\"hovertemplate\":\"bin=%{theta}<br>mass=%{r}<extra></extra>\",\"legendgroup\":\"90.0\",\"marker\":{\"color\":\"hsv(25%, 50%, 50%)\",\"pattern\":{\"shape\":\"\"}},\"name\":\"90.0\",\"r\":[0.0007477567298105683],\"showlegend\":true,\"subplot\":\"polar\",\"theta\":[\"90.0\"],\"type\":\"barpolar\"},{\"hovertemplate\":\"bin=%{theta}<br>mass=%{r}<extra></extra>\",\"legendgroup\":\"95.0\",\"marker\":{\"color\":\"hsv(26%, 50%, 50%)\",\"pattern\":{\"shape\":\"\"}},\"name\":\"95.0\",\"r\":[0.0004985044865403788],\"showlegend\":true,\"subplot\":\"polar\",\"theta\":[\"95.0\"],\"type\":\"barpolar\"},{\"hovertemplate\":\"bin=%{theta}<br>mass=%{r}<extra></extra>\",\"legendgroup\":\"100.0\",\"marker\":{\"color\":\"hsv(27%, 50%, 50%)\",\"pattern\":{\"shape\":\"\"}},\"name\":\"100.0\",\"r\":[0.0004985044865403788],\"showlegend\":true,\"subplot\":\"polar\",\"theta\":[\"100.0\"],\"type\":\"barpolar\"},{\"hovertemplate\":\"bin=%{theta}<br>mass=%{r}<extra></extra>\",\"legendgroup\":\"105.0\",\"marker\":{\"color\":\"hsv(29%, 50%, 50%)\",\"pattern\":{\"shape\":\"\"}},\"name\":\"105.0\",\"r\":[0.0002492522432701894],\"showlegend\":true,\"subplot\":\"polar\",\"theta\":[\"105.0\"],\"type\":\"barpolar\"},{\"hovertemplate\":\"bin=%{theta}<br>mass=%{r}<extra></extra>\",\"legendgroup\":\"120.0\",\"marker\":{\"color\":\"hsv(33%, 50%, 50%)\",\"pattern\":{\"shape\":\"\"}},\"name\":\"120.0\",\"r\":[0.003988035892323031],\"showlegend\":true,\"subplot\":\"polar\",\"theta\":[\"120.0\"],\"type\":\"barpolar\"},{\"hovertemplate\":\"bin=%{theta}<br>mass=%{r}<extra></extra>\",\"legendgroup\":\"125.0\",\"marker\":{\"color\":\"hsv(34%, 50%, 50%)\",\"pattern\":{\"shape\":\"\"}},\"name\":\"125.0\",\"r\":[0.0004985044865403788],\"showlegend\":true,\"subplot\":\"polar\",\"theta\":[\"125.0\"],\"type\":\"barpolar\"},{\"hovertemplate\":\"bin=%{theta}<br>mass=%{r}<extra></extra>\",\"legendgroup\":\"140.0\",\"marker\":{\"color\":\"hsv(38%, 50%, 50%)\",\"pattern\":{\"shape\":\"\"}},\"name\":\"140.0\",\"r\":[0.002243270189431705],\"showlegend\":true,\"subplot\":\"polar\",\"theta\":[\"140.0\"],\"type\":\"barpolar\"},{\"hovertemplate\":\"bin=%{theta}<br>mass=%{r}<extra></extra>\",\"legendgroup\":\"145.0\",\"marker\":{\"color\":\"hsv(40%, 50%, 50%)\",\"pattern\":{\"shape\":\"\"}},\"name\":\"145.0\",\"r\":[0.0009970089730807576],\"showlegend\":true,\"subplot\":\"polar\",\"theta\":[\"145.0\"],\"type\":\"barpolar\"},{\"hovertemplate\":\"bin=%{theta}<br>mass=%{r}<extra></extra>\",\"legendgroup\":\"150.0\",\"marker\":{\"color\":\"hsv(41%, 50%, 50%)\",\"pattern\":{\"shape\":\"\"}},\"name\":\"150.0\",\"r\":[0.0037387836490528413],\"showlegend\":true,\"subplot\":\"polar\",\"theta\":[\"150.0\"],\"type\":\"barpolar\"},{\"hovertemplate\":\"bin=%{theta}<br>mass=%{r}<extra></extra>\",\"legendgroup\":\"155.0\",\"marker\":{\"color\":\"hsv(43%, 50%, 50%)\",\"pattern\":{\"shape\":\"\"}},\"name\":\"155.0\",\"r\":[0.0012462612163509472],\"showlegend\":true,\"subplot\":\"polar\",\"theta\":[\"155.0\"],\"type\":\"barpolar\"},{\"hovertemplate\":\"bin=%{theta}<br>mass=%{r}<extra></extra>\",\"legendgroup\":\"160.0\",\"marker\":{\"color\":\"hsv(44%, 50%, 50%)\",\"pattern\":{\"shape\":\"\"}},\"name\":\"160.0\",\"r\":[0.003988035892323031],\"showlegend\":true,\"subplot\":\"polar\",\"theta\":[\"160.0\"],\"type\":\"barpolar\"},{\"hovertemplate\":\"bin=%{theta}<br>mass=%{r}<extra></extra>\",\"legendgroup\":\"165.0\",\"marker\":{\"color\":\"hsv(45%, 50%, 50%)\",\"pattern\":{\"shape\":\"\"}},\"name\":\"165.0\",\"r\":[0.007228315054835494],\"showlegend\":true,\"subplot\":\"polar\",\"theta\":[\"165.0\"],\"type\":\"barpolar\"},{\"hovertemplate\":\"bin=%{theta}<br>mass=%{r}<extra></extra>\",\"legendgroup\":\"170.0\",\"marker\":{\"color\":\"hsv(47%, 50%, 50%)\",\"pattern\":{\"shape\":\"\"}},\"name\":\"170.0\",\"r\":[0.0007477567298105683],\"showlegend\":true,\"subplot\":\"polar\",\"theta\":[\"170.0\"],\"type\":\"barpolar\"},{\"hovertemplate\":\"bin=%{theta}<br>mass=%{r}<extra></extra>\",\"legendgroup\":\"180.0\",\"marker\":{\"color\":\"hsv(50%, 50%, 50%)\",\"pattern\":{\"shape\":\"\"}},\"name\":\"180.0\",\"r\":[0.005234297108673978],\"showlegend\":true,\"subplot\":\"polar\",\"theta\":[\"180.0\"],\"type\":\"barpolar\"},{\"hovertemplate\":\"bin=%{theta}<br>mass=%{r}<extra></extra>\",\"legendgroup\":\"210.0\",\"marker\":{\"color\":\"hsv(58%, 50%, 50%)\",\"pattern\":{\"shape\":\"\"}},\"name\":\"210.0\",\"r\":[0.0002492522432701894],\"showlegend\":true,\"subplot\":\"polar\",\"theta\":[\"210.0\"],\"type\":\"barpolar\"},{\"hovertemplate\":\"bin=%{theta}<br>mass=%{r}<extra></extra>\",\"legendgroup\":\"240.0\",\"marker\":{\"color\":\"hsv(66%, 50%, 50%)\",\"pattern\":{\"shape\":\"\"}},\"name\":\"240.0\",\"r\":[0.0037387836490528413],\"showlegend\":true,\"subplot\":\"polar\",\"theta\":[\"240.0\"],\"type\":\"barpolar\"},{\"hovertemplate\":\"bin=%{theta}<br>mass=%{r}<extra></extra>\",\"legendgroup\":\"250.0\",\"marker\":{\"color\":\"hsv(69%, 50%, 50%)\",\"pattern\":{\"shape\":\"\"}},\"name\":\"250.0\",\"r\":[0.0002492522432701894],\"showlegend\":true,\"subplot\":\"polar\",\"theta\":[\"250.0\"],\"type\":\"barpolar\"},{\"hovertemplate\":\"bin=%{theta}<br>mass=%{r}<extra></extra>\",\"legendgroup\":\"255.0\",\"marker\":{\"color\":\"hsv(70%, 50%, 50%)\",\"pattern\":{\"shape\":\"\"}},\"name\":\"255.0\",\"r\":[0.0004985044865403788],\"showlegend\":true,\"subplot\":\"polar\",\"theta\":[\"255.0\"],\"type\":\"barpolar\"},{\"hovertemplate\":\"bin=%{theta}<br>mass=%{r}<extra></extra>\",\"legendgroup\":\"260.0\",\"marker\":{\"color\":\"hsv(72%, 50%, 50%)\",\"pattern\":{\"shape\":\"\"}},\"name\":\"260.0\",\"r\":[0.0004985044865403788],\"showlegend\":true,\"subplot\":\"polar\",\"theta\":[\"260.0\"],\"type\":\"barpolar\"},{\"hovertemplate\":\"bin=%{theta}<br>mass=%{r}<extra></extra>\",\"legendgroup\":\"265.0\",\"marker\":{\"color\":\"hsv(73%, 50%, 50%)\",\"pattern\":{\"shape\":\"\"}},\"name\":\"265.0\",\"r\":[0.0002492522432701894],\"showlegend\":true,\"subplot\":\"polar\",\"theta\":[\"265.0\"],\"type\":\"barpolar\"},{\"hovertemplate\":\"bin=%{theta}<br>mass=%{r}<extra></extra>\",\"legendgroup\":\"270.0\",\"marker\":{\"color\":\"hsv(75%, 50%, 50%)\",\"pattern\":{\"shape\":\"\"}},\"name\":\"270.0\",\"r\":[0.0009970089730807576],\"showlegend\":true,\"subplot\":\"polar\",\"theta\":[\"270.0\"],\"type\":\"barpolar\"},{\"hovertemplate\":\"bin=%{theta}<br>mass=%{r}<extra></extra>\",\"legendgroup\":\"275.0\",\"marker\":{\"color\":\"hsv(76%, 50%, 50%)\",\"pattern\":{\"shape\":\"\"}},\"name\":\"275.0\",\"r\":[0.0009970089730807576],\"showlegend\":true,\"subplot\":\"polar\",\"theta\":[\"275.0\"],\"type\":\"barpolar\"},{\"hovertemplate\":\"bin=%{theta}<br>mass=%{r}<extra></extra>\",\"legendgroup\":\"280.0\",\"marker\":{\"color\":\"hsv(77%, 50%, 50%)\",\"pattern\":{\"shape\":\"\"}},\"name\":\"280.0\",\"r\":[0.0024925224327018943],\"showlegend\":true,\"subplot\":\"polar\",\"theta\":[\"280.0\"],\"type\":\"barpolar\"},{\"hovertemplate\":\"bin=%{theta}<br>mass=%{r}<extra></extra>\",\"legendgroup\":\"285.0\",\"marker\":{\"color\":\"hsv(79%, 50%, 50%)\",\"pattern\":{\"shape\":\"\"}},\"name\":\"285.0\",\"r\":[0.006729810568295114],\"showlegend\":true,\"subplot\":\"polar\",\"theta\":[\"285.0\"],\"type\":\"barpolar\"},{\"hovertemplate\":\"bin=%{theta}<br>mass=%{r}<extra></extra>\",\"legendgroup\":\"290.0\",\"marker\":{\"color\":\"hsv(80%, 50%, 50%)\",\"pattern\":{\"shape\":\"\"}},\"name\":\"290.0\",\"r\":[0.018195413758723827],\"showlegend\":true,\"subplot\":\"polar\",\"theta\":[\"290.0\"],\"type\":\"barpolar\"},{\"hovertemplate\":\"bin=%{theta}<br>mass=%{r}<extra></extra>\",\"legendgroup\":\"295.0\",\"marker\":{\"color\":\"hsv(81%, 50%, 50%)\",\"pattern\":{\"shape\":\"\"}},\"name\":\"295.0\",\"r\":[0.03389830508474576],\"showlegend\":true,\"subplot\":\"polar\",\"theta\":[\"295.0\"],\"type\":\"barpolar\"},{\"hovertemplate\":\"bin=%{theta}<br>mass=%{r}<extra></extra>\",\"legendgroup\":\"300.0\",\"marker\":{\"color\":\"hsv(83%, 50%, 50%)\",\"pattern\":{\"shape\":\"\"}},\"name\":\"300.0\",\"r\":[0.07602193419740777],\"showlegend\":true,\"subplot\":\"polar\",\"theta\":[\"300.0\"],\"type\":\"barpolar\"},{\"hovertemplate\":\"bin=%{theta}<br>mass=%{r}<extra></extra>\",\"legendgroup\":\"305.0\",\"marker\":{\"color\":\"hsv(84%, 50%, 50%)\",\"pattern\":{\"shape\":\"\"}},\"name\":\"305.0\",\"r\":[0.11490528414755732],\"showlegend\":true,\"subplot\":\"polar\",\"theta\":[\"305.0\"],\"type\":\"barpolar\"},{\"hovertemplate\":\"bin=%{theta}<br>mass=%{r}<extra></extra>\",\"legendgroup\":\"310.0\",\"marker\":{\"color\":\"hsv(86%, 50%, 50%)\",\"pattern\":{\"shape\":\"\"}},\"name\":\"310.0\",\"r\":[0.1413260219341974],\"showlegend\":true,\"subplot\":\"polar\",\"theta\":[\"310.0\"],\"type\":\"barpolar\"},{\"hovertemplate\":\"bin=%{theta}<br>mass=%{r}<extra></extra>\",\"legendgroup\":\"315.0\",\"marker\":{\"color\":\"hsv(87%, 50%, 50%)\",\"pattern\":{\"shape\":\"\"}},\"name\":\"315.0\",\"r\":[0.12886340977068794],\"showlegend\":true,\"subplot\":\"polar\",\"theta\":[\"315.0\"],\"type\":\"barpolar\"},{\"hovertemplate\":\"bin=%{theta}<br>mass=%{r}<extra></extra>\",\"legendgroup\":\"320.0\",\"marker\":{\"color\":\"hsv(88%, 50%, 50%)\",\"pattern\":{\"shape\":\"\"}},\"name\":\"320.0\",\"r\":[0.13409770687936193],\"showlegend\":true,\"subplot\":\"polar\",\"theta\":[\"320.0\"],\"type\":\"barpolar\"},{\"hovertemplate\":\"bin=%{theta}<br>mass=%{r}<extra></extra>\",\"legendgroup\":\"325.0\",\"marker\":{\"color\":\"hsv(90%, 50%, 50%)\",\"pattern\":{\"shape\":\"\"}},\"name\":\"325.0\",\"r\":[0.10992023928215354],\"showlegend\":true,\"subplot\":\"polar\",\"theta\":[\"325.0\"],\"type\":\"barpolar\"},{\"hovertemplate\":\"bin=%{theta}<br>mass=%{r}<extra></extra>\",\"legendgroup\":\"330.0\",\"marker\":{\"color\":\"hsv(91%, 50%, 50%)\",\"pattern\":{\"shape\":\"\"}},\"name\":\"330.0\",\"r\":[0.08798604187437686],\"showlegend\":true,\"subplot\":\"polar\",\"theta\":[\"330.0\"],\"type\":\"barpolar\"},{\"hovertemplate\":\"bin=%{theta}<br>mass=%{r}<extra></extra>\",\"legendgroup\":\"335.0\",\"marker\":{\"color\":\"hsv(93%, 50%, 50%)\",\"pattern\":{\"shape\":\"\"}},\"name\":\"335.0\",\"r\":[0.051096709870388834],\"showlegend\":true,\"subplot\":\"polar\",\"theta\":[\"335.0\"],\"type\":\"barpolar\"},{\"hovertemplate\":\"bin=%{theta}<br>mass=%{r}<extra></extra>\",\"legendgroup\":\"340.0\",\"marker\":{\"color\":\"hsv(94%, 50%, 50%)\",\"pattern\":{\"shape\":\"\"}},\"name\":\"340.0\",\"r\":[0.01794616151545364],\"showlegend\":true,\"subplot\":\"polar\",\"theta\":[\"340.0\"],\"type\":\"barpolar\"},{\"hovertemplate\":\"bin=%{theta}<br>mass=%{r}<extra></extra>\",\"legendgroup\":\"345.0\",\"marker\":{\"color\":\"hsv(95%, 50%, 50%)\",\"pattern\":{\"shape\":\"\"}},\"name\":\"345.0\",\"r\":[0.0012462612163509472],\"showlegend\":true,\"subplot\":\"polar\",\"theta\":[\"345.0\"],\"type\":\"barpolar\"}],                        {\"template\":{\"data\":{\"histogram2dcontour\":[{\"type\":\"histogram2dcontour\",\"colorbar\":{\"outlinewidth\":0,\"ticks\":\"\"},\"colorscale\":[[0.0,\"#0d0887\"],[0.1111111111111111,\"#46039f\"],[0.2222222222222222,\"#7201a8\"],[0.3333333333333333,\"#9c179e\"],[0.4444444444444444,\"#bd3786\"],[0.5555555555555556,\"#d8576b\"],[0.6666666666666666,\"#ed7953\"],[0.7777777777777778,\"#fb9f3a\"],[0.8888888888888888,\"#fdca26\"],[1.0,\"#f0f921\"]]}],\"choropleth\":[{\"type\":\"choropleth\",\"colorbar\":{\"outlinewidth\":0,\"ticks\":\"\"}}],\"histogram2d\":[{\"type\":\"histogram2d\",\"colorbar\":{\"outlinewidth\":0,\"ticks\":\"\"},\"colorscale\":[[0.0,\"#0d0887\"],[0.1111111111111111,\"#46039f\"],[0.2222222222222222,\"#7201a8\"],[0.3333333333333333,\"#9c179e\"],[0.4444444444444444,\"#bd3786\"],[0.5555555555555556,\"#d8576b\"],[0.6666666666666666,\"#ed7953\"],[0.7777777777777778,\"#fb9f3a\"],[0.8888888888888888,\"#fdca26\"],[1.0,\"#f0f921\"]]}],\"heatmap\":[{\"type\":\"heatmap\",\"colorbar\":{\"outlinewidth\":0,\"ticks\":\"\"},\"colorscale\":[[0.0,\"#0d0887\"],[0.1111111111111111,\"#46039f\"],[0.2222222222222222,\"#7201a8\"],[0.3333333333333333,\"#9c179e\"],[0.4444444444444444,\"#bd3786\"],[0.5555555555555556,\"#d8576b\"],[0.6666666666666666,\"#ed7953\"],[0.7777777777777778,\"#fb9f3a\"],[0.8888888888888888,\"#fdca26\"],[1.0,\"#f0f921\"]]}],\"heatmapgl\":[{\"type\":\"heatmapgl\",\"colorbar\":{\"outlinewidth\":0,\"ticks\":\"\"},\"colorscale\":[[0.0,\"#0d0887\"],[0.1111111111111111,\"#46039f\"],[0.2222222222222222,\"#7201a8\"],[0.3333333333333333,\"#9c179e\"],[0.4444444444444444,\"#bd3786\"],[0.5555555555555556,\"#d8576b\"],[0.6666666666666666,\"#ed7953\"],[0.7777777777777778,\"#fb9f3a\"],[0.8888888888888888,\"#fdca26\"],[1.0,\"#f0f921\"]]}],\"contourcarpet\":[{\"type\":\"contourcarpet\",\"colorbar\":{\"outlinewidth\":0,\"ticks\":\"\"}}],\"contour\":[{\"type\":\"contour\",\"colorbar\":{\"outlinewidth\":0,\"ticks\":\"\"},\"colorscale\":[[0.0,\"#0d0887\"],[0.1111111111111111,\"#46039f\"],[0.2222222222222222,\"#7201a8\"],[0.3333333333333333,\"#9c179e\"],[0.4444444444444444,\"#bd3786\"],[0.5555555555555556,\"#d8576b\"],[0.6666666666666666,\"#ed7953\"],[0.7777777777777778,\"#fb9f3a\"],[0.8888888888888888,\"#fdca26\"],[1.0,\"#f0f921\"]]}],\"surface\":[{\"type\":\"surface\",\"colorbar\":{\"outlinewidth\":0,\"ticks\":\"\"},\"colorscale\":[[0.0,\"#0d0887\"],[0.1111111111111111,\"#46039f\"],[0.2222222222222222,\"#7201a8\"],[0.3333333333333333,\"#9c179e\"],[0.4444444444444444,\"#bd3786\"],[0.5555555555555556,\"#d8576b\"],[0.6666666666666666,\"#ed7953\"],[0.7777777777777778,\"#fb9f3a\"],[0.8888888888888888,\"#fdca26\"],[1.0,\"#f0f921\"]]}],\"mesh3d\":[{\"type\":\"mesh3d\",\"colorbar\":{\"outlinewidth\":0,\"ticks\":\"\"}}],\"scatter\":[{\"fillpattern\":{\"fillmode\":\"overlay\",\"size\":10,\"solidity\":0.2},\"type\":\"scatter\"}],\"parcoords\":[{\"type\":\"parcoords\",\"line\":{\"colorbar\":{\"outlinewidth\":0,\"ticks\":\"\"}}}],\"scatterpolargl\":[{\"type\":\"scatterpolargl\",\"marker\":{\"colorbar\":{\"outlinewidth\":0,\"ticks\":\"\"}}}],\"bar\":[{\"error_x\":{\"color\":\"#2a3f5f\"},\"error_y\":{\"color\":\"#2a3f5f\"},\"marker\":{\"line\":{\"color\":\"#E5ECF6\",\"width\":0.5},\"pattern\":{\"fillmode\":\"overlay\",\"size\":10,\"solidity\":0.2}},\"type\":\"bar\"}],\"scattergeo\":[{\"type\":\"scattergeo\",\"marker\":{\"colorbar\":{\"outlinewidth\":0,\"ticks\":\"\"}}}],\"scatterpolar\":[{\"type\":\"scatterpolar\",\"marker\":{\"colorbar\":{\"outlinewidth\":0,\"ticks\":\"\"}}}],\"histogram\":[{\"marker\":{\"pattern\":{\"fillmode\":\"overlay\",\"size\":10,\"solidity\":0.2}},\"type\":\"histogram\"}],\"scattergl\":[{\"type\":\"scattergl\",\"marker\":{\"colorbar\":{\"outlinewidth\":0,\"ticks\":\"\"}}}],\"scatter3d\":[{\"type\":\"scatter3d\",\"line\":{\"colorbar\":{\"outlinewidth\":0,\"ticks\":\"\"}},\"marker\":{\"colorbar\":{\"outlinewidth\":0,\"ticks\":\"\"}}}],\"scattermapbox\":[{\"type\":\"scattermapbox\",\"marker\":{\"colorbar\":{\"outlinewidth\":0,\"ticks\":\"\"}}}],\"scatterternary\":[{\"type\":\"scatterternary\",\"marker\":{\"colorbar\":{\"outlinewidth\":0,\"ticks\":\"\"}}}],\"scattercarpet\":[{\"type\":\"scattercarpet\",\"marker\":{\"colorbar\":{\"outlinewidth\":0,\"ticks\":\"\"}}}],\"carpet\":[{\"aaxis\":{\"endlinecolor\":\"#2a3f5f\",\"gridcolor\":\"white\",\"linecolor\":\"white\",\"minorgridcolor\":\"white\",\"startlinecolor\":\"#2a3f5f\"},\"baxis\":{\"endlinecolor\":\"#2a3f5f\",\"gridcolor\":\"white\",\"linecolor\":\"white\",\"minorgridcolor\":\"white\",\"startlinecolor\":\"#2a3f5f\"},\"type\":\"carpet\"}],\"table\":[{\"cells\":{\"fill\":{\"color\":\"#EBF0F8\"},\"line\":{\"color\":\"white\"}},\"header\":{\"fill\":{\"color\":\"#C8D4E3\"},\"line\":{\"color\":\"white\"}},\"type\":\"table\"}],\"barpolar\":[{\"marker\":{\"line\":{\"color\":\"#E5ECF6\",\"width\":0.5},\"pattern\":{\"fillmode\":\"overlay\",\"size\":10,\"solidity\":0.2}},\"type\":\"barpolar\"}],\"pie\":[{\"automargin\":true,\"type\":\"pie\"}]},\"layout\":{\"autotypenumbers\":\"strict\",\"colorway\":[\"#636efa\",\"#EF553B\",\"#00cc96\",\"#ab63fa\",\"#FFA15A\",\"#19d3f3\",\"#FF6692\",\"#B6E880\",\"#FF97FF\",\"#FECB52\"],\"font\":{\"color\":\"#2a3f5f\"},\"hovermode\":\"closest\",\"hoverlabel\":{\"align\":\"left\"},\"paper_bgcolor\":\"white\",\"plot_bgcolor\":\"#E5ECF6\",\"polar\":{\"bgcolor\":\"#E5ECF6\",\"angularaxis\":{\"gridcolor\":\"white\",\"linecolor\":\"white\",\"ticks\":\"\"},\"radialaxis\":{\"gridcolor\":\"white\",\"linecolor\":\"white\",\"ticks\":\"\"}},\"ternary\":{\"bgcolor\":\"#E5ECF6\",\"aaxis\":{\"gridcolor\":\"white\",\"linecolor\":\"white\",\"ticks\":\"\"},\"baxis\":{\"gridcolor\":\"white\",\"linecolor\":\"white\",\"ticks\":\"\"},\"caxis\":{\"gridcolor\":\"white\",\"linecolor\":\"white\",\"ticks\":\"\"}},\"coloraxis\":{\"colorbar\":{\"outlinewidth\":0,\"ticks\":\"\"}},\"colorscale\":{\"sequential\":[[0.0,\"#0d0887\"],[0.1111111111111111,\"#46039f\"],[0.2222222222222222,\"#7201a8\"],[0.3333333333333333,\"#9c179e\"],[0.4444444444444444,\"#bd3786\"],[0.5555555555555556,\"#d8576b\"],[0.6666666666666666,\"#ed7953\"],[0.7777777777777778,\"#fb9f3a\"],[0.8888888888888888,\"#fdca26\"],[1.0,\"#f0f921\"]],\"sequentialminus\":[[0.0,\"#0d0887\"],[0.1111111111111111,\"#46039f\"],[0.2222222222222222,\"#7201a8\"],[0.3333333333333333,\"#9c179e\"],[0.4444444444444444,\"#bd3786\"],[0.5555555555555556,\"#d8576b\"],[0.6666666666666666,\"#ed7953\"],[0.7777777777777778,\"#fb9f3a\"],[0.8888888888888888,\"#fdca26\"],[1.0,\"#f0f921\"]],\"diverging\":[[0,\"#8e0152\"],[0.1,\"#c51b7d\"],[0.2,\"#de77ae\"],[0.3,\"#f1b6da\"],[0.4,\"#fde0ef\"],[0.5,\"#f7f7f7\"],[0.6,\"#e6f5d0\"],[0.7,\"#b8e186\"],[0.8,\"#7fbc41\"],[0.9,\"#4d9221\"],[1,\"#276419\"]]},\"xaxis\":{\"gridcolor\":\"white\",\"linecolor\":\"white\",\"ticks\":\"\",\"title\":{\"standoff\":15},\"zerolinecolor\":\"white\",\"automargin\":true,\"zerolinewidth\":2},\"yaxis\":{\"gridcolor\":\"white\",\"linecolor\":\"white\",\"ticks\":\"\",\"title\":{\"standoff\":15},\"zerolinecolor\":\"white\",\"automargin\":true,\"zerolinewidth\":2},\"scene\":{\"xaxis\":{\"backgroundcolor\":\"#E5ECF6\",\"gridcolor\":\"white\",\"linecolor\":\"white\",\"showbackground\":true,\"ticks\":\"\",\"zerolinecolor\":\"white\",\"gridwidth\":2},\"yaxis\":{\"backgroundcolor\":\"#E5ECF6\",\"gridcolor\":\"white\",\"linecolor\":\"white\",\"showbackground\":true,\"ticks\":\"\",\"zerolinecolor\":\"white\",\"gridwidth\":2},\"zaxis\":{\"backgroundcolor\":\"#E5ECF6\",\"gridcolor\":\"white\",\"linecolor\":\"white\",\"showbackground\":true,\"ticks\":\"\",\"zerolinecolor\":\"white\",\"gridwidth\":2}},\"shapedefaults\":{\"line\":{\"color\":\"#2a3f5f\"}},\"annotationdefaults\":{\"arrowcolor\":\"#2a3f5f\",\"arrowhead\":0,\"arrowwidth\":1},\"geo\":{\"bgcolor\":\"white\",\"landcolor\":\"#E5ECF6\",\"subunitcolor\":\"white\",\"showland\":true,\"showlakes\":true,\"lakecolor\":\"white\"},\"title\":{\"x\":0.05},\"mapbox\":{\"style\":\"light\"}}},\"polar\":{\"domain\":{\"x\":[0.0,1.0],\"y\":[0.0,1.0]},\"angularaxis\":{\"direction\":\"clockwise\",\"rotation\":90,\"categoryorder\":\"array\",\"categoryarray\":[\"0.0\",\"15.0\",\"25.0\",\"35.0\",\"40.0\",\"45.0\",\"55.0\",\"70.0\",\"75.0\",\"80.0\",\"85.0\",\"90.0\",\"95.0\",\"100.0\",\"105.0\",\"120.0\",\"125.0\",\"140.0\",\"145.0\",\"150.0\",\"155.0\",\"160.0\",\"165.0\",\"170.0\",\"180.0\",\"210.0\",\"240.0\",\"250.0\",\"255.0\",\"260.0\",\"265.0\",\"270.0\",\"275.0\",\"280.0\",\"285.0\",\"290.0\",\"295.0\",\"300.0\",\"305.0\",\"310.0\",\"315.0\",\"320.0\",\"325.0\",\"330.0\",\"335.0\",\"340.0\",\"345.0\"]},\"radialaxis\":{\"range\":[0,0.1413260219341974]},\"sector\":[0,360]},\"legend\":{\"title\":{\"text\":\"bin\"},\"tracegroupgap\":0},\"title\":{\"text\":\"Cercis hue distribution\"},\"barmode\":\"relative\"},                        {\"responsive\": true}                    ).then(function(){\n",
       "                            \n",
       "var gd = document.getElementById('f35b3a27-56ae-4db9-a686-a18e575b89e7');\n",
       "var x = new MutationObserver(function (mutations, observer) {{\n",
       "        var display = window.getComputedStyle(gd).display;\n",
       "        if (!display || display === 'none') {{\n",
       "            console.log([gd, 'removed!']);\n",
       "            Plotly.purge(gd);\n",
       "            observer.disconnect();\n",
       "        }}\n",
       "}});\n",
       "\n",
       "// Listen for the removal of the full notebook cells\n",
       "var notebookContainer = gd.closest('#notebook-container');\n",
       "if (notebookContainer) {{\n",
       "    x.observe(notebookContainer, {childList: true});\n",
       "}}\n",
       "\n",
       "// Listen for the clearing of the current output cell\n",
       "var outputEl = gd.closest('.output');\n",
       "if (outputEl) {{\n",
       "    x.observe(outputEl, {childList: true});\n",
       "}}\n",
       "\n",
       "                        })                };                });            </script>        </div>"
      ]
     },
     "metadata": {},
     "output_type": "display_data"
    }
   ],
   "source": [
    "from plotly import graph_objects as go, express as px\n",
    "\n",
    "from pytcherplants.utils import *\n",
    "\n",
    "cmap = {str(k): f\"hsv({str(int(k / 360 * 100))}%, 50%, 50%)\" for k in hsv_props.keys()}\n",
    "ff = pd.DataFrame(zip([str(k) for k in hsv_props.keys()], hsv_props.values()), columns=['bin', 'mass'])\n",
    "fig = px.bar_polar(\n",
    "    ff,\n",
    "    title=\"Cercis hue distribution\",\n",
    "    r='mass',\n",
    "    range_r=[0, max(ff['mass'])],\n",
    "    theta='bin',\n",
    "    range_theta=[0, 360],\n",
    "    color='bin',\n",
    "    color_discrete_map=cmap,\n",
    "    labels=None)\n",
    "#fig.update_layout(showlegend=False, polar_angularaxis_tickfont_size=7, polar_radialaxis_tickfont_size=7)\n",
    "#fig = plot_hue_distribution(hsv_props, f\"Cercis hue distribution\")\n",
    "fig.show()"
   ]
  }
 ],
 "metadata": {
  "kernelspec": {
   "display_name": "Python 3 (ipykernel)",
   "language": "python",
   "name": "python3"
  },
  "language_info": {
   "codemirror_mode": {
    "name": "ipython",
    "version": 3
   },
   "file_extension": ".py",
   "mimetype": "text/x-python",
   "name": "python",
   "nbconvert_exporter": "python",
   "pygments_lexer": "ipython3",
   "version": "3.10.4"
  }
 },
 "nbformat": 4,
 "nbformat_minor": 1
}
