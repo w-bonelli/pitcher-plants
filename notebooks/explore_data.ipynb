{
 "cells": [
  {
   "cell_type": "code",
   "execution_count": 71,
   "metadata": {},
   "outputs": [],
   "source": [
    "# ! pip3 install --user pandas\n",
    "# ! pip3 install --user numpy\n",
    "# ! pip3 install --user seaborn\n",
    "# ! pip3 install --user matplotlib==3.1.3\n",
    "# ! pip3 install --user plotly"
   ]
  },
  {
   "cell_type": "markdown",
   "metadata": {},
   "source": [
    "Load color analysis results into a single dataset."
   ]
  },
  {
   "cell_type": "code",
   "execution_count": 72,
   "metadata": {},
   "outputs": [
    {
     "name": "stdout",
     "output_type": "stream",
     "text": [
      "Input images: 10\n",
      "Result files: 10\n",
      "                        Image Plant      Hex                    R  \\\n",
      "0     1_14_19.CalMag.5V4B3117     0  #8f6d4a   0.5607843137254902   \n",
      "1     1_14_19.CalMag.5V4B3117     0  #7c4239  0.48627450980392156   \n",
      "2     1_14_19.CalMag.5V4B3117     0  #75612e   0.4588235294117647   \n",
      "3     1_14_19.CalMag.5V4B3117     0  #84593e   0.5176470588235295   \n",
      "4     1_14_19.CalMag.5V4B3117     0  #a38d67   0.6392156862745098   \n",
      "..                        ...   ...      ...                  ...   \n",
      "531  1_14_19.Control.5V4B3115     5  #7e6b46  0.49411764705882355   \n",
      "532  1_14_19.Control.5V4B3115     5  #5d5d4b  0.36470588235294116   \n",
      "533  1_14_19.Control.5V4B3115     5  #6c593e   0.4235294117647059   \n",
      "534  1_14_19.Control.5V4B3115     5  #604d33   0.3764705882352941   \n",
      "535  1_14_19.Control.5V4B3115     5  #72562f   0.4470588235294118   \n",
      "\n",
      "                       G                    B    Freq  \n",
      "0    0.42745098039215684   0.2901960784313726  189627  \n",
      "1    0.25882352941176473   0.2235294117647059  109299  \n",
      "2     0.3803921568627451   0.1803921568627451  122172  \n",
      "3    0.34901960784313724  0.24313725490196078  146382  \n",
      "4     0.5529411764705883    0.403921568627451   47538  \n",
      "..                   ...                  ...     ...  \n",
      "531   0.4196078431372549  0.27450980392156865    3948  \n",
      "532  0.36470588235294116  0.29411764705882354     408  \n",
      "533  0.34901960784313724  0.24313725490196078    8238  \n",
      "534  0.30196078431372547                  0.2   11085  \n",
      "535  0.33725490196078434   0.1843137254901961    8856  \n",
      "\n",
      "[536 rows x 7 columns]\n"
     ]
    }
   ],
   "source": [
    "import os\n",
    "from os.path import join\n",
    "from glob import glob\n",
    "import csv\n",
    "\n",
    "import numpy as np\n",
    "import pandas as pd\n",
    "import seaborn as sns\n",
    "import matplotlib as mpl\n",
    "from matplotlib import pyplot as plt\n",
    "\n",
    "images = glob('../data_sm/*.JPG')\n",
    "print(\"Input images:\", len(images))\n",
    "\n",
    "results = glob('../output_sm/*.csv')\n",
    "print(\"Result files:\", len(results))\n",
    "\n",
    "headers = []\n",
    "rows = []\n",
    "for result in results:\n",
    "    with open(result, 'r') as file:\n",
    "        reader = csv.reader(file)\n",
    "        if len(headers) == 0: headers = next(reader, None)\n",
    "        else: next(reader, None)\n",
    "        for row in reader: rows.append(row)\n",
    "\n",
    "df = pd.DataFrame(rows, columns=headers)\n",
    "print(df)"
   ]
  },
  {
   "cell_type": "markdown",
   "metadata": {},
   "source": [
    "Extract treatment from image name."
   ]
  },
  {
   "cell_type": "code",
   "execution_count": 73,
   "metadata": {},
   "outputs": [
    {
     "name": "stdout",
     "output_type": "stream",
     "text": [
      "                        Image Plant      Hex                    R  \\\n",
      "0     1_14_19.CalMag.5V4B3117     0  #8f6d4a   0.5607843137254902   \n",
      "1     1_14_19.CalMag.5V4B3117     0  #7c4239  0.48627450980392156   \n",
      "2     1_14_19.CalMag.5V4B3117     0  #75612e   0.4588235294117647   \n",
      "3     1_14_19.CalMag.5V4B3117     0  #84593e   0.5176470588235295   \n",
      "4     1_14_19.CalMag.5V4B3117     0  #a38d67   0.6392156862745098   \n",
      "..                        ...   ...      ...                  ...   \n",
      "531  1_14_19.Control.5V4B3115     5  #7e6b46  0.49411764705882355   \n",
      "532  1_14_19.Control.5V4B3115     5  #5d5d4b  0.36470588235294116   \n",
      "533  1_14_19.Control.5V4B3115     5  #6c593e   0.4235294117647059   \n",
      "534  1_14_19.Control.5V4B3115     5  #604d33   0.3764705882352941   \n",
      "535  1_14_19.Control.5V4B3115     5  #72562f   0.4470588235294118   \n",
      "\n",
      "                       G                    B    Freq Treatment  \n",
      "0    0.42745098039215684   0.2901960784313726  189627    CalMag  \n",
      "1    0.25882352941176473   0.2235294117647059  109299    CalMag  \n",
      "2     0.3803921568627451   0.1803921568627451  122172    CalMag  \n",
      "3    0.34901960784313724  0.24313725490196078  146382    CalMag  \n",
      "4     0.5529411764705883    0.403921568627451   47538    CalMag  \n",
      "..                   ...                  ...     ...       ...  \n",
      "531   0.4196078431372549  0.27450980392156865    3948   Control  \n",
      "532  0.36470588235294116  0.29411764705882354     408   Control  \n",
      "533  0.34901960784313724  0.24313725490196078    8238   Control  \n",
      "534  0.30196078431372547                  0.2   11085   Control  \n",
      "535  0.33725490196078434   0.1843137254901961    8856   Control  \n",
      "\n",
      "[536 rows x 8 columns]\n"
     ]
    }
   ],
   "source": [
    "df['Treatment'] = df.apply(lambda row: 'Control' if 'control' in row['Image'].lower() else ('MaxSea' if 'maxsea' in row['Image'].lower() else ('CalMag' if 'calmag' in row['Image'].lower() else np.NaN)), axis=1)\n",
    "print(df)"
   ]
  },
  {
   "cell_type": "markdown",
   "metadata": {},
   "source": [
    "Drop rows with unknown treatment (TODO: ask Mason about unlabeled images)."
   ]
  },
  {
   "cell_type": "code",
   "execution_count": 74,
   "metadata": {},
   "outputs": [
    {
     "name": "stdout",
     "output_type": "stream",
     "text": [
      "                        Image Plant      Hex                    R  \\\n",
      "0     1_14_19.CalMag.5V4B3117     0  #8f6d4a   0.5607843137254902   \n",
      "1     1_14_19.CalMag.5V4B3117     0  #7c4239  0.48627450980392156   \n",
      "2     1_14_19.CalMag.5V4B3117     0  #75612e   0.4588235294117647   \n",
      "3     1_14_19.CalMag.5V4B3117     0  #84593e   0.5176470588235295   \n",
      "4     1_14_19.CalMag.5V4B3117     0  #a38d67   0.6392156862745098   \n",
      "..                        ...   ...      ...                  ...   \n",
      "531  1_14_19.Control.5V4B3115     5  #7e6b46  0.49411764705882355   \n",
      "532  1_14_19.Control.5V4B3115     5  #5d5d4b  0.36470588235294116   \n",
      "533  1_14_19.Control.5V4B3115     5  #6c593e   0.4235294117647059   \n",
      "534  1_14_19.Control.5V4B3115     5  #604d33   0.3764705882352941   \n",
      "535  1_14_19.Control.5V4B3115     5  #72562f   0.4470588235294118   \n",
      "\n",
      "                       G                    B    Freq Treatment  \n",
      "0    0.42745098039215684   0.2901960784313726  189627    CalMag  \n",
      "1    0.25882352941176473   0.2235294117647059  109299    CalMag  \n",
      "2     0.3803921568627451   0.1803921568627451  122172    CalMag  \n",
      "3    0.34901960784313724  0.24313725490196078  146382    CalMag  \n",
      "4     0.5529411764705883    0.403921568627451   47538    CalMag  \n",
      "..                   ...                  ...     ...       ...  \n",
      "531   0.4196078431372549  0.27450980392156865    3948   Control  \n",
      "532  0.36470588235294116  0.29411764705882354     408   Control  \n",
      "533  0.34901960784313724  0.24313725490196078    8238   Control  \n",
      "534  0.30196078431372547                  0.2   11085   Control  \n",
      "535  0.33725490196078434   0.1843137254901961    8856   Control  \n",
      "\n",
      "[536 rows x 8 columns]\n"
     ]
    }
   ],
   "source": [
    "df.dropna(how='any', inplace=True)\n",
    "print(df)"
   ]
  },
  {
   "cell_type": "markdown",
   "metadata": {},
   "source": [
    "Add columns for HSV color representation."
   ]
  },
  {
   "cell_type": "code",
   "execution_count": 75,
   "metadata": {},
   "outputs": [
    {
     "name": "stdout",
     "output_type": "stream",
     "text": [
      "                        Image Plant      Hex                    R  \\\n",
      "0     1_14_19.CalMag.5V4B3117     0  #8f6d4a   0.5607843137254902   \n",
      "1     1_14_19.CalMag.5V4B3117     0  #7c4239  0.48627450980392156   \n",
      "2     1_14_19.CalMag.5V4B3117     0  #75612e   0.4588235294117647   \n",
      "3     1_14_19.CalMag.5V4B3117     0  #84593e   0.5176470588235295   \n",
      "4     1_14_19.CalMag.5V4B3117     0  #a38d67   0.6392156862745098   \n",
      "..                        ...   ...      ...                  ...   \n",
      "531  1_14_19.Control.5V4B3115     5  #7e6b46  0.49411764705882355   \n",
      "532  1_14_19.Control.5V4B3115     5  #5d5d4b  0.36470588235294116   \n",
      "533  1_14_19.Control.5V4B3115     5  #6c593e   0.4235294117647059   \n",
      "534  1_14_19.Control.5V4B3115     5  #604d33   0.3764705882352941   \n",
      "535  1_14_19.Control.5V4B3115     5  #72562f   0.4470588235294118   \n",
      "\n",
      "                       G                    B    Freq Treatment         H  \\\n",
      "0    0.42745098039215684   0.2901960784313726  189627    CalMag  0.084541   \n",
      "1    0.25882352941176473   0.2235294117647059  109299    CalMag  0.022388   \n",
      "2     0.3803921568627451   0.1803921568627451  122172    CalMag  0.119718   \n",
      "3    0.34901960784313724  0.24313725490196078  146382    CalMag  0.064286   \n",
      "4     0.5529411764705883    0.403921568627451   47538    CalMag  0.105556   \n",
      "..                   ...                  ...     ...       ...       ...   \n",
      "531   0.4196078431372549  0.27450980392156865    3948   Control  0.110119   \n",
      "532  0.36470588235294116  0.29411764705882354     408   Control  0.166667   \n",
      "533  0.34901960784313724  0.24313725490196078    8238   Control  0.097826   \n",
      "534  0.30196078431372547                  0.2   11085   Control  0.096296   \n",
      "535  0.33725490196078434   0.1843137254901961    8856   Control  0.097015   \n",
      "\n",
      "            S         V  \n",
      "0    0.482517  0.560784  \n",
      "1    0.540323  0.486275  \n",
      "2    0.606838  0.458824  \n",
      "3    0.530303  0.517647  \n",
      "4    0.368098  0.639216  \n",
      "..        ...       ...  \n",
      "531  0.444444  0.494118  \n",
      "532  0.193548  0.364706  \n",
      "533  0.425926  0.423529  \n",
      "534  0.468750  0.376471  \n",
      "535  0.587719  0.447059  \n",
      "\n",
      "[536 rows x 11 columns]\n"
     ]
    }
   ],
   "source": [
    "from colorsys import rgb_to_hsv\n",
    "\n",
    "def to_hsv(row):\n",
    "    hsv = rgb_to_hsv(float(row['R']), float(row['G']), float(row['B']))\n",
    "    return [hsv[0], hsv[1], hsv[2]]\n",
    "\n",
    "df['H'], df['S'], df['V'] = zip(*df.apply(lambda row: to_hsv(row), axis=1))\n",
    "print(df)"
   ]
  },
  {
   "cell_type": "markdown",
   "source": [
    "Next, RGB-space k-means clustering for each treatment. Then define bins by hue and compute proportions of each treatment falling into each bin."
   ],
   "metadata": {
    "collapsed": false,
    "pycharm": {
     "name": "#%% md\n"
    }
   }
  },
  {
   "cell_type": "code",
   "execution_count": 113,
   "metadata": {},
   "outputs": [
    {
     "name": "stderr",
     "output_type": "stream",
     "text": [
      "/Users/wes/dev/pytcher-plants/venv/lib/python3.8/site-packages/scipy/cluster/vq.py:607: UserWarning:\n",
      "\n",
      "One of the clusters is empty. Re-run kmeans with a different initialization.\n",
      "\n"
     ]
    },
    {
     "data": {
      "text/plain": "<Figure size 432x288 with 1 Axes>",
      "image/png": "[encoded data removed]"
     },
     "metadata": {
      "needs_background": "light"
     },
     "output_type": "display_data"
    },
    {
     "name": "stderr",
     "output_type": "stream",
     "text": [
      "/var/folders/4t/2sbpjbgs1n73t8s7rx4gb_ph0000gn/T/ipykernel_3174/1102115161.py:38: SettingWithCopyWarning:\n",
      "\n",
      "\n",
      "A value is trying to be set on a copy of a slice from a DataFrame.\n",
      "Try using .loc[row_indexer,col_indexer] = value instead\n",
      "\n",
      "See the caveats in the documentation: https://pandas.pydata.org/pandas-docs/stable/user_guide/indexing.html#returning-a-view-versus-a-copy\n",
      "\n",
      "/var/folders/4t/2sbpjbgs1n73t8s7rx4gb_ph0000gn/T/ipykernel_3174/1102115161.py:47: SettingWithCopyWarning:\n",
      "\n",
      "\n",
      "A value is trying to be set on a copy of a slice from a DataFrame.\n",
      "Try using .loc[row_indexer,col_indexer] = value instead\n",
      "\n",
      "See the caveats in the documentation: https://pandas.pydata.org/pandas-docs/stable/user_guide/indexing.html#returning-a-view-versus-a-copy\n",
      "\n"
     ]
    },
    {
     "data": {
      "text/plain": "<Figure size 432x288 with 1 Axes>",
      "image/png": "[encoded data removed]"
     },
     "metadata": {
      "needs_background": "light"
     },
     "output_type": "display_data"
    },
    {
     "name": "stderr",
     "output_type": "stream",
     "text": [
      "No artists with labels found to put in legend.  Note that artists whose label start with an underscore are ignored when legend() is called with no argument.\n"
     ]
    },
    {
     "data": {
      "text/plain": "<Figure size 432x288 with 1 Axes>",
      "image/png": "[encoded data removed]"
     },
     "metadata": {
      "needs_background": "light"
     },
     "output_type": "display_data"
    },
    {
     "name": "stderr",
     "output_type": "stream",
     "text": [
      "/Users/wes/dev/pytcher-plants/venv/lib/python3.8/site-packages/scipy/cluster/vq.py:607: UserWarning:\n",
      "\n",
      "One of the clusters is empty. Re-run kmeans with a different initialization.\n",
      "\n"
     ]
    },
    {
     "data": {
      "text/plain": "<Figure size 432x288 with 1 Axes>",
      "image/png": "[encoded data removed]"
     },
     "metadata": {
      "needs_background": "light"
     },
     "output_type": "display_data"
    },
    {
     "name": "stderr",
     "output_type": "stream",
     "text": [
      "/var/folders/4t/2sbpjbgs1n73t8s7rx4gb_ph0000gn/T/ipykernel_3174/1102115161.py:38: SettingWithCopyWarning:\n",
      "\n",
      "\n",
      "A value is trying to be set on a copy of a slice from a DataFrame.\n",
      "Try using .loc[row_indexer,col_indexer] = value instead\n",
      "\n",
      "See the caveats in the documentation: https://pandas.pydata.org/pandas-docs/stable/user_guide/indexing.html#returning-a-view-versus-a-copy\n",
      "\n",
      "/var/folders/4t/2sbpjbgs1n73t8s7rx4gb_ph0000gn/T/ipykernel_3174/1102115161.py:47: SettingWithCopyWarning:\n",
      "\n",
      "\n",
      "A value is trying to be set on a copy of a slice from a DataFrame.\n",
      "Try using .loc[row_indexer,col_indexer] = value instead\n",
      "\n",
      "See the caveats in the documentation: https://pandas.pydata.org/pandas-docs/stable/user_guide/indexing.html#returning-a-view-versus-a-copy\n",
      "\n"
     ]
    },
    {
     "data": {
      "text/plain": "<Figure size 432x288 with 1 Axes>",
      "image/png": "[encoded data removed]"
     },
     "metadata": {
      "needs_background": "light"
     },
     "output_type": "display_data"
    },
    {
     "name": "stderr",
     "output_type": "stream",
     "text": [
      "No artists with labels found to put in legend.  Note that artists whose label start with an underscore are ignored when legend() is called with no argument.\n"
     ]
    },
    {
     "data": {
      "text/plain": "<Figure size 432x288 with 1 Axes>",
      "image/png": "[encoded data removed]"
     },
     "metadata": {
      "needs_background": "light"
     },
     "output_type": "display_data"
    },
    {
     "data": {
      "text/plain": "<Figure size 432x288 with 1 Axes>",
      "image/png": "[encoded data removed]"
     },
     "metadata": {
      "needs_background": "light"
     },
     "output_type": "display_data"
    },
    {
     "name": "stderr",
     "output_type": "stream",
     "text": [
      "/var/folders/4t/2sbpjbgs1n73t8s7rx4gb_ph0000gn/T/ipykernel_3174/1102115161.py:38: SettingWithCopyWarning:\n",
      "\n",
      "\n",
      "A value is trying to be set on a copy of a slice from a DataFrame.\n",
      "Try using .loc[row_indexer,col_indexer] = value instead\n",
      "\n",
      "See the caveats in the documentation: https://pandas.pydata.org/pandas-docs/stable/user_guide/indexing.html#returning-a-view-versus-a-copy\n",
      "\n",
      "/var/folders/4t/2sbpjbgs1n73t8s7rx4gb_ph0000gn/T/ipykernel_3174/1102115161.py:47: SettingWithCopyWarning:\n",
      "\n",
      "\n",
      "A value is trying to be set on a copy of a slice from a DataFrame.\n",
      "Try using .loc[row_indexer,col_indexer] = value instead\n",
      "\n",
      "See the caveats in the documentation: https://pandas.pydata.org/pandas-docs/stable/user_guide/indexing.html#returning-a-view-versus-a-copy\n",
      "\n"
     ]
    },
    {
     "data": {
      "text/plain": "<Figure size 432x288 with 1 Axes>",
      "image/png": "[encoded data removed]"
     },
     "metadata": {
      "needs_background": "light"
     },
     "output_type": "display_data"
    },
    {
     "name": "stderr",
     "output_type": "stream",
     "text": [
      "No artists with labels found to put in legend.  Note that artists whose label start with an underscore are ignored when legend() is called with no argument.\n"
     ]
    },
    {
     "data": {
      "text/plain": "<Figure size 432x288 with 1 Axes>",
      "image/png": "[encoded data removed]"
     },
     "metadata": {
      "needs_background": "light"
     },
     "output_type": "display_data"
    }
   ],
   "source": [
    "from pprint import pprint\n",
    "from collections import Counter\n",
    "\n",
    "from scipy.cluster.vq import kmeans, kmeans2\n",
    "import plotly.graph_objects as go\n",
    "from colorsys import hsv_to_rgb\n",
    "\n",
    "def rgb2hex(color):\n",
    "    return \"#{:02x}{:02x}{:02x}\".format(int(color[0]), int(color[1]), int(color[2]))\n",
    "\n",
    "def get_hue(row, ranges):\n",
    "    h = float(row['H'])\n",
    "    for k, v in ranges.items():\n",
    "        if h >= k[0] and h <= k[1]: return v\n",
    "    return 0\n",
    "\n",
    "treatments = list(np.unique(df['Treatment']))\n",
    "for treatment in treatments:\n",
    "    # get subset corresponding to this treatment\n",
    "    subset = df[df['Treatment'] == treatment]\n",
    "    # print(treatment + \":\", len(subset))\n",
    "\n",
    "    # compute k-means clusters of RGB color values\n",
    "    colors = dict()\n",
    "    subset_rgb = subset[['R', 'G', 'B']].astype(float).values.tolist()\n",
    "    centers, labels = kmeans2(subset_rgb, 15)\n",
    "    counter = dict(Counter(labels))\n",
    "    counts = {(int(float(c[0]) * 256), int(float(c[1]) * 256), int(float(c[2]) * 256)): counter[l] for c, l in zip(centers, labels)}\n",
    "    total = sum(counts.values())\n",
    "    props = {k: (v / total) for k, v in counts.items()}\n",
    "    plt.imshow([list(props.keys())])\n",
    "    plt.show()\n",
    "\n",
    "    # define hue ranges\n",
    "    hue_ranges = {((k * 10) + 5):list((k * 10, (k * 10) + 9)) for k in range(0, 36)}\n",
    "    hue_ranges_norm = {round(k / 360, 3):[round(vv / 360, 3) for vv in v] for k, v in hue_ranges.items()}\n",
    "    hue_ranges_inv = {(v[0], v[1]):k for k, v in hue_ranges_norm.items()}\n",
    "    subset['Hue'] = subset.apply(lambda r: get_hue(r, hue_ranges_inv), axis=1)\n",
    "    # pprint(hue_ranges)\n",
    "    # pprint(hue_ranges_norm)\n",
    "    # pprint(hue_ranges_inv)\n",
    "    # print(subset)\n",
    "\n",
    "    # assign each row to a bin and count occurrences\n",
    "    hue_rgb = subset.apply(lambda r: hsv_to_rgb(float(r['Hue']), 0.6, 0.6), axis=1)\n",
    "    hue_rgb_counter = dict(Counter(hue_rgb))\n",
    "    subset['HueR'], subset['HueG'], subset['HueB'] = zip(*hue_rgb)\n",
    "    plt.imshow([list(hue_rgb_counter.keys())])\n",
    "    plt.show()\n",
    "    # pprint(hue_rgb_counter)\n",
    "    # pprint(subset)\n",
    "\n",
    "    # pprint(hue_rgb_counter.keys())\n",
    "    x, y = zip(*[(rgb2hex((int(k[0] * 256), int(k[1] * 256), int(k[2] * 256))), v) for k, v in hue_rgb_counter.items()])\n",
    "    hp = sns.histplot(x=x, weights=y, hue=x, palette=x, discrete=True)\n",
    "    plt.xticks(rotation=60)\n",
    "    plt.legend().remove()\n",
    "    plt.title(f\"Treatment {treatment} color cluster pixel frequencies\")\n",
    "    # plt.savefig(join(output_directory, treatment + '.avg.freq.png'))\n",
    "    plt.show()\n",
    "\n",
    "    continue\n",
    "\n",
    "    # x = list([rgb2hex(k) for k in props.keys()])\n",
    "    # y = list(props.values())\n",
    "    # hp = sns.histplot(x=x, weights=y, hue=x, palette=x, discrete=True)\n",
    "    # plt.xticks(rotation=60)\n",
    "    # plt.legend().remove()\n",
    "    # plt.title(f\"Treatment {treatment} color cluster pixel frequencies\")\n",
    "    # # plt.savefig(join(output_directory, treatment + '.avg.freq.png'))\n",
    "    # plt.show()\n",
    "    # plt.clf()\n",
    "\n",
    "    fig = go.Figure()\n",
    "    r = [k[0] for k in props.keys()]\n",
    "    g = [k[1] for k in props.keys()]\n",
    "    b = [k[2] for k in props.keys()]\n",
    "    colors_map = [f'rgb({c[0]}, {c[1]}, {c[2]})' for c in props.keys()]\n",
    "    sizes_map = list([v * 1000 for v in props.values()])\n",
    "    trace=dict(type='scatter3d',\n",
    "               x=r,\n",
    "               y=g,\n",
    "               z=b,\n",
    "               mode='markers',\n",
    "               marker=dict(color=colors_map, size=sizes_map))\n",
    "    fig.add_trace(trace)\n",
    "    fig.update_layout(title=treatment, scene=dict(\n",
    "        xaxis_title='G',\n",
    "        yaxis_title='R',\n",
    "        zaxis_title='B'))\n",
    "    fig.show()\n",
    "    "
   ]
  },
  {
   "cell_type": "markdown",
   "source": [
    "TODO: compute total pixel counts for each treatment as a proxy for pitcher size\n",
    "(later try a real pitcher segmentation, but for now just make an overall count)"
   ],
   "metadata": {
    "collapsed": false,
    "pycharm": {
     "name": "#%% md\n"
    }
   }
  }
 ],
 "metadata": {
  "kernelspec": {
   "display_name": "Python 3",
   "language": "python",
   "name": "python3"
  },
  "language_info": {
   "codemirror_mode": {
    "name": "ipython",
    "version": 3
   },
   "file_extension": ".py",
   "mimetype": "text/x-python",
   "name": "python",
   "nbconvert_exporter": "python",
   "pygments_lexer": "ipython3",
   "version": "3.7.0"
  }
 },
 "nbformat": 4,
 "nbformat_minor": 2
}