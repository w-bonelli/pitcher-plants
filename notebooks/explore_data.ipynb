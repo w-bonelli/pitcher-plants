{
 "cells": [
  {
   "cell_type": "code",
   "execution_count": 56,
   "metadata": {},
   "outputs": [
    {
     "name": "stdout",
     "output_type": "stream",
     "text": [
      "WARNING: pip is being invoked by an old script wrapper. This will fail in a future version of pip.\n",
      "Please see https://github.com/pypa/pip/issues/5599 for advice on fixing the underlying issue.\n",
      "To avoid this problem you can invoke Python with '-m pip' instead of running pip directly.\n",
      "Requirement already satisfied: pandas in /opt/apps/intel18/python3/3.7.0/lib/python3.7/site-packages (0.24.1)\n",
      "Requirement already satisfied: python-dateutil>=2.5.0 in /opt/apps/intel18/python3/3.7.0/lib/python3.7/site-packages (from pandas) (2.8.0)\n",
      "Requirement already satisfied: pytz>=2011k in /opt/apps/intel18/python3/3.7.0/lib/python3.7/site-packages (from pandas) (2018.9)\n",
      "Requirement already satisfied: numpy>=1.12.0 in /home1/03203/dirt/.local/lib/python3.7/site-packages (from pandas) (1.21.5)\n",
      "Requirement already satisfied: six>=1.5 in /opt/apps/intel18/python3/3.7.0/lib/python3.7/site-packages (from python-dateutil>=2.5.0->pandas) (1.12.0)\n",
      "\u001b[33mWARNING: You are using pip version 20.2.4; however, version 21.3.1 is available.\n",
      "You should consider upgrading via the '/opt/apps/intel18/python3/3.7.0/bin/python3.7 -m pip install --upgrade pip' command.\u001b[0m\n",
      "WARNING: pip is being invoked by an old script wrapper. This will fail in a future version of pip.\n",
      "Please see https://github.com/pypa/pip/issues/5599 for advice on fixing the underlying issue.\n",
      "To avoid this problem you can invoke Python with '-m pip' instead of running pip directly.\n",
      "Requirement already satisfied: numpy in /home1/03203/dirt/.local/lib/python3.7/site-packages (1.21.5)\n",
      "\u001b[33mWARNING: You are using pip version 20.2.4; however, version 21.3.1 is available.\n",
      "You should consider upgrading via the '/opt/apps/intel18/python3/3.7.0/bin/python3.7 -m pip install --upgrade pip' command.\u001b[0m\n",
      "WARNING: pip is being invoked by an old script wrapper. This will fail in a future version of pip.\n",
      "Please see https://github.com/pypa/pip/issues/5599 for advice on fixing the underlying issue.\n",
      "To avoid this problem you can invoke Python with '-m pip' instead of running pip directly.\n",
      "Requirement already satisfied: seaborn in /home1/03203/dirt/.local/lib/python3.7/site-packages (0.11.2)\n",
      "Requirement already satisfied: numpy>=1.15 in /home1/03203/dirt/.local/lib/python3.7/site-packages (from seaborn) (1.21.5)\n",
      "Requirement already satisfied: pandas>=0.23 in /opt/apps/intel18/python3/3.7.0/lib/python3.7/site-packages (from seaborn) (0.24.1)\n",
      "Requirement already satisfied: matplotlib>=2.2 in /home1/03203/dirt/.local/lib/python3.7/site-packages (from seaborn) (3.1.3)\n",
      "Requirement already satisfied: scipy>=1.0 in /home1/03203/dirt/.local/lib/python3.7/site-packages (from seaborn) (1.5.3)\n",
      "Requirement already satisfied: python-dateutil>=2.5.0 in /opt/apps/intel18/python3/3.7.0/lib/python3.7/site-packages (from pandas>=0.23->seaborn) (2.8.0)\n",
      "Requirement already satisfied: pytz>=2011k in /opt/apps/intel18/python3/3.7.0/lib/python3.7/site-packages (from pandas>=0.23->seaborn) (2018.9)\n",
      "Requirement already satisfied: kiwisolver>=1.0.1 in /opt/apps/intel18/python3/3.7.0/lib/python3.7/site-packages (from matplotlib>=2.2->seaborn) (1.0.1)\n",
      "Requirement already satisfied: pyparsing!=2.0.4,!=2.1.2,!=2.1.6,>=2.0.1 in /opt/apps/intel18/python3/3.7.0/lib/python3.7/site-packages (from matplotlib>=2.2->seaborn) (2.3.1)\n",
      "Requirement already satisfied: cycler>=0.10 in /opt/apps/intel18/python3/3.7.0/lib/python3.7/site-packages (from matplotlib>=2.2->seaborn) (0.10.0)\n",
      "Requirement already satisfied: six>=1.5 in /opt/apps/intel18/python3/3.7.0/lib/python3.7/site-packages (from python-dateutil>=2.5.0->pandas>=0.23->seaborn) (1.12.0)\n",
      "Requirement already satisfied: setuptools in /opt/apps/intel18/python3/3.7.0/lib/python3.7/site-packages (from kiwisolver>=1.0.1->matplotlib>=2.2->seaborn) (40.8.0)\n",
      "\u001b[33mWARNING: You are using pip version 20.2.4; however, version 21.3.1 is available.\n",
      "You should consider upgrading via the '/opt/apps/intel18/python3/3.7.0/bin/python3.7 -m pip install --upgrade pip' command.\u001b[0m\n",
      "WARNING: pip is being invoked by an old script wrapper. This will fail in a future version of pip.\n",
      "Please see https://github.com/pypa/pip/issues/5599 for advice on fixing the underlying issue.\n",
      "To avoid this problem you can invoke Python with '-m pip' instead of running pip directly.\n",
      "Requirement already satisfied: matplotlib==3.1.3 in /home1/03203/dirt/.local/lib/python3.7/site-packages (3.1.3)\n",
      "Requirement already satisfied: python-dateutil>=2.1 in /opt/apps/intel18/python3/3.7.0/lib/python3.7/site-packages (from matplotlib==3.1.3) (2.8.0)\n",
      "Requirement already satisfied: numpy>=1.11 in /home1/03203/dirt/.local/lib/python3.7/site-packages (from matplotlib==3.1.3) (1.21.5)\n",
      "Requirement already satisfied: kiwisolver>=1.0.1 in /opt/apps/intel18/python3/3.7.0/lib/python3.7/site-packages (from matplotlib==3.1.3) (1.0.1)\n",
      "Requirement already satisfied: pyparsing!=2.0.4,!=2.1.2,!=2.1.6,>=2.0.1 in /opt/apps/intel18/python3/3.7.0/lib/python3.7/site-packages (from matplotlib==3.1.3) (2.3.1)\n",
      "Requirement already satisfied: cycler>=0.10 in /opt/apps/intel18/python3/3.7.0/lib/python3.7/site-packages (from matplotlib==3.1.3) (0.10.0)\n",
      "Requirement already satisfied: six>=1.5 in /opt/apps/intel18/python3/3.7.0/lib/python3.7/site-packages (from python-dateutil>=2.1->matplotlib==3.1.3) (1.12.0)\n",
      "Requirement already satisfied: setuptools in /opt/apps/intel18/python3/3.7.0/lib/python3.7/site-packages (from kiwisolver>=1.0.1->matplotlib==3.1.3) (40.8.0)\n",
      "\u001b[33mWARNING: You are using pip version 20.2.4; however, version 21.3.1 is available.\n",
      "You should consider upgrading via the '/opt/apps/intel18/python3/3.7.0/bin/python3.7 -m pip install --upgrade pip' command.\u001b[0m\n",
      "WARNING: pip is being invoked by an old script wrapper. This will fail in a future version of pip.\n",
      "Please see https://github.com/pypa/pip/issues/5599 for advice on fixing the underlying issue.\n",
      "To avoid this problem you can invoke Python with '-m pip' instead of running pip directly.\n",
      "Collecting plotly\n",
      "  Downloading plotly-5.5.0-py2.py3-none-any.whl (26.5 MB)\n",
      "\u001b[K     |████████████████████████████████| 26.5 MB 11.7 MB/s eta 0:00:01   |██▏                             | 1.8 MB 6.6 MB/s eta 0:00:04     |███                             | 2.6 MB 6.6 MB/s eta 0:00:04     |█████▊                          | 4.7 MB 6.6 MB/s eta 0:00:04     |██████▋                         | 5.4 MB 6.6 MB/s eta 0:00:04     |████████▎                       | 6.9 MB 6.6 MB/s eta 0:00:03     |██████████                      | 8.3 MB 6.6 MB/s eta 0:00:03     |███████████▊                    | 9.7 MB 6.6 MB/s eta 0:00:03     |██████████████▏                 | 11.8 MB 6.6 MB/s eta 0:00:03     |████████████████▉               | 13.9 MB 11.3 MB/s eta 0:00:02     |█████████████████▍              | 14.4 MB 11.3 MB/s eta 0:00:02     |██████████████████              | 15.0 MB 11.3 MB/s eta 0:00:02     |██████████████████▊             | 15.5 MB 11.3 MB/s eta 0:00:01     |████████████████████▉           | 17.2 MB 11.3 MB/s eta 0:00:01     |██████████████████████████▋     | 22.1 MB 11.3 MB/s eta 0:00:01     |████████████████████████████▎   | 23.4 MB 11.3 MB/s eta 0:00:01\n",
      "\u001b[?25hRequirement already satisfied: tenacity>=6.2.0 in /home1/03203/dirt/.local/lib/python3.7/site-packages (from plotly) (6.3.1)\n",
      "Requirement already satisfied: six in /opt/apps/intel18/python3/3.7.0/lib/python3.7/site-packages (from plotly) (1.12.0)\n",
      "Installing collected packages: plotly\n",
      "Successfully installed plotly-5.5.0\n",
      "\u001b[33mWARNING: You are using pip version 20.2.4; however, version 21.3.1 is available.\n",
      "You should consider upgrading via the '/opt/apps/intel18/python3/3.7.0/bin/python3.7 -m pip install --upgrade pip' command.\u001b[0m\n"
     ]
    }
   ],
   "source": [
    "! pip3 install --user pandas\n",
    "! pip3 install --user numpy\n",
    "! pip3 install --user seaborn\n",
    "! pip3 install --user matplotlib==3.1.3\n",
    "! pip3 install --user plotly"
   ]
  },
  {
   "cell_type": "markdown",
   "metadata": {},
   "source": [
    "Load color analysis results into a single dataset."
   ]
  },
  {
   "cell_type": "code",
   "execution_count": 57,
   "metadata": {},
   "outputs": [
    {
     "name": "stdout",
     "output_type": "stream",
     "text": [
      "Input images: 213\n",
      "Result files: 211\n",
      "                         Image Plant      Hex                    R  \\\n",
      "0      3_16_19.MaxSea.5V4B3153     0  #7a4433  0.47843137254901963   \n",
      "1      3_16_19.MaxSea.5V4B3153     0  #cbba9d    0.796078431372549   \n",
      "2      3_16_19.MaxSea.5V4B3153     0  #b79a7a   0.7176470588235294   \n",
      "3      3_16_19.MaxSea.5V4B3153     0  #7e6030  0.49411764705882355   \n",
      "4      3_16_19.MaxSea.5V4B3153     0  #7f6254   0.4980392156862745   \n",
      "5      3_16_19.MaxSea.5V4B3153     0  #a18067   0.6313725490196078   \n",
      "6      3_16_19.MaxSea.5V4B3153     0  #5b4f20   0.3568627450980392   \n",
      "7      3_16_19.MaxSea.5V4B3153     0  #61463f   0.3803921568627451   \n",
      "8      3_16_19.MaxSea.5V4B3153     0  #a06d46   0.6274509803921569   \n",
      "9      3_16_19.MaxSea.5V4B3153     1  #46260f  0.27450980392156865   \n",
      "10     3_16_19.MaxSea.5V4B3153     1  #775c24   0.4666666666666667   \n",
      "11     3_16_19.MaxSea.5V4B3153     1  #63442f  0.38823529411764707   \n",
      "12     3_16_19.MaxSea.5V4B3153     1  #9f785d   0.6235294117647059   \n",
      "13     3_16_19.MaxSea.5V4B3153     1  #8c6744   0.5490196078431373   \n",
      "14     3_16_19.MaxSea.5V4B3153     1  #b1907b   0.6941176470588235   \n",
      "15     3_16_19.MaxSea.5V4B3153     1  #7d4a3d  0.49019607843137253   \n",
      "16     3_16_19.MaxSea.5V4B3153     1  #cbba93    0.796078431372549   \n",
      "17     3_16_19.MaxSea.5V4B3153     1  #ab9f4f   0.6705882352941176   \n",
      "18     3_16_19.MaxSea.5V4B3153     2  #7c6e21  0.48627450980392156   \n",
      "19     3_16_19.MaxSea.5V4B3153     2  #9e6e4c   0.6196078431372549   \n",
      "20     3_16_19.MaxSea.5V4B3153     2  #2e1306   0.1803921568627451   \n",
      "21     3_16_19.MaxSea.5V4B3153     2  #9b9d4e   0.6078431372549019   \n",
      "22     3_16_19.MaxSea.5V4B3153     2  #b0856b   0.6901960784313725   \n",
      "23     3_16_19.MaxSea.5V4B3153     2  #5e4926   0.3686274509803922   \n",
      "24     3_16_19.MaxSea.5V4B3153     2  #89583e   0.5372549019607843   \n",
      "25     3_16_19.MaxSea.5V4B3153     2  #c9a88c    0.788235294117647   \n",
      "26     3_16_19.MaxSea.5V4B3153     2  #79492a   0.4745098039215686   \n",
      "27     3_16_19.MaxSea.5V4B3153     3  #bea584   0.7450980392156863   \n",
      "28     3_16_19.MaxSea.5V4B3153     3  #a68866   0.6509803921568628   \n",
      "29     3_16_19.MaxSea.5V4B3153     3  #974e33    0.592156862745098   \n",
      "...                        ...   ...      ...                  ...   \n",
      "11099  9_17_19.Maxsea.5V4B9756     2  #6e7e38  0.43137254901960786   \n",
      "11100  9_17_19.Maxsea.5V4B9756     2  #2c440c  0.17254901960784313   \n",
      "11101  9_17_19.Maxsea.5V4B9756     2  #7f914a   0.4980392156862745   \n",
      "11102  9_17_19.Maxsea.5V4B9756     3  #838641   0.5137254901960784   \n",
      "11103  9_17_19.Maxsea.5V4B9756     3  #a0a765   0.6274509803921569   \n",
      "11104  9_17_19.Maxsea.5V4B9756     3  #5c6629   0.3607843137254902   \n",
      "11105  9_17_19.Maxsea.5V4B9756     3  #a38853   0.6392156862745098   \n",
      "11106  9_17_19.Maxsea.5V4B9756     3  #846344   0.5176470588235295   \n",
      "11107  9_17_19.Maxsea.5V4B9756     3  #8c994d   0.5490196078431373   \n",
      "11108  9_17_19.Maxsea.5V4B9756     3  #694b2e   0.4117647058823529   \n",
      "11109  9_17_19.Maxsea.5V4B9756     3  #6f7c36  0.43529411764705883   \n",
      "11110  9_17_19.Maxsea.5V4B9756     3  #474f1e   0.2784313725490196   \n",
      "11111  9_17_19.Maxsea.5V4B9756     4  #8d6c62   0.5529411764705883   \n",
      "11112  9_17_19.Maxsea.5V4B9756     4  #73544b  0.45098039215686275   \n",
      "11113  9_17_19.Maxsea.5V4B9756     4  #6c4a3b   0.4235294117647059   \n",
      "11114  9_17_19.Maxsea.5V4B9756     4  #9b7b72   0.6078431372549019   \n",
      "11115  9_17_19.Maxsea.5V4B9756     4  #805f56   0.5019607843137255   \n",
      "11116  9_17_19.Maxsea.5V4B9756     4  #331c12                  0.2   \n",
      "11117  9_17_19.Maxsea.5V4B9756     4  #5c402e   0.3607843137254902   \n",
      "11118  9_17_19.Maxsea.5V4B9756     4  #5a433e  0.35294117647058826   \n",
      "11119  9_17_19.Maxsea.5V4B9756     4  #636d9c  0.38823529411764707   \n",
      "11120  9_17_19.Maxsea.5V4B9756     5  #424454  0.25882352941176473   \n",
      "11121  9_17_19.Maxsea.5V4B9756     5  #826046   0.5098039215686274   \n",
      "11122  9_17_19.Maxsea.5V4B9756     5  #939a5f   0.5764705882352941   \n",
      "11123  9_17_19.Maxsea.5V4B9756     5  #717e3a  0.44313725490196076   \n",
      "11124  9_17_19.Maxsea.5V4B9756     5  #63702f  0.38823529411764707   \n",
      "11125  9_17_19.Maxsea.5V4B9756     5  #42541d  0.25882352941176473   \n",
      "11126  9_17_19.Maxsea.5V4B9756     5  #546325  0.32941176470588235   \n",
      "11127  9_17_19.Maxsea.5V4B9756     5  #6a4733  0.41568627450980394   \n",
      "11128  9_17_19.Maxsea.5V4B9756     5  #838846   0.5137254901960784   \n",
      "\n",
      "                         G                     B    Freq  \n",
      "0      0.26666666666666666                   0.2   78003  \n",
      "1       0.7294117647058823     0.615686274509804   14514  \n",
      "2       0.6039215686274509   0.47843137254901963   53559  \n",
      "3       0.3764705882352941   0.18823529411764706   80175  \n",
      "4       0.3843137254901961   0.32941176470588235   70956  \n",
      "5       0.5019607843137255     0.403921568627451   85605  \n",
      "6      0.30980392156862746   0.12549019607843137   66540  \n",
      "7      0.27450980392156865   0.24705882352941178   73521  \n",
      "8      0.42745098039215684   0.27450980392156865   64074  \n",
      "9      0.14901960784313725  0.058823529411764705   20067  \n",
      "10      0.3607843137254902    0.1411764705882353   95568  \n",
      "11     0.26666666666666666    0.1843137254901961  149058  \n",
      "12     0.47058823529411764   0.36470588235294116  102717  \n",
      "13       0.403921568627451   0.26666666666666666  158466  \n",
      "14      0.5647058823529412    0.4823529411764706   44460  \n",
      "15      0.2901960784313726   0.23921568627450981  177222  \n",
      "16      0.7294117647058823    0.5764705882352941   26274  \n",
      "17      0.6235294117647059   0.30980392156862746   37653  \n",
      "18     0.43137254901960786   0.12941176470588237   47232  \n",
      "19     0.43137254901960786    0.2980392156862745  148029  \n",
      "20     0.07450980392156863  0.023529411764705882    5955  \n",
      "21       0.615686274509804    0.3058823529411765   26499  \n",
      "22      0.5215686274509804    0.4196078431372549   70449  \n",
      "23     0.28627450980392155   0.14901960784313725   81246  \n",
      "24     0.34509803921568627   0.24313725490196078  139158  \n",
      "25      0.6588235294117647    0.5490196078431373   38286  \n",
      "26     0.28627450980392155   0.16470588235294117  147834  \n",
      "27      0.6470588235294118    0.5176470588235295   26562  \n",
      "28      0.5333333333333333                   0.4   61869  \n",
      "29      0.3058823529411765                   0.2   86106  \n",
      "...                    ...                   ...     ...  \n",
      "11099  0.49411764705882355    0.2196078431372549  245202  \n",
      "11100  0.26666666666666666  0.047058823529411764   10995  \n",
      "11101   0.5686274509803921    0.2901960784313726  193215  \n",
      "11102   0.5254901960784314    0.2549019607843137  129615  \n",
      "11103   0.6549019607843137     0.396078431372549  107028  \n",
      "11104                  0.4    0.1607843137254902  231396  \n",
      "11105   0.5333333333333333    0.3254901960784314   56205  \n",
      "11106  0.38823529411764707   0.26666666666666666   72297  \n",
      "11107                  0.6   0.30196078431372547  151350  \n",
      "11108  0.29411764705882354    0.1803921568627451  138738  \n",
      "11109  0.48627450980392156   0.21176470588235294  223911  \n",
      "11110  0.30980392156862746   0.11764705882352941  181323  \n",
      "11111   0.4235294117647059    0.3843137254901961   72714  \n",
      "11112  0.32941176470588235   0.29411764705882354   79254  \n",
      "11113   0.2901960784313726   0.23137254901960785   54651  \n",
      "11114   0.4823529411764706    0.4470588235294118   27957  \n",
      "11115  0.37254901960784315   0.33725490196078434   87153  \n",
      "11116  0.10980392156862745   0.07058823529411765    4314  \n",
      "11117  0.25098039215686274    0.1803921568627451   31902  \n",
      "11118   0.2627450980392157   0.24313725490196078   34536  \n",
      "11119  0.42745098039215684     0.611764705882353    4434  \n",
      "11120  0.26666666666666666   0.32941176470588235    7890  \n",
      "11121   0.3764705882352941   0.27450980392156865   72948  \n",
      "11122   0.6039215686274509   0.37254901960784315   23616  \n",
      "11123  0.49411764705882355   0.22745098039215686   59712  \n",
      "11124   0.4392156862745098    0.1843137254901961   74187  \n",
      "11125  0.32941176470588235   0.11372549019607843   98436  \n",
      "11126  0.38823529411764707    0.1450980392156863   98046  \n",
      "11127   0.2784313725490196                   0.2  113496  \n",
      "11128   0.5333333333333333   0.27450980392156865   51828  \n",
      "\n",
      "[11129 rows x 7 columns]\n"
     ]
    }
   ],
   "source": [
    "from os.path import join\n",
    "from glob import glob\n",
    "import csv\n",
    "\n",
    "import numpy as np\n",
    "import pandas as pd\n",
    "import seaborn as sns\n",
    "import matplotlib as mpl\n",
    "from matplotlib import pyplot as plt\n",
    "\n",
    "images = glob('input/*.JPG')\n",
    "print(\"Input images:\", len(images))\n",
    "\n",
    "results = glob('*.csv')\n",
    "print(\"Result files:\", len(results))\n",
    "\n",
    "headers = []\n",
    "rows = []\n",
    "for result in results:\n",
    "    with open(result, 'r') as file:\n",
    "        reader = csv.reader(file)\n",
    "        if len(headers) == 0: headers = next(reader, None)\n",
    "        else: next(reader, None)\n",
    "        for row in reader: rows.append(row)\n",
    "\n",
    "df = pd.DataFrame(rows, columns=headers)\n",
    "print(df)"
   ]
  },
  {
   "cell_type": "markdown",
   "metadata": {},
   "source": [
    "Extract treatment from image name."
   ]
  },
  {
   "cell_type": "code",
   "execution_count": 58,
   "metadata": {},
   "outputs": [
    {
     "name": "stdout",
     "output_type": "stream",
     "text": [
      "                         Image Plant      Hex                    R  \\\n",
      "0      3_16_19.MaxSea.5V4B3153     0  #7a4433  0.47843137254901963   \n",
      "1      3_16_19.MaxSea.5V4B3153     0  #cbba9d    0.796078431372549   \n",
      "2      3_16_19.MaxSea.5V4B3153     0  #b79a7a   0.7176470588235294   \n",
      "3      3_16_19.MaxSea.5V4B3153     0  #7e6030  0.49411764705882355   \n",
      "4      3_16_19.MaxSea.5V4B3153     0  #7f6254   0.4980392156862745   \n",
      "5      3_16_19.MaxSea.5V4B3153     0  #a18067   0.6313725490196078   \n",
      "6      3_16_19.MaxSea.5V4B3153     0  #5b4f20   0.3568627450980392   \n",
      "7      3_16_19.MaxSea.5V4B3153     0  #61463f   0.3803921568627451   \n",
      "8      3_16_19.MaxSea.5V4B3153     0  #a06d46   0.6274509803921569   \n",
      "9      3_16_19.MaxSea.5V4B3153     1  #46260f  0.27450980392156865   \n",
      "10     3_16_19.MaxSea.5V4B3153     1  #775c24   0.4666666666666667   \n",
      "11     3_16_19.MaxSea.5V4B3153     1  #63442f  0.38823529411764707   \n",
      "12     3_16_19.MaxSea.5V4B3153     1  #9f785d   0.6235294117647059   \n",
      "13     3_16_19.MaxSea.5V4B3153     1  #8c6744   0.5490196078431373   \n",
      "14     3_16_19.MaxSea.5V4B3153     1  #b1907b   0.6941176470588235   \n",
      "15     3_16_19.MaxSea.5V4B3153     1  #7d4a3d  0.49019607843137253   \n",
      "16     3_16_19.MaxSea.5V4B3153     1  #cbba93    0.796078431372549   \n",
      "17     3_16_19.MaxSea.5V4B3153     1  #ab9f4f   0.6705882352941176   \n",
      "18     3_16_19.MaxSea.5V4B3153     2  #7c6e21  0.48627450980392156   \n",
      "19     3_16_19.MaxSea.5V4B3153     2  #9e6e4c   0.6196078431372549   \n",
      "20     3_16_19.MaxSea.5V4B3153     2  #2e1306   0.1803921568627451   \n",
      "21     3_16_19.MaxSea.5V4B3153     2  #9b9d4e   0.6078431372549019   \n",
      "22     3_16_19.MaxSea.5V4B3153     2  #b0856b   0.6901960784313725   \n",
      "23     3_16_19.MaxSea.5V4B3153     2  #5e4926   0.3686274509803922   \n",
      "24     3_16_19.MaxSea.5V4B3153     2  #89583e   0.5372549019607843   \n",
      "25     3_16_19.MaxSea.5V4B3153     2  #c9a88c    0.788235294117647   \n",
      "26     3_16_19.MaxSea.5V4B3153     2  #79492a   0.4745098039215686   \n",
      "27     3_16_19.MaxSea.5V4B3153     3  #bea584   0.7450980392156863   \n",
      "28     3_16_19.MaxSea.5V4B3153     3  #a68866   0.6509803921568628   \n",
      "29     3_16_19.MaxSea.5V4B3153     3  #974e33    0.592156862745098   \n",
      "...                        ...   ...      ...                  ...   \n",
      "11099  9_17_19.Maxsea.5V4B9756     2  #6e7e38  0.43137254901960786   \n",
      "11100  9_17_19.Maxsea.5V4B9756     2  #2c440c  0.17254901960784313   \n",
      "11101  9_17_19.Maxsea.5V4B9756     2  #7f914a   0.4980392156862745   \n",
      "11102  9_17_19.Maxsea.5V4B9756     3  #838641   0.5137254901960784   \n",
      "11103  9_17_19.Maxsea.5V4B9756     3  #a0a765   0.6274509803921569   \n",
      "11104  9_17_19.Maxsea.5V4B9756     3  #5c6629   0.3607843137254902   \n",
      "11105  9_17_19.Maxsea.5V4B9756     3  #a38853   0.6392156862745098   \n",
      "11106  9_17_19.Maxsea.5V4B9756     3  #846344   0.5176470588235295   \n",
      "11107  9_17_19.Maxsea.5V4B9756     3  #8c994d   0.5490196078431373   \n",
      "11108  9_17_19.Maxsea.5V4B9756     3  #694b2e   0.4117647058823529   \n",
      "11109  9_17_19.Maxsea.5V4B9756     3  #6f7c36  0.43529411764705883   \n",
      "11110  9_17_19.Maxsea.5V4B9756     3  #474f1e   0.2784313725490196   \n",
      "11111  9_17_19.Maxsea.5V4B9756     4  #8d6c62   0.5529411764705883   \n",
      "11112  9_17_19.Maxsea.5V4B9756     4  #73544b  0.45098039215686275   \n",
      "11113  9_17_19.Maxsea.5V4B9756     4  #6c4a3b   0.4235294117647059   \n",
      "11114  9_17_19.Maxsea.5V4B9756     4  #9b7b72   0.6078431372549019   \n",
      "11115  9_17_19.Maxsea.5V4B9756     4  #805f56   0.5019607843137255   \n",
      "11116  9_17_19.Maxsea.5V4B9756     4  #331c12                  0.2   \n",
      "11117  9_17_19.Maxsea.5V4B9756     4  #5c402e   0.3607843137254902   \n",
      "11118  9_17_19.Maxsea.5V4B9756     4  #5a433e  0.35294117647058826   \n",
      "11119  9_17_19.Maxsea.5V4B9756     4  #636d9c  0.38823529411764707   \n",
      "11120  9_17_19.Maxsea.5V4B9756     5  #424454  0.25882352941176473   \n",
      "11121  9_17_19.Maxsea.5V4B9756     5  #826046   0.5098039215686274   \n",
      "11122  9_17_19.Maxsea.5V4B9756     5  #939a5f   0.5764705882352941   \n",
      "11123  9_17_19.Maxsea.5V4B9756     5  #717e3a  0.44313725490196076   \n",
      "11124  9_17_19.Maxsea.5V4B9756     5  #63702f  0.38823529411764707   \n",
      "11125  9_17_19.Maxsea.5V4B9756     5  #42541d  0.25882352941176473   \n",
      "11126  9_17_19.Maxsea.5V4B9756     5  #546325  0.32941176470588235   \n",
      "11127  9_17_19.Maxsea.5V4B9756     5  #6a4733  0.41568627450980394   \n",
      "11128  9_17_19.Maxsea.5V4B9756     5  #838846   0.5137254901960784   \n",
      "\n",
      "                         G                     B    Freq Treatment  \n",
      "0      0.26666666666666666                   0.2   78003    MaxSea  \n",
      "1       0.7294117647058823     0.615686274509804   14514    MaxSea  \n",
      "2       0.6039215686274509   0.47843137254901963   53559    MaxSea  \n",
      "3       0.3764705882352941   0.18823529411764706   80175    MaxSea  \n",
      "4       0.3843137254901961   0.32941176470588235   70956    MaxSea  \n",
      "5       0.5019607843137255     0.403921568627451   85605    MaxSea  \n",
      "6      0.30980392156862746   0.12549019607843137   66540    MaxSea  \n",
      "7      0.27450980392156865   0.24705882352941178   73521    MaxSea  \n",
      "8      0.42745098039215684   0.27450980392156865   64074    MaxSea  \n",
      "9      0.14901960784313725  0.058823529411764705   20067    MaxSea  \n",
      "10      0.3607843137254902    0.1411764705882353   95568    MaxSea  \n",
      "11     0.26666666666666666    0.1843137254901961  149058    MaxSea  \n",
      "12     0.47058823529411764   0.36470588235294116  102717    MaxSea  \n",
      "13       0.403921568627451   0.26666666666666666  158466    MaxSea  \n",
      "14      0.5647058823529412    0.4823529411764706   44460    MaxSea  \n",
      "15      0.2901960784313726   0.23921568627450981  177222    MaxSea  \n",
      "16      0.7294117647058823    0.5764705882352941   26274    MaxSea  \n",
      "17      0.6235294117647059   0.30980392156862746   37653    MaxSea  \n",
      "18     0.43137254901960786   0.12941176470588237   47232    MaxSea  \n",
      "19     0.43137254901960786    0.2980392156862745  148029    MaxSea  \n",
      "20     0.07450980392156863  0.023529411764705882    5955    MaxSea  \n",
      "21       0.615686274509804    0.3058823529411765   26499    MaxSea  \n",
      "22      0.5215686274509804    0.4196078431372549   70449    MaxSea  \n",
      "23     0.28627450980392155   0.14901960784313725   81246    MaxSea  \n",
      "24     0.34509803921568627   0.24313725490196078  139158    MaxSea  \n",
      "25      0.6588235294117647    0.5490196078431373   38286    MaxSea  \n",
      "26     0.28627450980392155   0.16470588235294117  147834    MaxSea  \n",
      "27      0.6470588235294118    0.5176470588235295   26562    MaxSea  \n",
      "28      0.5333333333333333                   0.4   61869    MaxSea  \n",
      "29      0.3058823529411765                   0.2   86106    MaxSea  \n",
      "...                    ...                   ...     ...       ...  \n",
      "11099  0.49411764705882355    0.2196078431372549  245202       NaN  \n",
      "11100  0.26666666666666666  0.047058823529411764   10995       NaN  \n",
      "11101   0.5686274509803921    0.2901960784313726  193215       NaN  \n",
      "11102   0.5254901960784314    0.2549019607843137  129615       NaN  \n",
      "11103   0.6549019607843137     0.396078431372549  107028       NaN  \n",
      "11104                  0.4    0.1607843137254902  231396       NaN  \n",
      "11105   0.5333333333333333    0.3254901960784314   56205       NaN  \n",
      "11106  0.38823529411764707   0.26666666666666666   72297       NaN  \n",
      "11107                  0.6   0.30196078431372547  151350       NaN  \n",
      "11108  0.29411764705882354    0.1803921568627451  138738       NaN  \n",
      "11109  0.48627450980392156   0.21176470588235294  223911       NaN  \n",
      "11110  0.30980392156862746   0.11764705882352941  181323       NaN  \n",
      "11111   0.4235294117647059    0.3843137254901961   72714       NaN  \n",
      "11112  0.32941176470588235   0.29411764705882354   79254       NaN  \n",
      "11113   0.2901960784313726   0.23137254901960785   54651       NaN  \n",
      "11114   0.4823529411764706    0.4470588235294118   27957       NaN  \n",
      "11115  0.37254901960784315   0.33725490196078434   87153       NaN  \n",
      "11116  0.10980392156862745   0.07058823529411765    4314       NaN  \n",
      "11117  0.25098039215686274    0.1803921568627451   31902       NaN  \n",
      "11118   0.2627450980392157   0.24313725490196078   34536       NaN  \n",
      "11119  0.42745098039215684     0.611764705882353    4434       NaN  \n",
      "11120  0.26666666666666666   0.32941176470588235    7890       NaN  \n",
      "11121   0.3764705882352941   0.27450980392156865   72948       NaN  \n",
      "11122   0.6039215686274509   0.37254901960784315   23616       NaN  \n",
      "11123  0.49411764705882355   0.22745098039215686   59712       NaN  \n",
      "11124   0.4392156862745098    0.1843137254901961   74187       NaN  \n",
      "11125  0.32941176470588235   0.11372549019607843   98436       NaN  \n",
      "11126  0.38823529411764707    0.1450980392156863   98046       NaN  \n",
      "11127   0.2784313725490196                   0.2  113496       NaN  \n",
      "11128   0.5333333333333333   0.27450980392156865   51828       NaN  \n",
      "\n",
      "[11129 rows x 8 columns]\n"
     ]
    }
   ],
   "source": [
    "df['Treatment'] = df.apply(lambda row: 'Control' if 'Control' in row['Image'] else ('MaxSea' if 'MaxSea' in row['Image'] else ('CalMag' if 'CalMag' in row['Image'] else np.NaN)), axis=1)\n",
    "print(df)"
   ]
  },
  {
   "cell_type": "markdown",
   "metadata": {},
   "source": [
    "Drop rows with unknown treatment (TODO: ask Mason about unlabeled images)."
   ]
  },
  {
   "cell_type": "code",
   "execution_count": 59,
   "metadata": {},
   "outputs": [
    {
     "name": "stdout",
     "output_type": "stream",
     "text": [
      "                          Image Plant      Hex                    R  \\\n",
      "0       3_16_19.MaxSea.5V4B3153     0  #7a4433  0.47843137254901963   \n",
      "1       3_16_19.MaxSea.5V4B3153     0  #cbba9d    0.796078431372549   \n",
      "2       3_16_19.MaxSea.5V4B3153     0  #b79a7a   0.7176470588235294   \n",
      "3       3_16_19.MaxSea.5V4B3153     0  #7e6030  0.49411764705882355   \n",
      "4       3_16_19.MaxSea.5V4B3153     0  #7f6254   0.4980392156862745   \n",
      "5       3_16_19.MaxSea.5V4B3153     0  #a18067   0.6313725490196078   \n",
      "6       3_16_19.MaxSea.5V4B3153     0  #5b4f20   0.3568627450980392   \n",
      "7       3_16_19.MaxSea.5V4B3153     0  #61463f   0.3803921568627451   \n",
      "8       3_16_19.MaxSea.5V4B3153     0  #a06d46   0.6274509803921569   \n",
      "9       3_16_19.MaxSea.5V4B3153     1  #46260f  0.27450980392156865   \n",
      "10      3_16_19.MaxSea.5V4B3153     1  #775c24   0.4666666666666667   \n",
      "11      3_16_19.MaxSea.5V4B3153     1  #63442f  0.38823529411764707   \n",
      "12      3_16_19.MaxSea.5V4B3153     1  #9f785d   0.6235294117647059   \n",
      "13      3_16_19.MaxSea.5V4B3153     1  #8c6744   0.5490196078431373   \n",
      "14      3_16_19.MaxSea.5V4B3153     1  #b1907b   0.6941176470588235   \n",
      "15      3_16_19.MaxSea.5V4B3153     1  #7d4a3d  0.49019607843137253   \n",
      "16      3_16_19.MaxSea.5V4B3153     1  #cbba93    0.796078431372549   \n",
      "17      3_16_19.MaxSea.5V4B3153     1  #ab9f4f   0.6705882352941176   \n",
      "18      3_16_19.MaxSea.5V4B3153     2  #7c6e21  0.48627450980392156   \n",
      "19      3_16_19.MaxSea.5V4B3153     2  #9e6e4c   0.6196078431372549   \n",
      "20      3_16_19.MaxSea.5V4B3153     2  #2e1306   0.1803921568627451   \n",
      "21      3_16_19.MaxSea.5V4B3153     2  #9b9d4e   0.6078431372549019   \n",
      "22      3_16_19.MaxSea.5V4B3153     2  #b0856b   0.6901960784313725   \n",
      "23      3_16_19.MaxSea.5V4B3153     2  #5e4926   0.3686274509803922   \n",
      "24      3_16_19.MaxSea.5V4B3153     2  #89583e   0.5372549019607843   \n",
      "25      3_16_19.MaxSea.5V4B3153     2  #c9a88c    0.788235294117647   \n",
      "26      3_16_19.MaxSea.5V4B3153     2  #79492a   0.4745098039215686   \n",
      "27      3_16_19.MaxSea.5V4B3153     3  #bea584   0.7450980392156863   \n",
      "28      3_16_19.MaxSea.5V4B3153     3  #a68866   0.6509803921568628   \n",
      "29      3_16_19.MaxSea.5V4B3153     3  #974e33    0.592156862745098   \n",
      "...                         ...   ...      ...                  ...   \n",
      "11045  1_14_19.Control.5V4B3115     2  #6b563c   0.4196078431372549   \n",
      "11046  1_14_19.Control.5V4B3115     2  #9f9270   0.6235294117647059   \n",
      "11047  1_14_19.Control.5V4B3115     2  #724c2b   0.4470588235294118   \n",
      "11048  1_14_19.Control.5V4B3115     3  #7e6638  0.49411764705882355   \n",
      "11049  1_14_19.Control.5V4B3115     3  #94885c   0.5803921568627451   \n",
      "11050  1_14_19.Control.5V4B3115     3  #4b5123  0.29411764705882354   \n",
      "11051  1_14_19.Control.5V4B3115     3  #73562f  0.45098039215686275   \n",
      "11052  1_14_19.Control.5V4B3115     3  #635738  0.38823529411764707   \n",
      "11053  1_14_19.Control.5V4B3115     3  #81704e   0.5058823529411764   \n",
      "11054  1_14_19.Control.5V4B3115     3  #744c24   0.4549019607843137   \n",
      "11055  1_14_19.Control.5V4B3115     3  #7c9183  0.48627450980392156   \n",
      "11056  1_14_19.Control.5V4B3115     3  #644825  0.39215686274509803   \n",
      "11057  1_14_19.Control.5V4B3115     4  #60583f   0.3764705882352941   \n",
      "11058  1_14_19.Control.5V4B3115     4  #6f5531  0.43529411764705883   \n",
      "11059  1_14_19.Control.5V4B3115     4  #8e764c   0.5568627450980392   \n",
      "11060  1_14_19.Control.5V4B3115     4  #4f482b  0.30980392156862746   \n",
      "11061  1_14_19.Control.5V4B3115     4  #998964                  0.6   \n",
      "11062  1_14_19.Control.5V4B3115     4  #864034   0.5254901960784314   \n",
      "11063  1_14_19.Control.5V4B3115     4  #674628    0.403921568627451   \n",
      "11064  1_14_19.Control.5V4B3115     4  #aba07f   0.6705882352941176   \n",
      "11065  1_14_19.Control.5V4B3115     4  #7d6744  0.49019607843137253   \n",
      "11066  1_14_19.Control.5V4B3115     5  #8f805b   0.5607843137254902   \n",
      "11067  1_14_19.Control.5V4B3115     5  #71642c  0.44313725490196076   \n",
      "11068  1_14_19.Control.5V4B3115     5  #644826  0.39215686274509803   \n",
      "11069  1_14_19.Control.5V4B3115     5  #695234   0.4117647058823529   \n",
      "11070  1_14_19.Control.5V4B3115     5  #735d3f  0.45098039215686275   \n",
      "11071  1_14_19.Control.5V4B3115     5  #7a6c51  0.47843137254901963   \n",
      "11072  1_14_19.Control.5V4B3115     5  #4d4b24  0.30196078431372547   \n",
      "11073  1_14_19.Control.5V4B3115     5  #553a1c   0.3333333333333333   \n",
      "11074  1_14_19.Control.5V4B3115     5  #58462d  0.34509803921568627   \n",
      "\n",
      "                         G                     B    Freq Treatment  \n",
      "0      0.26666666666666666                   0.2   78003    MaxSea  \n",
      "1       0.7294117647058823     0.615686274509804   14514    MaxSea  \n",
      "2       0.6039215686274509   0.47843137254901963   53559    MaxSea  \n",
      "3       0.3764705882352941   0.18823529411764706   80175    MaxSea  \n",
      "4       0.3843137254901961   0.32941176470588235   70956    MaxSea  \n",
      "5       0.5019607843137255     0.403921568627451   85605    MaxSea  \n",
      "6      0.30980392156862746   0.12549019607843137   66540    MaxSea  \n",
      "7      0.27450980392156865   0.24705882352941178   73521    MaxSea  \n",
      "8      0.42745098039215684   0.27450980392156865   64074    MaxSea  \n",
      "9      0.14901960784313725  0.058823529411764705   20067    MaxSea  \n",
      "10      0.3607843137254902    0.1411764705882353   95568    MaxSea  \n",
      "11     0.26666666666666666    0.1843137254901961  149058    MaxSea  \n",
      "12     0.47058823529411764   0.36470588235294116  102717    MaxSea  \n",
      "13       0.403921568627451   0.26666666666666666  158466    MaxSea  \n",
      "14      0.5647058823529412    0.4823529411764706   44460    MaxSea  \n",
      "15      0.2901960784313726   0.23921568627450981  177222    MaxSea  \n",
      "16      0.7294117647058823    0.5764705882352941   26274    MaxSea  \n",
      "17      0.6235294117647059   0.30980392156862746   37653    MaxSea  \n",
      "18     0.43137254901960786   0.12941176470588237   47232    MaxSea  \n",
      "19     0.43137254901960786    0.2980392156862745  148029    MaxSea  \n",
      "20     0.07450980392156863  0.023529411764705882    5955    MaxSea  \n",
      "21       0.615686274509804    0.3058823529411765   26499    MaxSea  \n",
      "22      0.5215686274509804    0.4196078431372549   70449    MaxSea  \n",
      "23     0.28627450980392155   0.14901960784313725   81246    MaxSea  \n",
      "24     0.34509803921568627   0.24313725490196078  139158    MaxSea  \n",
      "25      0.6588235294117647    0.5490196078431373   38286    MaxSea  \n",
      "26     0.28627450980392155   0.16470588235294117  147834    MaxSea  \n",
      "27      0.6470588235294118    0.5176470588235295   26562    MaxSea  \n",
      "28      0.5333333333333333                   0.4   61869    MaxSea  \n",
      "29      0.3058823529411765                   0.2   86106    MaxSea  \n",
      "...                    ...                   ...     ...       ...  \n",
      "11045  0.33725490196078434   0.23529411764705882   59091   Control  \n",
      "11046   0.5725490196078431    0.4392156862745098    6483   Control  \n",
      "11047   0.2980392156862745   0.16862745098039217   58656   Control  \n",
      "11048                  0.4    0.2196078431372549   12387   Control  \n",
      "11049   0.5333333333333333    0.3607843137254902   10254   Control  \n",
      "11050   0.3176470588235294   0.13725490196078433   21249   Control  \n",
      "11051  0.33725490196078434    0.1843137254901961   13536   Control  \n",
      "11052   0.3411764705882353    0.2196078431372549   13383   Control  \n",
      "11053   0.4392156862745098    0.3058823529411765   16416   Control  \n",
      "11054   0.2980392156862745    0.1411764705882353   11811   Control  \n",
      "11055   0.5686274509803921    0.5137254901960784    3300   Control  \n",
      "11056   0.2823529411764706    0.1450980392156863   32892   Control  \n",
      "11057  0.34509803921568627   0.24705882352941178    5916   Control  \n",
      "11058   0.3333333333333333   0.19215686274509805   11505   Control  \n",
      "11059   0.4627450980392157    0.2980392156862745   12753   Control  \n",
      "11060   0.2823529411764706   0.16862745098039217    8172   Control  \n",
      "11061   0.5372549019607843   0.39215686274509803    6912   Control  \n",
      "11062  0.25098039215686274   0.20392156862745098   12315   Control  \n",
      "11063  0.27450980392156865    0.1568627450980392   18210   Control  \n",
      "11064   0.6274509803921569    0.4980392156862745    2037   Control  \n",
      "11065    0.403921568627451   0.26666666666666666   12417   Control  \n",
      "11066   0.5019607843137255    0.3568627450980392    1716   Control  \n",
      "11067  0.39215686274509803   0.17254901960784313    1782   Control  \n",
      "11068   0.2823529411764706   0.14901960784313725   12966   Control  \n",
      "11069   0.3215686274509804   0.20392156862745098   15279   Control  \n",
      "11070  0.36470588235294116   0.24705882352941178    9093   Control  \n",
      "11071   0.4235294117647059    0.3176470588235294    4692   Control  \n",
      "11072  0.29411764705882354    0.1411764705882353    2091   Control  \n",
      "11073  0.22745098039215686   0.10980392156862745    1776   Control  \n",
      "11074  0.27450980392156865   0.17647058823529413   16389   Control  \n",
      "\n",
      "[5031 rows x 8 columns]\n"
     ]
    }
   ],
   "source": [
    "df.dropna(how='any', inplace=True)\n",
    "print(df)"
   ]
  },
  {
   "cell_type": "markdown",
   "metadata": {},
   "source": [
    "Add columns for HSV color representation."
   ]
  },
  {
   "cell_type": "code",
   "execution_count": 60,
   "metadata": {},
   "outputs": [
    {
     "name": "stdout",
     "output_type": "stream",
     "text": [
      "                          Image Plant      Hex                    R  \\\n",
      "0       3_16_19.MaxSea.5V4B3153     0  #7a4433  0.47843137254901963   \n",
      "1       3_16_19.MaxSea.5V4B3153     0  #cbba9d    0.796078431372549   \n",
      "2       3_16_19.MaxSea.5V4B3153     0  #b79a7a   0.7176470588235294   \n",
      "3       3_16_19.MaxSea.5V4B3153     0  #7e6030  0.49411764705882355   \n",
      "4       3_16_19.MaxSea.5V4B3153     0  #7f6254   0.4980392156862745   \n",
      "5       3_16_19.MaxSea.5V4B3153     0  #a18067   0.6313725490196078   \n",
      "6       3_16_19.MaxSea.5V4B3153     0  #5b4f20   0.3568627450980392   \n",
      "7       3_16_19.MaxSea.5V4B3153     0  #61463f   0.3803921568627451   \n",
      "8       3_16_19.MaxSea.5V4B3153     0  #a06d46   0.6274509803921569   \n",
      "9       3_16_19.MaxSea.5V4B3153     1  #46260f  0.27450980392156865   \n",
      "10      3_16_19.MaxSea.5V4B3153     1  #775c24   0.4666666666666667   \n",
      "11      3_16_19.MaxSea.5V4B3153     1  #63442f  0.38823529411764707   \n",
      "12      3_16_19.MaxSea.5V4B3153     1  #9f785d   0.6235294117647059   \n",
      "13      3_16_19.MaxSea.5V4B3153     1  #8c6744   0.5490196078431373   \n",
      "14      3_16_19.MaxSea.5V4B3153     1  #b1907b   0.6941176470588235   \n",
      "15      3_16_19.MaxSea.5V4B3153     1  #7d4a3d  0.49019607843137253   \n",
      "16      3_16_19.MaxSea.5V4B3153     1  #cbba93    0.796078431372549   \n",
      "17      3_16_19.MaxSea.5V4B3153     1  #ab9f4f   0.6705882352941176   \n",
      "18      3_16_19.MaxSea.5V4B3153     2  #7c6e21  0.48627450980392156   \n",
      "19      3_16_19.MaxSea.5V4B3153     2  #9e6e4c   0.6196078431372549   \n",
      "20      3_16_19.MaxSea.5V4B3153     2  #2e1306   0.1803921568627451   \n",
      "21      3_16_19.MaxSea.5V4B3153     2  #9b9d4e   0.6078431372549019   \n",
      "22      3_16_19.MaxSea.5V4B3153     2  #b0856b   0.6901960784313725   \n",
      "23      3_16_19.MaxSea.5V4B3153     2  #5e4926   0.3686274509803922   \n",
      "24      3_16_19.MaxSea.5V4B3153     2  #89583e   0.5372549019607843   \n",
      "25      3_16_19.MaxSea.5V4B3153     2  #c9a88c    0.788235294117647   \n",
      "26      3_16_19.MaxSea.5V4B3153     2  #79492a   0.4745098039215686   \n",
      "27      3_16_19.MaxSea.5V4B3153     3  #bea584   0.7450980392156863   \n",
      "28      3_16_19.MaxSea.5V4B3153     3  #a68866   0.6509803921568628   \n",
      "29      3_16_19.MaxSea.5V4B3153     3  #974e33    0.592156862745098   \n",
      "...                         ...   ...      ...                  ...   \n",
      "11045  1_14_19.Control.5V4B3115     2  #6b563c   0.4196078431372549   \n",
      "11046  1_14_19.Control.5V4B3115     2  #9f9270   0.6235294117647059   \n",
      "11047  1_14_19.Control.5V4B3115     2  #724c2b   0.4470588235294118   \n",
      "11048  1_14_19.Control.5V4B3115     3  #7e6638  0.49411764705882355   \n",
      "11049  1_14_19.Control.5V4B3115     3  #94885c   0.5803921568627451   \n",
      "11050  1_14_19.Control.5V4B3115     3  #4b5123  0.29411764705882354   \n",
      "11051  1_14_19.Control.5V4B3115     3  #73562f  0.45098039215686275   \n",
      "11052  1_14_19.Control.5V4B3115     3  #635738  0.38823529411764707   \n",
      "11053  1_14_19.Control.5V4B3115     3  #81704e   0.5058823529411764   \n",
      "11054  1_14_19.Control.5V4B3115     3  #744c24   0.4549019607843137   \n",
      "11055  1_14_19.Control.5V4B3115     3  #7c9183  0.48627450980392156   \n",
      "11056  1_14_19.Control.5V4B3115     3  #644825  0.39215686274509803   \n",
      "11057  1_14_19.Control.5V4B3115     4  #60583f   0.3764705882352941   \n",
      "11058  1_14_19.Control.5V4B3115     4  #6f5531  0.43529411764705883   \n",
      "11059  1_14_19.Control.5V4B3115     4  #8e764c   0.5568627450980392   \n",
      "11060  1_14_19.Control.5V4B3115     4  #4f482b  0.30980392156862746   \n",
      "11061  1_14_19.Control.5V4B3115     4  #998964                  0.6   \n",
      "11062  1_14_19.Control.5V4B3115     4  #864034   0.5254901960784314   \n",
      "11063  1_14_19.Control.5V4B3115     4  #674628    0.403921568627451   \n",
      "11064  1_14_19.Control.5V4B3115     4  #aba07f   0.6705882352941176   \n",
      "11065  1_14_19.Control.5V4B3115     4  #7d6744  0.49019607843137253   \n",
      "11066  1_14_19.Control.5V4B3115     5  #8f805b   0.5607843137254902   \n",
      "11067  1_14_19.Control.5V4B3115     5  #71642c  0.44313725490196076   \n",
      "11068  1_14_19.Control.5V4B3115     5  #644826  0.39215686274509803   \n",
      "11069  1_14_19.Control.5V4B3115     5  #695234   0.4117647058823529   \n",
      "11070  1_14_19.Control.5V4B3115     5  #735d3f  0.45098039215686275   \n",
      "11071  1_14_19.Control.5V4B3115     5  #7a6c51  0.47843137254901963   \n",
      "11072  1_14_19.Control.5V4B3115     5  #4d4b24  0.30196078431372547   \n",
      "11073  1_14_19.Control.5V4B3115     5  #553a1c   0.3333333333333333   \n",
      "11074  1_14_19.Control.5V4B3115     5  #58462d  0.34509803921568627   \n",
      "\n",
      "                         G                     B    Freq Treatment         H  \\\n",
      "0      0.26666666666666666                   0.2   78003    MaxSea  0.039906   \n",
      "1       0.7294117647058823     0.615686274509804   14514    MaxSea  0.105072   \n",
      "2       0.6039215686274509   0.47843137254901963   53559    MaxSea  0.087432   \n",
      "3       0.3764705882352941   0.18823529411764706   80175    MaxSea  0.102564   \n",
      "4       0.3843137254901961   0.32941176470588235   70956    MaxSea  0.054264   \n",
      "5       0.5019607843137255     0.403921568627451   85605    MaxSea  0.071839   \n",
      "6      0.30980392156862746   0.12549019607843137   66540    MaxSea  0.132768   \n",
      "7      0.27450980392156865   0.24705882352941178   73521    MaxSea  0.034314   \n",
      "8      0.42745098039215684   0.27450980392156865   64074    MaxSea  0.072222   \n",
      "9      0.14901960784313725  0.058823529411764705   20067    MaxSea  0.069697   \n",
      "10      0.3607843137254902    0.1411764705882353   95568    MaxSea  0.112450   \n",
      "11     0.26666666666666666    0.1843137254901961  149058    MaxSea  0.067308   \n",
      "12     0.47058823529411764   0.36470588235294116  102717    MaxSea  0.068182   \n",
      "13       0.403921568627451   0.26666666666666666  158466    MaxSea  0.081019   \n",
      "14      0.5647058823529412    0.4823529411764706   44460    MaxSea  0.064815   \n",
      "15      0.2901960784313726   0.23921568627450981  177222    MaxSea  0.033854   \n",
      "16      0.7294117647058823    0.5764705882352941   26274    MaxSea  0.116071   \n",
      "17      0.6235294117647059   0.30980392156862746   37653    MaxSea  0.144928   \n",
      "18     0.43137254901960786   0.12941176470588237   47232    MaxSea  0.141026   \n",
      "19     0.43137254901960786    0.2980392156862745  148029    MaxSea  0.069106   \n",
      "20     0.07450980392156863  0.023529411764705882    5955    MaxSea  0.054167   \n",
      "21       0.615686274509804    0.3058823529411765   26499    MaxSea  0.170886   \n",
      "22      0.5215686274509804    0.4196078431372549   70449    MaxSea  0.062802   \n",
      "23     0.28627450980392155   0.14901960784313725   81246    MaxSea  0.104167   \n",
      "24     0.34509803921568627   0.24313725490196078  139158    MaxSea  0.057778   \n",
      "25      0.6588235294117647    0.5490196078431373   38286    MaxSea  0.076503   \n",
      "26     0.28627450980392155   0.16470588235294117  147834    MaxSea  0.065401   \n",
      "27      0.6470588235294118    0.5176470588235295   26562    MaxSea  0.094828   \n",
      "28      0.5333333333333333                   0.4   61869    MaxSea  0.088542   \n",
      "29      0.3058823529411765                   0.2   86106    MaxSea  0.045000   \n",
      "...                    ...                   ...     ...       ...       ...   \n",
      "11045  0.33725490196078434   0.23529411764705882   59091   Control  0.092199   \n",
      "11046   0.5725490196078431    0.4392156862745098    6483   Control  0.120567   \n",
      "11047   0.2980392156862745   0.16862745098039217   58656   Control  0.077465   \n",
      "11048                  0.4    0.2196078431372549   12387   Control  0.109524   \n",
      "11049   0.5333333333333333    0.3607843137254902   10254   Control  0.130952   \n",
      "11050   0.3176470588235294   0.13725490196078433   21249   Control  0.188406   \n",
      "11051  0.33725490196078434    0.1843137254901961   13536   Control  0.095588   \n",
      "11052   0.3411764705882353    0.2196078431372549   13383   Control  0.120155   \n",
      "11053   0.4392156862745098    0.3058823529411765   16416   Control  0.111111   \n",
      "11054   0.2980392156862745    0.1411764705882353   11811   Control  0.083333   \n",
      "11055   0.5686274509803921    0.5137254901960784    3300   Control  0.388889   \n",
      "11056   0.2823529411764706    0.1450980392156863   32892   Control  0.092593   \n",
      "11057  0.34509803921568627   0.24705882352941178    5916   Control  0.126263   \n",
      "11058   0.3333333333333333   0.19215686274509805   11505   Control  0.096774   \n",
      "11059   0.4627450980392157    0.2980392156862745   12753   Control  0.106061   \n",
      "11060   0.2823529411764706   0.16862745098039217    8172   Control  0.134259   \n",
      "11061   0.5372549019607843   0.39215686274509803    6912   Control  0.116352   \n",
      "11062  0.25098039215686274   0.20392156862745098   12315   Control  0.024390   \n",
      "11063  0.27450980392156865    0.1568627450980392   18210   Control  0.079365   \n",
      "11064   0.6274509803921569    0.4980392156862745    2037   Control  0.125000   \n",
      "11065    0.403921568627451   0.26666666666666666   12417   Control  0.102339   \n",
      "11066   0.5019607843137255    0.3568627450980392    1716   Control  0.118590   \n",
      "11067  0.39215686274509803   0.17254901960784313    1782   Control  0.135266   \n",
      "11068   0.2823529411764706   0.14901960784313725   12966   Control  0.091398   \n",
      "11069   0.3215686274509804   0.20392156862745098   15279   Control  0.094340   \n",
      "11070  0.36470588235294116   0.24705882352941178    9093   Control  0.096154   \n",
      "11071   0.4235294117647059    0.3176470588235294    4692   Control  0.109756   \n",
      "11072  0.29411764705882354    0.1411764705882353    2091   Control  0.158537   \n",
      "11073  0.22745098039215686   0.10980392156862745    1776   Control  0.087719   \n",
      "11074  0.27450980392156865   0.17647058823529413   16389   Control  0.096899   \n",
      "\n",
      "              S         V  \n",
      "0      0.581967  0.478431  \n",
      "1      0.226601  0.796078  \n",
      "2      0.333333  0.717647  \n",
      "3      0.619048  0.494118  \n",
      "4      0.338583  0.498039  \n",
      "5      0.360248  0.631373  \n",
      "6      0.648352  0.356863  \n",
      "7      0.350515  0.380392  \n",
      "8      0.562500  0.627451  \n",
      "9      0.785714  0.274510  \n",
      "10     0.697479  0.466667  \n",
      "11     0.525253  0.388235  \n",
      "12     0.415094  0.623529  \n",
      "13     0.514286  0.549020  \n",
      "14     0.305085  0.694118  \n",
      "15     0.512000  0.490196  \n",
      "16     0.275862  0.796078  \n",
      "17     0.538012  0.670588  \n",
      "18     0.733871  0.486275  \n",
      "19     0.518987  0.619608  \n",
      "20     0.869565  0.180392  \n",
      "21     0.503185  0.615686  \n",
      "22     0.392045  0.690196  \n",
      "23     0.595745  0.368627  \n",
      "24     0.547445  0.537255  \n",
      "25     0.303483  0.788235  \n",
      "26     0.652893  0.474510  \n",
      "27     0.305263  0.745098  \n",
      "28     0.385542  0.650980  \n",
      "29     0.662252  0.592157  \n",
      "...         ...       ...  \n",
      "11045  0.439252  0.419608  \n",
      "11046  0.295597  0.623529  \n",
      "11047  0.622807  0.447059  \n",
      "11048  0.555556  0.494118  \n",
      "11049  0.378378  0.580392  \n",
      "11050  0.567901  0.317647  \n",
      "11051  0.591304  0.450980  \n",
      "11052  0.434343  0.388235  \n",
      "11053  0.395349  0.505882  \n",
      "11054  0.689655  0.454902  \n",
      "11055  0.144828  0.568627  \n",
      "11056  0.630000  0.392157  \n",
      "11057  0.343750  0.376471  \n",
      "11058  0.558559  0.435294  \n",
      "11059  0.464789  0.556863  \n",
      "11060  0.455696  0.309804  \n",
      "11061  0.346405  0.600000  \n",
      "11062  0.611940  0.525490  \n",
      "11063  0.611650  0.403922  \n",
      "11064  0.257310  0.670588  \n",
      "11065  0.456000  0.490196  \n",
      "11066  0.363636  0.560784  \n",
      "11067  0.610619  0.443137  \n",
      "11068  0.620000  0.392157  \n",
      "11069  0.504762  0.411765  \n",
      "11070  0.452174  0.450980  \n",
      "11071  0.336066  0.478431  \n",
      "11072  0.532468  0.301961  \n",
      "11073  0.670588  0.333333  \n",
      "11074  0.488636  0.345098  \n",
      "\n",
      "[5031 rows x 11 columns]\n"
     ]
    }
   ],
   "source": [
    "from colorsys import rgb_to_hsv\n",
    "\n",
    "def to_hsv(row):\n",
    "    hsv = rgb_to_hsv(float(row['R']), float(row['G']), float(row['B']))\n",
    "    return [hsv[0], hsv[1], hsv[2]]\n",
    "\n",
    "df['H'], df['S'], df['V'] = zip(*df.apply(lambda row: to_hsv(row), axis=1))\n",
    "print(df)"
   ]
  },
  {
   "cell_type": "markdown",
   "metadata": {},
   "source": [
    "Compute aggregate stats for each treatment separately."
   ]
  },
  {
   "cell_type": "code",
   "execution_count": 99,
   "metadata": {},
   "outputs": [
    {
     "name": "stdout",
     "output_type": "stream",
     "text": [
      "CalMag: 1262\n",
      "               R           G           B    Freq\n",
      "378    93.364706   70.274510   49.192157   45687\n",
      "379   176.690196  191.749020  117.458824   33468\n",
      "380   162.635294  125.490196  116.454902   19008\n",
      "381   138.541176   97.380392   89.349020   37614\n",
      "382   119.466667   77.301961   63.247059   45819\n",
      "383   155.607843  167.654902   87.341176   42453\n",
      "384   114.447059  117.458824   40.156863   48150\n",
      "385    91.356863   91.356863   23.090196   31638\n",
      "386   140.549020  151.592157   48.188235   55347\n",
      "387   124.486275   80.313725   44.172549  112098\n",
      "388   184.721569  161.631373  142.556863   14310\n",
      "389   143.560784  103.403922   71.278431   55710\n",
      "390   146.572549  125.490196  102.400000   54816\n",
      "391   160.627451  178.698039   97.380392   19980\n",
      "392   115.450980   94.368627   70.274510   85677\n",
      "393    91.356863   79.309804   36.141176  157902\n",
      "394   134.525490  137.537255   53.207843   56172\n",
      "395   117.458824  113.443137   38.149020  106638\n",
      "396   139.545098  142.556863   53.207843   52209\n",
      "397   118.462745  115.450980   40.156863   54387\n",
      "398   167.654902  165.647059  120.470588   20202\n",
      "399    97.380392  101.396078   27.105882   72750\n",
      "400   135.529412   89.349020   89.349020   69633\n",
      "401   116.454902   72.282353   64.250980   68514\n",
      "402   153.600000  115.450980  111.435294   44403\n",
      "403    90.352941   69.270588   45.176471   48645\n",
      "404    80.313725   89.349020   18.070588   66087\n",
      "405    92.360784   75.294118   55.215686   83217\n",
      "406   135.529412  126.494118   42.164706   47265\n",
      "407   127.498039  106.415686   88.345098   62283\n",
      "...          ...         ...         ...     ...\n",
      "1144  134.525490  112.439216   88.345098   23145\n",
      "1145  109.427451   86.337255   64.250980   41481\n",
      "1146  134.525490  106.415686   77.301961   19458\n",
      "1147  120.470588  128.501961   42.164706    7296\n",
      "1148  200.784314  196.768627  173.678431     936\n",
      "1149   93.364706  107.419608   29.113725    9618\n",
      "1150  101.396078   93.364706   74.290196   25911\n",
      "1151   99.388235   75.294118   49.192157   40551\n",
      "1152  152.596078  139.545098  109.427451    5655\n",
      "1153   68.266667   72.282353   52.203922   43641\n",
      "1154   74.290196   87.341176   20.078431   16176\n",
      "1155  156.611765  126.494118   98.384314   19560\n",
      "1156  115.450980  101.396078   83.325490    7041\n",
      "1157  178.698039  150.588235  117.458824    5718\n",
      "1158  131.513725   99.388235   71.278431   34524\n",
      "1159  121.474510   89.349020   62.243137   46635\n",
      "1160  141.552941  111.435294   84.329412   27054\n",
      "1161  109.427451   80.313725   54.211765   54996\n",
      "1162   84.329412   69.270588   48.188235   23925\n",
      "1163  100.392157   70.274510   43.168627   44553\n",
      "1164  143.560784  150.588235   65.254902   10830\n",
      "1165  150.588235  123.482353  101.396078    3945\n",
      "1166  113.443137   65.254902   50.196078   69696\n",
      "1167  134.525490  112.439216   53.207843   20505\n",
      "1168   95.372549   88.345098   64.250980   31923\n",
      "1169  132.517647   83.325490   63.247059   36327\n",
      "1170   72.282353   87.341176   23.090196   59844\n",
      "1171  122.478431  137.537255   46.180392   20676\n",
      "1172   97.380392  108.423529   33.129412   32427\n",
      "1173  132.517647  108.423529   47.184314   27714\n",
      "\n",
      "[100 rows x 4 columns]\n",
      "[(93.36470588235294, 70.27450980392157, 49.1921568627451), (176.69019607843137, 191.74901960784314, 117.45882352941176), (162.63529411764705, 125.49019607843137, 116.45490196078431), (138.54117647058823, 97.38039215686274, 89.34901960784313), (119.46666666666667, 77.30196078431372, 63.247058823529414), (155.6078431372549, 167.65490196078431, 87.34117647058824), (114.44705882352942, 117.45882352941176, 40.15686274509804), (91.35686274509804, 91.35686274509804, 23.090196078431372), (140.54901960784315, 151.5921568627451, 48.188235294117646), (124.48627450980392, 80.31372549019608, 44.17254901960784), (184.72156862745098, 161.6313725490196, 142.55686274509804), (143.5607843137255, 103.40392156862745, 71.27843137254902), (146.57254901960783, 125.49019607843137, 102.4), (160.62745098039215, 178.69803921568626, 97.38039215686274), (115.45098039215686, 94.3686274509804, 70.27450980392157), (91.35686274509804, 79.30980392156863, 36.141176470588235), (134.52549019607844, 137.53725490196078, 53.207843137254905), (117.45882352941176, 113.44313725490196, 38.14901960784314), (139.54509803921567, 142.55686274509804, 53.207843137254905), (118.46274509803922, 115.45098039215686, 40.15686274509804), (167.65490196078431, 165.64705882352942, 120.47058823529412), (97.38039215686274, 101.39607843137254, 27.105882352941176), (135.52941176470588, 89.34901960784313, 89.34901960784313), (116.45490196078431, 72.28235294117647, 64.25098039215686), (153.6, 115.45098039215686, 111.43529411764706), (90.3529411764706, 69.27058823529411, 45.1764705882353), (80.31372549019608, 89.34901960784313, 18.070588235294117), (92.36078431372549, 75.29411764705883, 55.21568627450981), (135.52941176470588, 126.49411764705883, 42.16470588235294), (127.49803921568628, 106.41568627450981, 88.34509803921569), (125.49019607843137, 90.3529411764706, 40.15686274509804), (182.71372549019608, 189.74117647058824, 123.48235294117647), (99.38823529411765, 78.30588235294118, 24.094117647058823), (164.64313725490197, 152.59607843137255, 101.39607843137254), (154.60392156862744, 153.6, 61.23921568627451), (110.43137254901961, 106.41568627450981, 24.094117647058823), (125.49019607843137, 119.46666666666667, 47.1843137254902), (170.66666666666666, 170.66666666666666, 102.4), (99.38823529411765, 70.27450980392157, 51.2), (146.57254901960783, 108.4235294117647, 95.37254901960785), (126.49411764705883, 81.31764705882352, 69.27058823529411), (93.36470588235294, 96.37647058823529, 23.090196078431372), (133.521568627451, 181.70980392156864, 232.90980392156862), (186.72941176470587, 191.74901960784314, 136.53333333333333), (151.5921568627451, 153.6, 71.27843137254902), (180.7058823529412, 184.72156862745098, 127.49803921568628), (113.44313725490196, 101.39607843137254, 32.12549019607843), (142.55686274509804, 134.52549019607844, 57.22352941176471), (128.50196078431372, 100.3921568627451, 85.33333333333333), (155.6078431372549, 140.54901960784315, 110.43137254901961), (82.32156862745099, 115.45098039215686, 119.46666666666667), (111.43529411764706, 76.29803921568627, 63.247058823529414), (54.21176470588235, 78.30588235294118, 79.30980392156863), (92.36078431372549, 70.27450980392157, 44.17254901960784), (151.5921568627451, 138.54117647058823, 62.24313725490196), (137.53725490196078, 110.43137254901961, 78.30588235294118), (162.63529411764705, 152.59607843137255, 85.33333333333333), (124.48627450980392, 79.30980392156863, 39.15294117647059), (106.41568627450981, 104.4078431372549, 31.12156862745098), (110.43137254901961, 93.36470588235294, 68.26666666666667), (128.50196078431372, 127.49803921568628, 45.1764705882353), (85.33333333333333, 87.34117647058824, 23.090196078431372), (92.36078431372549, 72.28235294117647, 47.1843137254902), (167.65490196078431, 133.521568627451, 80.31372549019608), (155.6078431372549, 119.46666666666667, 65.25490196078431), (136.53333333333333, 107.41960784313726, 48.188235294117646), (109.42745098039215, 101.39607843137254, 33.129411764705885), (183.71764705882353, 148.58039215686276, 102.4), (124.48627450980392, 79.30980392156863, 37.14509803921569), (87.34117647058824, 75.29411764705883, 40.15686274509804), (134.52549019607844, 112.43921568627451, 88.34509803921569), (109.42745098039215, 86.33725490196079, 64.25098039215686), (134.52549019607844, 106.41568627450981, 77.30196078431372), (120.47058823529412, 128.50196078431372, 42.16470588235294), (200.7843137254902, 196.7686274509804, 173.67843137254903), (93.36470588235294, 107.41960784313726, 29.113725490196078), (101.39607843137254, 93.36470588235294, 74.29019607843138), (99.38823529411765, 75.29411764705883, 49.1921568627451), (152.59607843137255, 139.54509803921567, 109.42745098039215), (68.26666666666667, 72.28235294117647, 52.20392156862745), (74.29019607843138, 87.34117647058824, 20.07843137254902), (156.61176470588236, 126.49411764705883, 98.3843137254902), (115.45098039215686, 101.39607843137254, 83.32549019607843), (178.69803921568626, 150.58823529411765, 117.45882352941176), (131.51372549019607, 99.38823529411765, 71.27843137254902), (121.47450980392156, 89.34901960784313, 62.24313725490196), (141.5529411764706, 111.43529411764706, 84.32941176470588), (109.42745098039215, 80.31372549019608, 54.21176470588235), (84.32941176470588, 69.27058823529411, 48.188235294117646), (100.3921568627451, 70.27450980392157, 43.168627450980395), (143.5607843137255, 150.58823529411765, 65.25490196078431), (150.58823529411765, 123.48235294117647, 101.39607843137254), (113.44313725490196, 65.25490196078431, 50.19607843137255), (134.52549019607844, 112.43921568627451, 53.207843137254905), (95.37254901960785, 88.34509803921569, 64.25098039215686), (132.51764705882354, 83.32549019607843, 63.247058823529414), (72.28235294117647, 87.34117647058824, 23.090196078431372), (122.47843137254903, 137.53725490196078, 46.180392156862744), (97.38039215686274, 108.4235294117647, 33.129411764705885), (132.51764705882354, 108.4235294117647, 47.1843137254902)]\n"
     ]
    },
    {
     "data": {
      "application/vnd.plotly.v1+json": {
       "config": {
        "plotlyServerURL": "https://plot.ly"
       },
       "data": [
        {
         "marker": {
          "color": [
           "rgb(93.36470588235294, 70.27450980392157, 49.1921568627451)",
           "rgb(176.69019607843137, 191.74901960784314, 117.45882352941176)",
           "rgb(162.63529411764705, 125.49019607843137, 116.45490196078431)",
           "rgb(138.54117647058823, 97.38039215686274, 89.34901960784313)",
           "rgb(119.46666666666667, 77.30196078431372, 63.247058823529414)",
           "rgb(155.6078431372549, 167.65490196078431, 87.34117647058824)",
           "rgb(114.44705882352942, 117.45882352941176, 40.15686274509804)",
           "rgb(91.35686274509804, 91.35686274509804, 23.090196078431372)",
           "rgb(140.54901960784315, 151.5921568627451, 48.188235294117646)",
           "rgb(124.48627450980392, 80.31372549019608, 44.17254901960784)",
           "rgb(184.72156862745098, 161.6313725490196, 142.55686274509804)",
           "rgb(143.5607843137255, 103.40392156862745, 71.27843137254902)",
           "rgb(146.57254901960783, 125.49019607843137, 102.4)",
           "rgb(160.62745098039215, 178.69803921568626, 97.38039215686274)",
           "rgb(115.45098039215686, 94.3686274509804, 70.27450980392157)",
           "rgb(91.35686274509804, 79.30980392156863, 36.141176470588235)",
           "rgb(134.52549019607844, 137.53725490196078, 53.207843137254905)",
           "rgb(117.45882352941176, 113.44313725490196, 38.14901960784314)",
           "rgb(139.54509803921567, 142.55686274509804, 53.207843137254905)",
           "rgb(118.46274509803922, 115.45098039215686, 40.15686274509804)",
           "rgb(167.65490196078431, 165.64705882352942, 120.47058823529412)",
           "rgb(97.38039215686274, 101.39607843137254, 27.105882352941176)",
           "rgb(135.52941176470588, 89.34901960784313, 89.34901960784313)",
           "rgb(116.45490196078431, 72.28235294117647, 64.25098039215686)",
           "rgb(153.6, 115.45098039215686, 111.43529411764706)",
           "rgb(90.3529411764706, 69.27058823529411, 45.1764705882353)",
           "rgb(80.31372549019608, 89.34901960784313, 18.070588235294117)",
           "rgb(92.36078431372549, 75.29411764705883, 55.21568627450981)",
           "rgb(135.52941176470588, 126.49411764705883, 42.16470588235294)",
           "rgb(127.49803921568628, 106.41568627450981, 88.34509803921569)",
           "rgb(125.49019607843137, 90.3529411764706, 40.15686274509804)",
           "rgb(182.71372549019608, 189.74117647058824, 123.48235294117647)",
           "rgb(99.38823529411765, 78.30588235294118, 24.094117647058823)",
           "rgb(164.64313725490197, 152.59607843137255, 101.39607843137254)",
           "rgb(154.60392156862744, 153.6, 61.23921568627451)",
           "rgb(110.43137254901961, 106.41568627450981, 24.094117647058823)",
           "rgb(125.49019607843137, 119.46666666666667, 47.1843137254902)",
           "rgb(170.66666666666666, 170.66666666666666, 102.4)",
           "rgb(99.38823529411765, 70.27450980392157, 51.2)",
           "rgb(146.57254901960783, 108.4235294117647, 95.37254901960785)",
           "rgb(126.49411764705883, 81.31764705882352, 69.27058823529411)",
           "rgb(93.36470588235294, 96.37647058823529, 23.090196078431372)",
           "rgb(133.521568627451, 181.70980392156864, 232.90980392156862)",
           "rgb(186.72941176470587, 191.74901960784314, 136.53333333333333)",
           "rgb(151.5921568627451, 153.6, 71.27843137254902)",
           "rgb(180.7058823529412, 184.72156862745098, 127.49803921568628)",
           "rgb(113.44313725490196, 101.39607843137254, 32.12549019607843)",
           "rgb(142.55686274509804, 134.52549019607844, 57.22352941176471)",
           "rgb(128.50196078431372, 100.3921568627451, 85.33333333333333)",
           "rgb(155.6078431372549, 140.54901960784315, 110.43137254901961)",
           "rgb(82.32156862745099, 115.45098039215686, 119.46666666666667)",
           "rgb(111.43529411764706, 76.29803921568627, 63.247058823529414)",
           "rgb(54.21176470588235, 78.30588235294118, 79.30980392156863)",
           "rgb(92.36078431372549, 70.27450980392157, 44.17254901960784)",
           "rgb(151.5921568627451, 138.54117647058823, 62.24313725490196)",
           "rgb(137.53725490196078, 110.43137254901961, 78.30588235294118)",
           "rgb(162.63529411764705, 152.59607843137255, 85.33333333333333)",
           "rgb(124.48627450980392, 79.30980392156863, 39.15294117647059)",
           "rgb(106.41568627450981, 104.4078431372549, 31.12156862745098)",
           "rgb(110.43137254901961, 93.36470588235294, 68.26666666666667)",
           "rgb(128.50196078431372, 127.49803921568628, 45.1764705882353)",
           "rgb(85.33333333333333, 87.34117647058824, 23.090196078431372)",
           "rgb(92.36078431372549, 72.28235294117647, 47.1843137254902)",
           "rgb(167.65490196078431, 133.521568627451, 80.31372549019608)",
           "rgb(155.6078431372549, 119.46666666666667, 65.25490196078431)",
           "rgb(136.53333333333333, 107.41960784313726, 48.188235294117646)",
           "rgb(109.42745098039215, 101.39607843137254, 33.129411764705885)",
           "rgb(183.71764705882353, 148.58039215686276, 102.4)",
           "rgb(124.48627450980392, 79.30980392156863, 37.14509803921569)",
           "rgb(87.34117647058824, 75.29411764705883, 40.15686274509804)",
           "rgb(134.52549019607844, 112.43921568627451, 88.34509803921569)",
           "rgb(109.42745098039215, 86.33725490196079, 64.25098039215686)",
           "rgb(134.52549019607844, 106.41568627450981, 77.30196078431372)",
           "rgb(120.47058823529412, 128.50196078431372, 42.16470588235294)",
           "rgb(200.7843137254902, 196.7686274509804, 173.67843137254903)",
           "rgb(93.36470588235294, 107.41960784313726, 29.113725490196078)",
           "rgb(101.39607843137254, 93.36470588235294, 74.29019607843138)",
           "rgb(99.38823529411765, 75.29411764705883, 49.1921568627451)",
           "rgb(152.59607843137255, 139.54509803921567, 109.42745098039215)",
           "rgb(68.26666666666667, 72.28235294117647, 52.20392156862745)",
           "rgb(74.29019607843138, 87.34117647058824, 20.07843137254902)",
           "rgb(156.61176470588236, 126.49411764705883, 98.3843137254902)",
           "rgb(115.45098039215686, 101.39607843137254, 83.32549019607843)",
           "rgb(178.69803921568626, 150.58823529411765, 117.45882352941176)",
           "rgb(131.51372549019607, 99.38823529411765, 71.27843137254902)",
           "rgb(121.47450980392156, 89.34901960784313, 62.24313725490196)",
           "rgb(141.5529411764706, 111.43529411764706, 84.32941176470588)",
           "rgb(109.42745098039215, 80.31372549019608, 54.21176470588235)",
           "rgb(84.32941176470588, 69.27058823529411, 48.188235294117646)",
           "rgb(100.3921568627451, 70.27450980392157, 43.168627450980395)",
           "rgb(143.5607843137255, 150.58823529411765, 65.25490196078431)",
           "rgb(150.58823529411765, 123.48235294117647, 101.39607843137254)",
           "rgb(113.44313725490196, 65.25490196078431, 50.19607843137255)",
           "rgb(134.52549019607844, 112.43921568627451, 53.207843137254905)",
           "rgb(95.37254901960785, 88.34509803921569, 64.25098039215686)",
           "rgb(132.51764705882354, 83.32549019607843, 63.247058823529414)",
           "rgb(72.28235294117647, 87.34117647058824, 23.090196078431372)",
           "rgb(122.47843137254903, 137.53725490196078, 46.180392156862744)",
           "rgb(97.38039215686274, 108.4235294117647, 33.129411764705885)",
           "rgb(132.51764705882354, 108.4235294117647, 47.1843137254902)"
          ]
         },
         "mode": "markers",
         "type": "scatter3d",
         "x": [
          93.36470588235294,
          176.69019607843137,
          162.63529411764705,
          138.54117647058823,
          119.46666666666667,
          155.6078431372549,
          114.44705882352942,
          91.35686274509804,
          140.54901960784315,
          124.48627450980392,
          184.72156862745098,
          143.5607843137255,
          146.57254901960783,
          160.62745098039215,
          115.45098039215686,
          91.35686274509804,
          134.52549019607844,
          117.45882352941176,
          139.54509803921567,
          118.46274509803922,
          167.65490196078431,
          97.38039215686274,
          135.52941176470588,
          116.45490196078431,
          153.6,
          90.3529411764706,
          80.31372549019608,
          92.36078431372549,
          135.52941176470588,
          127.49803921568628,
          125.49019607843137,
          182.71372549019608,
          99.38823529411765,
          164.64313725490197,
          154.60392156862744,
          110.43137254901961,
          125.49019607843137,
          170.66666666666666,
          99.38823529411765,
          146.57254901960783,
          126.49411764705883,
          93.36470588235294,
          133.521568627451,
          186.72941176470587,
          151.5921568627451,
          180.7058823529412,
          113.44313725490196,
          142.55686274509804,
          128.50196078431372,
          155.6078431372549,
          82.32156862745099,
          111.43529411764706,
          54.21176470588235,
          92.36078431372549,
          151.5921568627451,
          137.53725490196078,
          162.63529411764705,
          124.48627450980392,
          106.41568627450981,
          110.43137254901961,
          128.50196078431372,
          85.33333333333333,
          92.36078431372549,
          167.65490196078431,
          155.6078431372549,
          136.53333333333333,
          109.42745098039215,
          183.71764705882353,
          124.48627450980392,
          87.34117647058824,
          134.52549019607844,
          109.42745098039215,
          134.52549019607844,
          120.47058823529412,
          200.7843137254902,
          93.36470588235294,
          101.39607843137254,
          99.38823529411765,
          152.59607843137255,
          68.26666666666667,
          74.29019607843138,
          156.61176470588236,
          115.45098039215686,
          178.69803921568626,
          131.51372549019607,
          121.47450980392156,
          141.5529411764706,
          109.42745098039215,
          84.32941176470588,
          100.3921568627451,
          143.5607843137255,
          150.58823529411765,
          113.44313725490196,
          134.52549019607844,
          95.37254901960785,
          132.51764705882354,
          72.28235294117647,
          122.47843137254903,
          97.38039215686274,
          132.51764705882354
         ],
         "y": [
          70.27450980392157,
          191.74901960784314,
          125.49019607843137,
          97.38039215686274,
          77.30196078431372,
          167.65490196078431,
          117.45882352941176,
          91.35686274509804,
          151.5921568627451,
          80.31372549019608,
          161.6313725490196,
          103.40392156862745,
          125.49019607843137,
          178.69803921568626,
          94.3686274509804,
          79.30980392156863,
          137.53725490196078,
          113.44313725490196,
          142.55686274509804,
          115.45098039215686,
          165.64705882352942,
          101.39607843137254,
          89.34901960784313,
          72.28235294117647,
          115.45098039215686,
          69.27058823529411,
          89.34901960784313,
          75.29411764705883,
          126.49411764705883,
          106.41568627450981,
          90.3529411764706,
          189.74117647058824,
          78.30588235294118,
          152.59607843137255,
          153.6,
          106.41568627450981,
          119.46666666666667,
          170.66666666666666,
          70.27450980392157,
          108.4235294117647,
          81.31764705882352,
          96.37647058823529,
          181.70980392156864,
          191.74901960784314,
          153.6,
          184.72156862745098,
          101.39607843137254,
          134.52549019607844,
          100.3921568627451,
          140.54901960784315,
          115.45098039215686,
          76.29803921568627,
          78.30588235294118,
          70.27450980392157,
          138.54117647058823,
          110.43137254901961,
          152.59607843137255,
          79.30980392156863,
          104.4078431372549,
          93.36470588235294,
          127.49803921568628,
          87.34117647058824,
          72.28235294117647,
          133.521568627451,
          119.46666666666667,
          107.41960784313726,
          101.39607843137254,
          148.58039215686276,
          79.30980392156863,
          75.29411764705883,
          112.43921568627451,
          86.33725490196079,
          106.41568627450981,
          128.50196078431372,
          196.7686274509804,
          107.41960784313726,
          93.36470588235294,
          75.29411764705883,
          139.54509803921567,
          72.28235294117647,
          87.34117647058824,
          126.49411764705883,
          101.39607843137254,
          150.58823529411765,
          99.38823529411765,
          89.34901960784313,
          111.43529411764706,
          80.31372549019608,
          69.27058823529411,
          70.27450980392157,
          150.58823529411765,
          123.48235294117647,
          65.25490196078431,
          112.43921568627451,
          88.34509803921569,
          83.32549019607843,
          87.34117647058824,
          137.53725490196078,
          108.4235294117647,
          108.4235294117647
         ],
         "z": [
          49.1921568627451,
          117.45882352941176,
          116.45490196078431,
          89.34901960784313,
          63.247058823529414,
          87.34117647058824,
          40.15686274509804,
          23.090196078431372,
          48.188235294117646,
          44.17254901960784,
          142.55686274509804,
          71.27843137254902,
          102.4,
          97.38039215686274,
          70.27450980392157,
          36.141176470588235,
          53.207843137254905,
          38.14901960784314,
          53.207843137254905,
          40.15686274509804,
          120.47058823529412,
          27.105882352941176,
          89.34901960784313,
          64.25098039215686,
          111.43529411764706,
          45.1764705882353,
          18.070588235294117,
          55.21568627450981,
          42.16470588235294,
          88.34509803921569,
          40.15686274509804,
          123.48235294117647,
          24.094117647058823,
          101.39607843137254,
          61.23921568627451,
          24.094117647058823,
          47.1843137254902,
          102.4,
          51.2,
          95.37254901960785,
          69.27058823529411,
          23.090196078431372,
          232.90980392156862,
          136.53333333333333,
          71.27843137254902,
          127.49803921568628,
          32.12549019607843,
          57.22352941176471,
          85.33333333333333,
          110.43137254901961,
          119.46666666666667,
          63.247058823529414,
          79.30980392156863,
          44.17254901960784,
          62.24313725490196,
          78.30588235294118,
          85.33333333333333,
          39.15294117647059,
          31.12156862745098,
          68.26666666666667,
          45.1764705882353,
          23.090196078431372,
          47.1843137254902,
          80.31372549019608,
          65.25490196078431,
          48.188235294117646,
          33.129411764705885,
          102.4,
          37.14509803921569,
          40.15686274509804,
          88.34509803921569,
          64.25098039215686,
          77.30196078431372,
          42.16470588235294,
          173.67843137254903,
          29.113725490196078,
          74.29019607843138,
          49.1921568627451,
          109.42745098039215,
          52.20392156862745,
          20.07843137254902,
          98.3843137254902,
          83.32549019607843,
          117.45882352941176,
          71.27843137254902,
          62.24313725490196,
          84.32941176470588,
          54.21176470588235,
          48.188235294117646,
          43.168627450980395,
          65.25490196078431,
          101.39607843137254,
          50.19607843137255,
          53.207843137254905,
          64.25098039215686,
          63.247058823529414,
          23.090196078431372,
          46.180392156862744,
          33.129411764705885,
          47.1843137254902
         ]
        }
       ],
       "layout": {
        "scene": {
         "xaxis": {
          "title": {
           "text": "G"
          }
         },
         "yaxis": {
          "title": {
           "text": "R"
          }
         },
         "zaxis": {
          "title": {
           "text": "B"
          }
         }
        },
        "template": {
         "data": {
          "bar": [
           {
            "error_x": {
             "color": "#2a3f5f"
            },
            "error_y": {
             "color": "#2a3f5f"
            },
            "marker": {
             "line": {
              "color": "#E5ECF6",
              "width": 0.5
             },
             "pattern": {
              "fillmode": "overlay",
              "size": 10,
              "solidity": 0.2
             }
            },
            "type": "bar"
           }
          ],
          "barpolar": [
           {
            "marker": {
             "line": {
              "color": "#E5ECF6",
              "width": 0.5
             },
             "pattern": {
              "fillmode": "overlay",
              "size": 10,
              "solidity": 0.2
             }
            },
            "type": "barpolar"
           }
          ],
          "carpet": [
           {
            "aaxis": {
             "endlinecolor": "#2a3f5f",
             "gridcolor": "white",
             "linecolor": "white",
             "minorgridcolor": "white",
             "startlinecolor": "#2a3f5f"
            },
            "baxis": {
             "endlinecolor": "#2a3f5f",
             "gridcolor": "white",
             "linecolor": "white",
             "minorgridcolor": "white",
             "startlinecolor": "#2a3f5f"
            },
            "type": "carpet"
           }
          ],
          "choropleth": [
           {
            "colorbar": {
             "outlinewidth": 0,
             "ticks": ""
            },
            "type": "choropleth"
           }
          ],
          "contour": [
           {
            "colorbar": {
             "outlinewidth": 0,
             "ticks": ""
            },
            "colorscale": [
             [
              0,
              "#0d0887"
             ],
             [
              0.1111111111111111,
              "#46039f"
             ],
             [
              0.2222222222222222,
              "#7201a8"
             ],
             [
              0.3333333333333333,
              "#9c179e"
             ],
             [
              0.4444444444444444,
              "#bd3786"
             ],
             [
              0.5555555555555556,
              "#d8576b"
             ],
             [
              0.6666666666666666,
              "#ed7953"
             ],
             [
              0.7777777777777778,
              "#fb9f3a"
             ],
             [
              0.8888888888888888,
              "#fdca26"
             ],
             [
              1,
              "#f0f921"
             ]
            ],
            "type": "contour"
           }
          ],
          "contourcarpet": [
           {
            "colorbar": {
             "outlinewidth": 0,
             "ticks": ""
            },
            "type": "contourcarpet"
           }
          ],
          "heatmap": [
           {
            "colorbar": {
             "outlinewidth": 0,
             "ticks": ""
            },
            "colorscale": [
             [
              0,
              "#0d0887"
             ],
             [
              0.1111111111111111,
              "#46039f"
             ],
             [
              0.2222222222222222,
              "#7201a8"
             ],
             [
              0.3333333333333333,
              "#9c179e"
             ],
             [
              0.4444444444444444,
              "#bd3786"
             ],
             [
              0.5555555555555556,
              "#d8576b"
             ],
             [
              0.6666666666666666,
              "#ed7953"
             ],
             [
              0.7777777777777778,
              "#fb9f3a"
             ],
             [
              0.8888888888888888,
              "#fdca26"
             ],
             [
              1,
              "#f0f921"
             ]
            ],
            "type": "heatmap"
           }
          ],
          "heatmapgl": [
           {
            "colorbar": {
             "outlinewidth": 0,
             "ticks": ""
            },
            "colorscale": [
             [
              0,
              "#0d0887"
             ],
             [
              0.1111111111111111,
              "#46039f"
             ],
             [
              0.2222222222222222,
              "#7201a8"
             ],
             [
              0.3333333333333333,
              "#9c179e"
             ],
             [
              0.4444444444444444,
              "#bd3786"
             ],
             [
              0.5555555555555556,
              "#d8576b"
             ],
             [
              0.6666666666666666,
              "#ed7953"
             ],
             [
              0.7777777777777778,
              "#fb9f3a"
             ],
             [
              0.8888888888888888,
              "#fdca26"
             ],
             [
              1,
              "#f0f921"
             ]
            ],
            "type": "heatmapgl"
           }
          ],
          "histogram": [
           {
            "marker": {
             "pattern": {
              "fillmode": "overlay",
              "size": 10,
              "solidity": 0.2
             }
            },
            "type": "histogram"
           }
          ],
          "histogram2d": [
           {
            "colorbar": {
             "outlinewidth": 0,
             "ticks": ""
            },
            "colorscale": [
             [
              0,
              "#0d0887"
             ],
             [
              0.1111111111111111,
              "#46039f"
             ],
             [
              0.2222222222222222,
              "#7201a8"
             ],
             [
              0.3333333333333333,
              "#9c179e"
             ],
             [
              0.4444444444444444,
              "#bd3786"
             ],
             [
              0.5555555555555556,
              "#d8576b"
             ],
             [
              0.6666666666666666,
              "#ed7953"
             ],
             [
              0.7777777777777778,
              "#fb9f3a"
             ],
             [
              0.8888888888888888,
              "#fdca26"
             ],
             [
              1,
              "#f0f921"
             ]
            ],
            "type": "histogram2d"
           }
          ],
          "histogram2dcontour": [
           {
            "colorbar": {
             "outlinewidth": 0,
             "ticks": ""
            },
            "colorscale": [
             [
              0,
              "#0d0887"
             ],
             [
              0.1111111111111111,
              "#46039f"
             ],
             [
              0.2222222222222222,
              "#7201a8"
             ],
             [
              0.3333333333333333,
              "#9c179e"
             ],
             [
              0.4444444444444444,
              "#bd3786"
             ],
             [
              0.5555555555555556,
              "#d8576b"
             ],
             [
              0.6666666666666666,
              "#ed7953"
             ],
             [
              0.7777777777777778,
              "#fb9f3a"
             ],
             [
              0.8888888888888888,
              "#fdca26"
             ],
             [
              1,
              "#f0f921"
             ]
            ],
            "type": "histogram2dcontour"
           }
          ],
          "mesh3d": [
           {
            "colorbar": {
             "outlinewidth": 0,
             "ticks": ""
            },
            "type": "mesh3d"
           }
          ],
          "parcoords": [
           {
            "line": {
             "colorbar": {
              "outlinewidth": 0,
              "ticks": ""
             }
            },
            "type": "parcoords"
           }
          ],
          "pie": [
           {
            "automargin": true,
            "type": "pie"
           }
          ],
          "scatter": [
           {
            "marker": {
             "colorbar": {
              "outlinewidth": 0,
              "ticks": ""
             }
            },
            "type": "scatter"
           }
          ],
          "scatter3d": [
           {
            "line": {
             "colorbar": {
              "outlinewidth": 0,
              "ticks": ""
             }
            },
            "marker": {
             "colorbar": {
              "outlinewidth": 0,
              "ticks": ""
             }
            },
            "type": "scatter3d"
           }
          ],
          "scattercarpet": [
           {
            "marker": {
             "colorbar": {
              "outlinewidth": 0,
              "ticks": ""
             }
            },
            "type": "scattercarpet"
           }
          ],
          "scattergeo": [
           {
            "marker": {
             "colorbar": {
              "outlinewidth": 0,
              "ticks": ""
             }
            },
            "type": "scattergeo"
           }
          ],
          "scattergl": [
           {
            "marker": {
             "colorbar": {
              "outlinewidth": 0,
              "ticks": ""
             }
            },
            "type": "scattergl"
           }
          ],
          "scattermapbox": [
           {
            "marker": {
             "colorbar": {
              "outlinewidth": 0,
              "ticks": ""
             }
            },
            "type": "scattermapbox"
           }
          ],
          "scatterpolar": [
           {
            "marker": {
             "colorbar": {
              "outlinewidth": 0,
              "ticks": ""
             }
            },
            "type": "scatterpolar"
           }
          ],
          "scatterpolargl": [
           {
            "marker": {
             "colorbar": {
              "outlinewidth": 0,
              "ticks": ""
             }
            },
            "type": "scatterpolargl"
           }
          ],
          "scatterternary": [
           {
            "marker": {
             "colorbar": {
              "outlinewidth": 0,
              "ticks": ""
             }
            },
            "type": "scatterternary"
           }
          ],
          "surface": [
           {
            "colorbar": {
             "outlinewidth": 0,
             "ticks": ""
            },
            "colorscale": [
             [
              0,
              "#0d0887"
             ],
             [
              0.1111111111111111,
              "#46039f"
             ],
             [
              0.2222222222222222,
              "#7201a8"
             ],
             [
              0.3333333333333333,
              "#9c179e"
             ],
             [
              0.4444444444444444,
              "#bd3786"
             ],
             [
              0.5555555555555556,
              "#d8576b"
             ],
             [
              0.6666666666666666,
              "#ed7953"
             ],
             [
              0.7777777777777778,
              "#fb9f3a"
             ],
             [
              0.8888888888888888,
              "#fdca26"
             ],
             [
              1,
              "#f0f921"
             ]
            ],
            "type": "surface"
           }
          ],
          "table": [
           {
            "cells": {
             "fill": {
              "color": "#EBF0F8"
             },
             "line": {
              "color": "white"
             }
            },
            "header": {
             "fill": {
              "color": "#C8D4E3"
             },
             "line": {
              "color": "white"
             }
            },
            "type": "table"
           }
          ]
         },
         "layout": {
          "annotationdefaults": {
           "arrowcolor": "#2a3f5f",
           "arrowhead": 0,
           "arrowwidth": 1
          },
          "autotypenumbers": "strict",
          "coloraxis": {
           "colorbar": {
            "outlinewidth": 0,
            "ticks": ""
           }
          },
          "colorscale": {
           "diverging": [
            [
             0,
             "#8e0152"
            ],
            [
             0.1,
             "#c51b7d"
            ],
            [
             0.2,
             "#de77ae"
            ],
            [
             0.3,
             "#f1b6da"
            ],
            [
             0.4,
             "#fde0ef"
            ],
            [
             0.5,
             "#f7f7f7"
            ],
            [
             0.6,
             "#e6f5d0"
            ],
            [
             0.7,
             "#b8e186"
            ],
            [
             0.8,
             "#7fbc41"
            ],
            [
             0.9,
             "#4d9221"
            ],
            [
             1,
             "#276419"
            ]
           ],
           "sequential": [
            [
             0,
             "#0d0887"
            ],
            [
             0.1111111111111111,
             "#46039f"
            ],
            [
             0.2222222222222222,
             "#7201a8"
            ],
            [
             0.3333333333333333,
             "#9c179e"
            ],
            [
             0.4444444444444444,
             "#bd3786"
            ],
            [
             0.5555555555555556,
             "#d8576b"
            ],
            [
             0.6666666666666666,
             "#ed7953"
            ],
            [
             0.7777777777777778,
             "#fb9f3a"
            ],
            [
             0.8888888888888888,
             "#fdca26"
            ],
            [
             1,
             "#f0f921"
            ]
           ],
           "sequentialminus": [
            [
             0,
             "#0d0887"
            ],
            [
             0.1111111111111111,
             "#46039f"
            ],
            [
             0.2222222222222222,
             "#7201a8"
            ],
            [
             0.3333333333333333,
             "#9c179e"
            ],
            [
             0.4444444444444444,
             "#bd3786"
            ],
            [
             0.5555555555555556,
             "#d8576b"
            ],
            [
             0.6666666666666666,
             "#ed7953"
            ],
            [
             0.7777777777777778,
             "#fb9f3a"
            ],
            [
             0.8888888888888888,
             "#fdca26"
            ],
            [
             1,
             "#f0f921"
            ]
           ]
          },
          "colorway": [
           "#636efa",
           "#EF553B",
           "#00cc96",
           "#ab63fa",
           "#FFA15A",
           "#19d3f3",
           "#FF6692",
           "#B6E880",
           "#FF97FF",
           "#FECB52"
          ],
          "font": {
           "color": "#2a3f5f"
          },
          "geo": {
           "bgcolor": "white",
           "lakecolor": "white",
           "landcolor": "#E5ECF6",
           "showlakes": true,
           "showland": true,
           "subunitcolor": "white"
          },
          "hoverlabel": {
           "align": "left"
          },
          "hovermode": "closest",
          "mapbox": {
           "style": "light"
          },
          "paper_bgcolor": "white",
          "plot_bgcolor": "#E5ECF6",
          "polar": {
           "angularaxis": {
            "gridcolor": "white",
            "linecolor": "white",
            "ticks": ""
           },
           "bgcolor": "#E5ECF6",
           "radialaxis": {
            "gridcolor": "white",
            "linecolor": "white",
            "ticks": ""
           }
          },
          "scene": {
           "xaxis": {
            "backgroundcolor": "#E5ECF6",
            "gridcolor": "white",
            "gridwidth": 2,
            "linecolor": "white",
            "showbackground": true,
            "ticks": "",
            "zerolinecolor": "white"
           },
           "yaxis": {
            "backgroundcolor": "#E5ECF6",
            "gridcolor": "white",
            "gridwidth": 2,
            "linecolor": "white",
            "showbackground": true,
            "ticks": "",
            "zerolinecolor": "white"
           },
           "zaxis": {
            "backgroundcolor": "#E5ECF6",
            "gridcolor": "white",
            "gridwidth": 2,
            "linecolor": "white",
            "showbackground": true,
            "ticks": "",
            "zerolinecolor": "white"
           }
          },
          "shapedefaults": {
           "line": {
            "color": "#2a3f5f"
           }
          },
          "ternary": {
           "aaxis": {
            "gridcolor": "white",
            "linecolor": "white",
            "ticks": ""
           },
           "baxis": {
            "gridcolor": "white",
            "linecolor": "white",
            "ticks": ""
           },
           "bgcolor": "#E5ECF6",
           "caxis": {
            "gridcolor": "white",
            "linecolor": "white",
            "ticks": ""
           }
          },
          "title": {
           "x": 0.05
          },
          "xaxis": {
           "automargin": true,
           "gridcolor": "white",
           "linecolor": "white",
           "ticks": "",
           "title": {
            "standoff": 15
           },
           "zerolinecolor": "white",
           "zerolinewidth": 2
          },
          "yaxis": {
           "automargin": true,
           "gridcolor": "white",
           "linecolor": "white",
           "ticks": "",
           "title": {
            "standoff": 15
           },
           "zerolinecolor": "white",
           "zerolinewidth": 2
          }
         }
        }
       }
      },
      "text/html": [
       "<div>                            <div id=\"0019ec2c-5e38-4a37-ae83-3bc628dbbca8\" class=\"plotly-graph-div\" style=\"height:525px; width:100%;\"></div>            <script type=\"text/javascript\">                require([\"plotly\"], function(Plotly) {                    window.PLOTLYENV=window.PLOTLYENV || {};                                    if (document.getElementById(\"0019ec2c-5e38-4a37-ae83-3bc628dbbca8\")) {                    Plotly.newPlot(                        \"0019ec2c-5e38-4a37-ae83-3bc628dbbca8\",                        [{\"marker\":{\"color\":[\"rgb(93.36470588235294, 70.27450980392157, 49.1921568627451)\",\"rgb(176.69019607843137, 191.74901960784314, 117.45882352941176)\",\"rgb(162.63529411764705, 125.49019607843137, 116.45490196078431)\",\"rgb(138.54117647058823, 97.38039215686274, 89.34901960784313)\",\"rgb(119.46666666666667, 77.30196078431372, 63.247058823529414)\",\"rgb(155.6078431372549, 167.65490196078431, 87.34117647058824)\",\"rgb(114.44705882352942, 117.45882352941176, 40.15686274509804)\",\"rgb(91.35686274509804, 91.35686274509804, 23.090196078431372)\",\"rgb(140.54901960784315, 151.5921568627451, 48.188235294117646)\",\"rgb(124.48627450980392, 80.31372549019608, 44.17254901960784)\",\"rgb(184.72156862745098, 161.6313725490196, 142.55686274509804)\",\"rgb(143.5607843137255, 103.40392156862745, 71.27843137254902)\",\"rgb(146.57254901960783, 125.49019607843137, 102.4)\",\"rgb(160.62745098039215, 178.69803921568626, 97.38039215686274)\",\"rgb(115.45098039215686, 94.3686274509804, 70.27450980392157)\",\"rgb(91.35686274509804, 79.30980392156863, 36.141176470588235)\",\"rgb(134.52549019607844, 137.53725490196078, 53.207843137254905)\",\"rgb(117.45882352941176, 113.44313725490196, 38.14901960784314)\",\"rgb(139.54509803921567, 142.55686274509804, 53.207843137254905)\",\"rgb(118.46274509803922, 115.45098039215686, 40.15686274509804)\",\"rgb(167.65490196078431, 165.64705882352942, 120.47058823529412)\",\"rgb(97.38039215686274, 101.39607843137254, 27.105882352941176)\",\"rgb(135.52941176470588, 89.34901960784313, 89.34901960784313)\",\"rgb(116.45490196078431, 72.28235294117647, 64.25098039215686)\",\"rgb(153.6, 115.45098039215686, 111.43529411764706)\",\"rgb(90.3529411764706, 69.27058823529411, 45.1764705882353)\",\"rgb(80.31372549019608, 89.34901960784313, 18.070588235294117)\",\"rgb(92.36078431372549, 75.29411764705883, 55.21568627450981)\",\"rgb(135.52941176470588, 126.49411764705883, 42.16470588235294)\",\"rgb(127.49803921568628, 106.41568627450981, 88.34509803921569)\",\"rgb(125.49019607843137, 90.3529411764706, 40.15686274509804)\",\"rgb(182.71372549019608, 189.74117647058824, 123.48235294117647)\",\"rgb(99.38823529411765, 78.30588235294118, 24.094117647058823)\",\"rgb(164.64313725490197, 152.59607843137255, 101.39607843137254)\",\"rgb(154.60392156862744, 153.6, 61.23921568627451)\",\"rgb(110.43137254901961, 106.41568627450981, 24.094117647058823)\",\"rgb(125.49019607843137, 119.46666666666667, 47.1843137254902)\",\"rgb(170.66666666666666, 170.66666666666666, 102.4)\",\"rgb(99.38823529411765, 70.27450980392157, 51.2)\",\"rgb(146.57254901960783, 108.4235294117647, 95.37254901960785)\",\"rgb(126.49411764705883, 81.31764705882352, 69.27058823529411)\",\"rgb(93.36470588235294, 96.37647058823529, 23.090196078431372)\",\"rgb(133.521568627451, 181.70980392156864, 232.90980392156862)\",\"rgb(186.72941176470587, 191.74901960784314, 136.53333333333333)\",\"rgb(151.5921568627451, 153.6, 71.27843137254902)\",\"rgb(180.7058823529412, 184.72156862745098, 127.49803921568628)\",\"rgb(113.44313725490196, 101.39607843137254, 32.12549019607843)\",\"rgb(142.55686274509804, 134.52549019607844, 57.22352941176471)\",\"rgb(128.50196078431372, 100.3921568627451, 85.33333333333333)\",\"rgb(155.6078431372549, 140.54901960784315, 110.43137254901961)\",\"rgb(82.32156862745099, 115.45098039215686, 119.46666666666667)\",\"rgb(111.43529411764706, 76.29803921568627, 63.247058823529414)\",\"rgb(54.21176470588235, 78.30588235294118, 79.30980392156863)\",\"rgb(92.36078431372549, 70.27450980392157, 44.17254901960784)\",\"rgb(151.5921568627451, 138.54117647058823, 62.24313725490196)\",\"rgb(137.53725490196078, 110.43137254901961, 78.30588235294118)\",\"rgb(162.63529411764705, 152.59607843137255, 85.33333333333333)\",\"rgb(124.48627450980392, 79.30980392156863, 39.15294117647059)\",\"rgb(106.41568627450981, 104.4078431372549, 31.12156862745098)\",\"rgb(110.43137254901961, 93.36470588235294, 68.26666666666667)\",\"rgb(128.50196078431372, 127.49803921568628, 45.1764705882353)\",\"rgb(85.33333333333333, 87.34117647058824, 23.090196078431372)\",\"rgb(92.36078431372549, 72.28235294117647, 47.1843137254902)\",\"rgb(167.65490196078431, 133.521568627451, 80.31372549019608)\",\"rgb(155.6078431372549, 119.46666666666667, 65.25490196078431)\",\"rgb(136.53333333333333, 107.41960784313726, 48.188235294117646)\",\"rgb(109.42745098039215, 101.39607843137254, 33.129411764705885)\",\"rgb(183.71764705882353, 148.58039215686276, 102.4)\",\"rgb(124.48627450980392, 79.30980392156863, 37.14509803921569)\",\"rgb(87.34117647058824, 75.29411764705883, 40.15686274509804)\",\"rgb(134.52549019607844, 112.43921568627451, 88.34509803921569)\",\"rgb(109.42745098039215, 86.33725490196079, 64.25098039215686)\",\"rgb(134.52549019607844, 106.41568627450981, 77.30196078431372)\",\"rgb(120.47058823529412, 128.50196078431372, 42.16470588235294)\",\"rgb(200.7843137254902, 196.7686274509804, 173.67843137254903)\",\"rgb(93.36470588235294, 107.41960784313726, 29.113725490196078)\",\"rgb(101.39607843137254, 93.36470588235294, 74.29019607843138)\",\"rgb(99.38823529411765, 75.29411764705883, 49.1921568627451)\",\"rgb(152.59607843137255, 139.54509803921567, 109.42745098039215)\",\"rgb(68.26666666666667, 72.28235294117647, 52.20392156862745)\",\"rgb(74.29019607843138, 87.34117647058824, 20.07843137254902)\",\"rgb(156.61176470588236, 126.49411764705883, 98.3843137254902)\",\"rgb(115.45098039215686, 101.39607843137254, 83.32549019607843)\",\"rgb(178.69803921568626, 150.58823529411765, 117.45882352941176)\",\"rgb(131.51372549019607, 99.38823529411765, 71.27843137254902)\",\"rgb(121.47450980392156, 89.34901960784313, 62.24313725490196)\",\"rgb(141.5529411764706, 111.43529411764706, 84.32941176470588)\",\"rgb(109.42745098039215, 80.31372549019608, 54.21176470588235)\",\"rgb(84.32941176470588, 69.27058823529411, 48.188235294117646)\",\"rgb(100.3921568627451, 70.27450980392157, 43.168627450980395)\",\"rgb(143.5607843137255, 150.58823529411765, 65.25490196078431)\",\"rgb(150.58823529411765, 123.48235294117647, 101.39607843137254)\",\"rgb(113.44313725490196, 65.25490196078431, 50.19607843137255)\",\"rgb(134.52549019607844, 112.43921568627451, 53.207843137254905)\",\"rgb(95.37254901960785, 88.34509803921569, 64.25098039215686)\",\"rgb(132.51764705882354, 83.32549019607843, 63.247058823529414)\",\"rgb(72.28235294117647, 87.34117647058824, 23.090196078431372)\",\"rgb(122.47843137254903, 137.53725490196078, 46.180392156862744)\",\"rgb(97.38039215686274, 108.4235294117647, 33.129411764705885)\",\"rgb(132.51764705882354, 108.4235294117647, 47.1843137254902)\"]},\"mode\":\"markers\",\"x\":[93.36470588235294,176.69019607843137,162.63529411764705,138.54117647058823,119.46666666666667,155.6078431372549,114.44705882352942,91.35686274509804,140.54901960784315,124.48627450980392,184.72156862745098,143.5607843137255,146.57254901960783,160.62745098039215,115.45098039215686,91.35686274509804,134.52549019607844,117.45882352941176,139.54509803921567,118.46274509803922,167.65490196078431,97.38039215686274,135.52941176470588,116.45490196078431,153.6,90.3529411764706,80.31372549019608,92.36078431372549,135.52941176470588,127.49803921568628,125.49019607843137,182.71372549019608,99.38823529411765,164.64313725490197,154.60392156862744,110.43137254901961,125.49019607843137,170.66666666666666,99.38823529411765,146.57254901960783,126.49411764705883,93.36470588235294,133.521568627451,186.72941176470587,151.5921568627451,180.7058823529412,113.44313725490196,142.55686274509804,128.50196078431372,155.6078431372549,82.32156862745099,111.43529411764706,54.21176470588235,92.36078431372549,151.5921568627451,137.53725490196078,162.63529411764705,124.48627450980392,106.41568627450981,110.43137254901961,128.50196078431372,85.33333333333333,92.36078431372549,167.65490196078431,155.6078431372549,136.53333333333333,109.42745098039215,183.71764705882353,124.48627450980392,87.34117647058824,134.52549019607844,109.42745098039215,134.52549019607844,120.47058823529412,200.7843137254902,93.36470588235294,101.39607843137254,99.38823529411765,152.59607843137255,68.26666666666667,74.29019607843138,156.61176470588236,115.45098039215686,178.69803921568626,131.51372549019607,121.47450980392156,141.5529411764706,109.42745098039215,84.32941176470588,100.3921568627451,143.5607843137255,150.58823529411765,113.44313725490196,134.52549019607844,95.37254901960785,132.51764705882354,72.28235294117647,122.47843137254903,97.38039215686274,132.51764705882354],\"y\":[70.27450980392157,191.74901960784314,125.49019607843137,97.38039215686274,77.30196078431372,167.65490196078431,117.45882352941176,91.35686274509804,151.5921568627451,80.31372549019608,161.6313725490196,103.40392156862745,125.49019607843137,178.69803921568626,94.3686274509804,79.30980392156863,137.53725490196078,113.44313725490196,142.55686274509804,115.45098039215686,165.64705882352942,101.39607843137254,89.34901960784313,72.28235294117647,115.45098039215686,69.27058823529411,89.34901960784313,75.29411764705883,126.49411764705883,106.41568627450981,90.3529411764706,189.74117647058824,78.30588235294118,152.59607843137255,153.6,106.41568627450981,119.46666666666667,170.66666666666666,70.27450980392157,108.4235294117647,81.31764705882352,96.37647058823529,181.70980392156864,191.74901960784314,153.6,184.72156862745098,101.39607843137254,134.52549019607844,100.3921568627451,140.54901960784315,115.45098039215686,76.29803921568627,78.30588235294118,70.27450980392157,138.54117647058823,110.43137254901961,152.59607843137255,79.30980392156863,104.4078431372549,93.36470588235294,127.49803921568628,87.34117647058824,72.28235294117647,133.521568627451,119.46666666666667,107.41960784313726,101.39607843137254,148.58039215686276,79.30980392156863,75.29411764705883,112.43921568627451,86.33725490196079,106.41568627450981,128.50196078431372,196.7686274509804,107.41960784313726,93.36470588235294,75.29411764705883,139.54509803921567,72.28235294117647,87.34117647058824,126.49411764705883,101.39607843137254,150.58823529411765,99.38823529411765,89.34901960784313,111.43529411764706,80.31372549019608,69.27058823529411,70.27450980392157,150.58823529411765,123.48235294117647,65.25490196078431,112.43921568627451,88.34509803921569,83.32549019607843,87.34117647058824,137.53725490196078,108.4235294117647,108.4235294117647],\"z\":[49.1921568627451,117.45882352941176,116.45490196078431,89.34901960784313,63.247058823529414,87.34117647058824,40.15686274509804,23.090196078431372,48.188235294117646,44.17254901960784,142.55686274509804,71.27843137254902,102.4,97.38039215686274,70.27450980392157,36.141176470588235,53.207843137254905,38.14901960784314,53.207843137254905,40.15686274509804,120.47058823529412,27.105882352941176,89.34901960784313,64.25098039215686,111.43529411764706,45.1764705882353,18.070588235294117,55.21568627450981,42.16470588235294,88.34509803921569,40.15686274509804,123.48235294117647,24.094117647058823,101.39607843137254,61.23921568627451,24.094117647058823,47.1843137254902,102.4,51.2,95.37254901960785,69.27058823529411,23.090196078431372,232.90980392156862,136.53333333333333,71.27843137254902,127.49803921568628,32.12549019607843,57.22352941176471,85.33333333333333,110.43137254901961,119.46666666666667,63.247058823529414,79.30980392156863,44.17254901960784,62.24313725490196,78.30588235294118,85.33333333333333,39.15294117647059,31.12156862745098,68.26666666666667,45.1764705882353,23.090196078431372,47.1843137254902,80.31372549019608,65.25490196078431,48.188235294117646,33.129411764705885,102.4,37.14509803921569,40.15686274509804,88.34509803921569,64.25098039215686,77.30196078431372,42.16470588235294,173.67843137254903,29.113725490196078,74.29019607843138,49.1921568627451,109.42745098039215,52.20392156862745,20.07843137254902,98.3843137254902,83.32549019607843,117.45882352941176,71.27843137254902,62.24313725490196,84.32941176470588,54.21176470588235,48.188235294117646,43.168627450980395,65.25490196078431,101.39607843137254,50.19607843137255,53.207843137254905,64.25098039215686,63.247058823529414,23.090196078431372,46.180392156862744,33.129411764705885,47.1843137254902],\"type\":\"scatter3d\"}],                        {\"template\":{\"data\":{\"bar\":[{\"error_x\":{\"color\":\"#2a3f5f\"},\"error_y\":{\"color\":\"#2a3f5f\"},\"marker\":{\"line\":{\"color\":\"#E5ECF6\",\"width\":0.5},\"pattern\":{\"fillmode\":\"overlay\",\"size\":10,\"solidity\":0.2}},\"type\":\"bar\"}],\"barpolar\":[{\"marker\":{\"line\":{\"color\":\"#E5ECF6\",\"width\":0.5},\"pattern\":{\"fillmode\":\"overlay\",\"size\":10,\"solidity\":0.2}},\"type\":\"barpolar\"}],\"carpet\":[{\"aaxis\":{\"endlinecolor\":\"#2a3f5f\",\"gridcolor\":\"white\",\"linecolor\":\"white\",\"minorgridcolor\":\"white\",\"startlinecolor\":\"#2a3f5f\"},\"baxis\":{\"endlinecolor\":\"#2a3f5f\",\"gridcolor\":\"white\",\"linecolor\":\"white\",\"minorgridcolor\":\"white\",\"startlinecolor\":\"#2a3f5f\"},\"type\":\"carpet\"}],\"choropleth\":[{\"colorbar\":{\"outlinewidth\":0,\"ticks\":\"\"},\"type\":\"choropleth\"}],\"contour\":[{\"colorbar\":{\"outlinewidth\":0,\"ticks\":\"\"},\"colorscale\":[[0.0,\"#0d0887\"],[0.1111111111111111,\"#46039f\"],[0.2222222222222222,\"#7201a8\"],[0.3333333333333333,\"#9c179e\"],[0.4444444444444444,\"#bd3786\"],[0.5555555555555556,\"#d8576b\"],[0.6666666666666666,\"#ed7953\"],[0.7777777777777778,\"#fb9f3a\"],[0.8888888888888888,\"#fdca26\"],[1.0,\"#f0f921\"]],\"type\":\"contour\"}],\"contourcarpet\":[{\"colorbar\":{\"outlinewidth\":0,\"ticks\":\"\"},\"type\":\"contourcarpet\"}],\"heatmap\":[{\"colorbar\":{\"outlinewidth\":0,\"ticks\":\"\"},\"colorscale\":[[0.0,\"#0d0887\"],[0.1111111111111111,\"#46039f\"],[0.2222222222222222,\"#7201a8\"],[0.3333333333333333,\"#9c179e\"],[0.4444444444444444,\"#bd3786\"],[0.5555555555555556,\"#d8576b\"],[0.6666666666666666,\"#ed7953\"],[0.7777777777777778,\"#fb9f3a\"],[0.8888888888888888,\"#fdca26\"],[1.0,\"#f0f921\"]],\"type\":\"heatmap\"}],\"heatmapgl\":[{\"colorbar\":{\"outlinewidth\":0,\"ticks\":\"\"},\"colorscale\":[[0.0,\"#0d0887\"],[0.1111111111111111,\"#46039f\"],[0.2222222222222222,\"#7201a8\"],[0.3333333333333333,\"#9c179e\"],[0.4444444444444444,\"#bd3786\"],[0.5555555555555556,\"#d8576b\"],[0.6666666666666666,\"#ed7953\"],[0.7777777777777778,\"#fb9f3a\"],[0.8888888888888888,\"#fdca26\"],[1.0,\"#f0f921\"]],\"type\":\"heatmapgl\"}],\"histogram\":[{\"marker\":{\"pattern\":{\"fillmode\":\"overlay\",\"size\":10,\"solidity\":0.2}},\"type\":\"histogram\"}],\"histogram2d\":[{\"colorbar\":{\"outlinewidth\":0,\"ticks\":\"\"},\"colorscale\":[[0.0,\"#0d0887\"],[0.1111111111111111,\"#46039f\"],[0.2222222222222222,\"#7201a8\"],[0.3333333333333333,\"#9c179e\"],[0.4444444444444444,\"#bd3786\"],[0.5555555555555556,\"#d8576b\"],[0.6666666666666666,\"#ed7953\"],[0.7777777777777778,\"#fb9f3a\"],[0.8888888888888888,\"#fdca26\"],[1.0,\"#f0f921\"]],\"type\":\"histogram2d\"}],\"histogram2dcontour\":[{\"colorbar\":{\"outlinewidth\":0,\"ticks\":\"\"},\"colorscale\":[[0.0,\"#0d0887\"],[0.1111111111111111,\"#46039f\"],[0.2222222222222222,\"#7201a8\"],[0.3333333333333333,\"#9c179e\"],[0.4444444444444444,\"#bd3786\"],[0.5555555555555556,\"#d8576b\"],[0.6666666666666666,\"#ed7953\"],[0.7777777777777778,\"#fb9f3a\"],[0.8888888888888888,\"#fdca26\"],[1.0,\"#f0f921\"]],\"type\":\"histogram2dcontour\"}],\"mesh3d\":[{\"colorbar\":{\"outlinewidth\":0,\"ticks\":\"\"},\"type\":\"mesh3d\"}],\"parcoords\":[{\"line\":{\"colorbar\":{\"outlinewidth\":0,\"ticks\":\"\"}},\"type\":\"parcoords\"}],\"pie\":[{\"automargin\":true,\"type\":\"pie\"}],\"scatter\":[{\"marker\":{\"colorbar\":{\"outlinewidth\":0,\"ticks\":\"\"}},\"type\":\"scatter\"}],\"scatter3d\":[{\"line\":{\"colorbar\":{\"outlinewidth\":0,\"ticks\":\"\"}},\"marker\":{\"colorbar\":{\"outlinewidth\":0,\"ticks\":\"\"}},\"type\":\"scatter3d\"}],\"scattercarpet\":[{\"marker\":{\"colorbar\":{\"outlinewidth\":0,\"ticks\":\"\"}},\"type\":\"scattercarpet\"}],\"scattergeo\":[{\"marker\":{\"colorbar\":{\"outlinewidth\":0,\"ticks\":\"\"}},\"type\":\"scattergeo\"}],\"scattergl\":[{\"marker\":{\"colorbar\":{\"outlinewidth\":0,\"ticks\":\"\"}},\"type\":\"scattergl\"}],\"scattermapbox\":[{\"marker\":{\"colorbar\":{\"outlinewidth\":0,\"ticks\":\"\"}},\"type\":\"scattermapbox\"}],\"scatterpolar\":[{\"marker\":{\"colorbar\":{\"outlinewidth\":0,\"ticks\":\"\"}},\"type\":\"scatterpolar\"}],\"scatterpolargl\":[{\"marker\":{\"colorbar\":{\"outlinewidth\":0,\"ticks\":\"\"}},\"type\":\"scatterpolargl\"}],\"scatterternary\":[{\"marker\":{\"colorbar\":{\"outlinewidth\":0,\"ticks\":\"\"}},\"type\":\"scatterternary\"}],\"surface\":[{\"colorbar\":{\"outlinewidth\":0,\"ticks\":\"\"},\"colorscale\":[[0.0,\"#0d0887\"],[0.1111111111111111,\"#46039f\"],[0.2222222222222222,\"#7201a8\"],[0.3333333333333333,\"#9c179e\"],[0.4444444444444444,\"#bd3786\"],[0.5555555555555556,\"#d8576b\"],[0.6666666666666666,\"#ed7953\"],[0.7777777777777778,\"#fb9f3a\"],[0.8888888888888888,\"#fdca26\"],[1.0,\"#f0f921\"]],\"type\":\"surface\"}],\"table\":[{\"cells\":{\"fill\":{\"color\":\"#EBF0F8\"},\"line\":{\"color\":\"white\"}},\"header\":{\"fill\":{\"color\":\"#C8D4E3\"},\"line\":{\"color\":\"white\"}},\"type\":\"table\"}]},\"layout\":{\"annotationdefaults\":{\"arrowcolor\":\"#2a3f5f\",\"arrowhead\":0,\"arrowwidth\":1},\"autotypenumbers\":\"strict\",\"coloraxis\":{\"colorbar\":{\"outlinewidth\":0,\"ticks\":\"\"}},\"colorscale\":{\"diverging\":[[0,\"#8e0152\"],[0.1,\"#c51b7d\"],[0.2,\"#de77ae\"],[0.3,\"#f1b6da\"],[0.4,\"#fde0ef\"],[0.5,\"#f7f7f7\"],[0.6,\"#e6f5d0\"],[0.7,\"#b8e186\"],[0.8,\"#7fbc41\"],[0.9,\"#4d9221\"],[1,\"#276419\"]],\"sequential\":[[0.0,\"#0d0887\"],[0.1111111111111111,\"#46039f\"],[0.2222222222222222,\"#7201a8\"],[0.3333333333333333,\"#9c179e\"],[0.4444444444444444,\"#bd3786\"],[0.5555555555555556,\"#d8576b\"],[0.6666666666666666,\"#ed7953\"],[0.7777777777777778,\"#fb9f3a\"],[0.8888888888888888,\"#fdca26\"],[1.0,\"#f0f921\"]],\"sequentialminus\":[[0.0,\"#0d0887\"],[0.1111111111111111,\"#46039f\"],[0.2222222222222222,\"#7201a8\"],[0.3333333333333333,\"#9c179e\"],[0.4444444444444444,\"#bd3786\"],[0.5555555555555556,\"#d8576b\"],[0.6666666666666666,\"#ed7953\"],[0.7777777777777778,\"#fb9f3a\"],[0.8888888888888888,\"#fdca26\"],[1.0,\"#f0f921\"]]},\"colorway\":[\"#636efa\",\"#EF553B\",\"#00cc96\",\"#ab63fa\",\"#FFA15A\",\"#19d3f3\",\"#FF6692\",\"#B6E880\",\"#FF97FF\",\"#FECB52\"],\"font\":{\"color\":\"#2a3f5f\"},\"geo\":{\"bgcolor\":\"white\",\"lakecolor\":\"white\",\"landcolor\":\"#E5ECF6\",\"showlakes\":true,\"showland\":true,\"subunitcolor\":\"white\"},\"hoverlabel\":{\"align\":\"left\"},\"hovermode\":\"closest\",\"mapbox\":{\"style\":\"light\"},\"paper_bgcolor\":\"white\",\"plot_bgcolor\":\"#E5ECF6\",\"polar\":{\"angularaxis\":{\"gridcolor\":\"white\",\"linecolor\":\"white\",\"ticks\":\"\"},\"bgcolor\":\"#E5ECF6\",\"radialaxis\":{\"gridcolor\":\"white\",\"linecolor\":\"white\",\"ticks\":\"\"}},\"scene\":{\"xaxis\":{\"backgroundcolor\":\"#E5ECF6\",\"gridcolor\":\"white\",\"gridwidth\":2,\"linecolor\":\"white\",\"showbackground\":true,\"ticks\":\"\",\"zerolinecolor\":\"white\"},\"yaxis\":{\"backgroundcolor\":\"#E5ECF6\",\"gridcolor\":\"white\",\"gridwidth\":2,\"linecolor\":\"white\",\"showbackground\":true,\"ticks\":\"\",\"zerolinecolor\":\"white\"},\"zaxis\":{\"backgroundcolor\":\"#E5ECF6\",\"gridcolor\":\"white\",\"gridwidth\":2,\"linecolor\":\"white\",\"showbackground\":true,\"ticks\":\"\",\"zerolinecolor\":\"white\"}},\"shapedefaults\":{\"line\":{\"color\":\"#2a3f5f\"}},\"ternary\":{\"aaxis\":{\"gridcolor\":\"white\",\"linecolor\":\"white\",\"ticks\":\"\"},\"baxis\":{\"gridcolor\":\"white\",\"linecolor\":\"white\",\"ticks\":\"\"},\"bgcolor\":\"#E5ECF6\",\"caxis\":{\"gridcolor\":\"white\",\"linecolor\":\"white\",\"ticks\":\"\"}},\"title\":{\"x\":0.05},\"xaxis\":{\"automargin\":true,\"gridcolor\":\"white\",\"linecolor\":\"white\",\"ticks\":\"\",\"title\":{\"standoff\":15},\"zerolinecolor\":\"white\",\"zerolinewidth\":2},\"yaxis\":{\"automargin\":true,\"gridcolor\":\"white\",\"linecolor\":\"white\",\"ticks\":\"\",\"title\":{\"standoff\":15},\"zerolinecolor\":\"white\",\"zerolinewidth\":2}}},\"scene\":{\"xaxis\":{\"title\":{\"text\":\"G\"}},\"yaxis\":{\"title\":{\"text\":\"R\"}},\"zaxis\":{\"title\":{\"text\":\"B\"}}}},                        {\"responsive\": true}                    ).then(function(){\n",
       "                            \n",
       "var gd = document.getElementById('0019ec2c-5e38-4a37-ae83-3bc628dbbca8');\n",
       "var x = new MutationObserver(function (mutations, observer) {{\n",
       "        var display = window.getComputedStyle(gd).display;\n",
       "        if (!display || display === 'none') {{\n",
       "            console.log([gd, 'removed!']);\n",
       "            Plotly.purge(gd);\n",
       "            observer.disconnect();\n",
       "        }}\n",
       "}});\n",
       "\n",
       "// Listen for the removal of the full notebook cells\n",
       "var notebookContainer = gd.closest('#notebook-container');\n",
       "if (notebookContainer) {{\n",
       "    x.observe(notebookContainer, {childList: true});\n",
       "}}\n",
       "\n",
       "// Listen for the clearing of the current output cell\n",
       "var outputEl = gd.closest('.output');\n",
       "if (outputEl) {{\n",
       "    x.observe(outputEl, {childList: true});\n",
       "}}\n",
       "\n",
       "                        })                };                });            </script>        </div>"
      ]
     },
     "metadata": {},
     "output_type": "display_data"
    },
    {
     "name": "stdout",
     "output_type": "stream",
     "text": [
      "Control: 2851\n",
      "              R           G           B    Freq\n",
      "54    79.309804   69.270588   47.184314   42924\n",
      "55   205.803922  169.662745  144.564706    7983\n",
      "56   168.658824   79.309804   87.341176   67011\n",
      "57   140.549020  102.400000   69.270588   47796\n",
      "58   137.537255   62.243137   61.239216   59679\n",
      "59   172.674510  128.501961   99.388235   26814\n",
      "60   125.490196   79.309804   33.129412   75126\n",
      "61    99.388235   83.325490   72.282353   21237\n",
      "62   170.666667   58.227451   49.192157   70965\n",
      "63   165.647059   65.254902   60.235294   32364\n",
      "64   204.800000  221.866667  228.894118    1650\n",
      "65    81.317647   76.298039   67.262745   43737\n",
      "66   155.607843   56.219608   46.180392   46218\n",
      "67   147.576471   89.349020   91.356863   33234\n",
      "68   131.513725   87.341176   30.117647   13497\n",
      "69   176.690196   88.345098   77.301961   17097\n",
      "70   184.721569  152.596078   95.372549    8160\n",
      "71   135.529412   59.231373   63.247059   39720\n",
      "72   168.658824  107.419608   81.317647   51699\n",
      "73   130.509804   78.305882   28.109804   38574\n",
      "74   215.843137  172.674510  158.619608   12855\n",
      "75   138.541176   62.243137   53.207843   28662\n",
      "76   108.423529  107.419608   83.325490   22992\n",
      "77   156.611765   88.345098   54.211765   61308\n",
      "78   185.725490  132.517647  109.427451   44202\n",
      "79   120.470588   67.262745   71.278431   29289\n",
      "80    83.325490   78.305882   55.215686   30513\n",
      "81   193.756863  150.588235  117.458824    5373\n",
      "82   154.603922   92.360784   65.254902   34368\n",
      "83   133.521569   77.301961   34.133333   33840\n",
      "..          ...         ...         ...     ...\n",
      "448  170.666667  142.556863   63.247059  111936\n",
      "449  171.670588   99.388235   58.227451  187074\n",
      "450  196.768627  138.541176   83.325490  214203\n",
      "451  149.584314  114.447059   53.207843  103563\n",
      "452  245.960784  199.780392  160.627451  116778\n",
      "453  159.623529   62.243137   35.137255   88587\n",
      "454  100.392157  122.478431  111.435294   14178\n",
      "455  188.737255   91.356863   58.227451  118422\n",
      "456  221.866667  161.631373  120.470588  216582\n",
      "457   72.282353   74.290196   44.172549  117471\n",
      "458  115.450980   82.321569   32.125490   83247\n",
      "459  151.592157  131.513725   54.211765  133854\n",
      "460  233.913725  183.717647  157.615686  213762\n",
      "461  104.407843   91.356863   39.152941  121578\n",
      "462  158.619608   70.274510   48.188235  196941\n",
      "463  219.858824  143.560784  128.501961  171876\n",
      "464  192.752941  162.635294   91.356863  141531\n",
      "465  198.776471  115.450980   94.368627  152055\n",
      "466  181.709804   93.364706   68.266667  178233\n",
      "467  129.505882   42.164706   26.101961   56274\n",
      "468  179.701961   64.250980   49.192157   87837\n",
      "469  176.690196  122.478431   64.250980   49380\n",
      "470  160.627451   90.352941   55.215686   72018\n",
      "471  193.756863  103.403922   83.325490   78744\n",
      "472  143.560784   68.266667   41.160784   82821\n",
      "473  142.556863  115.450980   79.309804   41694\n",
      "474  103.403922   79.309804   45.176471   66567\n",
      "475  221.866667  162.635294  134.525490   91581\n",
      "476  196.768627  142.556863  101.396078  123684\n",
      "477  236.925490  178.698039  178.698039   64152\n",
      "\n",
      "[100 rows x 4 columns]\n",
      "[(79.30980392156863, 69.27058823529411, 47.1843137254902), (205.80392156862746, 169.6627450980392, 144.56470588235294), (168.65882352941176, 79.30980392156863, 87.34117647058824), (140.54901960784315, 102.4, 69.27058823529411), (137.53725490196078, 62.24313725490196, 61.23921568627451), (172.67450980392158, 128.50196078431372, 99.38823529411765), (125.49019607843137, 79.30980392156863, 33.129411764705885), (99.38823529411765, 83.32549019607843, 72.28235294117647), (170.66666666666666, 58.227450980392156, 49.1921568627451), (165.64705882352942, 65.25490196078431, 60.23529411764706), (204.8, 221.86666666666667, 228.89411764705883), (81.31764705882352, 76.29803921568627, 67.26274509803922), (155.6078431372549, 56.219607843137254, 46.180392156862744), (147.57647058823528, 89.34901960784313, 91.35686274509804), (131.51372549019607, 87.34117647058824, 30.11764705882353), (176.69019607843137, 88.34509803921569, 77.30196078431372), (184.72156862745098, 152.59607843137255, 95.37254901960785), (135.52941176470588, 59.23137254901961, 63.247058823529414), (168.65882352941176, 107.41960784313726, 81.31764705882352), (130.50980392156862, 78.30588235294118, 28.109803921568627), (215.84313725490196, 172.67450980392158, 158.61960784313726), (138.54117647058823, 62.24313725490196, 53.207843137254905), (108.4235294117647, 107.41960784313726, 83.32549019607843), (156.61176470588236, 88.34509803921569, 54.21176470588235), (185.72549019607843, 132.51764705882354, 109.42745098039215), (120.47058823529412, 67.26274509803922, 71.27843137254902), (83.32549019607843, 78.30588235294118, 55.21568627450981), (193.75686274509803, 150.58823529411765, 117.45882352941176), (154.60392156862744, 92.36078431372549, 65.25490196078431), (133.521568627451, 77.30196078431372, 34.13333333333333), (128.50196078431372, 122.47843137254903, 92.36078431372549), (100.3921568627451, 99.38823529411765, 74.29019607843138), (136.53333333333333, 61.23921568627451, 60.23529411764706), (51.2, 62.24313725490196, 85.33333333333333), (77.30196078431372, 74.29019607843138, 53.207843137254905), (111.43529411764706, 66.25882352941177, 47.1843137254902), (168.65882352941176, 129.50588235294117, 88.34509803921569), (155.6078431372549, 93.36470588235294, 43.168627450980395), (123.48235294117647, 84.32941176470588, 50.19607843137255), (119.46666666666667, 107.41960784313726, 34.13333333333333), (141.5529411764706, 104.4078431372549, 71.27843137254902), (135.52941176470588, 74.29019607843138, 28.109803921568627), (103.40392156862745, 75.29411764705883, 31.12156862745098), (186.72941176470587, 158.61960784313726, 124.48627450980392), (157.6156862745098, 128.50196078431372, 53.207843137254905), (135.52941176470588, 117.45882352941176, 95.37254901960785), (139.54509803921567, 95.37254901960785, 45.1764705882353), (115.45098039215686, 86.33725490196079, 70.27450980392157), (220.86274509803923, 170.66666666666666, 157.6156862745098), (188.7372549019608, 149.5843137254902, 135.52941176470588), (116.45490196078431, 75.29411764705883, 32.12549019607843), (162.63529411764705, 98.3843137254902, 68.26666666666667), (147.57647058823528, 64.25098039215686, 45.1764705882353), (183.71764705882353, 118.46274509803922, 103.40392156862745), (238.93333333333334, 203.79607843137254, 167.65490196078431), (198.7764705882353, 127.49803921568628, 105.41176470588235), (83.32549019607843, 78.30588235294118, 44.17254901960784), (166.65098039215687, 126.49411764705883, 76.29803921568627), (177.69411764705882, 82.32156862745099, 80.31372549019608), (143.5607843137255, 66.25882352941177, 41.16078431372549), (215.84313725490196, 160.62745098039215, 133.521568627451), (137.53725490196078, 101.39607843137254, 53.207843137254905), (31.12156862745098, 27.105882352941176, 8.031372549019608), (240.94117647058823, 209.81960784313725, 180.7058823529412), (148.58039215686276, 71.27843137254902, 41.16078431372549), (203.79607843137254, 170.66666666666666, 95.37254901960785), (222.87058823529412, 157.6156862745098, 154.60392156862744), (208.8156862745098, 202.7921568627451, 131.51372549019607), (196.7686274509804, 120.47058823529412, 103.40392156862745), (83.32549019607843, 80.31372549019608, 53.207843137254905), (170.66666666666666, 142.55686274509804, 63.247058823529414), (171.6705882352941, 99.38823529411765, 58.227450980392156), (196.7686274509804, 138.54117647058823, 83.32549019607843), (149.5843137254902, 114.44705882352942, 53.207843137254905), (245.9607843137255, 199.78039215686275, 160.62745098039215), (159.6235294117647, 62.24313725490196, 35.13725490196079), (100.3921568627451, 122.47843137254903, 111.43529411764706), (188.7372549019608, 91.35686274509804, 58.227450980392156), (221.86666666666667, 161.6313725490196, 120.47058823529412), (72.28235294117647, 74.29019607843138, 44.17254901960784), (115.45098039215686, 82.32156862745099, 32.12549019607843), (151.5921568627451, 131.51372549019607, 54.21176470588235), (233.91372549019607, 183.71764705882353, 157.6156862745098), (104.4078431372549, 91.35686274509804, 39.15294117647059), (158.61960784313726, 70.27450980392157, 48.188235294117646), (219.85882352941175, 143.5607843137255, 128.50196078431372), (192.75294117647059, 162.63529411764705, 91.35686274509804), (198.7764705882353, 115.45098039215686, 94.3686274509804), (181.70980392156864, 93.36470588235294, 68.26666666666667), (129.50588235294117, 42.16470588235294, 26.101960784313725), (179.7019607843137, 64.25098039215686, 49.1921568627451), (176.69019607843137, 122.47843137254903, 64.25098039215686), (160.62745098039215, 90.3529411764706, 55.21568627450981), (193.75686274509803, 103.40392156862745, 83.32549019607843), (143.5607843137255, 68.26666666666667, 41.16078431372549), (142.55686274509804, 115.45098039215686, 79.30980392156863), (103.40392156862745, 79.30980392156863, 45.1764705882353), (221.86666666666667, 162.63529411764705, 134.52549019607844), (196.7686274509804, 142.55686274509804, 101.39607843137254), (236.92549019607844, 178.69803921568626, 178.69803921568626)]\n"
     ]
    },
    {
     "data": {
      "application/vnd.plotly.v1+json": {
       "config": {
        "plotlyServerURL": "https://plot.ly"
       },
       "data": [
        {
         "marker": {
          "color": [
           "rgb(79.30980392156863, 69.27058823529411, 47.1843137254902)",
           "rgb(205.80392156862746, 169.6627450980392, 144.56470588235294)",
           "rgb(168.65882352941176, 79.30980392156863, 87.34117647058824)",
           "rgb(140.54901960784315, 102.4, 69.27058823529411)",
           "rgb(137.53725490196078, 62.24313725490196, 61.23921568627451)",
           "rgb(172.67450980392158, 128.50196078431372, 99.38823529411765)",
           "rgb(125.49019607843137, 79.30980392156863, 33.129411764705885)",
           "rgb(99.38823529411765, 83.32549019607843, 72.28235294117647)",
           "rgb(170.66666666666666, 58.227450980392156, 49.1921568627451)",
           "rgb(165.64705882352942, 65.25490196078431, 60.23529411764706)",
           "rgb(204.8, 221.86666666666667, 228.89411764705883)",
           "rgb(81.31764705882352, 76.29803921568627, 67.26274509803922)",
           "rgb(155.6078431372549, 56.219607843137254, 46.180392156862744)",
           "rgb(147.57647058823528, 89.34901960784313, 91.35686274509804)",
           "rgb(131.51372549019607, 87.34117647058824, 30.11764705882353)",
           "rgb(176.69019607843137, 88.34509803921569, 77.30196078431372)",
           "rgb(184.72156862745098, 152.59607843137255, 95.37254901960785)",
           "rgb(135.52941176470588, 59.23137254901961, 63.247058823529414)",
           "rgb(168.65882352941176, 107.41960784313726, 81.31764705882352)",
           "rgb(130.50980392156862, 78.30588235294118, 28.109803921568627)",
           "rgb(215.84313725490196, 172.67450980392158, 158.61960784313726)",
           "rgb(138.54117647058823, 62.24313725490196, 53.207843137254905)",
           "rgb(108.4235294117647, 107.41960784313726, 83.32549019607843)",
           "rgb(156.61176470588236, 88.34509803921569, 54.21176470588235)",
           "rgb(185.72549019607843, 132.51764705882354, 109.42745098039215)",
           "rgb(120.47058823529412, 67.26274509803922, 71.27843137254902)",
           "rgb(83.32549019607843, 78.30588235294118, 55.21568627450981)",
           "rgb(193.75686274509803, 150.58823529411765, 117.45882352941176)",
           "rgb(154.60392156862744, 92.36078431372549, 65.25490196078431)",
           "rgb(133.521568627451, 77.30196078431372, 34.13333333333333)",
           "rgb(128.50196078431372, 122.47843137254903, 92.36078431372549)",
           "rgb(100.3921568627451, 99.38823529411765, 74.29019607843138)",
           "rgb(136.53333333333333, 61.23921568627451, 60.23529411764706)",
           "rgb(51.2, 62.24313725490196, 85.33333333333333)",
           "rgb(77.30196078431372, 74.29019607843138, 53.207843137254905)",
           "rgb(111.43529411764706, 66.25882352941177, 47.1843137254902)",
           "rgb(168.65882352941176, 129.50588235294117, 88.34509803921569)",
           "rgb(155.6078431372549, 93.36470588235294, 43.168627450980395)",
           "rgb(123.48235294117647, 84.32941176470588, 50.19607843137255)",
           "rgb(119.46666666666667, 107.41960784313726, 34.13333333333333)",
           "rgb(141.5529411764706, 104.4078431372549, 71.27843137254902)",
           "rgb(135.52941176470588, 74.29019607843138, 28.109803921568627)",
           "rgb(103.40392156862745, 75.29411764705883, 31.12156862745098)",
           "rgb(186.72941176470587, 158.61960784313726, 124.48627450980392)",
           "rgb(157.6156862745098, 128.50196078431372, 53.207843137254905)",
           "rgb(135.52941176470588, 117.45882352941176, 95.37254901960785)",
           "rgb(139.54509803921567, 95.37254901960785, 45.1764705882353)",
           "rgb(115.45098039215686, 86.33725490196079, 70.27450980392157)",
           "rgb(220.86274509803923, 170.66666666666666, 157.6156862745098)",
           "rgb(188.7372549019608, 149.5843137254902, 135.52941176470588)",
           "rgb(116.45490196078431, 75.29411764705883, 32.12549019607843)",
           "rgb(162.63529411764705, 98.3843137254902, 68.26666666666667)",
           "rgb(147.57647058823528, 64.25098039215686, 45.1764705882353)",
           "rgb(183.71764705882353, 118.46274509803922, 103.40392156862745)",
           "rgb(238.93333333333334, 203.79607843137254, 167.65490196078431)",
           "rgb(198.7764705882353, 127.49803921568628, 105.41176470588235)",
           "rgb(83.32549019607843, 78.30588235294118, 44.17254901960784)",
           "rgb(166.65098039215687, 126.49411764705883, 76.29803921568627)",
           "rgb(177.69411764705882, 82.32156862745099, 80.31372549019608)",
           "rgb(143.5607843137255, 66.25882352941177, 41.16078431372549)",
           "rgb(215.84313725490196, 160.62745098039215, 133.521568627451)",
           "rgb(137.53725490196078, 101.39607843137254, 53.207843137254905)",
           "rgb(31.12156862745098, 27.105882352941176, 8.031372549019608)",
           "rgb(240.94117647058823, 209.81960784313725, 180.7058823529412)",
           "rgb(148.58039215686276, 71.27843137254902, 41.16078431372549)",
           "rgb(203.79607843137254, 170.66666666666666, 95.37254901960785)",
           "rgb(222.87058823529412, 157.6156862745098, 154.60392156862744)",
           "rgb(208.8156862745098, 202.7921568627451, 131.51372549019607)",
           "rgb(196.7686274509804, 120.47058823529412, 103.40392156862745)",
           "rgb(83.32549019607843, 80.31372549019608, 53.207843137254905)",
           "rgb(170.66666666666666, 142.55686274509804, 63.247058823529414)",
           "rgb(171.6705882352941, 99.38823529411765, 58.227450980392156)",
           "rgb(196.7686274509804, 138.54117647058823, 83.32549019607843)",
           "rgb(149.5843137254902, 114.44705882352942, 53.207843137254905)",
           "rgb(245.9607843137255, 199.78039215686275, 160.62745098039215)",
           "rgb(159.6235294117647, 62.24313725490196, 35.13725490196079)",
           "rgb(100.3921568627451, 122.47843137254903, 111.43529411764706)",
           "rgb(188.7372549019608, 91.35686274509804, 58.227450980392156)",
           "rgb(221.86666666666667, 161.6313725490196, 120.47058823529412)",
           "rgb(72.28235294117647, 74.29019607843138, 44.17254901960784)",
           "rgb(115.45098039215686, 82.32156862745099, 32.12549019607843)",
           "rgb(151.5921568627451, 131.51372549019607, 54.21176470588235)",
           "rgb(233.91372549019607, 183.71764705882353, 157.6156862745098)",
           "rgb(104.4078431372549, 91.35686274509804, 39.15294117647059)",
           "rgb(158.61960784313726, 70.27450980392157, 48.188235294117646)",
           "rgb(219.85882352941175, 143.5607843137255, 128.50196078431372)",
           "rgb(192.75294117647059, 162.63529411764705, 91.35686274509804)",
           "rgb(198.7764705882353, 115.45098039215686, 94.3686274509804)",
           "rgb(181.70980392156864, 93.36470588235294, 68.26666666666667)",
           "rgb(129.50588235294117, 42.16470588235294, 26.101960784313725)",
           "rgb(179.7019607843137, 64.25098039215686, 49.1921568627451)",
           "rgb(176.69019607843137, 122.47843137254903, 64.25098039215686)",
           "rgb(160.62745098039215, 90.3529411764706, 55.21568627450981)",
           "rgb(193.75686274509803, 103.40392156862745, 83.32549019607843)",
           "rgb(143.5607843137255, 68.26666666666667, 41.16078431372549)",
           "rgb(142.55686274509804, 115.45098039215686, 79.30980392156863)",
           "rgb(103.40392156862745, 79.30980392156863, 45.1764705882353)",
           "rgb(221.86666666666667, 162.63529411764705, 134.52549019607844)",
           "rgb(196.7686274509804, 142.55686274509804, 101.39607843137254)",
           "rgb(236.92549019607844, 178.69803921568626, 178.69803921568626)"
          ]
         },
         "mode": "markers",
         "type": "scatter3d",
         "x": [
          79.30980392156863,
          205.80392156862746,
          168.65882352941176,
          140.54901960784315,
          137.53725490196078,
          172.67450980392158,
          125.49019607843137,
          99.38823529411765,
          170.66666666666666,
          165.64705882352942,
          204.8,
          81.31764705882352,
          155.6078431372549,
          147.57647058823528,
          131.51372549019607,
          176.69019607843137,
          184.72156862745098,
          135.52941176470588,
          168.65882352941176,
          130.50980392156862,
          215.84313725490196,
          138.54117647058823,
          108.4235294117647,
          156.61176470588236,
          185.72549019607843,
          120.47058823529412,
          83.32549019607843,
          193.75686274509803,
          154.60392156862744,
          133.521568627451,
          128.50196078431372,
          100.3921568627451,
          136.53333333333333,
          51.2,
          77.30196078431372,
          111.43529411764706,
          168.65882352941176,
          155.6078431372549,
          123.48235294117647,
          119.46666666666667,
          141.5529411764706,
          135.52941176470588,
          103.40392156862745,
          186.72941176470587,
          157.6156862745098,
          135.52941176470588,
          139.54509803921567,
          115.45098039215686,
          220.86274509803923,
          188.7372549019608,
          116.45490196078431,
          162.63529411764705,
          147.57647058823528,
          183.71764705882353,
          238.93333333333334,
          198.7764705882353,
          83.32549019607843,
          166.65098039215687,
          177.69411764705882,
          143.5607843137255,
          215.84313725490196,
          137.53725490196078,
          31.12156862745098,
          240.94117647058823,
          148.58039215686276,
          203.79607843137254,
          222.87058823529412,
          208.8156862745098,
          196.7686274509804,
          83.32549019607843,
          170.66666666666666,
          171.6705882352941,
          196.7686274509804,
          149.5843137254902,
          245.9607843137255,
          159.6235294117647,
          100.3921568627451,
          188.7372549019608,
          221.86666666666667,
          72.28235294117647,
          115.45098039215686,
          151.5921568627451,
          233.91372549019607,
          104.4078431372549,
          158.61960784313726,
          219.85882352941175,
          192.75294117647059,
          198.7764705882353,
          181.70980392156864,
          129.50588235294117,
          179.7019607843137,
          176.69019607843137,
          160.62745098039215,
          193.75686274509803,
          143.5607843137255,
          142.55686274509804,
          103.40392156862745,
          221.86666666666667,
          196.7686274509804,
          236.92549019607844
         ],
         "y": [
          69.27058823529411,
          169.6627450980392,
          79.30980392156863,
          102.4,
          62.24313725490196,
          128.50196078431372,
          79.30980392156863,
          83.32549019607843,
          58.227450980392156,
          65.25490196078431,
          221.86666666666667,
          76.29803921568627,
          56.219607843137254,
          89.34901960784313,
          87.34117647058824,
          88.34509803921569,
          152.59607843137255,
          59.23137254901961,
          107.41960784313726,
          78.30588235294118,
          172.67450980392158,
          62.24313725490196,
          107.41960784313726,
          88.34509803921569,
          132.51764705882354,
          67.26274509803922,
          78.30588235294118,
          150.58823529411765,
          92.36078431372549,
          77.30196078431372,
          122.47843137254903,
          99.38823529411765,
          61.23921568627451,
          62.24313725490196,
          74.29019607843138,
          66.25882352941177,
          129.50588235294117,
          93.36470588235294,
          84.32941176470588,
          107.41960784313726,
          104.4078431372549,
          74.29019607843138,
          75.29411764705883,
          158.61960784313726,
          128.50196078431372,
          117.45882352941176,
          95.37254901960785,
          86.33725490196079,
          170.66666666666666,
          149.5843137254902,
          75.29411764705883,
          98.3843137254902,
          64.25098039215686,
          118.46274509803922,
          203.79607843137254,
          127.49803921568628,
          78.30588235294118,
          126.49411764705883,
          82.32156862745099,
          66.25882352941177,
          160.62745098039215,
          101.39607843137254,
          27.105882352941176,
          209.81960784313725,
          71.27843137254902,
          170.66666666666666,
          157.6156862745098,
          202.7921568627451,
          120.47058823529412,
          80.31372549019608,
          142.55686274509804,
          99.38823529411765,
          138.54117647058823,
          114.44705882352942,
          199.78039215686275,
          62.24313725490196,
          122.47843137254903,
          91.35686274509804,
          161.6313725490196,
          74.29019607843138,
          82.32156862745099,
          131.51372549019607,
          183.71764705882353,
          91.35686274509804,
          70.27450980392157,
          143.5607843137255,
          162.63529411764705,
          115.45098039215686,
          93.36470588235294,
          42.16470588235294,
          64.25098039215686,
          122.47843137254903,
          90.3529411764706,
          103.40392156862745,
          68.26666666666667,
          115.45098039215686,
          79.30980392156863,
          162.63529411764705,
          142.55686274509804,
          178.69803921568626
         ],
         "z": [
          47.1843137254902,
          144.56470588235294,
          87.34117647058824,
          69.27058823529411,
          61.23921568627451,
          99.38823529411765,
          33.129411764705885,
          72.28235294117647,
          49.1921568627451,
          60.23529411764706,
          228.89411764705883,
          67.26274509803922,
          46.180392156862744,
          91.35686274509804,
          30.11764705882353,
          77.30196078431372,
          95.37254901960785,
          63.247058823529414,
          81.31764705882352,
          28.109803921568627,
          158.61960784313726,
          53.207843137254905,
          83.32549019607843,
          54.21176470588235,
          109.42745098039215,
          71.27843137254902,
          55.21568627450981,
          117.45882352941176,
          65.25490196078431,
          34.13333333333333,
          92.36078431372549,
          74.29019607843138,
          60.23529411764706,
          85.33333333333333,
          53.207843137254905,
          47.1843137254902,
          88.34509803921569,
          43.168627450980395,
          50.19607843137255,
          34.13333333333333,
          71.27843137254902,
          28.109803921568627,
          31.12156862745098,
          124.48627450980392,
          53.207843137254905,
          95.37254901960785,
          45.1764705882353,
          70.27450980392157,
          157.6156862745098,
          135.52941176470588,
          32.12549019607843,
          68.26666666666667,
          45.1764705882353,
          103.40392156862745,
          167.65490196078431,
          105.41176470588235,
          44.17254901960784,
          76.29803921568627,
          80.31372549019608,
          41.16078431372549,
          133.521568627451,
          53.207843137254905,
          8.031372549019608,
          180.7058823529412,
          41.16078431372549,
          95.37254901960785,
          154.60392156862744,
          131.51372549019607,
          103.40392156862745,
          53.207843137254905,
          63.247058823529414,
          58.227450980392156,
          83.32549019607843,
          53.207843137254905,
          160.62745098039215,
          35.13725490196079,
          111.43529411764706,
          58.227450980392156,
          120.47058823529412,
          44.17254901960784,
          32.12549019607843,
          54.21176470588235,
          157.6156862745098,
          39.15294117647059,
          48.188235294117646,
          128.50196078431372,
          91.35686274509804,
          94.3686274509804,
          68.26666666666667,
          26.101960784313725,
          49.1921568627451,
          64.25098039215686,
          55.21568627450981,
          83.32549019607843,
          41.16078431372549,
          79.30980392156863,
          45.1764705882353,
          134.52549019607844,
          101.39607843137254,
          178.69803921568626
         ]
        }
       ],
       "layout": {
        "scene": {
         "xaxis": {
          "title": {
           "text": "G"
          }
         },
         "yaxis": {
          "title": {
           "text": "R"
          }
         },
         "zaxis": {
          "title": {
           "text": "B"
          }
         }
        },
        "template": {
         "data": {
          "bar": [
           {
            "error_x": {
             "color": "#2a3f5f"
            },
            "error_y": {
             "color": "#2a3f5f"
            },
            "marker": {
             "line": {
              "color": "#E5ECF6",
              "width": 0.5
             },
             "pattern": {
              "fillmode": "overlay",
              "size": 10,
              "solidity": 0.2
             }
            },
            "type": "bar"
           }
          ],
          "barpolar": [
           {
            "marker": {
             "line": {
              "color": "#E5ECF6",
              "width": 0.5
             },
             "pattern": {
              "fillmode": "overlay",
              "size": 10,
              "solidity": 0.2
             }
            },
            "type": "barpolar"
           }
          ],
          "carpet": [
           {
            "aaxis": {
             "endlinecolor": "#2a3f5f",
             "gridcolor": "white",
             "linecolor": "white",
             "minorgridcolor": "white",
             "startlinecolor": "#2a3f5f"
            },
            "baxis": {
             "endlinecolor": "#2a3f5f",
             "gridcolor": "white",
             "linecolor": "white",
             "minorgridcolor": "white",
             "startlinecolor": "#2a3f5f"
            },
            "type": "carpet"
           }
          ],
          "choropleth": [
           {
            "colorbar": {
             "outlinewidth": 0,
             "ticks": ""
            },
            "type": "choropleth"
           }
          ],
          "contour": [
           {
            "colorbar": {
             "outlinewidth": 0,
             "ticks": ""
            },
            "colorscale": [
             [
              0,
              "#0d0887"
             ],
             [
              0.1111111111111111,
              "#46039f"
             ],
             [
              0.2222222222222222,
              "#7201a8"
             ],
             [
              0.3333333333333333,
              "#9c179e"
             ],
             [
              0.4444444444444444,
              "#bd3786"
             ],
             [
              0.5555555555555556,
              "#d8576b"
             ],
             [
              0.6666666666666666,
              "#ed7953"
             ],
             [
              0.7777777777777778,
              "#fb9f3a"
             ],
             [
              0.8888888888888888,
              "#fdca26"
             ],
             [
              1,
              "#f0f921"
             ]
            ],
            "type": "contour"
           }
          ],
          "contourcarpet": [
           {
            "colorbar": {
             "outlinewidth": 0,
             "ticks": ""
            },
            "type": "contourcarpet"
           }
          ],
          "heatmap": [
           {
            "colorbar": {
             "outlinewidth": 0,
             "ticks": ""
            },
            "colorscale": [
             [
              0,
              "#0d0887"
             ],
             [
              0.1111111111111111,
              "#46039f"
             ],
             [
              0.2222222222222222,
              "#7201a8"
             ],
             [
              0.3333333333333333,
              "#9c179e"
             ],
             [
              0.4444444444444444,
              "#bd3786"
             ],
             [
              0.5555555555555556,
              "#d8576b"
             ],
             [
              0.6666666666666666,
              "#ed7953"
             ],
             [
              0.7777777777777778,
              "#fb9f3a"
             ],
             [
              0.8888888888888888,
              "#fdca26"
             ],
             [
              1,
              "#f0f921"
             ]
            ],
            "type": "heatmap"
           }
          ],
          "heatmapgl": [
           {
            "colorbar": {
             "outlinewidth": 0,
             "ticks": ""
            },
            "colorscale": [
             [
              0,
              "#0d0887"
             ],
             [
              0.1111111111111111,
              "#46039f"
             ],
             [
              0.2222222222222222,
              "#7201a8"
             ],
             [
              0.3333333333333333,
              "#9c179e"
             ],
             [
              0.4444444444444444,
              "#bd3786"
             ],
             [
              0.5555555555555556,
              "#d8576b"
             ],
             [
              0.6666666666666666,
              "#ed7953"
             ],
             [
              0.7777777777777778,
              "#fb9f3a"
             ],
             [
              0.8888888888888888,
              "#fdca26"
             ],
             [
              1,
              "#f0f921"
             ]
            ],
            "type": "heatmapgl"
           }
          ],
          "histogram": [
           {
            "marker": {
             "pattern": {
              "fillmode": "overlay",
              "size": 10,
              "solidity": 0.2
             }
            },
            "type": "histogram"
           }
          ],
          "histogram2d": [
           {
            "colorbar": {
             "outlinewidth": 0,
             "ticks": ""
            },
            "colorscale": [
             [
              0,
              "#0d0887"
             ],
             [
              0.1111111111111111,
              "#46039f"
             ],
             [
              0.2222222222222222,
              "#7201a8"
             ],
             [
              0.3333333333333333,
              "#9c179e"
             ],
             [
              0.4444444444444444,
              "#bd3786"
             ],
             [
              0.5555555555555556,
              "#d8576b"
             ],
             [
              0.6666666666666666,
              "#ed7953"
             ],
             [
              0.7777777777777778,
              "#fb9f3a"
             ],
             [
              0.8888888888888888,
              "#fdca26"
             ],
             [
              1,
              "#f0f921"
             ]
            ],
            "type": "histogram2d"
           }
          ],
          "histogram2dcontour": [
           {
            "colorbar": {
             "outlinewidth": 0,
             "ticks": ""
            },
            "colorscale": [
             [
              0,
              "#0d0887"
             ],
             [
              0.1111111111111111,
              "#46039f"
             ],
             [
              0.2222222222222222,
              "#7201a8"
             ],
             [
              0.3333333333333333,
              "#9c179e"
             ],
             [
              0.4444444444444444,
              "#bd3786"
             ],
             [
              0.5555555555555556,
              "#d8576b"
             ],
             [
              0.6666666666666666,
              "#ed7953"
             ],
             [
              0.7777777777777778,
              "#fb9f3a"
             ],
             [
              0.8888888888888888,
              "#fdca26"
             ],
             [
              1,
              "#f0f921"
             ]
            ],
            "type": "histogram2dcontour"
           }
          ],
          "mesh3d": [
           {
            "colorbar": {
             "outlinewidth": 0,
             "ticks": ""
            },
            "type": "mesh3d"
           }
          ],
          "parcoords": [
           {
            "line": {
             "colorbar": {
              "outlinewidth": 0,
              "ticks": ""
             }
            },
            "type": "parcoords"
           }
          ],
          "pie": [
           {
            "automargin": true,
            "type": "pie"
           }
          ],
          "scatter": [
           {
            "marker": {
             "colorbar": {
              "outlinewidth": 0,
              "ticks": ""
             }
            },
            "type": "scatter"
           }
          ],
          "scatter3d": [
           {
            "line": {
             "colorbar": {
              "outlinewidth": 0,
              "ticks": ""
             }
            },
            "marker": {
             "colorbar": {
              "outlinewidth": 0,
              "ticks": ""
             }
            },
            "type": "scatter3d"
           }
          ],
          "scattercarpet": [
           {
            "marker": {
             "colorbar": {
              "outlinewidth": 0,
              "ticks": ""
             }
            },
            "type": "scattercarpet"
           }
          ],
          "scattergeo": [
           {
            "marker": {
             "colorbar": {
              "outlinewidth": 0,
              "ticks": ""
             }
            },
            "type": "scattergeo"
           }
          ],
          "scattergl": [
           {
            "marker": {
             "colorbar": {
              "outlinewidth": 0,
              "ticks": ""
             }
            },
            "type": "scattergl"
           }
          ],
          "scattermapbox": [
           {
            "marker": {
             "colorbar": {
              "outlinewidth": 0,
              "ticks": ""
             }
            },
            "type": "scattermapbox"
           }
          ],
          "scatterpolar": [
           {
            "marker": {
             "colorbar": {
              "outlinewidth": 0,
              "ticks": ""
             }
            },
            "type": "scatterpolar"
           }
          ],
          "scatterpolargl": [
           {
            "marker": {
             "colorbar": {
              "outlinewidth": 0,
              "ticks": ""
             }
            },
            "type": "scatterpolargl"
           }
          ],
          "scatterternary": [
           {
            "marker": {
             "colorbar": {
              "outlinewidth": 0,
              "ticks": ""
             }
            },
            "type": "scatterternary"
           }
          ],
          "surface": [
           {
            "colorbar": {
             "outlinewidth": 0,
             "ticks": ""
            },
            "colorscale": [
             [
              0,
              "#0d0887"
             ],
             [
              0.1111111111111111,
              "#46039f"
             ],
             [
              0.2222222222222222,
              "#7201a8"
             ],
             [
              0.3333333333333333,
              "#9c179e"
             ],
             [
              0.4444444444444444,
              "#bd3786"
             ],
             [
              0.5555555555555556,
              "#d8576b"
             ],
             [
              0.6666666666666666,
              "#ed7953"
             ],
             [
              0.7777777777777778,
              "#fb9f3a"
             ],
             [
              0.8888888888888888,
              "#fdca26"
             ],
             [
              1,
              "#f0f921"
             ]
            ],
            "type": "surface"
           }
          ],
          "table": [
           {
            "cells": {
             "fill": {
              "color": "#EBF0F8"
             },
             "line": {
              "color": "white"
             }
            },
            "header": {
             "fill": {
              "color": "#C8D4E3"
             },
             "line": {
              "color": "white"
             }
            },
            "type": "table"
           }
          ]
         },
         "layout": {
          "annotationdefaults": {
           "arrowcolor": "#2a3f5f",
           "arrowhead": 0,
           "arrowwidth": 1
          },
          "autotypenumbers": "strict",
          "coloraxis": {
           "colorbar": {
            "outlinewidth": 0,
            "ticks": ""
           }
          },
          "colorscale": {
           "diverging": [
            [
             0,
             "#8e0152"
            ],
            [
             0.1,
             "#c51b7d"
            ],
            [
             0.2,
             "#de77ae"
            ],
            [
             0.3,
             "#f1b6da"
            ],
            [
             0.4,
             "#fde0ef"
            ],
            [
             0.5,
             "#f7f7f7"
            ],
            [
             0.6,
             "#e6f5d0"
            ],
            [
             0.7,
             "#b8e186"
            ],
            [
             0.8,
             "#7fbc41"
            ],
            [
             0.9,
             "#4d9221"
            ],
            [
             1,
             "#276419"
            ]
           ],
           "sequential": [
            [
             0,
             "#0d0887"
            ],
            [
             0.1111111111111111,
             "#46039f"
            ],
            [
             0.2222222222222222,
             "#7201a8"
            ],
            [
             0.3333333333333333,
             "#9c179e"
            ],
            [
             0.4444444444444444,
             "#bd3786"
            ],
            [
             0.5555555555555556,
             "#d8576b"
            ],
            [
             0.6666666666666666,
             "#ed7953"
            ],
            [
             0.7777777777777778,
             "#fb9f3a"
            ],
            [
             0.8888888888888888,
             "#fdca26"
            ],
            [
             1,
             "#f0f921"
            ]
           ],
           "sequentialminus": [
            [
             0,
             "#0d0887"
            ],
            [
             0.1111111111111111,
             "#46039f"
            ],
            [
             0.2222222222222222,
             "#7201a8"
            ],
            [
             0.3333333333333333,
             "#9c179e"
            ],
            [
             0.4444444444444444,
             "#bd3786"
            ],
            [
             0.5555555555555556,
             "#d8576b"
            ],
            [
             0.6666666666666666,
             "#ed7953"
            ],
            [
             0.7777777777777778,
             "#fb9f3a"
            ],
            [
             0.8888888888888888,
             "#fdca26"
            ],
            [
             1,
             "#f0f921"
            ]
           ]
          },
          "colorway": [
           "#636efa",
           "#EF553B",
           "#00cc96",
           "#ab63fa",
           "#FFA15A",
           "#19d3f3",
           "#FF6692",
           "#B6E880",
           "#FF97FF",
           "#FECB52"
          ],
          "font": {
           "color": "#2a3f5f"
          },
          "geo": {
           "bgcolor": "white",
           "lakecolor": "white",
           "landcolor": "#E5ECF6",
           "showlakes": true,
           "showland": true,
           "subunitcolor": "white"
          },
          "hoverlabel": {
           "align": "left"
          },
          "hovermode": "closest",
          "mapbox": {
           "style": "light"
          },
          "paper_bgcolor": "white",
          "plot_bgcolor": "#E5ECF6",
          "polar": {
           "angularaxis": {
            "gridcolor": "white",
            "linecolor": "white",
            "ticks": ""
           },
           "bgcolor": "#E5ECF6",
           "radialaxis": {
            "gridcolor": "white",
            "linecolor": "white",
            "ticks": ""
           }
          },
          "scene": {
           "xaxis": {
            "backgroundcolor": "#E5ECF6",
            "gridcolor": "white",
            "gridwidth": 2,
            "linecolor": "white",
            "showbackground": true,
            "ticks": "",
            "zerolinecolor": "white"
           },
           "yaxis": {
            "backgroundcolor": "#E5ECF6",
            "gridcolor": "white",
            "gridwidth": 2,
            "linecolor": "white",
            "showbackground": true,
            "ticks": "",
            "zerolinecolor": "white"
           },
           "zaxis": {
            "backgroundcolor": "#E5ECF6",
            "gridcolor": "white",
            "gridwidth": 2,
            "linecolor": "white",
            "showbackground": true,
            "ticks": "",
            "zerolinecolor": "white"
           }
          },
          "shapedefaults": {
           "line": {
            "color": "#2a3f5f"
           }
          },
          "ternary": {
           "aaxis": {
            "gridcolor": "white",
            "linecolor": "white",
            "ticks": ""
           },
           "baxis": {
            "gridcolor": "white",
            "linecolor": "white",
            "ticks": ""
           },
           "bgcolor": "#E5ECF6",
           "caxis": {
            "gridcolor": "white",
            "linecolor": "white",
            "ticks": ""
           }
          },
          "title": {
           "x": 0.05
          },
          "xaxis": {
           "automargin": true,
           "gridcolor": "white",
           "linecolor": "white",
           "ticks": "",
           "title": {
            "standoff": 15
           },
           "zerolinecolor": "white",
           "zerolinewidth": 2
          },
          "yaxis": {
           "automargin": true,
           "gridcolor": "white",
           "linecolor": "white",
           "ticks": "",
           "title": {
            "standoff": 15
           },
           "zerolinecolor": "white",
           "zerolinewidth": 2
          }
         }
        }
       }
      },
      "text/html": [
       "<div>                            <div id=\"6e025ae1-5bcd-4b07-aba2-0abd8402c14f\" class=\"plotly-graph-div\" style=\"height:525px; width:100%;\"></div>            <script type=\"text/javascript\">                require([\"plotly\"], function(Plotly) {                    window.PLOTLYENV=window.PLOTLYENV || {};                                    if (document.getElementById(\"6e025ae1-5bcd-4b07-aba2-0abd8402c14f\")) {                    Plotly.newPlot(                        \"6e025ae1-5bcd-4b07-aba2-0abd8402c14f\",                        [{\"marker\":{\"color\":[\"rgb(79.30980392156863, 69.27058823529411, 47.1843137254902)\",\"rgb(205.80392156862746, 169.6627450980392, 144.56470588235294)\",\"rgb(168.65882352941176, 79.30980392156863, 87.34117647058824)\",\"rgb(140.54901960784315, 102.4, 69.27058823529411)\",\"rgb(137.53725490196078, 62.24313725490196, 61.23921568627451)\",\"rgb(172.67450980392158, 128.50196078431372, 99.38823529411765)\",\"rgb(125.49019607843137, 79.30980392156863, 33.129411764705885)\",\"rgb(99.38823529411765, 83.32549019607843, 72.28235294117647)\",\"rgb(170.66666666666666, 58.227450980392156, 49.1921568627451)\",\"rgb(165.64705882352942, 65.25490196078431, 60.23529411764706)\",\"rgb(204.8, 221.86666666666667, 228.89411764705883)\",\"rgb(81.31764705882352, 76.29803921568627, 67.26274509803922)\",\"rgb(155.6078431372549, 56.219607843137254, 46.180392156862744)\",\"rgb(147.57647058823528, 89.34901960784313, 91.35686274509804)\",\"rgb(131.51372549019607, 87.34117647058824, 30.11764705882353)\",\"rgb(176.69019607843137, 88.34509803921569, 77.30196078431372)\",\"rgb(184.72156862745098, 152.59607843137255, 95.37254901960785)\",\"rgb(135.52941176470588, 59.23137254901961, 63.247058823529414)\",\"rgb(168.65882352941176, 107.41960784313726, 81.31764705882352)\",\"rgb(130.50980392156862, 78.30588235294118, 28.109803921568627)\",\"rgb(215.84313725490196, 172.67450980392158, 158.61960784313726)\",\"rgb(138.54117647058823, 62.24313725490196, 53.207843137254905)\",\"rgb(108.4235294117647, 107.41960784313726, 83.32549019607843)\",\"rgb(156.61176470588236, 88.34509803921569, 54.21176470588235)\",\"rgb(185.72549019607843, 132.51764705882354, 109.42745098039215)\",\"rgb(120.47058823529412, 67.26274509803922, 71.27843137254902)\",\"rgb(83.32549019607843, 78.30588235294118, 55.21568627450981)\",\"rgb(193.75686274509803, 150.58823529411765, 117.45882352941176)\",\"rgb(154.60392156862744, 92.36078431372549, 65.25490196078431)\",\"rgb(133.521568627451, 77.30196078431372, 34.13333333333333)\",\"rgb(128.50196078431372, 122.47843137254903, 92.36078431372549)\",\"rgb(100.3921568627451, 99.38823529411765, 74.29019607843138)\",\"rgb(136.53333333333333, 61.23921568627451, 60.23529411764706)\",\"rgb(51.2, 62.24313725490196, 85.33333333333333)\",\"rgb(77.30196078431372, 74.29019607843138, 53.207843137254905)\",\"rgb(111.43529411764706, 66.25882352941177, 47.1843137254902)\",\"rgb(168.65882352941176, 129.50588235294117, 88.34509803921569)\",\"rgb(155.6078431372549, 93.36470588235294, 43.168627450980395)\",\"rgb(123.48235294117647, 84.32941176470588, 50.19607843137255)\",\"rgb(119.46666666666667, 107.41960784313726, 34.13333333333333)\",\"rgb(141.5529411764706, 104.4078431372549, 71.27843137254902)\",\"rgb(135.52941176470588, 74.29019607843138, 28.109803921568627)\",\"rgb(103.40392156862745, 75.29411764705883, 31.12156862745098)\",\"rgb(186.72941176470587, 158.61960784313726, 124.48627450980392)\",\"rgb(157.6156862745098, 128.50196078431372, 53.207843137254905)\",\"rgb(135.52941176470588, 117.45882352941176, 95.37254901960785)\",\"rgb(139.54509803921567, 95.37254901960785, 45.1764705882353)\",\"rgb(115.45098039215686, 86.33725490196079, 70.27450980392157)\",\"rgb(220.86274509803923, 170.66666666666666, 157.6156862745098)\",\"rgb(188.7372549019608, 149.5843137254902, 135.52941176470588)\",\"rgb(116.45490196078431, 75.29411764705883, 32.12549019607843)\",\"rgb(162.63529411764705, 98.3843137254902, 68.26666666666667)\",\"rgb(147.57647058823528, 64.25098039215686, 45.1764705882353)\",\"rgb(183.71764705882353, 118.46274509803922, 103.40392156862745)\",\"rgb(238.93333333333334, 203.79607843137254, 167.65490196078431)\",\"rgb(198.7764705882353, 127.49803921568628, 105.41176470588235)\",\"rgb(83.32549019607843, 78.30588235294118, 44.17254901960784)\",\"rgb(166.65098039215687, 126.49411764705883, 76.29803921568627)\",\"rgb(177.69411764705882, 82.32156862745099, 80.31372549019608)\",\"rgb(143.5607843137255, 66.25882352941177, 41.16078431372549)\",\"rgb(215.84313725490196, 160.62745098039215, 133.521568627451)\",\"rgb(137.53725490196078, 101.39607843137254, 53.207843137254905)\",\"rgb(31.12156862745098, 27.105882352941176, 8.031372549019608)\",\"rgb(240.94117647058823, 209.81960784313725, 180.7058823529412)\",\"rgb(148.58039215686276, 71.27843137254902, 41.16078431372549)\",\"rgb(203.79607843137254, 170.66666666666666, 95.37254901960785)\",\"rgb(222.87058823529412, 157.6156862745098, 154.60392156862744)\",\"rgb(208.8156862745098, 202.7921568627451, 131.51372549019607)\",\"rgb(196.7686274509804, 120.47058823529412, 103.40392156862745)\",\"rgb(83.32549019607843, 80.31372549019608, 53.207843137254905)\",\"rgb(170.66666666666666, 142.55686274509804, 63.247058823529414)\",\"rgb(171.6705882352941, 99.38823529411765, 58.227450980392156)\",\"rgb(196.7686274509804, 138.54117647058823, 83.32549019607843)\",\"rgb(149.5843137254902, 114.44705882352942, 53.207843137254905)\",\"rgb(245.9607843137255, 199.78039215686275, 160.62745098039215)\",\"rgb(159.6235294117647, 62.24313725490196, 35.13725490196079)\",\"rgb(100.3921568627451, 122.47843137254903, 111.43529411764706)\",\"rgb(188.7372549019608, 91.35686274509804, 58.227450980392156)\",\"rgb(221.86666666666667, 161.6313725490196, 120.47058823529412)\",\"rgb(72.28235294117647, 74.29019607843138, 44.17254901960784)\",\"rgb(115.45098039215686, 82.32156862745099, 32.12549019607843)\",\"rgb(151.5921568627451, 131.51372549019607, 54.21176470588235)\",\"rgb(233.91372549019607, 183.71764705882353, 157.6156862745098)\",\"rgb(104.4078431372549, 91.35686274509804, 39.15294117647059)\",\"rgb(158.61960784313726, 70.27450980392157, 48.188235294117646)\",\"rgb(219.85882352941175, 143.5607843137255, 128.50196078431372)\",\"rgb(192.75294117647059, 162.63529411764705, 91.35686274509804)\",\"rgb(198.7764705882353, 115.45098039215686, 94.3686274509804)\",\"rgb(181.70980392156864, 93.36470588235294, 68.26666666666667)\",\"rgb(129.50588235294117, 42.16470588235294, 26.101960784313725)\",\"rgb(179.7019607843137, 64.25098039215686, 49.1921568627451)\",\"rgb(176.69019607843137, 122.47843137254903, 64.25098039215686)\",\"rgb(160.62745098039215, 90.3529411764706, 55.21568627450981)\",\"rgb(193.75686274509803, 103.40392156862745, 83.32549019607843)\",\"rgb(143.5607843137255, 68.26666666666667, 41.16078431372549)\",\"rgb(142.55686274509804, 115.45098039215686, 79.30980392156863)\",\"rgb(103.40392156862745, 79.30980392156863, 45.1764705882353)\",\"rgb(221.86666666666667, 162.63529411764705, 134.52549019607844)\",\"rgb(196.7686274509804, 142.55686274509804, 101.39607843137254)\",\"rgb(236.92549019607844, 178.69803921568626, 178.69803921568626)\"]},\"mode\":\"markers\",\"x\":[79.30980392156863,205.80392156862746,168.65882352941176,140.54901960784315,137.53725490196078,172.67450980392158,125.49019607843137,99.38823529411765,170.66666666666666,165.64705882352942,204.8,81.31764705882352,155.6078431372549,147.57647058823528,131.51372549019607,176.69019607843137,184.72156862745098,135.52941176470588,168.65882352941176,130.50980392156862,215.84313725490196,138.54117647058823,108.4235294117647,156.61176470588236,185.72549019607843,120.47058823529412,83.32549019607843,193.75686274509803,154.60392156862744,133.521568627451,128.50196078431372,100.3921568627451,136.53333333333333,51.2,77.30196078431372,111.43529411764706,168.65882352941176,155.6078431372549,123.48235294117647,119.46666666666667,141.5529411764706,135.52941176470588,103.40392156862745,186.72941176470587,157.6156862745098,135.52941176470588,139.54509803921567,115.45098039215686,220.86274509803923,188.7372549019608,116.45490196078431,162.63529411764705,147.57647058823528,183.71764705882353,238.93333333333334,198.7764705882353,83.32549019607843,166.65098039215687,177.69411764705882,143.5607843137255,215.84313725490196,137.53725490196078,31.12156862745098,240.94117647058823,148.58039215686276,203.79607843137254,222.87058823529412,208.8156862745098,196.7686274509804,83.32549019607843,170.66666666666666,171.6705882352941,196.7686274509804,149.5843137254902,245.9607843137255,159.6235294117647,100.3921568627451,188.7372549019608,221.86666666666667,72.28235294117647,115.45098039215686,151.5921568627451,233.91372549019607,104.4078431372549,158.61960784313726,219.85882352941175,192.75294117647059,198.7764705882353,181.70980392156864,129.50588235294117,179.7019607843137,176.69019607843137,160.62745098039215,193.75686274509803,143.5607843137255,142.55686274509804,103.40392156862745,221.86666666666667,196.7686274509804,236.92549019607844],\"y\":[69.27058823529411,169.6627450980392,79.30980392156863,102.4,62.24313725490196,128.50196078431372,79.30980392156863,83.32549019607843,58.227450980392156,65.25490196078431,221.86666666666667,76.29803921568627,56.219607843137254,89.34901960784313,87.34117647058824,88.34509803921569,152.59607843137255,59.23137254901961,107.41960784313726,78.30588235294118,172.67450980392158,62.24313725490196,107.41960784313726,88.34509803921569,132.51764705882354,67.26274509803922,78.30588235294118,150.58823529411765,92.36078431372549,77.30196078431372,122.47843137254903,99.38823529411765,61.23921568627451,62.24313725490196,74.29019607843138,66.25882352941177,129.50588235294117,93.36470588235294,84.32941176470588,107.41960784313726,104.4078431372549,74.29019607843138,75.29411764705883,158.61960784313726,128.50196078431372,117.45882352941176,95.37254901960785,86.33725490196079,170.66666666666666,149.5843137254902,75.29411764705883,98.3843137254902,64.25098039215686,118.46274509803922,203.79607843137254,127.49803921568628,78.30588235294118,126.49411764705883,82.32156862745099,66.25882352941177,160.62745098039215,101.39607843137254,27.105882352941176,209.81960784313725,71.27843137254902,170.66666666666666,157.6156862745098,202.7921568627451,120.47058823529412,80.31372549019608,142.55686274509804,99.38823529411765,138.54117647058823,114.44705882352942,199.78039215686275,62.24313725490196,122.47843137254903,91.35686274509804,161.6313725490196,74.29019607843138,82.32156862745099,131.51372549019607,183.71764705882353,91.35686274509804,70.27450980392157,143.5607843137255,162.63529411764705,115.45098039215686,93.36470588235294,42.16470588235294,64.25098039215686,122.47843137254903,90.3529411764706,103.40392156862745,68.26666666666667,115.45098039215686,79.30980392156863,162.63529411764705,142.55686274509804,178.69803921568626],\"z\":[47.1843137254902,144.56470588235294,87.34117647058824,69.27058823529411,61.23921568627451,99.38823529411765,33.129411764705885,72.28235294117647,49.1921568627451,60.23529411764706,228.89411764705883,67.26274509803922,46.180392156862744,91.35686274509804,30.11764705882353,77.30196078431372,95.37254901960785,63.247058823529414,81.31764705882352,28.109803921568627,158.61960784313726,53.207843137254905,83.32549019607843,54.21176470588235,109.42745098039215,71.27843137254902,55.21568627450981,117.45882352941176,65.25490196078431,34.13333333333333,92.36078431372549,74.29019607843138,60.23529411764706,85.33333333333333,53.207843137254905,47.1843137254902,88.34509803921569,43.168627450980395,50.19607843137255,34.13333333333333,71.27843137254902,28.109803921568627,31.12156862745098,124.48627450980392,53.207843137254905,95.37254901960785,45.1764705882353,70.27450980392157,157.6156862745098,135.52941176470588,32.12549019607843,68.26666666666667,45.1764705882353,103.40392156862745,167.65490196078431,105.41176470588235,44.17254901960784,76.29803921568627,80.31372549019608,41.16078431372549,133.521568627451,53.207843137254905,8.031372549019608,180.7058823529412,41.16078431372549,95.37254901960785,154.60392156862744,131.51372549019607,103.40392156862745,53.207843137254905,63.247058823529414,58.227450980392156,83.32549019607843,53.207843137254905,160.62745098039215,35.13725490196079,111.43529411764706,58.227450980392156,120.47058823529412,44.17254901960784,32.12549019607843,54.21176470588235,157.6156862745098,39.15294117647059,48.188235294117646,128.50196078431372,91.35686274509804,94.3686274509804,68.26666666666667,26.101960784313725,49.1921568627451,64.25098039215686,55.21568627450981,83.32549019607843,41.16078431372549,79.30980392156863,45.1764705882353,134.52549019607844,101.39607843137254,178.69803921568626],\"type\":\"scatter3d\"}],                        {\"template\":{\"data\":{\"bar\":[{\"error_x\":{\"color\":\"#2a3f5f\"},\"error_y\":{\"color\":\"#2a3f5f\"},\"marker\":{\"line\":{\"color\":\"#E5ECF6\",\"width\":0.5},\"pattern\":{\"fillmode\":\"overlay\",\"size\":10,\"solidity\":0.2}},\"type\":\"bar\"}],\"barpolar\":[{\"marker\":{\"line\":{\"color\":\"#E5ECF6\",\"width\":0.5},\"pattern\":{\"fillmode\":\"overlay\",\"size\":10,\"solidity\":0.2}},\"type\":\"barpolar\"}],\"carpet\":[{\"aaxis\":{\"endlinecolor\":\"#2a3f5f\",\"gridcolor\":\"white\",\"linecolor\":\"white\",\"minorgridcolor\":\"white\",\"startlinecolor\":\"#2a3f5f\"},\"baxis\":{\"endlinecolor\":\"#2a3f5f\",\"gridcolor\":\"white\",\"linecolor\":\"white\",\"minorgridcolor\":\"white\",\"startlinecolor\":\"#2a3f5f\"},\"type\":\"carpet\"}],\"choropleth\":[{\"colorbar\":{\"outlinewidth\":0,\"ticks\":\"\"},\"type\":\"choropleth\"}],\"contour\":[{\"colorbar\":{\"outlinewidth\":0,\"ticks\":\"\"},\"colorscale\":[[0.0,\"#0d0887\"],[0.1111111111111111,\"#46039f\"],[0.2222222222222222,\"#7201a8\"],[0.3333333333333333,\"#9c179e\"],[0.4444444444444444,\"#bd3786\"],[0.5555555555555556,\"#d8576b\"],[0.6666666666666666,\"#ed7953\"],[0.7777777777777778,\"#fb9f3a\"],[0.8888888888888888,\"#fdca26\"],[1.0,\"#f0f921\"]],\"type\":\"contour\"}],\"contourcarpet\":[{\"colorbar\":{\"outlinewidth\":0,\"ticks\":\"\"},\"type\":\"contourcarpet\"}],\"heatmap\":[{\"colorbar\":{\"outlinewidth\":0,\"ticks\":\"\"},\"colorscale\":[[0.0,\"#0d0887\"],[0.1111111111111111,\"#46039f\"],[0.2222222222222222,\"#7201a8\"],[0.3333333333333333,\"#9c179e\"],[0.4444444444444444,\"#bd3786\"],[0.5555555555555556,\"#d8576b\"],[0.6666666666666666,\"#ed7953\"],[0.7777777777777778,\"#fb9f3a\"],[0.8888888888888888,\"#fdca26\"],[1.0,\"#f0f921\"]],\"type\":\"heatmap\"}],\"heatmapgl\":[{\"colorbar\":{\"outlinewidth\":0,\"ticks\":\"\"},\"colorscale\":[[0.0,\"#0d0887\"],[0.1111111111111111,\"#46039f\"],[0.2222222222222222,\"#7201a8\"],[0.3333333333333333,\"#9c179e\"],[0.4444444444444444,\"#bd3786\"],[0.5555555555555556,\"#d8576b\"],[0.6666666666666666,\"#ed7953\"],[0.7777777777777778,\"#fb9f3a\"],[0.8888888888888888,\"#fdca26\"],[1.0,\"#f0f921\"]],\"type\":\"heatmapgl\"}],\"histogram\":[{\"marker\":{\"pattern\":{\"fillmode\":\"overlay\",\"size\":10,\"solidity\":0.2}},\"type\":\"histogram\"}],\"histogram2d\":[{\"colorbar\":{\"outlinewidth\":0,\"ticks\":\"\"},\"colorscale\":[[0.0,\"#0d0887\"],[0.1111111111111111,\"#46039f\"],[0.2222222222222222,\"#7201a8\"],[0.3333333333333333,\"#9c179e\"],[0.4444444444444444,\"#bd3786\"],[0.5555555555555556,\"#d8576b\"],[0.6666666666666666,\"#ed7953\"],[0.7777777777777778,\"#fb9f3a\"],[0.8888888888888888,\"#fdca26\"],[1.0,\"#f0f921\"]],\"type\":\"histogram2d\"}],\"histogram2dcontour\":[{\"colorbar\":{\"outlinewidth\":0,\"ticks\":\"\"},\"colorscale\":[[0.0,\"#0d0887\"],[0.1111111111111111,\"#46039f\"],[0.2222222222222222,\"#7201a8\"],[0.3333333333333333,\"#9c179e\"],[0.4444444444444444,\"#bd3786\"],[0.5555555555555556,\"#d8576b\"],[0.6666666666666666,\"#ed7953\"],[0.7777777777777778,\"#fb9f3a\"],[0.8888888888888888,\"#fdca26\"],[1.0,\"#f0f921\"]],\"type\":\"histogram2dcontour\"}],\"mesh3d\":[{\"colorbar\":{\"outlinewidth\":0,\"ticks\":\"\"},\"type\":\"mesh3d\"}],\"parcoords\":[{\"line\":{\"colorbar\":{\"outlinewidth\":0,\"ticks\":\"\"}},\"type\":\"parcoords\"}],\"pie\":[{\"automargin\":true,\"type\":\"pie\"}],\"scatter\":[{\"marker\":{\"colorbar\":{\"outlinewidth\":0,\"ticks\":\"\"}},\"type\":\"scatter\"}],\"scatter3d\":[{\"line\":{\"colorbar\":{\"outlinewidth\":0,\"ticks\":\"\"}},\"marker\":{\"colorbar\":{\"outlinewidth\":0,\"ticks\":\"\"}},\"type\":\"scatter3d\"}],\"scattercarpet\":[{\"marker\":{\"colorbar\":{\"outlinewidth\":0,\"ticks\":\"\"}},\"type\":\"scattercarpet\"}],\"scattergeo\":[{\"marker\":{\"colorbar\":{\"outlinewidth\":0,\"ticks\":\"\"}},\"type\":\"scattergeo\"}],\"scattergl\":[{\"marker\":{\"colorbar\":{\"outlinewidth\":0,\"ticks\":\"\"}},\"type\":\"scattergl\"}],\"scattermapbox\":[{\"marker\":{\"colorbar\":{\"outlinewidth\":0,\"ticks\":\"\"}},\"type\":\"scattermapbox\"}],\"scatterpolar\":[{\"marker\":{\"colorbar\":{\"outlinewidth\":0,\"ticks\":\"\"}},\"type\":\"scatterpolar\"}],\"scatterpolargl\":[{\"marker\":{\"colorbar\":{\"outlinewidth\":0,\"ticks\":\"\"}},\"type\":\"scatterpolargl\"}],\"scatterternary\":[{\"marker\":{\"colorbar\":{\"outlinewidth\":0,\"ticks\":\"\"}},\"type\":\"scatterternary\"}],\"surface\":[{\"colorbar\":{\"outlinewidth\":0,\"ticks\":\"\"},\"colorscale\":[[0.0,\"#0d0887\"],[0.1111111111111111,\"#46039f\"],[0.2222222222222222,\"#7201a8\"],[0.3333333333333333,\"#9c179e\"],[0.4444444444444444,\"#bd3786\"],[0.5555555555555556,\"#d8576b\"],[0.6666666666666666,\"#ed7953\"],[0.7777777777777778,\"#fb9f3a\"],[0.8888888888888888,\"#fdca26\"],[1.0,\"#f0f921\"]],\"type\":\"surface\"}],\"table\":[{\"cells\":{\"fill\":{\"color\":\"#EBF0F8\"},\"line\":{\"color\":\"white\"}},\"header\":{\"fill\":{\"color\":\"#C8D4E3\"},\"line\":{\"color\":\"white\"}},\"type\":\"table\"}]},\"layout\":{\"annotationdefaults\":{\"arrowcolor\":\"#2a3f5f\",\"arrowhead\":0,\"arrowwidth\":1},\"autotypenumbers\":\"strict\",\"coloraxis\":{\"colorbar\":{\"outlinewidth\":0,\"ticks\":\"\"}},\"colorscale\":{\"diverging\":[[0,\"#8e0152\"],[0.1,\"#c51b7d\"],[0.2,\"#de77ae\"],[0.3,\"#f1b6da\"],[0.4,\"#fde0ef\"],[0.5,\"#f7f7f7\"],[0.6,\"#e6f5d0\"],[0.7,\"#b8e186\"],[0.8,\"#7fbc41\"],[0.9,\"#4d9221\"],[1,\"#276419\"]],\"sequential\":[[0.0,\"#0d0887\"],[0.1111111111111111,\"#46039f\"],[0.2222222222222222,\"#7201a8\"],[0.3333333333333333,\"#9c179e\"],[0.4444444444444444,\"#bd3786\"],[0.5555555555555556,\"#d8576b\"],[0.6666666666666666,\"#ed7953\"],[0.7777777777777778,\"#fb9f3a\"],[0.8888888888888888,\"#fdca26\"],[1.0,\"#f0f921\"]],\"sequentialminus\":[[0.0,\"#0d0887\"],[0.1111111111111111,\"#46039f\"],[0.2222222222222222,\"#7201a8\"],[0.3333333333333333,\"#9c179e\"],[0.4444444444444444,\"#bd3786\"],[0.5555555555555556,\"#d8576b\"],[0.6666666666666666,\"#ed7953\"],[0.7777777777777778,\"#fb9f3a\"],[0.8888888888888888,\"#fdca26\"],[1.0,\"#f0f921\"]]},\"colorway\":[\"#636efa\",\"#EF553B\",\"#00cc96\",\"#ab63fa\",\"#FFA15A\",\"#19d3f3\",\"#FF6692\",\"#B6E880\",\"#FF97FF\",\"#FECB52\"],\"font\":{\"color\":\"#2a3f5f\"},\"geo\":{\"bgcolor\":\"white\",\"lakecolor\":\"white\",\"landcolor\":\"#E5ECF6\",\"showlakes\":true,\"showland\":true,\"subunitcolor\":\"white\"},\"hoverlabel\":{\"align\":\"left\"},\"hovermode\":\"closest\",\"mapbox\":{\"style\":\"light\"},\"paper_bgcolor\":\"white\",\"plot_bgcolor\":\"#E5ECF6\",\"polar\":{\"angularaxis\":{\"gridcolor\":\"white\",\"linecolor\":\"white\",\"ticks\":\"\"},\"bgcolor\":\"#E5ECF6\",\"radialaxis\":{\"gridcolor\":\"white\",\"linecolor\":\"white\",\"ticks\":\"\"}},\"scene\":{\"xaxis\":{\"backgroundcolor\":\"#E5ECF6\",\"gridcolor\":\"white\",\"gridwidth\":2,\"linecolor\":\"white\",\"showbackground\":true,\"ticks\":\"\",\"zerolinecolor\":\"white\"},\"yaxis\":{\"backgroundcolor\":\"#E5ECF6\",\"gridcolor\":\"white\",\"gridwidth\":2,\"linecolor\":\"white\",\"showbackground\":true,\"ticks\":\"\",\"zerolinecolor\":\"white\"},\"zaxis\":{\"backgroundcolor\":\"#E5ECF6\",\"gridcolor\":\"white\",\"gridwidth\":2,\"linecolor\":\"white\",\"showbackground\":true,\"ticks\":\"\",\"zerolinecolor\":\"white\"}},\"shapedefaults\":{\"line\":{\"color\":\"#2a3f5f\"}},\"ternary\":{\"aaxis\":{\"gridcolor\":\"white\",\"linecolor\":\"white\",\"ticks\":\"\"},\"baxis\":{\"gridcolor\":\"white\",\"linecolor\":\"white\",\"ticks\":\"\"},\"bgcolor\":\"#E5ECF6\",\"caxis\":{\"gridcolor\":\"white\",\"linecolor\":\"white\",\"ticks\":\"\"}},\"title\":{\"x\":0.05},\"xaxis\":{\"automargin\":true,\"gridcolor\":\"white\",\"linecolor\":\"white\",\"ticks\":\"\",\"title\":{\"standoff\":15},\"zerolinecolor\":\"white\",\"zerolinewidth\":2},\"yaxis\":{\"automargin\":true,\"gridcolor\":\"white\",\"linecolor\":\"white\",\"ticks\":\"\",\"title\":{\"standoff\":15},\"zerolinecolor\":\"white\",\"zerolinewidth\":2}}},\"scene\":{\"xaxis\":{\"title\":{\"text\":\"G\"}},\"yaxis\":{\"title\":{\"text\":\"R\"}},\"zaxis\":{\"title\":{\"text\":\"B\"}}}},                        {\"responsive\": true}                    ).then(function(){\n",
       "                            \n",
       "var gd = document.getElementById('6e025ae1-5bcd-4b07-aba2-0abd8402c14f');\n",
       "var x = new MutationObserver(function (mutations, observer) {{\n",
       "        var display = window.getComputedStyle(gd).display;\n",
       "        if (!display || display === 'none') {{\n",
       "            console.log([gd, 'removed!']);\n",
       "            Plotly.purge(gd);\n",
       "            observer.disconnect();\n",
       "        }}\n",
       "}});\n",
       "\n",
       "// Listen for the removal of the full notebook cells\n",
       "var notebookContainer = gd.closest('#notebook-container');\n",
       "if (notebookContainer) {{\n",
       "    x.observe(notebookContainer, {childList: true});\n",
       "}}\n",
       "\n",
       "// Listen for the clearing of the current output cell\n",
       "var outputEl = gd.closest('.output');\n",
       "if (outputEl) {{\n",
       "    x.observe(outputEl, {childList: true});\n",
       "}}\n",
       "\n",
       "                        })                };                });            </script>        </div>"
      ]
     },
     "metadata": {},
     "output_type": "display_data"
    },
    {
     "name": "stdout",
     "output_type": "stream",
     "text": [
      "MaxSea: 918\n",
      "              R           G           B    Freq\n",
      "0    122.478431   68.266667   51.200000   78003\n",
      "1    203.796078  186.729412  157.615686   14514\n",
      "2    183.717647  154.603922  122.478431   53559\n",
      "3    126.494118   96.376471   48.188235   80175\n",
      "4    127.498039   98.384314   84.329412   70956\n",
      "5    161.631373  128.501961  103.403922   85605\n",
      "6     91.356863   79.309804   32.125490   66540\n",
      "7     97.380392   70.274510   63.247059   73521\n",
      "8    160.627451  109.427451   70.274510   64074\n",
      "9     70.274510   38.149020   15.058824   20067\n",
      "10   119.466667   92.360784   36.141176   95568\n",
      "11    99.388235   68.266667   47.184314  149058\n",
      "12   159.623529  120.470588   93.364706  102717\n",
      "13   140.549020  103.403922   68.266667  158466\n",
      "14   177.694118  144.564706  123.482353   44460\n",
      "15   125.490196   74.290196   61.239216  177222\n",
      "16   203.796078  186.729412  147.576471   26274\n",
      "17   171.670588  159.623529   79.309804   37653\n",
      "18   124.486275  110.431373   33.129412   47232\n",
      "19   158.619608  110.431373   76.298039  148029\n",
      "20    46.180392   19.074510    6.023529    5955\n",
      "21   155.607843  157.615686   78.305882   26499\n",
      "22   176.690196  133.521569  107.419608   70449\n",
      "23    94.368627   73.286275   38.149020   81246\n",
      "24   137.537255   88.345098   62.243137  139158\n",
      "25   201.788235  168.658824  140.549020   38286\n",
      "26   121.474510   73.286275   42.164706  147834\n",
      "27   190.745098  165.647059  132.517647   26562\n",
      "28   166.650980  136.533333  102.400000   61869\n",
      "29   151.592157   78.305882   51.200000   86106\n",
      "..          ...         ...         ...     ...\n",
      "124   86.337255   77.301961   26.101961   89031\n",
      "125  100.392157  102.400000   28.109804   59184\n",
      "126  160.627451  137.537255   63.247059   79983\n",
      "127  144.564706  109.427451   54.211765   61581\n",
      "128  129.505882   73.286275   48.188235   75771\n",
      "129  120.470588  110.431373   96.376471   44784\n",
      "130  104.407843   71.278431   29.113725   50877\n",
      "131   85.333333   85.333333   25.098039   61224\n",
      "132  184.721569  157.615686  105.411765   33090\n",
      "133   98.384314   77.301961   58.227451   53607\n",
      "134  115.450980  106.415686   37.145098   61215\n",
      "135  219.858824  210.823529  145.568627   21312\n",
      "136  200.784314  186.729412  107.419608   48438\n",
      "137  146.572549   95.372549   40.156863   65160\n",
      "138  166.650980  136.533333   60.235294   58440\n",
      "139  139.545098  115.450980   69.270588   49287\n",
      "140  179.701961  166.650980   82.321569   68316\n",
      "141  119.466667   74.290196   33.129412   75318\n",
      "142  112.439216   96.376471   47.184314   60939\n",
      "143   83.325490   77.301961   38.149020   68733\n",
      "144  115.450980  102.400000   71.278431   28206\n",
      "145  109.427451   83.325490   35.137255   91002\n",
      "146  154.603922  136.533333   61.239216   89640\n",
      "147   87.341176   75.294118   19.074510   36417\n",
      "148  175.686275  157.615686   84.329412   50133\n",
      "149  140.549020   97.380392   47.184314   67572\n",
      "150  119.466667  121.474510   36.141176   62361\n",
      "151  200.784314  174.682353  127.498039    9525\n",
      "152   82.321569   74.290196   48.188235   29979\n",
      "153  159.623529  120.470588   87.341176   89109\n",
      "\n",
      "[100 rows x 4 columns]\n",
      "[(122.47843137254903, 68.26666666666667, 51.2), (203.79607843137254, 186.72941176470587, 157.6156862745098), (183.71764705882353, 154.60392156862744, 122.47843137254903), (126.49411764705883, 96.37647058823529, 48.188235294117646), (127.49803921568628, 98.3843137254902, 84.32941176470588), (161.6313725490196, 128.50196078431372, 103.40392156862745), (91.35686274509804, 79.30980392156863, 32.12549019607843), (97.38039215686274, 70.27450980392157, 63.247058823529414), (160.62745098039215, 109.42745098039215, 70.27450980392157), (70.27450980392157, 38.14901960784314, 15.058823529411764), (119.46666666666667, 92.36078431372549, 36.141176470588235), (99.38823529411765, 68.26666666666667, 47.1843137254902), (159.6235294117647, 120.47058823529412, 93.36470588235294), (140.54901960784315, 103.40392156862745, 68.26666666666667), (177.69411764705882, 144.56470588235294, 123.48235294117647), (125.49019607843137, 74.29019607843138, 61.23921568627451), (203.79607843137254, 186.72941176470587, 147.57647058823528), (171.6705882352941, 159.6235294117647, 79.30980392156863), (124.48627450980392, 110.43137254901961, 33.129411764705885), (158.61960784313726, 110.43137254901961, 76.29803921568627), (46.180392156862744, 19.07450980392157, 6.023529411764706), (155.6078431372549, 157.6156862745098, 78.30588235294118), (176.69019607843137, 133.521568627451, 107.41960784313726), (94.3686274509804, 73.28627450980392, 38.14901960784314), (137.53725490196078, 88.34509803921569, 62.24313725490196), (201.78823529411764, 168.65882352941176, 140.54901960784315), (121.47450980392156, 73.28627450980392, 42.16470588235294), (190.7450980392157, 165.64705882352942, 132.51764705882354), (166.65098039215687, 136.53333333333333, 102.4), (151.5921568627451, 78.30588235294118, 51.2), (146.57254901960783, 111.43529411764706, 79.30980392156863), (72.28235294117647, 74.29019607843138, 61.23921568627451), (181.70980392156864, 100.3921568627451, 85.33333333333333), (124.48627450980392, 93.36470588235294, 65.25490196078431), (82.32156862745099, 69.27058823529411, 31.12156862745098), (113.44313725490196, 75.29411764705883, 41.16078431372549), (113.44313725490196, 116.45490196078431, 38.14901960784314), (108.4235294117647, 76.29803921568627, 44.17254901960784), (172.67450980392158, 142.55686274509804, 101.39607843137254), (79.30980392156863, 76.29803921568627, 26.101960784313725), (183.71764705882353, 180.7058823529412, 100.3921568627451), (138.54117647058823, 89.34901960784313, 52.20392156862745), (164.64313725490197, 123.48235294117647, 62.24313725490196), (204.8, 184.72156862745098, 148.58039215686276), (139.54509803921567, 114.44705882352942, 88.34509803921569), (158.61960784313726, 124.48627450980392, 100.3921568627451), (150.58823529411765, 90.3529411764706, 51.2), (132.51764705882354, 103.40392156862745, 78.30588235294118), (206.8078431372549, 178.69803921568626, 164.64313725490197), (180.7058823529412, 148.58039215686276, 129.50588235294117), (119.46666666666667, 77.30196078431372, 51.2), (94.3686274509804, 67.26274509803922, 46.180392156862744), (90.3529411764706, 89.34901960784313, 30.11764705882353), (180.7058823529412, 129.50588235294117, 72.28235294117647), (171.6705882352941, 138.54117647058823, 103.40392156862745), (189.74117647058824, 163.6392156862745, 133.521568627451), (149.5843137254902, 114.44705882352942, 84.32941176470588), (163.6392156862745, 121.47450980392156, 56.219607843137254), (120.47058823529412, 110.43137254901961, 37.14509803921569), (91.35686274509804, 86.33725490196079, 23.090196078431372), (102.4, 75.29411764705883, 46.180392156862744), (137.53725490196078, 89.34901960784313, 59.23137254901961), (127.49803921568628, 74.29019607843138, 35.13725490196079), (125.49019607843137, 124.48627450980392, 44.17254901960784), (162.63529411764705, 132.51764705882354, 72.28235294117647), (181.70980392156864, 152.59607843137255, 106.41568627450981), (209.81960784313725, 187.73333333333332, 144.56470588235294), (146.57254901960783, 105.41176470588235, 60.23529411764706), (129.50588235294117, 89.34901960784313, 41.16078431372549), (107.41960784313726, 78.30588235294118, 41.16078431372549), (86.33725490196079, 77.30196078431372, 26.101960784313725), (100.3921568627451, 102.4, 28.109803921568627), (160.62745098039215, 137.53725490196078, 63.247058823529414), (144.56470588235294, 109.42745098039215, 54.21176470588235), (129.50588235294117, 73.28627450980392, 48.188235294117646), (120.47058823529412, 110.43137254901961, 96.37647058823529), (104.4078431372549, 71.27843137254902, 29.113725490196078), (85.33333333333333, 85.33333333333333, 25.098039215686274), (184.72156862745098, 157.6156862745098, 105.41176470588235), (98.3843137254902, 77.30196078431372, 58.227450980392156), (115.45098039215686, 106.41568627450981, 37.14509803921569), (219.85882352941175, 210.8235294117647, 145.5686274509804), (200.7843137254902, 186.72941176470587, 107.41960784313726), (146.57254901960783, 95.37254901960785, 40.15686274509804), (166.65098039215687, 136.53333333333333, 60.23529411764706), (139.54509803921567, 115.45098039215686, 69.27058823529411), (179.7019607843137, 166.65098039215687, 82.32156862745099), (119.46666666666667, 74.29019607843138, 33.129411764705885), (112.43921568627451, 96.37647058823529, 47.1843137254902), (83.32549019607843, 77.30196078431372, 38.14901960784314), (115.45098039215686, 102.4, 71.27843137254902), (109.42745098039215, 83.32549019607843, 35.13725490196079), (154.60392156862744, 136.53333333333333, 61.23921568627451), (87.34117647058824, 75.29411764705883, 19.07450980392157), (175.68627450980392, 157.6156862745098, 84.32941176470588), (140.54901960784315, 97.38039215686274, 47.1843137254902), (119.46666666666667, 121.47450980392156, 36.141176470588235), (200.7843137254902, 174.68235294117648, 127.49803921568628), (82.32156862745099, 74.29019607843138, 48.188235294117646), (159.6235294117647, 120.47058823529412, 87.34117647058824)]\n"
     ]
    },
    {
     "data": {
      "application/vnd.plotly.v1+json": {
       "config": {
        "plotlyServerURL": "https://plot.ly"
       },
       "data": [
        {
         "marker": {
          "color": [
           "rgb(122.47843137254903, 68.26666666666667, 51.2)",
           "rgb(203.79607843137254, 186.72941176470587, 157.6156862745098)",
           "rgb(183.71764705882353, 154.60392156862744, 122.47843137254903)",
           "rgb(126.49411764705883, 96.37647058823529, 48.188235294117646)",
           "rgb(127.49803921568628, 98.3843137254902, 84.32941176470588)",
           "rgb(161.6313725490196, 128.50196078431372, 103.40392156862745)",
           "rgb(91.35686274509804, 79.30980392156863, 32.12549019607843)",
           "rgb(97.38039215686274, 70.27450980392157, 63.247058823529414)",
           "rgb(160.62745098039215, 109.42745098039215, 70.27450980392157)",
           "rgb(70.27450980392157, 38.14901960784314, 15.058823529411764)",
           "rgb(119.46666666666667, 92.36078431372549, 36.141176470588235)",
           "rgb(99.38823529411765, 68.26666666666667, 47.1843137254902)",
           "rgb(159.6235294117647, 120.47058823529412, 93.36470588235294)",
           "rgb(140.54901960784315, 103.40392156862745, 68.26666666666667)",
           "rgb(177.69411764705882, 144.56470588235294, 123.48235294117647)",
           "rgb(125.49019607843137, 74.29019607843138, 61.23921568627451)",
           "rgb(203.79607843137254, 186.72941176470587, 147.57647058823528)",
           "rgb(171.6705882352941, 159.6235294117647, 79.30980392156863)",
           "rgb(124.48627450980392, 110.43137254901961, 33.129411764705885)",
           "rgb(158.61960784313726, 110.43137254901961, 76.29803921568627)",
           "rgb(46.180392156862744, 19.07450980392157, 6.023529411764706)",
           "rgb(155.6078431372549, 157.6156862745098, 78.30588235294118)",
           "rgb(176.69019607843137, 133.521568627451, 107.41960784313726)",
           "rgb(94.3686274509804, 73.28627450980392, 38.14901960784314)",
           "rgb(137.53725490196078, 88.34509803921569, 62.24313725490196)",
           "rgb(201.78823529411764, 168.65882352941176, 140.54901960784315)",
           "rgb(121.47450980392156, 73.28627450980392, 42.16470588235294)",
           "rgb(190.7450980392157, 165.64705882352942, 132.51764705882354)",
           "rgb(166.65098039215687, 136.53333333333333, 102.4)",
           "rgb(151.5921568627451, 78.30588235294118, 51.2)",
           "rgb(146.57254901960783, 111.43529411764706, 79.30980392156863)",
           "rgb(72.28235294117647, 74.29019607843138, 61.23921568627451)",
           "rgb(181.70980392156864, 100.3921568627451, 85.33333333333333)",
           "rgb(124.48627450980392, 93.36470588235294, 65.25490196078431)",
           "rgb(82.32156862745099, 69.27058823529411, 31.12156862745098)",
           "rgb(113.44313725490196, 75.29411764705883, 41.16078431372549)",
           "rgb(113.44313725490196, 116.45490196078431, 38.14901960784314)",
           "rgb(108.4235294117647, 76.29803921568627, 44.17254901960784)",
           "rgb(172.67450980392158, 142.55686274509804, 101.39607843137254)",
           "rgb(79.30980392156863, 76.29803921568627, 26.101960784313725)",
           "rgb(183.71764705882353, 180.7058823529412, 100.3921568627451)",
           "rgb(138.54117647058823, 89.34901960784313, 52.20392156862745)",
           "rgb(164.64313725490197, 123.48235294117647, 62.24313725490196)",
           "rgb(204.8, 184.72156862745098, 148.58039215686276)",
           "rgb(139.54509803921567, 114.44705882352942, 88.34509803921569)",
           "rgb(158.61960784313726, 124.48627450980392, 100.3921568627451)",
           "rgb(150.58823529411765, 90.3529411764706, 51.2)",
           "rgb(132.51764705882354, 103.40392156862745, 78.30588235294118)",
           "rgb(206.8078431372549, 178.69803921568626, 164.64313725490197)",
           "rgb(180.7058823529412, 148.58039215686276, 129.50588235294117)",
           "rgb(119.46666666666667, 77.30196078431372, 51.2)",
           "rgb(94.3686274509804, 67.26274509803922, 46.180392156862744)",
           "rgb(90.3529411764706, 89.34901960784313, 30.11764705882353)",
           "rgb(180.7058823529412, 129.50588235294117, 72.28235294117647)",
           "rgb(171.6705882352941, 138.54117647058823, 103.40392156862745)",
           "rgb(189.74117647058824, 163.6392156862745, 133.521568627451)",
           "rgb(149.5843137254902, 114.44705882352942, 84.32941176470588)",
           "rgb(163.6392156862745, 121.47450980392156, 56.219607843137254)",
           "rgb(120.47058823529412, 110.43137254901961, 37.14509803921569)",
           "rgb(91.35686274509804, 86.33725490196079, 23.090196078431372)",
           "rgb(102.4, 75.29411764705883, 46.180392156862744)",
           "rgb(137.53725490196078, 89.34901960784313, 59.23137254901961)",
           "rgb(127.49803921568628, 74.29019607843138, 35.13725490196079)",
           "rgb(125.49019607843137, 124.48627450980392, 44.17254901960784)",
           "rgb(162.63529411764705, 132.51764705882354, 72.28235294117647)",
           "rgb(181.70980392156864, 152.59607843137255, 106.41568627450981)",
           "rgb(209.81960784313725, 187.73333333333332, 144.56470588235294)",
           "rgb(146.57254901960783, 105.41176470588235, 60.23529411764706)",
           "rgb(129.50588235294117, 89.34901960784313, 41.16078431372549)",
           "rgb(107.41960784313726, 78.30588235294118, 41.16078431372549)",
           "rgb(86.33725490196079, 77.30196078431372, 26.101960784313725)",
           "rgb(100.3921568627451, 102.4, 28.109803921568627)",
           "rgb(160.62745098039215, 137.53725490196078, 63.247058823529414)",
           "rgb(144.56470588235294, 109.42745098039215, 54.21176470588235)",
           "rgb(129.50588235294117, 73.28627450980392, 48.188235294117646)",
           "rgb(120.47058823529412, 110.43137254901961, 96.37647058823529)",
           "rgb(104.4078431372549, 71.27843137254902, 29.113725490196078)",
           "rgb(85.33333333333333, 85.33333333333333, 25.098039215686274)",
           "rgb(184.72156862745098, 157.6156862745098, 105.41176470588235)",
           "rgb(98.3843137254902, 77.30196078431372, 58.227450980392156)",
           "rgb(115.45098039215686, 106.41568627450981, 37.14509803921569)",
           "rgb(219.85882352941175, 210.8235294117647, 145.5686274509804)",
           "rgb(200.7843137254902, 186.72941176470587, 107.41960784313726)",
           "rgb(146.57254901960783, 95.37254901960785, 40.15686274509804)",
           "rgb(166.65098039215687, 136.53333333333333, 60.23529411764706)",
           "rgb(139.54509803921567, 115.45098039215686, 69.27058823529411)",
           "rgb(179.7019607843137, 166.65098039215687, 82.32156862745099)",
           "rgb(119.46666666666667, 74.29019607843138, 33.129411764705885)",
           "rgb(112.43921568627451, 96.37647058823529, 47.1843137254902)",
           "rgb(83.32549019607843, 77.30196078431372, 38.14901960784314)",
           "rgb(115.45098039215686, 102.4, 71.27843137254902)",
           "rgb(109.42745098039215, 83.32549019607843, 35.13725490196079)",
           "rgb(154.60392156862744, 136.53333333333333, 61.23921568627451)",
           "rgb(87.34117647058824, 75.29411764705883, 19.07450980392157)",
           "rgb(175.68627450980392, 157.6156862745098, 84.32941176470588)",
           "rgb(140.54901960784315, 97.38039215686274, 47.1843137254902)",
           "rgb(119.46666666666667, 121.47450980392156, 36.141176470588235)",
           "rgb(200.7843137254902, 174.68235294117648, 127.49803921568628)",
           "rgb(82.32156862745099, 74.29019607843138, 48.188235294117646)",
           "rgb(159.6235294117647, 120.47058823529412, 87.34117647058824)"
          ]
         },
         "mode": "markers",
         "type": "scatter3d",
         "x": [
          122.47843137254903,
          203.79607843137254,
          183.71764705882353,
          126.49411764705883,
          127.49803921568628,
          161.6313725490196,
          91.35686274509804,
          97.38039215686274,
          160.62745098039215,
          70.27450980392157,
          119.46666666666667,
          99.38823529411765,
          159.6235294117647,
          140.54901960784315,
          177.69411764705882,
          125.49019607843137,
          203.79607843137254,
          171.6705882352941,
          124.48627450980392,
          158.61960784313726,
          46.180392156862744,
          155.6078431372549,
          176.69019607843137,
          94.3686274509804,
          137.53725490196078,
          201.78823529411764,
          121.47450980392156,
          190.7450980392157,
          166.65098039215687,
          151.5921568627451,
          146.57254901960783,
          72.28235294117647,
          181.70980392156864,
          124.48627450980392,
          82.32156862745099,
          113.44313725490196,
          113.44313725490196,
          108.4235294117647,
          172.67450980392158,
          79.30980392156863,
          183.71764705882353,
          138.54117647058823,
          164.64313725490197,
          204.8,
          139.54509803921567,
          158.61960784313726,
          150.58823529411765,
          132.51764705882354,
          206.8078431372549,
          180.7058823529412,
          119.46666666666667,
          94.3686274509804,
          90.3529411764706,
          180.7058823529412,
          171.6705882352941,
          189.74117647058824,
          149.5843137254902,
          163.6392156862745,
          120.47058823529412,
          91.35686274509804,
          102.4,
          137.53725490196078,
          127.49803921568628,
          125.49019607843137,
          162.63529411764705,
          181.70980392156864,
          209.81960784313725,
          146.57254901960783,
          129.50588235294117,
          107.41960784313726,
          86.33725490196079,
          100.3921568627451,
          160.62745098039215,
          144.56470588235294,
          129.50588235294117,
          120.47058823529412,
          104.4078431372549,
          85.33333333333333,
          184.72156862745098,
          98.3843137254902,
          115.45098039215686,
          219.85882352941175,
          200.7843137254902,
          146.57254901960783,
          166.65098039215687,
          139.54509803921567,
          179.7019607843137,
          119.46666666666667,
          112.43921568627451,
          83.32549019607843,
          115.45098039215686,
          109.42745098039215,
          154.60392156862744,
          87.34117647058824,
          175.68627450980392,
          140.54901960784315,
          119.46666666666667,
          200.7843137254902,
          82.32156862745099,
          159.6235294117647
         ],
         "y": [
          68.26666666666667,
          186.72941176470587,
          154.60392156862744,
          96.37647058823529,
          98.3843137254902,
          128.50196078431372,
          79.30980392156863,
          70.27450980392157,
          109.42745098039215,
          38.14901960784314,
          92.36078431372549,
          68.26666666666667,
          120.47058823529412,
          103.40392156862745,
          144.56470588235294,
          74.29019607843138,
          186.72941176470587,
          159.6235294117647,
          110.43137254901961,
          110.43137254901961,
          19.07450980392157,
          157.6156862745098,
          133.521568627451,
          73.28627450980392,
          88.34509803921569,
          168.65882352941176,
          73.28627450980392,
          165.64705882352942,
          136.53333333333333,
          78.30588235294118,
          111.43529411764706,
          74.29019607843138,
          100.3921568627451,
          93.36470588235294,
          69.27058823529411,
          75.29411764705883,
          116.45490196078431,
          76.29803921568627,
          142.55686274509804,
          76.29803921568627,
          180.7058823529412,
          89.34901960784313,
          123.48235294117647,
          184.72156862745098,
          114.44705882352942,
          124.48627450980392,
          90.3529411764706,
          103.40392156862745,
          178.69803921568626,
          148.58039215686276,
          77.30196078431372,
          67.26274509803922,
          89.34901960784313,
          129.50588235294117,
          138.54117647058823,
          163.6392156862745,
          114.44705882352942,
          121.47450980392156,
          110.43137254901961,
          86.33725490196079,
          75.29411764705883,
          89.34901960784313,
          74.29019607843138,
          124.48627450980392,
          132.51764705882354,
          152.59607843137255,
          187.73333333333332,
          105.41176470588235,
          89.34901960784313,
          78.30588235294118,
          77.30196078431372,
          102.4,
          137.53725490196078,
          109.42745098039215,
          73.28627450980392,
          110.43137254901961,
          71.27843137254902,
          85.33333333333333,
          157.6156862745098,
          77.30196078431372,
          106.41568627450981,
          210.8235294117647,
          186.72941176470587,
          95.37254901960785,
          136.53333333333333,
          115.45098039215686,
          166.65098039215687,
          74.29019607843138,
          96.37647058823529,
          77.30196078431372,
          102.4,
          83.32549019607843,
          136.53333333333333,
          75.29411764705883,
          157.6156862745098,
          97.38039215686274,
          121.47450980392156,
          174.68235294117648,
          74.29019607843138,
          120.47058823529412
         ],
         "z": [
          51.2,
          157.6156862745098,
          122.47843137254903,
          48.188235294117646,
          84.32941176470588,
          103.40392156862745,
          32.12549019607843,
          63.247058823529414,
          70.27450980392157,
          15.058823529411764,
          36.141176470588235,
          47.1843137254902,
          93.36470588235294,
          68.26666666666667,
          123.48235294117647,
          61.23921568627451,
          147.57647058823528,
          79.30980392156863,
          33.129411764705885,
          76.29803921568627,
          6.023529411764706,
          78.30588235294118,
          107.41960784313726,
          38.14901960784314,
          62.24313725490196,
          140.54901960784315,
          42.16470588235294,
          132.51764705882354,
          102.4,
          51.2,
          79.30980392156863,
          61.23921568627451,
          85.33333333333333,
          65.25490196078431,
          31.12156862745098,
          41.16078431372549,
          38.14901960784314,
          44.17254901960784,
          101.39607843137254,
          26.101960784313725,
          100.3921568627451,
          52.20392156862745,
          62.24313725490196,
          148.58039215686276,
          88.34509803921569,
          100.3921568627451,
          51.2,
          78.30588235294118,
          164.64313725490197,
          129.50588235294117,
          51.2,
          46.180392156862744,
          30.11764705882353,
          72.28235294117647,
          103.40392156862745,
          133.521568627451,
          84.32941176470588,
          56.219607843137254,
          37.14509803921569,
          23.090196078431372,
          46.180392156862744,
          59.23137254901961,
          35.13725490196079,
          44.17254901960784,
          72.28235294117647,
          106.41568627450981,
          144.56470588235294,
          60.23529411764706,
          41.16078431372549,
          41.16078431372549,
          26.101960784313725,
          28.109803921568627,
          63.247058823529414,
          54.21176470588235,
          48.188235294117646,
          96.37647058823529,
          29.113725490196078,
          25.098039215686274,
          105.41176470588235,
          58.227450980392156,
          37.14509803921569,
          145.5686274509804,
          107.41960784313726,
          40.15686274509804,
          60.23529411764706,
          69.27058823529411,
          82.32156862745099,
          33.129411764705885,
          47.1843137254902,
          38.14901960784314,
          71.27843137254902,
          35.13725490196079,
          61.23921568627451,
          19.07450980392157,
          84.32941176470588,
          47.1843137254902,
          36.141176470588235,
          127.49803921568628,
          48.188235294117646,
          87.34117647058824
         ]
        }
       ],
       "layout": {
        "scene": {
         "xaxis": {
          "title": {
           "text": "G"
          }
         },
         "yaxis": {
          "title": {
           "text": "R"
          }
         },
         "zaxis": {
          "title": {
           "text": "B"
          }
         }
        },
        "template": {
         "data": {
          "bar": [
           {
            "error_x": {
             "color": "#2a3f5f"
            },
            "error_y": {
             "color": "#2a3f5f"
            },
            "marker": {
             "line": {
              "color": "#E5ECF6",
              "width": 0.5
             },
             "pattern": {
              "fillmode": "overlay",
              "size": 10,
              "solidity": 0.2
             }
            },
            "type": "bar"
           }
          ],
          "barpolar": [
           {
            "marker": {
             "line": {
              "color": "#E5ECF6",
              "width": 0.5
             },
             "pattern": {
              "fillmode": "overlay",
              "size": 10,
              "solidity": 0.2
             }
            },
            "type": "barpolar"
           }
          ],
          "carpet": [
           {
            "aaxis": {
             "endlinecolor": "#2a3f5f",
             "gridcolor": "white",
             "linecolor": "white",
             "minorgridcolor": "white",
             "startlinecolor": "#2a3f5f"
            },
            "baxis": {
             "endlinecolor": "#2a3f5f",
             "gridcolor": "white",
             "linecolor": "white",
             "minorgridcolor": "white",
             "startlinecolor": "#2a3f5f"
            },
            "type": "carpet"
           }
          ],
          "choropleth": [
           {
            "colorbar": {
             "outlinewidth": 0,
             "ticks": ""
            },
            "type": "choropleth"
           }
          ],
          "contour": [
           {
            "colorbar": {
             "outlinewidth": 0,
             "ticks": ""
            },
            "colorscale": [
             [
              0,
              "#0d0887"
             ],
             [
              0.1111111111111111,
              "#46039f"
             ],
             [
              0.2222222222222222,
              "#7201a8"
             ],
             [
              0.3333333333333333,
              "#9c179e"
             ],
             [
              0.4444444444444444,
              "#bd3786"
             ],
             [
              0.5555555555555556,
              "#d8576b"
             ],
             [
              0.6666666666666666,
              "#ed7953"
             ],
             [
              0.7777777777777778,
              "#fb9f3a"
             ],
             [
              0.8888888888888888,
              "#fdca26"
             ],
             [
              1,
              "#f0f921"
             ]
            ],
            "type": "contour"
           }
          ],
          "contourcarpet": [
           {
            "colorbar": {
             "outlinewidth": 0,
             "ticks": ""
            },
            "type": "contourcarpet"
           }
          ],
          "heatmap": [
           {
            "colorbar": {
             "outlinewidth": 0,
             "ticks": ""
            },
            "colorscale": [
             [
              0,
              "#0d0887"
             ],
             [
              0.1111111111111111,
              "#46039f"
             ],
             [
              0.2222222222222222,
              "#7201a8"
             ],
             [
              0.3333333333333333,
              "#9c179e"
             ],
             [
              0.4444444444444444,
              "#bd3786"
             ],
             [
              0.5555555555555556,
              "#d8576b"
             ],
             [
              0.6666666666666666,
              "#ed7953"
             ],
             [
              0.7777777777777778,
              "#fb9f3a"
             ],
             [
              0.8888888888888888,
              "#fdca26"
             ],
             [
              1,
              "#f0f921"
             ]
            ],
            "type": "heatmap"
           }
          ],
          "heatmapgl": [
           {
            "colorbar": {
             "outlinewidth": 0,
             "ticks": ""
            },
            "colorscale": [
             [
              0,
              "#0d0887"
             ],
             [
              0.1111111111111111,
              "#46039f"
             ],
             [
              0.2222222222222222,
              "#7201a8"
             ],
             [
              0.3333333333333333,
              "#9c179e"
             ],
             [
              0.4444444444444444,
              "#bd3786"
             ],
             [
              0.5555555555555556,
              "#d8576b"
             ],
             [
              0.6666666666666666,
              "#ed7953"
             ],
             [
              0.7777777777777778,
              "#fb9f3a"
             ],
             [
              0.8888888888888888,
              "#fdca26"
             ],
             [
              1,
              "#f0f921"
             ]
            ],
            "type": "heatmapgl"
           }
          ],
          "histogram": [
           {
            "marker": {
             "pattern": {
              "fillmode": "overlay",
              "size": 10,
              "solidity": 0.2
             }
            },
            "type": "histogram"
           }
          ],
          "histogram2d": [
           {
            "colorbar": {
             "outlinewidth": 0,
             "ticks": ""
            },
            "colorscale": [
             [
              0,
              "#0d0887"
             ],
             [
              0.1111111111111111,
              "#46039f"
             ],
             [
              0.2222222222222222,
              "#7201a8"
             ],
             [
              0.3333333333333333,
              "#9c179e"
             ],
             [
              0.4444444444444444,
              "#bd3786"
             ],
             [
              0.5555555555555556,
              "#d8576b"
             ],
             [
              0.6666666666666666,
              "#ed7953"
             ],
             [
              0.7777777777777778,
              "#fb9f3a"
             ],
             [
              0.8888888888888888,
              "#fdca26"
             ],
             [
              1,
              "#f0f921"
             ]
            ],
            "type": "histogram2d"
           }
          ],
          "histogram2dcontour": [
           {
            "colorbar": {
             "outlinewidth": 0,
             "ticks": ""
            },
            "colorscale": [
             [
              0,
              "#0d0887"
             ],
             [
              0.1111111111111111,
              "#46039f"
             ],
             [
              0.2222222222222222,
              "#7201a8"
             ],
             [
              0.3333333333333333,
              "#9c179e"
             ],
             [
              0.4444444444444444,
              "#bd3786"
             ],
             [
              0.5555555555555556,
              "#d8576b"
             ],
             [
              0.6666666666666666,
              "#ed7953"
             ],
             [
              0.7777777777777778,
              "#fb9f3a"
             ],
             [
              0.8888888888888888,
              "#fdca26"
             ],
             [
              1,
              "#f0f921"
             ]
            ],
            "type": "histogram2dcontour"
           }
          ],
          "mesh3d": [
           {
            "colorbar": {
             "outlinewidth": 0,
             "ticks": ""
            },
            "type": "mesh3d"
           }
          ],
          "parcoords": [
           {
            "line": {
             "colorbar": {
              "outlinewidth": 0,
              "ticks": ""
             }
            },
            "type": "parcoords"
           }
          ],
          "pie": [
           {
            "automargin": true,
            "type": "pie"
           }
          ],
          "scatter": [
           {
            "marker": {
             "colorbar": {
              "outlinewidth": 0,
              "ticks": ""
             }
            },
            "type": "scatter"
           }
          ],
          "scatter3d": [
           {
            "line": {
             "colorbar": {
              "outlinewidth": 0,
              "ticks": ""
             }
            },
            "marker": {
             "colorbar": {
              "outlinewidth": 0,
              "ticks": ""
             }
            },
            "type": "scatter3d"
           }
          ],
          "scattercarpet": [
           {
            "marker": {
             "colorbar": {
              "outlinewidth": 0,
              "ticks": ""
             }
            },
            "type": "scattercarpet"
           }
          ],
          "scattergeo": [
           {
            "marker": {
             "colorbar": {
              "outlinewidth": 0,
              "ticks": ""
             }
            },
            "type": "scattergeo"
           }
          ],
          "scattergl": [
           {
            "marker": {
             "colorbar": {
              "outlinewidth": 0,
              "ticks": ""
             }
            },
            "type": "scattergl"
           }
          ],
          "scattermapbox": [
           {
            "marker": {
             "colorbar": {
              "outlinewidth": 0,
              "ticks": ""
             }
            },
            "type": "scattermapbox"
           }
          ],
          "scatterpolar": [
           {
            "marker": {
             "colorbar": {
              "outlinewidth": 0,
              "ticks": ""
             }
            },
            "type": "scatterpolar"
           }
          ],
          "scatterpolargl": [
           {
            "marker": {
             "colorbar": {
              "outlinewidth": 0,
              "ticks": ""
             }
            },
            "type": "scatterpolargl"
           }
          ],
          "scatterternary": [
           {
            "marker": {
             "colorbar": {
              "outlinewidth": 0,
              "ticks": ""
             }
            },
            "type": "scatterternary"
           }
          ],
          "surface": [
           {
            "colorbar": {
             "outlinewidth": 0,
             "ticks": ""
            },
            "colorscale": [
             [
              0,
              "#0d0887"
             ],
             [
              0.1111111111111111,
              "#46039f"
             ],
             [
              0.2222222222222222,
              "#7201a8"
             ],
             [
              0.3333333333333333,
              "#9c179e"
             ],
             [
              0.4444444444444444,
              "#bd3786"
             ],
             [
              0.5555555555555556,
              "#d8576b"
             ],
             [
              0.6666666666666666,
              "#ed7953"
             ],
             [
              0.7777777777777778,
              "#fb9f3a"
             ],
             [
              0.8888888888888888,
              "#fdca26"
             ],
             [
              1,
              "#f0f921"
             ]
            ],
            "type": "surface"
           }
          ],
          "table": [
           {
            "cells": {
             "fill": {
              "color": "#EBF0F8"
             },
             "line": {
              "color": "white"
             }
            },
            "header": {
             "fill": {
              "color": "#C8D4E3"
             },
             "line": {
              "color": "white"
             }
            },
            "type": "table"
           }
          ]
         },
         "layout": {
          "annotationdefaults": {
           "arrowcolor": "#2a3f5f",
           "arrowhead": 0,
           "arrowwidth": 1
          },
          "autotypenumbers": "strict",
          "coloraxis": {
           "colorbar": {
            "outlinewidth": 0,
            "ticks": ""
           }
          },
          "colorscale": {
           "diverging": [
            [
             0,
             "#8e0152"
            ],
            [
             0.1,
             "#c51b7d"
            ],
            [
             0.2,
             "#de77ae"
            ],
            [
             0.3,
             "#f1b6da"
            ],
            [
             0.4,
             "#fde0ef"
            ],
            [
             0.5,
             "#f7f7f7"
            ],
            [
             0.6,
             "#e6f5d0"
            ],
            [
             0.7,
             "#b8e186"
            ],
            [
             0.8,
             "#7fbc41"
            ],
            [
             0.9,
             "#4d9221"
            ],
            [
             1,
             "#276419"
            ]
           ],
           "sequential": [
            [
             0,
             "#0d0887"
            ],
            [
             0.1111111111111111,
             "#46039f"
            ],
            [
             0.2222222222222222,
             "#7201a8"
            ],
            [
             0.3333333333333333,
             "#9c179e"
            ],
            [
             0.4444444444444444,
             "#bd3786"
            ],
            [
             0.5555555555555556,
             "#d8576b"
            ],
            [
             0.6666666666666666,
             "#ed7953"
            ],
            [
             0.7777777777777778,
             "#fb9f3a"
            ],
            [
             0.8888888888888888,
             "#fdca26"
            ],
            [
             1,
             "#f0f921"
            ]
           ],
           "sequentialminus": [
            [
             0,
             "#0d0887"
            ],
            [
             0.1111111111111111,
             "#46039f"
            ],
            [
             0.2222222222222222,
             "#7201a8"
            ],
            [
             0.3333333333333333,
             "#9c179e"
            ],
            [
             0.4444444444444444,
             "#bd3786"
            ],
            [
             0.5555555555555556,
             "#d8576b"
            ],
            [
             0.6666666666666666,
             "#ed7953"
            ],
            [
             0.7777777777777778,
             "#fb9f3a"
            ],
            [
             0.8888888888888888,
             "#fdca26"
            ],
            [
             1,
             "#f0f921"
            ]
           ]
          },
          "colorway": [
           "#636efa",
           "#EF553B",
           "#00cc96",
           "#ab63fa",
           "#FFA15A",
           "#19d3f3",
           "#FF6692",
           "#B6E880",
           "#FF97FF",
           "#FECB52"
          ],
          "font": {
           "color": "#2a3f5f"
          },
          "geo": {
           "bgcolor": "white",
           "lakecolor": "white",
           "landcolor": "#E5ECF6",
           "showlakes": true,
           "showland": true,
           "subunitcolor": "white"
          },
          "hoverlabel": {
           "align": "left"
          },
          "hovermode": "closest",
          "mapbox": {
           "style": "light"
          },
          "paper_bgcolor": "white",
          "plot_bgcolor": "#E5ECF6",
          "polar": {
           "angularaxis": {
            "gridcolor": "white",
            "linecolor": "white",
            "ticks": ""
           },
           "bgcolor": "#E5ECF6",
           "radialaxis": {
            "gridcolor": "white",
            "linecolor": "white",
            "ticks": ""
           }
          },
          "scene": {
           "xaxis": {
            "backgroundcolor": "#E5ECF6",
            "gridcolor": "white",
            "gridwidth": 2,
            "linecolor": "white",
            "showbackground": true,
            "ticks": "",
            "zerolinecolor": "white"
           },
           "yaxis": {
            "backgroundcolor": "#E5ECF6",
            "gridcolor": "white",
            "gridwidth": 2,
            "linecolor": "white",
            "showbackground": true,
            "ticks": "",
            "zerolinecolor": "white"
           },
           "zaxis": {
            "backgroundcolor": "#E5ECF6",
            "gridcolor": "white",
            "gridwidth": 2,
            "linecolor": "white",
            "showbackground": true,
            "ticks": "",
            "zerolinecolor": "white"
           }
          },
          "shapedefaults": {
           "line": {
            "color": "#2a3f5f"
           }
          },
          "ternary": {
           "aaxis": {
            "gridcolor": "white",
            "linecolor": "white",
            "ticks": ""
           },
           "baxis": {
            "gridcolor": "white",
            "linecolor": "white",
            "ticks": ""
           },
           "bgcolor": "#E5ECF6",
           "caxis": {
            "gridcolor": "white",
            "linecolor": "white",
            "ticks": ""
           }
          },
          "title": {
           "x": 0.05
          },
          "xaxis": {
           "automargin": true,
           "gridcolor": "white",
           "linecolor": "white",
           "ticks": "",
           "title": {
            "standoff": 15
           },
           "zerolinecolor": "white",
           "zerolinewidth": 2
          },
          "yaxis": {
           "automargin": true,
           "gridcolor": "white",
           "linecolor": "white",
           "ticks": "",
           "title": {
            "standoff": 15
           },
           "zerolinecolor": "white",
           "zerolinewidth": 2
          }
         }
        }
       }
      },
      "text/html": [
       "<div>                            <div id=\"67acf89e-8fd7-42ef-b5bf-d47e8cc31fdd\" class=\"plotly-graph-div\" style=\"height:525px; width:100%;\"></div>            <script type=\"text/javascript\">                require([\"plotly\"], function(Plotly) {                    window.PLOTLYENV=window.PLOTLYENV || {};                                    if (document.getElementById(\"67acf89e-8fd7-42ef-b5bf-d47e8cc31fdd\")) {                    Plotly.newPlot(                        \"67acf89e-8fd7-42ef-b5bf-d47e8cc31fdd\",                        [{\"marker\":{\"color\":[\"rgb(122.47843137254903, 68.26666666666667, 51.2)\",\"rgb(203.79607843137254, 186.72941176470587, 157.6156862745098)\",\"rgb(183.71764705882353, 154.60392156862744, 122.47843137254903)\",\"rgb(126.49411764705883, 96.37647058823529, 48.188235294117646)\",\"rgb(127.49803921568628, 98.3843137254902, 84.32941176470588)\",\"rgb(161.6313725490196, 128.50196078431372, 103.40392156862745)\",\"rgb(91.35686274509804, 79.30980392156863, 32.12549019607843)\",\"rgb(97.38039215686274, 70.27450980392157, 63.247058823529414)\",\"rgb(160.62745098039215, 109.42745098039215, 70.27450980392157)\",\"rgb(70.27450980392157, 38.14901960784314, 15.058823529411764)\",\"rgb(119.46666666666667, 92.36078431372549, 36.141176470588235)\",\"rgb(99.38823529411765, 68.26666666666667, 47.1843137254902)\",\"rgb(159.6235294117647, 120.47058823529412, 93.36470588235294)\",\"rgb(140.54901960784315, 103.40392156862745, 68.26666666666667)\",\"rgb(177.69411764705882, 144.56470588235294, 123.48235294117647)\",\"rgb(125.49019607843137, 74.29019607843138, 61.23921568627451)\",\"rgb(203.79607843137254, 186.72941176470587, 147.57647058823528)\",\"rgb(171.6705882352941, 159.6235294117647, 79.30980392156863)\",\"rgb(124.48627450980392, 110.43137254901961, 33.129411764705885)\",\"rgb(158.61960784313726, 110.43137254901961, 76.29803921568627)\",\"rgb(46.180392156862744, 19.07450980392157, 6.023529411764706)\",\"rgb(155.6078431372549, 157.6156862745098, 78.30588235294118)\",\"rgb(176.69019607843137, 133.521568627451, 107.41960784313726)\",\"rgb(94.3686274509804, 73.28627450980392, 38.14901960784314)\",\"rgb(137.53725490196078, 88.34509803921569, 62.24313725490196)\",\"rgb(201.78823529411764, 168.65882352941176, 140.54901960784315)\",\"rgb(121.47450980392156, 73.28627450980392, 42.16470588235294)\",\"rgb(190.7450980392157, 165.64705882352942, 132.51764705882354)\",\"rgb(166.65098039215687, 136.53333333333333, 102.4)\",\"rgb(151.5921568627451, 78.30588235294118, 51.2)\",\"rgb(146.57254901960783, 111.43529411764706, 79.30980392156863)\",\"rgb(72.28235294117647, 74.29019607843138, 61.23921568627451)\",\"rgb(181.70980392156864, 100.3921568627451, 85.33333333333333)\",\"rgb(124.48627450980392, 93.36470588235294, 65.25490196078431)\",\"rgb(82.32156862745099, 69.27058823529411, 31.12156862745098)\",\"rgb(113.44313725490196, 75.29411764705883, 41.16078431372549)\",\"rgb(113.44313725490196, 116.45490196078431, 38.14901960784314)\",\"rgb(108.4235294117647, 76.29803921568627, 44.17254901960784)\",\"rgb(172.67450980392158, 142.55686274509804, 101.39607843137254)\",\"rgb(79.30980392156863, 76.29803921568627, 26.101960784313725)\",\"rgb(183.71764705882353, 180.7058823529412, 100.3921568627451)\",\"rgb(138.54117647058823, 89.34901960784313, 52.20392156862745)\",\"rgb(164.64313725490197, 123.48235294117647, 62.24313725490196)\",\"rgb(204.8, 184.72156862745098, 148.58039215686276)\",\"rgb(139.54509803921567, 114.44705882352942, 88.34509803921569)\",\"rgb(158.61960784313726, 124.48627450980392, 100.3921568627451)\",\"rgb(150.58823529411765, 90.3529411764706, 51.2)\",\"rgb(132.51764705882354, 103.40392156862745, 78.30588235294118)\",\"rgb(206.8078431372549, 178.69803921568626, 164.64313725490197)\",\"rgb(180.7058823529412, 148.58039215686276, 129.50588235294117)\",\"rgb(119.46666666666667, 77.30196078431372, 51.2)\",\"rgb(94.3686274509804, 67.26274509803922, 46.180392156862744)\",\"rgb(90.3529411764706, 89.34901960784313, 30.11764705882353)\",\"rgb(180.7058823529412, 129.50588235294117, 72.28235294117647)\",\"rgb(171.6705882352941, 138.54117647058823, 103.40392156862745)\",\"rgb(189.74117647058824, 163.6392156862745, 133.521568627451)\",\"rgb(149.5843137254902, 114.44705882352942, 84.32941176470588)\",\"rgb(163.6392156862745, 121.47450980392156, 56.219607843137254)\",\"rgb(120.47058823529412, 110.43137254901961, 37.14509803921569)\",\"rgb(91.35686274509804, 86.33725490196079, 23.090196078431372)\",\"rgb(102.4, 75.29411764705883, 46.180392156862744)\",\"rgb(137.53725490196078, 89.34901960784313, 59.23137254901961)\",\"rgb(127.49803921568628, 74.29019607843138, 35.13725490196079)\",\"rgb(125.49019607843137, 124.48627450980392, 44.17254901960784)\",\"rgb(162.63529411764705, 132.51764705882354, 72.28235294117647)\",\"rgb(181.70980392156864, 152.59607843137255, 106.41568627450981)\",\"rgb(209.81960784313725, 187.73333333333332, 144.56470588235294)\",\"rgb(146.57254901960783, 105.41176470588235, 60.23529411764706)\",\"rgb(129.50588235294117, 89.34901960784313, 41.16078431372549)\",\"rgb(107.41960784313726, 78.30588235294118, 41.16078431372549)\",\"rgb(86.33725490196079, 77.30196078431372, 26.101960784313725)\",\"rgb(100.3921568627451, 102.4, 28.109803921568627)\",\"rgb(160.62745098039215, 137.53725490196078, 63.247058823529414)\",\"rgb(144.56470588235294, 109.42745098039215, 54.21176470588235)\",\"rgb(129.50588235294117, 73.28627450980392, 48.188235294117646)\",\"rgb(120.47058823529412, 110.43137254901961, 96.37647058823529)\",\"rgb(104.4078431372549, 71.27843137254902, 29.113725490196078)\",\"rgb(85.33333333333333, 85.33333333333333, 25.098039215686274)\",\"rgb(184.72156862745098, 157.6156862745098, 105.41176470588235)\",\"rgb(98.3843137254902, 77.30196078431372, 58.227450980392156)\",\"rgb(115.45098039215686, 106.41568627450981, 37.14509803921569)\",\"rgb(219.85882352941175, 210.8235294117647, 145.5686274509804)\",\"rgb(200.7843137254902, 186.72941176470587, 107.41960784313726)\",\"rgb(146.57254901960783, 95.37254901960785, 40.15686274509804)\",\"rgb(166.65098039215687, 136.53333333333333, 60.23529411764706)\",\"rgb(139.54509803921567, 115.45098039215686, 69.27058823529411)\",\"rgb(179.7019607843137, 166.65098039215687, 82.32156862745099)\",\"rgb(119.46666666666667, 74.29019607843138, 33.129411764705885)\",\"rgb(112.43921568627451, 96.37647058823529, 47.1843137254902)\",\"rgb(83.32549019607843, 77.30196078431372, 38.14901960784314)\",\"rgb(115.45098039215686, 102.4, 71.27843137254902)\",\"rgb(109.42745098039215, 83.32549019607843, 35.13725490196079)\",\"rgb(154.60392156862744, 136.53333333333333, 61.23921568627451)\",\"rgb(87.34117647058824, 75.29411764705883, 19.07450980392157)\",\"rgb(175.68627450980392, 157.6156862745098, 84.32941176470588)\",\"rgb(140.54901960784315, 97.38039215686274, 47.1843137254902)\",\"rgb(119.46666666666667, 121.47450980392156, 36.141176470588235)\",\"rgb(200.7843137254902, 174.68235294117648, 127.49803921568628)\",\"rgb(82.32156862745099, 74.29019607843138, 48.188235294117646)\",\"rgb(159.6235294117647, 120.47058823529412, 87.34117647058824)\"]},\"mode\":\"markers\",\"x\":[122.47843137254903,203.79607843137254,183.71764705882353,126.49411764705883,127.49803921568628,161.6313725490196,91.35686274509804,97.38039215686274,160.62745098039215,70.27450980392157,119.46666666666667,99.38823529411765,159.6235294117647,140.54901960784315,177.69411764705882,125.49019607843137,203.79607843137254,171.6705882352941,124.48627450980392,158.61960784313726,46.180392156862744,155.6078431372549,176.69019607843137,94.3686274509804,137.53725490196078,201.78823529411764,121.47450980392156,190.7450980392157,166.65098039215687,151.5921568627451,146.57254901960783,72.28235294117647,181.70980392156864,124.48627450980392,82.32156862745099,113.44313725490196,113.44313725490196,108.4235294117647,172.67450980392158,79.30980392156863,183.71764705882353,138.54117647058823,164.64313725490197,204.8,139.54509803921567,158.61960784313726,150.58823529411765,132.51764705882354,206.8078431372549,180.7058823529412,119.46666666666667,94.3686274509804,90.3529411764706,180.7058823529412,171.6705882352941,189.74117647058824,149.5843137254902,163.6392156862745,120.47058823529412,91.35686274509804,102.4,137.53725490196078,127.49803921568628,125.49019607843137,162.63529411764705,181.70980392156864,209.81960784313725,146.57254901960783,129.50588235294117,107.41960784313726,86.33725490196079,100.3921568627451,160.62745098039215,144.56470588235294,129.50588235294117,120.47058823529412,104.4078431372549,85.33333333333333,184.72156862745098,98.3843137254902,115.45098039215686,219.85882352941175,200.7843137254902,146.57254901960783,166.65098039215687,139.54509803921567,179.7019607843137,119.46666666666667,112.43921568627451,83.32549019607843,115.45098039215686,109.42745098039215,154.60392156862744,87.34117647058824,175.68627450980392,140.54901960784315,119.46666666666667,200.7843137254902,82.32156862745099,159.6235294117647],\"y\":[68.26666666666667,186.72941176470587,154.60392156862744,96.37647058823529,98.3843137254902,128.50196078431372,79.30980392156863,70.27450980392157,109.42745098039215,38.14901960784314,92.36078431372549,68.26666666666667,120.47058823529412,103.40392156862745,144.56470588235294,74.29019607843138,186.72941176470587,159.6235294117647,110.43137254901961,110.43137254901961,19.07450980392157,157.6156862745098,133.521568627451,73.28627450980392,88.34509803921569,168.65882352941176,73.28627450980392,165.64705882352942,136.53333333333333,78.30588235294118,111.43529411764706,74.29019607843138,100.3921568627451,93.36470588235294,69.27058823529411,75.29411764705883,116.45490196078431,76.29803921568627,142.55686274509804,76.29803921568627,180.7058823529412,89.34901960784313,123.48235294117647,184.72156862745098,114.44705882352942,124.48627450980392,90.3529411764706,103.40392156862745,178.69803921568626,148.58039215686276,77.30196078431372,67.26274509803922,89.34901960784313,129.50588235294117,138.54117647058823,163.6392156862745,114.44705882352942,121.47450980392156,110.43137254901961,86.33725490196079,75.29411764705883,89.34901960784313,74.29019607843138,124.48627450980392,132.51764705882354,152.59607843137255,187.73333333333332,105.41176470588235,89.34901960784313,78.30588235294118,77.30196078431372,102.4,137.53725490196078,109.42745098039215,73.28627450980392,110.43137254901961,71.27843137254902,85.33333333333333,157.6156862745098,77.30196078431372,106.41568627450981,210.8235294117647,186.72941176470587,95.37254901960785,136.53333333333333,115.45098039215686,166.65098039215687,74.29019607843138,96.37647058823529,77.30196078431372,102.4,83.32549019607843,136.53333333333333,75.29411764705883,157.6156862745098,97.38039215686274,121.47450980392156,174.68235294117648,74.29019607843138,120.47058823529412],\"z\":[51.2,157.6156862745098,122.47843137254903,48.188235294117646,84.32941176470588,103.40392156862745,32.12549019607843,63.247058823529414,70.27450980392157,15.058823529411764,36.141176470588235,47.1843137254902,93.36470588235294,68.26666666666667,123.48235294117647,61.23921568627451,147.57647058823528,79.30980392156863,33.129411764705885,76.29803921568627,6.023529411764706,78.30588235294118,107.41960784313726,38.14901960784314,62.24313725490196,140.54901960784315,42.16470588235294,132.51764705882354,102.4,51.2,79.30980392156863,61.23921568627451,85.33333333333333,65.25490196078431,31.12156862745098,41.16078431372549,38.14901960784314,44.17254901960784,101.39607843137254,26.101960784313725,100.3921568627451,52.20392156862745,62.24313725490196,148.58039215686276,88.34509803921569,100.3921568627451,51.2,78.30588235294118,164.64313725490197,129.50588235294117,51.2,46.180392156862744,30.11764705882353,72.28235294117647,103.40392156862745,133.521568627451,84.32941176470588,56.219607843137254,37.14509803921569,23.090196078431372,46.180392156862744,59.23137254901961,35.13725490196079,44.17254901960784,72.28235294117647,106.41568627450981,144.56470588235294,60.23529411764706,41.16078431372549,41.16078431372549,26.101960784313725,28.109803921568627,63.247058823529414,54.21176470588235,48.188235294117646,96.37647058823529,29.113725490196078,25.098039215686274,105.41176470588235,58.227450980392156,37.14509803921569,145.5686274509804,107.41960784313726,40.15686274509804,60.23529411764706,69.27058823529411,82.32156862745099,33.129411764705885,47.1843137254902,38.14901960784314,71.27843137254902,35.13725490196079,61.23921568627451,19.07450980392157,84.32941176470588,47.1843137254902,36.141176470588235,127.49803921568628,48.188235294117646,87.34117647058824],\"type\":\"scatter3d\"}],                        {\"template\":{\"data\":{\"bar\":[{\"error_x\":{\"color\":\"#2a3f5f\"},\"error_y\":{\"color\":\"#2a3f5f\"},\"marker\":{\"line\":{\"color\":\"#E5ECF6\",\"width\":0.5},\"pattern\":{\"fillmode\":\"overlay\",\"size\":10,\"solidity\":0.2}},\"type\":\"bar\"}],\"barpolar\":[{\"marker\":{\"line\":{\"color\":\"#E5ECF6\",\"width\":0.5},\"pattern\":{\"fillmode\":\"overlay\",\"size\":10,\"solidity\":0.2}},\"type\":\"barpolar\"}],\"carpet\":[{\"aaxis\":{\"endlinecolor\":\"#2a3f5f\",\"gridcolor\":\"white\",\"linecolor\":\"white\",\"minorgridcolor\":\"white\",\"startlinecolor\":\"#2a3f5f\"},\"baxis\":{\"endlinecolor\":\"#2a3f5f\",\"gridcolor\":\"white\",\"linecolor\":\"white\",\"minorgridcolor\":\"white\",\"startlinecolor\":\"#2a3f5f\"},\"type\":\"carpet\"}],\"choropleth\":[{\"colorbar\":{\"outlinewidth\":0,\"ticks\":\"\"},\"type\":\"choropleth\"}],\"contour\":[{\"colorbar\":{\"outlinewidth\":0,\"ticks\":\"\"},\"colorscale\":[[0.0,\"#0d0887\"],[0.1111111111111111,\"#46039f\"],[0.2222222222222222,\"#7201a8\"],[0.3333333333333333,\"#9c179e\"],[0.4444444444444444,\"#bd3786\"],[0.5555555555555556,\"#d8576b\"],[0.6666666666666666,\"#ed7953\"],[0.7777777777777778,\"#fb9f3a\"],[0.8888888888888888,\"#fdca26\"],[1.0,\"#f0f921\"]],\"type\":\"contour\"}],\"contourcarpet\":[{\"colorbar\":{\"outlinewidth\":0,\"ticks\":\"\"},\"type\":\"contourcarpet\"}],\"heatmap\":[{\"colorbar\":{\"outlinewidth\":0,\"ticks\":\"\"},\"colorscale\":[[0.0,\"#0d0887\"],[0.1111111111111111,\"#46039f\"],[0.2222222222222222,\"#7201a8\"],[0.3333333333333333,\"#9c179e\"],[0.4444444444444444,\"#bd3786\"],[0.5555555555555556,\"#d8576b\"],[0.6666666666666666,\"#ed7953\"],[0.7777777777777778,\"#fb9f3a\"],[0.8888888888888888,\"#fdca26\"],[1.0,\"#f0f921\"]],\"type\":\"heatmap\"}],\"heatmapgl\":[{\"colorbar\":{\"outlinewidth\":0,\"ticks\":\"\"},\"colorscale\":[[0.0,\"#0d0887\"],[0.1111111111111111,\"#46039f\"],[0.2222222222222222,\"#7201a8\"],[0.3333333333333333,\"#9c179e\"],[0.4444444444444444,\"#bd3786\"],[0.5555555555555556,\"#d8576b\"],[0.6666666666666666,\"#ed7953\"],[0.7777777777777778,\"#fb9f3a\"],[0.8888888888888888,\"#fdca26\"],[1.0,\"#f0f921\"]],\"type\":\"heatmapgl\"}],\"histogram\":[{\"marker\":{\"pattern\":{\"fillmode\":\"overlay\",\"size\":10,\"solidity\":0.2}},\"type\":\"histogram\"}],\"histogram2d\":[{\"colorbar\":{\"outlinewidth\":0,\"ticks\":\"\"},\"colorscale\":[[0.0,\"#0d0887\"],[0.1111111111111111,\"#46039f\"],[0.2222222222222222,\"#7201a8\"],[0.3333333333333333,\"#9c179e\"],[0.4444444444444444,\"#bd3786\"],[0.5555555555555556,\"#d8576b\"],[0.6666666666666666,\"#ed7953\"],[0.7777777777777778,\"#fb9f3a\"],[0.8888888888888888,\"#fdca26\"],[1.0,\"#f0f921\"]],\"type\":\"histogram2d\"}],\"histogram2dcontour\":[{\"colorbar\":{\"outlinewidth\":0,\"ticks\":\"\"},\"colorscale\":[[0.0,\"#0d0887\"],[0.1111111111111111,\"#46039f\"],[0.2222222222222222,\"#7201a8\"],[0.3333333333333333,\"#9c179e\"],[0.4444444444444444,\"#bd3786\"],[0.5555555555555556,\"#d8576b\"],[0.6666666666666666,\"#ed7953\"],[0.7777777777777778,\"#fb9f3a\"],[0.8888888888888888,\"#fdca26\"],[1.0,\"#f0f921\"]],\"type\":\"histogram2dcontour\"}],\"mesh3d\":[{\"colorbar\":{\"outlinewidth\":0,\"ticks\":\"\"},\"type\":\"mesh3d\"}],\"parcoords\":[{\"line\":{\"colorbar\":{\"outlinewidth\":0,\"ticks\":\"\"}},\"type\":\"parcoords\"}],\"pie\":[{\"automargin\":true,\"type\":\"pie\"}],\"scatter\":[{\"marker\":{\"colorbar\":{\"outlinewidth\":0,\"ticks\":\"\"}},\"type\":\"scatter\"}],\"scatter3d\":[{\"line\":{\"colorbar\":{\"outlinewidth\":0,\"ticks\":\"\"}},\"marker\":{\"colorbar\":{\"outlinewidth\":0,\"ticks\":\"\"}},\"type\":\"scatter3d\"}],\"scattercarpet\":[{\"marker\":{\"colorbar\":{\"outlinewidth\":0,\"ticks\":\"\"}},\"type\":\"scattercarpet\"}],\"scattergeo\":[{\"marker\":{\"colorbar\":{\"outlinewidth\":0,\"ticks\":\"\"}},\"type\":\"scattergeo\"}],\"scattergl\":[{\"marker\":{\"colorbar\":{\"outlinewidth\":0,\"ticks\":\"\"}},\"type\":\"scattergl\"}],\"scattermapbox\":[{\"marker\":{\"colorbar\":{\"outlinewidth\":0,\"ticks\":\"\"}},\"type\":\"scattermapbox\"}],\"scatterpolar\":[{\"marker\":{\"colorbar\":{\"outlinewidth\":0,\"ticks\":\"\"}},\"type\":\"scatterpolar\"}],\"scatterpolargl\":[{\"marker\":{\"colorbar\":{\"outlinewidth\":0,\"ticks\":\"\"}},\"type\":\"scatterpolargl\"}],\"scatterternary\":[{\"marker\":{\"colorbar\":{\"outlinewidth\":0,\"ticks\":\"\"}},\"type\":\"scatterternary\"}],\"surface\":[{\"colorbar\":{\"outlinewidth\":0,\"ticks\":\"\"},\"colorscale\":[[0.0,\"#0d0887\"],[0.1111111111111111,\"#46039f\"],[0.2222222222222222,\"#7201a8\"],[0.3333333333333333,\"#9c179e\"],[0.4444444444444444,\"#bd3786\"],[0.5555555555555556,\"#d8576b\"],[0.6666666666666666,\"#ed7953\"],[0.7777777777777778,\"#fb9f3a\"],[0.8888888888888888,\"#fdca26\"],[1.0,\"#f0f921\"]],\"type\":\"surface\"}],\"table\":[{\"cells\":{\"fill\":{\"color\":\"#EBF0F8\"},\"line\":{\"color\":\"white\"}},\"header\":{\"fill\":{\"color\":\"#C8D4E3\"},\"line\":{\"color\":\"white\"}},\"type\":\"table\"}]},\"layout\":{\"annotationdefaults\":{\"arrowcolor\":\"#2a3f5f\",\"arrowhead\":0,\"arrowwidth\":1},\"autotypenumbers\":\"strict\",\"coloraxis\":{\"colorbar\":{\"outlinewidth\":0,\"ticks\":\"\"}},\"colorscale\":{\"diverging\":[[0,\"#8e0152\"],[0.1,\"#c51b7d\"],[0.2,\"#de77ae\"],[0.3,\"#f1b6da\"],[0.4,\"#fde0ef\"],[0.5,\"#f7f7f7\"],[0.6,\"#e6f5d0\"],[0.7,\"#b8e186\"],[0.8,\"#7fbc41\"],[0.9,\"#4d9221\"],[1,\"#276419\"]],\"sequential\":[[0.0,\"#0d0887\"],[0.1111111111111111,\"#46039f\"],[0.2222222222222222,\"#7201a8\"],[0.3333333333333333,\"#9c179e\"],[0.4444444444444444,\"#bd3786\"],[0.5555555555555556,\"#d8576b\"],[0.6666666666666666,\"#ed7953\"],[0.7777777777777778,\"#fb9f3a\"],[0.8888888888888888,\"#fdca26\"],[1.0,\"#f0f921\"]],\"sequentialminus\":[[0.0,\"#0d0887\"],[0.1111111111111111,\"#46039f\"],[0.2222222222222222,\"#7201a8\"],[0.3333333333333333,\"#9c179e\"],[0.4444444444444444,\"#bd3786\"],[0.5555555555555556,\"#d8576b\"],[0.6666666666666666,\"#ed7953\"],[0.7777777777777778,\"#fb9f3a\"],[0.8888888888888888,\"#fdca26\"],[1.0,\"#f0f921\"]]},\"colorway\":[\"#636efa\",\"#EF553B\",\"#00cc96\",\"#ab63fa\",\"#FFA15A\",\"#19d3f3\",\"#FF6692\",\"#B6E880\",\"#FF97FF\",\"#FECB52\"],\"font\":{\"color\":\"#2a3f5f\"},\"geo\":{\"bgcolor\":\"white\",\"lakecolor\":\"white\",\"landcolor\":\"#E5ECF6\",\"showlakes\":true,\"showland\":true,\"subunitcolor\":\"white\"},\"hoverlabel\":{\"align\":\"left\"},\"hovermode\":\"closest\",\"mapbox\":{\"style\":\"light\"},\"paper_bgcolor\":\"white\",\"plot_bgcolor\":\"#E5ECF6\",\"polar\":{\"angularaxis\":{\"gridcolor\":\"white\",\"linecolor\":\"white\",\"ticks\":\"\"},\"bgcolor\":\"#E5ECF6\",\"radialaxis\":{\"gridcolor\":\"white\",\"linecolor\":\"white\",\"ticks\":\"\"}},\"scene\":{\"xaxis\":{\"backgroundcolor\":\"#E5ECF6\",\"gridcolor\":\"white\",\"gridwidth\":2,\"linecolor\":\"white\",\"showbackground\":true,\"ticks\":\"\",\"zerolinecolor\":\"white\"},\"yaxis\":{\"backgroundcolor\":\"#E5ECF6\",\"gridcolor\":\"white\",\"gridwidth\":2,\"linecolor\":\"white\",\"showbackground\":true,\"ticks\":\"\",\"zerolinecolor\":\"white\"},\"zaxis\":{\"backgroundcolor\":\"#E5ECF6\",\"gridcolor\":\"white\",\"gridwidth\":2,\"linecolor\":\"white\",\"showbackground\":true,\"ticks\":\"\",\"zerolinecolor\":\"white\"}},\"shapedefaults\":{\"line\":{\"color\":\"#2a3f5f\"}},\"ternary\":{\"aaxis\":{\"gridcolor\":\"white\",\"linecolor\":\"white\",\"ticks\":\"\"},\"baxis\":{\"gridcolor\":\"white\",\"linecolor\":\"white\",\"ticks\":\"\"},\"bgcolor\":\"#E5ECF6\",\"caxis\":{\"gridcolor\":\"white\",\"linecolor\":\"white\",\"ticks\":\"\"}},\"title\":{\"x\":0.05},\"xaxis\":{\"automargin\":true,\"gridcolor\":\"white\",\"linecolor\":\"white\",\"ticks\":\"\",\"title\":{\"standoff\":15},\"zerolinecolor\":\"white\",\"zerolinewidth\":2},\"yaxis\":{\"automargin\":true,\"gridcolor\":\"white\",\"linecolor\":\"white\",\"ticks\":\"\",\"title\":{\"standoff\":15},\"zerolinecolor\":\"white\",\"zerolinewidth\":2}}},\"scene\":{\"xaxis\":{\"title\":{\"text\":\"G\"}},\"yaxis\":{\"title\":{\"text\":\"R\"}},\"zaxis\":{\"title\":{\"text\":\"B\"}}}},                        {\"responsive\": true}                    ).then(function(){\n",
       "                            \n",
       "var gd = document.getElementById('67acf89e-8fd7-42ef-b5bf-d47e8cc31fdd');\n",
       "var x = new MutationObserver(function (mutations, observer) {{\n",
       "        var display = window.getComputedStyle(gd).display;\n",
       "        if (!display || display === 'none') {{\n",
       "            console.log([gd, 'removed!']);\n",
       "            Plotly.purge(gd);\n",
       "            observer.disconnect();\n",
       "        }}\n",
       "}});\n",
       "\n",
       "// Listen for the removal of the full notebook cells\n",
       "var notebookContainer = gd.closest('#notebook-container');\n",
       "if (notebookContainer) {{\n",
       "    x.observe(notebookContainer, {childList: true});\n",
       "}}\n",
       "\n",
       "// Listen for the clearing of the current output cell\n",
       "var outputEl = gd.closest('.output');\n",
       "if (outputEl) {{\n",
       "    x.observe(outputEl, {childList: true});\n",
       "}}\n",
       "\n",
       "                        })                };                });            </script>        </div>"
      ]
     },
     "metadata": {},
     "output_type": "display_data"
    }
   ],
   "source": [
    "from collections import Counter\n",
    "import plotly.express as px\n",
    "import plotly.graph_objects as go\n",
    "# from mpl_toolkits.mplot3d import Axes3D\n",
    "# %matplotlib inline\n",
    "\n",
    "treatments = list(np.unique(df['Treatment']))\n",
    "for treatment in treatments:\n",
    "    subset = df[df['Treatment'] == treatment]\n",
    "    print(treatment + \":\", len(subset))\n",
    "    \n",
    "    colors = subset.loc[:, ['R', 'G', 'B', 'Freq']].head(100)\n",
    "    colors['R'] = colors['R'].astype(float) * 256\n",
    "    colors['G'] = colors['G'].astype(float) * 256\n",
    "    colors['B'] = colors['B'].astype(float) * 256\n",
    "    colors['Freq'] = colors['Freq'].astype(int)\n",
    "    print(colors)\n",
    "    \n",
    "    clr = list(colors.apply(lambda row: (float(row['R']), float(row['G']), float(row['B'])), axis=1))\n",
    "    print(clr)\n",
    "\n",
    "    fig = go.Figure()\n",
    "    trace=dict(type='scatter3d',\n",
    "               x=colors['R'],\n",
    "               y=colors['G'],\n",
    "               z=colors['B'],\n",
    "               mode='markers',\n",
    "               marker=dict(color=[f'rgb({c[0]}, {c[1]}, {c[2]})' for c in clr]))\n",
    "    fig.add_trace(trace)\n",
    "    fig.update_layout(scene=dict(\n",
    "        xaxis_title='G',\n",
    "        yaxis_title='R',\n",
    "        zaxis_title='B'))\n",
    "    fig.show()"
   ]
  }
 ],
 "metadata": {
  "kernelspec": {
   "display_name": "Python 3",
   "language": "python",
   "name": "python3"
  },
  "language_info": {
   "codemirror_mode": {
    "name": "ipython",
    "version": 3
   },
   "file_extension": ".py",
   "mimetype": "text/x-python",
   "name": "python",
   "nbconvert_exporter": "python",
   "pygments_lexer": "ipython3",
   "version": "3.7.0"
  }
 },
 "nbformat": 4,
 "nbformat_minor": 2
}
